{
  "nbformat": 4,
  "nbformat_minor": 0,
  "metadata": {
    "colab": {
      "provenance": []
    },
    "kernelspec": {
      "name": "python3",
      "display_name": "Python 3"
    },
    "language_info": {
      "name": "python"
    }
  },
  "cells": [
    {
      "cell_type": "markdown",
      "source": [
        "217. Contains Duplicate\n",
        "Given an integer array nums, return true if any value appears at least twice in the array, and return false if every element is distinct."
      ],
      "metadata": {
        "id": "pgbINj5slPk5"
      }
    },
    {
      "cell_type": "code",
      "execution_count": null,
      "metadata": {
        "colab": {
          "base_uri": "https://localhost:8080/"
        },
        "id": "g7FmP6X4joBu",
        "outputId": "3ccf81a6-1a3a-4929-be87-3c6fee4edaec"
      },
      "outputs": [
        {
          "output_type": "execute_result",
          "data": {
            "text/plain": [
              "True"
            ]
          },
          "metadata": {},
          "execution_count": 26
        }
      ],
      "source": [
        "def containsDuplicate(array):\n",
        "  seem = list(set())\n",
        "\n",
        "  for el in array:\n",
        "    if el in seem:\n",
        "      return True\n",
        "    else:\n",
        "      seem.append(el)\n",
        "  return False\n",
        "\n",
        "def containsDuplicate2(array):\n",
        "  return len(array) != len(set(array))\n",
        "\n",
        "array1 = [1,2,3,1]\n",
        "array2 = [1,2,3,4]\n",
        "array3 = [1,1,1,3,3,4,3,2,4,2]\n",
        "containsDuplicate2(array=array1)"
      ]
    },
    {
      "cell_type": "markdown",
      "source": [
        "268 Given an array nums containing n distinct numbers in the range [0, n], return the only number in the range that is missing from the array."
      ],
      "metadata": {
        "id": "kemy6T4Gp_lC"
      }
    },
    {
      "cell_type": "code",
      "source": [
        "def missingNumber(array):\n",
        "  n= len(array)\n",
        "  #арифмитеская прогрессия\n",
        "  return n*(n+1)//2 - sum(array)\n",
        "\n",
        "def missingNumber2(array):\n",
        "  return list(set(range(len(array)+1)) - set(array))[0]\n",
        "\n",
        "\n",
        "\n",
        "#2\n",
        "nums1 = [3,0,1]\n",
        "#2\n",
        "nums2 = [0,1]\n",
        "#8\n",
        "nums3 = [9,6,4,2,3,5,7,0,1]\n",
        "missingNumber2(array=nums3)\n",
        "\n"
      ],
      "metadata": {
        "colab": {
          "base_uri": "https://localhost:8080/"
        },
        "id": "F3l2fbsWqmsV",
        "outputId": "6a0ce097-e3c6-4390-e046-6e00f0a37957"
      },
      "execution_count": null,
      "outputs": [
        {
          "output_type": "execute_result",
          "data": {
            "text/plain": [
              "8"
            ]
          },
          "metadata": {},
          "execution_count": 4
        }
      ]
    },
    {
      "cell_type": "markdown",
      "source": [
        "448 Given an array nums of n integers where nums[i] is in the range [1, n], return an array of all the integers in the range [1, n] that do not appear in nums."
      ],
      "metadata": {
        "id": "tWbzMzn7HuLN"
      }
    },
    {
      "cell_type": "code",
      "source": [
        "def findDisappearedNumbers(array):\n",
        "  #решается с помощью сайкл сорт\n",
        "  i=0\n",
        "  #пока i меньше длины массива\n",
        "  while i<len(array):\n",
        "    #значение элемента массива минус1\n",
        "    pos=array[i]-1\n",
        "    #если значение элемента массива не равно значению порядкого номера массива минус тогда:\n",
        "    if array[i] != array[pos]:\n",
        "      #меняем местами\n",
        "      array[i],array[pos] = array[pos],array[i]\n",
        "    else:\n",
        "      #если равны двигаемся дальше\n",
        "      i+=1\n",
        "\n",
        "  miss=[]\n",
        "  for i in range(len(array)):\n",
        "      if array[i] !=i+1:\n",
        "        miss.append(i+1)\n",
        "  return miss\n",
        "\n",
        "nums1 = [4,3,2,7,8,2,3,1]\n",
        "nums2 = [1,1]\n",
        "findDisappearedNumbers(array=nums1)"
      ],
      "metadata": {
        "colab": {
          "base_uri": "https://localhost:8080/"
        },
        "id": "mUmjG6ahJXoZ",
        "outputId": "004eb1f4-d8d5-47b4-8979-5c1918c4c974"
      },
      "execution_count": null,
      "outputs": [
        {
          "output_type": "execute_result",
          "data": {
            "text/plain": [
              "[5, 6]"
            ]
          },
          "metadata": {},
          "execution_count": 52
        }
      ]
    },
    {
      "cell_type": "markdown",
      "source": [
        "138 Given a non-empty array of integers nums, every element appears twice except for one. Find that single one.\n",
        "\n",
        "You must implement a solution with a linear runtime complexity and use only constant extra space."
      ],
      "metadata": {
        "id": "aXEFYdlYfsXG"
      }
    },
    {
      "cell_type": "code",
      "source": [
        "def singleNumber(array):\n",
        "  #xor\n",
        "  mask =0\n",
        "  for el in array:\n",
        "    mask^=el\n",
        "  return mask\n",
        "\n",
        "\n",
        "nums1 = [2,2,1]\n",
        "nums2 = [4,1,2,1,2]\n",
        "nums3 = [1]\n",
        "\n",
        "singleNumber(array=nums3)"
      ],
      "metadata": {
        "colab": {
          "base_uri": "https://localhost:8080/"
        },
        "id": "tA-AqK7rK8BE",
        "outputId": "9cbb34da-d9c9-44c4-b23a-9848e3d935e9"
      },
      "execution_count": null,
      "outputs": [
        {
          "output_type": "execute_result",
          "data": {
            "text/plain": [
              "3"
            ]
          },
          "metadata": {},
          "execution_count": 58
        }
      ]
    },
    {
      "cell_type": "markdown",
      "source": [
        "70 You are climbing a staircase. It takes n steps to reach the top.\n",
        "\n",
        "Each time you can either climb 1 or 2 steps. In how many distinct ways can you climb to the top?"
      ],
      "metadata": {
        "id": "PCR_ZCCFjHFF"
      }
    },
    {
      "cell_type": "code",
      "source": [
        "def climbStairs(n):\n",
        "  #числа фибоначи\n",
        "  if n ==1:\n",
        "    return n\n",
        "  n1=1\n",
        "  n2=2\n",
        "  for i in range(3,n+1):\n",
        "    n1,n2 = n2,n1+n2\n",
        "  return n2\n",
        "\n",
        "n=3\n",
        "\n",
        "climbStairs(n)\n"
      ],
      "metadata": {
        "colab": {
          "base_uri": "https://localhost:8080/"
        },
        "id": "91C19bKAjKuD",
        "outputId": "04d95062-45ce-4aa0-f6a5-4a55b51945c8"
      },
      "execution_count": null,
      "outputs": [
        {
          "output_type": "execute_result",
          "data": {
            "text/plain": [
              "3"
            ]
          },
          "metadata": {},
          "execution_count": 63
        }
      ]
    },
    {
      "cell_type": "markdown",
      "source": [
        "121 You are given an array prices where prices[i] is the price of a given stock on the ith day.\n",
        "\n",
        "You want to maximize your profit by choosing a single day to buy one stock and choosing a different day in the future to sell that stock.\n",
        "\n",
        "Return the maximum profit you can achieve from this transaction. If you cannot achieve any profit, return"
      ],
      "metadata": {
        "id": "r_-iRlrGqV1h"
      }
    },
    {
      "cell_type": "code",
      "source": [
        "def maxProfit(array):\n",
        "  max_profit=0\n",
        "  min_price=array[0]\n",
        "\n",
        "  for i in range(1,len(array)):\n",
        "    current_price = array[i]\n",
        "    max_profit= max(max_profit,current_price-min_price)\n",
        "    min_price= min(current_price,min_price)\n",
        "\n",
        "  return max_profit\n",
        "\n",
        "prices = [7,1,5,3,6,4]\n",
        "prices2 = [7,6,4,3,1]\n",
        "maxProfit(array=prices2)\n",
        "\n"
      ],
      "metadata": {
        "colab": {
          "base_uri": "https://localhost:8080/"
        },
        "id": "WlxgJ_DBqfDo",
        "outputId": "98a9bec0-fa48-4bff-b16d-a0f8deb752be"
      },
      "execution_count": null,
      "outputs": [
        {
          "output_type": "execute_result",
          "data": {
            "text/plain": [
              "0"
            ]
          },
          "metadata": {},
          "execution_count": 65
        }
      ]
    },
    {
      "cell_type": "markdown",
      "source": [
        "53 Given an integer array nums, find the subarray with the largest sum, and return its sum"
      ],
      "metadata": {
        "id": "ZP8zWaAWd01i"
      }
    },
    {
      "cell_type": "code",
      "source": [
        "def maxSubArray(array):\n",
        "  max_sum=array[0]\n",
        "  current_sum=array[0]\n",
        "  for i in range(len(array)):\n",
        "    num = array[i]\n",
        "    current_sum= max(current_sum+num,num)\n",
        "    max_sum=max(max_sum,current_sum)\n",
        "\n",
        "  return max_sum\n",
        "\n",
        "\n",
        "\n",
        "\n",
        "\n",
        "\n",
        "nums1 = [-2,1,-3,4,-1,2,1,-5,4]\n",
        "nums2 = [1]\n",
        "nums3 = [5,4,-1,7,8]\n",
        "maxSubArray(array = nums1)"
      ],
      "metadata": {
        "colab": {
          "base_uri": "https://localhost:8080/"
        },
        "id": "tGsDrWY9ehX8",
        "outputId": "bdfc04e2-2d12-4603-e9ba-b008a7eebdb1"
      },
      "execution_count": null,
      "outputs": [
        {
          "output_type": "execute_result",
          "data": {
            "text/plain": [
              "6"
            ]
          },
          "metadata": {},
          "execution_count": 1
        }
      ]
    },
    {
      "cell_type": "markdown",
      "source": [
        "303 Given an integer array nums, handle multiple queries of the following type:\n",
        "\n",
        "    Calculate the sum of the elements of nums between indices left and right inclusive where left <= right.\n",
        "\n",
        "Implement the NumArray class:\n",
        "\n",
        "    NumArray(int[] nums) Initializes the object with the integer array nums.\n",
        "    int sumRange(int left, int right) Returns the sum of the elements of nums between indices left and right inclusive (i.e. nums[left] + nums[left + 1] + ... + nums[right]).\n"
      ],
      "metadata": {
        "id": "WGC9xG-yhPC-"
      }
    },
    {
      "cell_type": "code",
      "source": [
        "class NumArray:\n",
        "  def __init__(self, nums: list[int]):\n",
        "    self.sum = []\n",
        "    current_sum = 0\n",
        "\n",
        "    for num in nums[0]:\n",
        "      current_sum += num\n",
        "      self.sum.append(current_sum)\n",
        "\n",
        "  def sumRange(self, left, right):\n",
        "    left_sum = self.sum[left]\n",
        "    right_sum = self.sum[right]\n",
        "    if left == 0:\n",
        "      return right_sum\n",
        "    return right_sum - self.sum[left - 1]\n",
        "\n",
        "  def result(self):\n",
        "    res = []\n",
        "    for i in nums[1:]:\n",
        "      res.append(self.sumRange(i[0], i[1]))\n",
        "    return res\n",
        "\n",
        "nums = [[-2, 0, 3, -5, 2, -1], [0, 2], [2, 5], [0, 5]]\n",
        "obj = NumArray(nums)\n",
        "param_1 = obj.result()\n",
        "print(param_1)"
      ],
      "metadata": {
        "colab": {
          "base_uri": "https://localhost:8080/"
        },
        "id": "9JTiKivyc5aX",
        "outputId": "da3972e9-100a-4c39-f826-86de027e076e"
      },
      "execution_count": null,
      "outputs": [
        {
          "output_type": "stream",
          "name": "stdout",
          "text": [
            "[1, -1, -3]\n"
          ]
        }
      ]
    },
    {
      "cell_type": "markdown",
      "source": [
        "338 Given an integer n, return an array ans of length n + 1 such that for each i (0 <= i <= n), ans[i] is the number of 1's in the binary representation of i.\n",
        "\n"
      ],
      "metadata": {
        "id": "qJF4hR7DxAXn"
      }
    },
    {
      "cell_type": "code",
      "source": [
        "def countBits(n):\n",
        "  memo=[0]*(n+1)\n",
        "  for i in range(1,n+1):\n",
        "    memo[i]=memo[i>>1]+ i%2\n",
        "    return memo[:n+1]\n",
        "\n",
        "n=2\n",
        "countBits(n)"
      ],
      "metadata": {
        "colab": {
          "base_uri": "https://localhost:8080/"
        },
        "id": "tVliayCh4hDv",
        "outputId": "421ab2f0-9dae-488e-98e2-722ecee5db99"
      },
      "execution_count": null,
      "outputs": [
        {
          "output_type": "execute_result",
          "data": {
            "text/plain": [
              "[0, 1, 0]"
            ]
          },
          "metadata": {},
          "execution_count": 34
        }
      ]
    },
    {
      "cell_type": "markdown",
      "source": [
        "1 Given an array of integers nums and an integer target, return indices of the two numbers such that they add up to target.\n",
        "\n",
        "You may assume that each input would have exactly one solution, and you may not use the same element twice."
      ],
      "metadata": {
        "id": "FtQmyGJAWqRK"
      }
    },
    {
      "cell_type": "code",
      "source": [
        "def twoSum(nums,target):\n",
        "  seem={}\n",
        "\n",
        "  for i,num in enumerate(nums):\n",
        "    if target - num in seem:\n",
        "      return [seem[target-num],i]\n",
        "    #присваивание в словаре ключ:значение,в 1 операции цикли присваем 2:0\n",
        "    seem[num]=i\n",
        "\n",
        "  return []\n",
        "\n",
        "\n",
        "nums = [2,7,11,15]\n",
        "target = 9\n",
        "twoSum(nums,target)"
      ],
      "metadata": {
        "id": "9SALMDfz7hdV",
        "colab": {
          "base_uri": "https://localhost:8080/"
        },
        "outputId": "a2464aa0-dca5-4c1d-cce5-7ef605dadb22"
      },
      "execution_count": null,
      "outputs": [
        {
          "output_type": "execute_result",
          "data": {
            "text/plain": [
              "[0, 1]"
            ]
          },
          "metadata": {},
          "execution_count": 1
        }
      ]
    },
    {
      "cell_type": "markdown",
      "source": [
        "169 The majority element is the element that appears more than ⌊n / 2⌋ times. You may assume that the majority element always exists in the array."
      ],
      "metadata": {
        "id": "2J_OtVeCoMWg"
      }
    },
    {
      "cell_type": "code",
      "source": [
        "from collections import Counter\n",
        "def majorityElement(nums):\n",
        "  #реализация Boyer-Moore Majority Voting Algorithm\n",
        "  result = None\n",
        "  vote = 0\n",
        "  for num in nums:\n",
        "    if vote == 0:\n",
        "      result=num\n",
        "\n",
        "    if num == result:\n",
        "      vote +=1\n",
        "    else:\n",
        "      vote -=1\n",
        "\n",
        "  return result\n",
        "\n",
        "\n",
        "def majorityElement2(nums):\n",
        "  nums=sorted(nums)\n",
        "  return nums[len(nums)//2]\n",
        "\n",
        "def majorityElement3(nums):\n",
        "  return Counter(nums).most_common(0)[0][0]\n",
        "\n",
        "nums1 = [3,3,3,35,5,5,5]\n",
        "majorityElement(nums=nums1)"
      ],
      "metadata": {
        "colab": {
          "base_uri": "https://localhost:8080/"
        },
        "id": "cDzIxA-ZoLbA",
        "outputId": "699b93f6-792b-4701-be25-63109424118b"
      },
      "execution_count": null,
      "outputs": [
        {
          "output_type": "execute_result",
          "data": {
            "text/plain": [
              "5"
            ]
          },
          "metadata": {},
          "execution_count": 5
        }
      ]
    },
    {
      "cell_type": "markdown",
      "source": [
        "238 Given an integer array nums, return an array answer such that answer[i] is equal to the product of all the elements of nums except nums[i].\n",
        "\n",
        "The product of any prefix or suffix of nums is guaranteed to fit in a 32-bit integer.\n",
        "\n",
        "You must write an algorithm that runs in O(n) time and without using the division operation."
      ],
      "metadata": {
        "id": "CX_diVUMeLd_"
      }
    },
    {
      "cell_type": "code",
      "source": [
        "def numbs_list(nums):\n",
        "  #создаем массив\n",
        "  res = []\n",
        "  #проходимся циклом по массиву\n",
        "  for i in range(len(nums)):\n",
        "    #устанавливаем номер елемента массива 1\n",
        "    product=1\n",
        "    #еще в одном цикле проходимя по массиву\n",
        "    for j in range(len(nums)):\n",
        "      #Если елемент обхода i не равен элементу обхода j тогда значения умножаем\n",
        "      if i!=j:\n",
        "        product*=nums[j]\n",
        "    res.append(product)\n",
        "    #добавляем в массив и возращаем результат\n",
        "  return res\n",
        "\n",
        "def productExceptSelf(nums):\n",
        "  n = len(nums)\n",
        "  #заполняем 1 массивы\n",
        "  left = [1 for _ in range(n)]\n",
        "  #проходимся по элементам как обычно с лево на право c 1 по 5\n",
        "  for i in range(1,n):\n",
        "    #заполняем массив left как предидущие значение left* пред.знач списка в первом проходе 1*-1\n",
        "    left[i] = left[i-1]*nums[i-1]\n",
        "\n",
        "  right = [1 for _ in range(n)]\n",
        "  #проходимся по елементам обратно с право на лево c range(старт, стоп, шаг) c 3 по -1 с шагом -1\n",
        "  for i in range(n-2,-1,-1):\n",
        "    right[i]=right[i+1]*nums[i+1]\n",
        "\n",
        "  result=[]\n",
        "  #перемножаем left и right\n",
        "  for i in range(n):\n",
        "    result.append(right[i]*left[i])\n",
        "\n",
        "  return result\n",
        "\n",
        "\n",
        "\n",
        "#[0,0,9,0,0]\n",
        "nums = [-1,1,0,-3,3]\n",
        "productExceptSelf(nums)"
      ],
      "metadata": {
        "colab": {
          "base_uri": "https://localhost:8080/"
        },
        "id": "hD6gFOqSeOxV",
        "outputId": "d646152c-a5dc-4144-a088-6906137f4500"
      },
      "execution_count": null,
      "outputs": [
        {
          "output_type": "execute_result",
          "data": {
            "text/plain": [
              "[0, 0, 9, 0, 0]"
            ]
          },
          "metadata": {},
          "execution_count": 14
        }
      ]
    },
    {
      "cell_type": "markdown",
      "source": [
        "287 Given an array of integers nums containing n + 1 integers where each integer is in the range [1, n] inclusive.\n",
        "\n",
        "There is only one repeated number in nums, return this repeated number.\n",
        "\n",
        "You must solve the problem without modifying the array nums and uses only constant extra space."
      ],
      "metadata": {
        "id": "g6tmm8X1DvAh"
      }
    },
    {
      "cell_type": "code",
      "source": [
        "def findDuplicate(nums):\n",
        "  #используем два указателя быстрый и медленный\n",
        "  slow=nums[0]\n",
        "  fast = nums[0]\n",
        "  #в этом цикле они пересекутся\n",
        "  while True:\n",
        "    #slow = 1\n",
        "    slow=nums[slow]\n",
        "    #fast =2-- nums[3]---nums[1]=3\n",
        "    fast = nums[nums[fast]]\n",
        "    if fast==slow:\n",
        "      break\n",
        "  #точка входа в цикл\n",
        "  slow=nums[0]\n",
        "  while fast != slow:\n",
        "    slow=nums[slow]\n",
        "    fast=nums[fast]\n",
        "\n",
        "  return slow\n",
        "\n",
        "nums1 = [1,3,4,2,2]\n",
        "nums2 = [3,1,3,4,2]\n",
        "nums3 = [3,3,3,3,3]\n",
        "findDuplicate(nums=nums1)"
      ],
      "metadata": {
        "colab": {
          "base_uri": "https://localhost:8080/"
        },
        "id": "UxUmbHZaHnsS",
        "outputId": "a5d1a124-19ff-48cf-8a82-77b8cdb7d439"
      },
      "execution_count": null,
      "outputs": [
        {
          "output_type": "execute_result",
          "data": {
            "text/plain": [
              "2"
            ]
          },
          "metadata": {},
          "execution_count": 2
        }
      ]
    },
    {
      "cell_type": "markdown",
      "source": [
        "442 Given an integer array nums of length n where all the integers of nums are in the range [1, n] and each integer appears once or twice, return an array of all the integers that appears twice.\n",
        "\n",
        "You must write an algorithm that runs in O(n) time and uses only constant extra space."
      ],
      "metadata": {
        "id": "H8R95Ak76RRP"
      }
    },
    {
      "cell_type": "code",
      "source": [
        "def findDuplicates(nums):\n",
        "  result=[]\n",
        "  #проходимся по элементам массива\n",
        "  for num in nums:\n",
        "    #если число стоящее по индексу проходящего элемента минус 1 меньше 0 тогда добавляет в резалт иначе число стоящее по индексу делаем отрицательным\n",
        "    #и когда в следующий раз найдем отрицательное число то добавим число индекс которого привел к отрицательному\n",
        "    if nums[abs(num)-1]<0:\n",
        "      result.append(abs(num))\n",
        "    nums[abs(num)-1]*=-1\n",
        "  return result\n",
        "\n",
        "\n",
        "#Output: [2,3]\n",
        "nums = [4,3,2,7,8,2,3,1]\n",
        "#1\n",
        "nums1 = [1,1,2]\n",
        "#[]\n",
        "nums3 = [1]\n",
        "findDuplicates(nums3)\n"
      ],
      "metadata": {
        "colab": {
          "base_uri": "https://localhost:8080/"
        },
        "id": "TILLnEYQ5yGD",
        "outputId": "869f6e2b-194f-4b91-ba66-6950290ee10f"
      },
      "execution_count": null,
      "outputs": [
        {
          "output_type": "execute_result",
          "data": {
            "text/plain": [
              "[]"
            ]
          },
          "metadata": {},
          "execution_count": 23
        }
      ]
    },
    {
      "cell_type": "markdown",
      "source": [
        "784 Given a string s, you can transform every letter individually to be lowercase or uppercase to create another string.\n",
        "\n",
        "Return a list of all possible strings we could create. Return the output in any order."
      ],
      "metadata": {
        "id": "IrE9BTakpOQn"
      }
    },
    {
      "cell_type": "code",
      "source": [
        "class Solution:\n",
        "\n",
        "\n",
        "  def letterCasePermutation(self,s):\n",
        "    self.result =[]\n",
        "    self.traverce(\"\", s, 0)\n",
        "    return self.result\n",
        "\n",
        "\n",
        "  def traverce(self,current,s,i):\n",
        "    #если длина текущий строки == исходной строки то все комбинации перебрали\n",
        "    if len(current) == len(s):\n",
        "      #добавляем текущую и возврат\n",
        "      self.result.append(current)\n",
        "      return\n",
        "    #делаем рекуретный вызов функции(текущее знач+iэлемент,исходная строка,прибавлям i элемент строки)\n",
        "    self.traverce(current + s[i],s,i+1)\n",
        "    # если i элемент строки is alpha Метод isalpha() возвращает True, если все символы в строке являются алфавитными.\n",
        "    if s[i].isalpha():\n",
        "      #если алфавитный iэлемент то вызываем функцию траверс с использованием swapcase() в Python строки преобразует все символы верхнего регистра в нижний регистр и все символы нижнего регистра в верхний регистр\n",
        "      self.traverce(current + s[i].swapcase(),s,i+1)\n",
        "    return\n",
        "\n",
        "\n",
        "\n",
        "#[\"a1b2\",\"a1B2\",\"A1b2\",\"A1B2\"]\n",
        "s = \"a1b2\"\n",
        "#[\"3z4\",\"3Z4\"]\n",
        "s = \"3z4\"\n",
        "\n",
        "b=Solution()\n",
        "res= b.letterCasePermutation(s)\n",
        "print(res)"
      ],
      "metadata": {
        "colab": {
          "base_uri": "https://localhost:8080/"
        },
        "id": "V05izMzhpRcb",
        "outputId": "d5a26e2c-eda9-4a8a-ab4d-e5002943b698"
      },
      "execution_count": null,
      "outputs": [
        {
          "output_type": "stream",
          "name": "stdout",
          "text": [
            "['3z4', '3Z4']\n"
          ]
        }
      ]
    },
    {
      "cell_type": "markdown",
      "source": [
        "78.Given an integer array nums of unique elements, return all possible\n",
        "subsets\n",
        "(the power set). The solution set must not contain duplicate subsets. Return the solution in any order."
      ],
      "metadata": {
        "id": "9sWKlWXe3WMv"
      }
    },
    {
      "cell_type": "code",
      "source": [
        "def subsets(nums):\n",
        "  #всего 2 состояния число может быть а может и не быть поэтому 2 в степени n варианты\n",
        "  res=[[]]\n",
        "  for num in nums:\n",
        "    res = res + [subset + [num] for subset in res]\n",
        "\n",
        "    print(res)\n",
        "\n",
        "  return res\n",
        "\n",
        "\n",
        "nums = [1,2,3]\n",
        "subsets(nums)\n",
        "\n",
        "#res=[[]]\n",
        "#res = res+ [subset + [1] for subset in res]\n",
        "#print(res+ [subset + [2] for subset in res])\n",
        "\n"
      ],
      "metadata": {
        "id": "D1oiECgf5Ht0",
        "colab": {
          "base_uri": "https://localhost:8080/"
        },
        "outputId": "2f612632-bbca-4115-fba5-c562d044e26f"
      },
      "execution_count": null,
      "outputs": [
        {
          "output_type": "stream",
          "name": "stdout",
          "text": [
            "[[], [1]]\n",
            "[[], [1], [2], [1, 2]]\n",
            "[[], [1], [2], [1, 2], [3], [1, 3], [2, 3], [1, 2, 3]]\n"
          ]
        },
        {
          "output_type": "execute_result",
          "data": {
            "text/plain": [
              "[[], [1], [2], [1, 2], [3], [1, 3], [2, 3], [1, 2, 3]]"
            ]
          },
          "metadata": {},
          "execution_count": 18
        }
      ]
    },
    {
      "cell_type": "markdown",
      "source": [
        "46 Given an array nums of distinct integers, return all the possible permutations. You can return the answer in any order.\n"
      ],
      "metadata": {
        "id": "_vbk-abhQieD"
      }
    },
    {
      "cell_type": "code",
      "source": [
        "class Solution:\n",
        "  result=[]\n",
        "  def bactrack(self,current,nums):\n",
        "    if current== len(nums):\n",
        "      self.result.append(nums[:])\n",
        "      return\n",
        "    for i in range(current,len(nums)):\n",
        "      nums[i],nums[current]=nums[current],nums[i]\n",
        "      self.bactrack(current+1,nums)\n",
        "      nums[i],nums[current]=nums[current],nums[i]\n",
        "\n",
        "  def permute(self, nums):\n",
        "    self.result=[]\n",
        "    self.bactrack(0,nums)\n",
        "    return self.result\n",
        "\n",
        "#[[1,2,3],[1,3,2],[2,1,3],[2,3,1],[3,1,2],[3,2,1]]\n",
        "nums = [1,2,3]\n",
        "b=Solution()\n",
        "print(b.permute(nums))"
      ],
      "metadata": {
        "colab": {
          "base_uri": "https://localhost:8080/"
        },
        "id": "QkkWdnNyQ5Pr",
        "outputId": "92edb3c6-628f-44a5-a400-c3a39838f6c6"
      },
      "execution_count": null,
      "outputs": [
        {
          "output_type": "stream",
          "name": "stdout",
          "text": [
            "[[1, 2, 3], [1, 3, 2], [2, 1, 3], [2, 3, 1], [3, 2, 1], [3, 1, 2]]\n"
          ]
        }
      ]
    },
    {
      "cell_type": "markdown",
      "source": [
        "340 Given a string s and an integer k, return the length of the longest substring of s that contains at most k distinct characters."
      ],
      "metadata": {
        "id": "vNgmXM2aZwVy"
      }
    },
    {
      "cell_type": "code",
      "source": [
        "#ничем не отличается от обычного словаря за исключением того, что по умолчанию всегда вызывается функция, которая возвращает значение по умолчанию для новых значений.\n",
        "from collections import defaultdict\n",
        "def lengthOfLongestSubstringTwoDistinct(s,k):\n",
        "  #sliding window\n",
        "  left=0\n",
        "  result=0\n",
        "  counter = defaultdict(int)\n",
        "\n",
        "  #добавляем символы в хешмап\n",
        "  for right in range(len(s)):\n",
        "    counter[s[right]] += 1\n",
        " #сжимаем окно\n",
        "  while len(counter) > k:\n",
        "    left_char=s[left]\n",
        "    counter[left_char]-= 1\n",
        "    if counter[left_char] == 0:\n",
        "      del counter[left_char]\n",
        "    left+=1\n",
        "  result = max(result,right-left+1)\n",
        "\n",
        "  return result\n",
        "\n",
        "#The substring is \"ece\" with length 3.\n",
        "s = \"eceba\"\n",
        "k = 2\n",
        "#The substring is \"aa\" with length 2.\n",
        "s1 = \"aa\"\n",
        "k1 = 1\n",
        "\n",
        "lengthOfLongestSubstringTwoDistinct(s,k)"
      ],
      "metadata": {
        "colab": {
          "base_uri": "https://localhost:8080/"
        },
        "id": "qxIlduEYZuLi",
        "outputId": "65721fe2-b2c2-4626-ff06-015be5c8c169"
      },
      "execution_count": null,
      "outputs": [
        {
          "output_type": "execute_result",
          "data": {
            "text/plain": [
              "2"
            ]
          },
          "metadata": {},
          "execution_count": 25
        }
      ]
    },
    {
      "cell_type": "markdown",
      "source": [
        "22 Given n pairs of parentheses, write a function to generate all combinations of well-formed parentheses."
      ],
      "metadata": {
        "id": "nbz_jD7yy_qU"
      }
    },
    {
      "cell_type": "code",
      "source": [
        "class Solution:\n",
        "\n",
        "  def generateParenthesis(self,n):\n",
        "    result=[]\n",
        "\n",
        "    def generate(open,close,current):\n",
        "      if open + close == 2*n:\n",
        "        result.append(current)\n",
        "        return\n",
        "      if open < n:\n",
        "        generate(open+1,close,current + \"(\")\n",
        "      if close < open:\n",
        "        generate(open,close+1,current + \")\")\n",
        "\n",
        "    generate(0,0,\"\")\n",
        "    return result\n",
        "\n",
        "#[\"((()))\",\"(()())\",\"(())()\",\"()(())\",\"()()()\"]\n",
        "n = 3\n",
        "b=Solution()\n",
        "print(b.generateParenthesis(n))"
      ],
      "metadata": {
        "colab": {
          "base_uri": "https://localhost:8080/"
        },
        "id": "7MgN74urzRX5",
        "outputId": "cfbb3f40-b73a-4c76-ac94-40c333affa6c"
      },
      "execution_count": null,
      "outputs": [
        {
          "output_type": "stream",
          "name": "stdout",
          "text": [
            "['((()))', '(()())', '(())()', '()(())', '()()()']\n"
          ]
        }
      ]
    },
    {
      "cell_type": "markdown",
      "source": [
        "704 Given an array of integers nums which is sorted in ascending order, and an integer target, write a function to search target in nums. If target exists, then return its index. Otherwise, return -1.\n",
        "\n",
        "You must write an algorithm with O(log n) runtime complexity."
      ],
      "metadata": {
        "id": "Ydz7l4XngwOI"
      }
    },
    {
      "cell_type": "code",
      "source": [
        "def search(nums,target):\n",
        "  left=0\n",
        "  right=len(nums)-1\n",
        "\n",
        "  while left<=right:\n",
        "    middle = left+(right-left)//2\n",
        "    if nums[middle]==target:\n",
        "      return middle\n",
        "    if nums[middle] > target:\n",
        "      right=middle-1\n",
        "    else:\n",
        "      left=middle+1\n",
        "\n",
        "\n",
        "  return -1\n",
        "\n",
        "\n",
        "nums = [-1,0,3,5,9,12]\n",
        "target = 9\n",
        "nums1 = [-1,0,3,5,9,12]\n",
        "target1 =2\n",
        "\n",
        "search(nums1,target1)"
      ],
      "metadata": {
        "colab": {
          "base_uri": "https://localhost:8080/"
        },
        "id": "LDtMo0jYhFdQ",
        "outputId": "4c536f02-49c2-461f-f2e8-738f18883a0c"
      },
      "execution_count": null,
      "outputs": [
        {
          "output_type": "execute_result",
          "data": {
            "text/plain": [
              "-1"
            ]
          },
          "metadata": {},
          "execution_count": 8
        }
      ]
    },
    {
      "cell_type": "markdown",
      "source": [
        "744 You are given an array of characters letters that is sorted in non-decreasing order, and a character target. There are at least two different characters in letters.\n",
        "\n",
        "Return the smallest character in letters that is lexicographically greater than target. If such a character does not exist, return the first character in letters."
      ],
      "metadata": {
        "id": "YVNr-4D5pAIV"
      }
    },
    {
      "cell_type": "code",
      "source": [
        "def nextGreatestLetter(letters,target):\n",
        "  left=0\n",
        "  right=len(letters)-1\n",
        "\n",
        "  while left<=right:\n",
        "    middle = left+(left-right)//2\n",
        "\n",
        "\n",
        "    if letters[middle] >target:\n",
        "      right=middle-1\n",
        "    else:\n",
        "      left=middle+1\n",
        "\n",
        "  return letters[left % len(letters)]\n",
        "\n",
        "\n",
        "letters = [\"c\",\"f\",\"j\"]\n",
        "target = \"a\"\n",
        "letters1 = [\"c\",\"f\",\"j\"]\n",
        "target1 = \"c\"\n",
        "nextGreatestLetter(letters,target)"
      ],
      "metadata": {
        "colab": {
          "base_uri": "https://localhost:8080/",
          "height": 35
        },
        "id": "ew3J6wQapDKP",
        "outputId": "f5a7840a-c9ca-40b1-f129-c64b63846b99"
      },
      "execution_count": null,
      "outputs": [
        {
          "output_type": "execute_result",
          "data": {
            "text/plain": [
              "'c'"
            ],
            "application/vnd.google.colaboratory.intrinsic+json": {
              "type": "string"
            }
          },
          "metadata": {},
          "execution_count": 10
        }
      ]
    },
    {
      "cell_type": "markdown",
      "source": [
        "852 An array arr is a mountain if the following properties hold:\n",
        "\n",
        "    arr.length >= 3\n",
        "    There exists some i with 0 < i < arr.length - 1 such that:\n",
        "        arr[0] < arr[1] < ... < arr[i - 1] < arr[i]\n",
        "        arr[i] > arr[i + 1] > ... > arr[arr.length - 1]\n",
        "\n",
        "Given a mountain array arr, return the index i such that arr[0] < arr[1] < ... < arr[i - 1] < arr[i] > arr[i + 1] > ... > arr[arr.length - 1].\n",
        "\n",
        "You must solve it in O(log(arr.length)) time complexity."
      ],
      "metadata": {
        "id": "-JAQ6FO5xiZK"
      }
    },
    {
      "cell_type": "code",
      "source": [
        "def peakIndexInMountainArray(array):\n",
        "  left=0\n",
        "  right=len(array)-1\n",
        "\n",
        "  while left<=right:\n",
        "    middle= left+(right-left)//2\n",
        "    if array[middle]<array[middle+1]:\n",
        "      left=middle+1\n",
        "    else:\n",
        "      right=middle-1\n",
        "\n",
        "  return left\n",
        "\n",
        "\n",
        "\n",
        "\n",
        "\n",
        "\n",
        "\n",
        "#1\n",
        "arr1 = [0,1,0]\n",
        "#1\n",
        "arr2 = [0,2,1,0]\n",
        "peakIndexInMountainArray(arr1)"
      ],
      "metadata": {
        "id": "icQXNEEBxpXU",
        "colab": {
          "base_uri": "https://localhost:8080/"
        },
        "outputId": "38b3f0de-4412-4372-a0ea-25069f72d88c"
      },
      "execution_count": null,
      "outputs": [
        {
          "output_type": "execute_result",
          "data": {
            "text/plain": [
              "1"
            ]
          },
          "metadata": {},
          "execution_count": 3
        }
      ]
    },
    {
      "cell_type": "markdown",
      "source": [
        "Given the root of a binary tree, return the average value of the nodes on each level in the form of an array. Answers within 10-5 of the actual answer will be accepted."
      ],
      "metadata": {
        "id": "FeJUaJkSQRgH"
      }
    },
    {
      "cell_type": "code",
      "source": [
        "# Definition for a binary tree node.\n",
        "from collections import deque\n",
        "\n",
        "class TreeNode:\n",
        "    def __init__(self, val=0, left=None, right=None):\n",
        "        self.val = val\n",
        "        self.left = left\n",
        "        self.right = right\n",
        "\n",
        "class Solution:\n",
        "    def averageOfLevels(self, root):\n",
        "      #решение через бфс\n",
        "        q = deque([root])\n",
        "        result = []\n",
        "\n",
        "        while q:\n",
        "            n = len(q)\n",
        "            level_sum = 0\n",
        "\n",
        "            for _ in range(n):\n",
        "                node = q.popleft()\n",
        "                level_sum += node.val\n",
        "\n",
        "                if node.left:\n",
        "                    q.append(node.left)\n",
        "                if node.right:\n",
        "                    q.append(node.right)\n",
        "\n",
        "            result.append(level_sum / n)\n",
        "\n",
        "        return result\n",
        "\n",
        "# Создаем узлы дерева\n",
        "root = TreeNode(3)\n",
        "root.left = TreeNode(9)\n",
        "root.right = TreeNode(20)\n",
        "root.right.left = TreeNode(15)\n",
        "root.right.right = TreeNode(7)\n",
        "\n",
        "b = Solution()\n",
        "print(b.averageOfLevels(root))"
      ],
      "metadata": {
        "colab": {
          "base_uri": "https://localhost:8080/"
        },
        "id": "MvHhWh-QwXTL",
        "outputId": "5735441b-d257-4cc1-bd01-62490a67f8d8"
      },
      "execution_count": null,
      "outputs": [
        {
          "output_type": "stream",
          "name": "stdout",
          "text": [
            "[3.0, 14.5, 11.0]\n"
          ]
        }
      ]
    },
    {
      "cell_type": "markdown",
      "source": [
        "111 Given a binary tree, find its minimum depth.\n",
        "\n",
        "The minimum depth is the number of nodes along the shortest path from the root node down to the nearest leaf node.\n",
        "\n",
        "Note: A leaf is a node with no children."
      ],
      "metadata": {
        "id": "aXWWD8XOGvqg"
      }
    },
    {
      "cell_type": "code",
      "source": [
        "from collections import deque\n",
        "\n",
        "class TreeNode:\n",
        "    def __init__(self, val=0, left=None, right=None):\n",
        "        self.val = val\n",
        "        self.left = left\n",
        "        self.right = right\n",
        "\n",
        "class Solution:\n",
        "    def minDepth(self, root):\n",
        "      #решение через бфс\n",
        "      if not root:\n",
        "        return 0\n",
        "      depth =1\n",
        "      q = deque([root])\n",
        "      while q:\n",
        "        for _ in range(len(q)):\n",
        "          node = q.popleft()\n",
        "          if not node.left and not node.right:\n",
        "            return depth\n",
        "          elif node.left:\n",
        "            q.append(node.left)\n",
        "          elif node.right:\n",
        "            q.append(node.right)\n",
        "\n",
        "        depth +=1\n",
        "\n",
        "\n",
        "\n",
        "      return depth\n",
        "\n",
        "\n",
        "\n",
        "\n",
        "\n",
        "\n",
        "# Создаем узлы дерева\n",
        "root = TreeNode(2)\n",
        "#root.left = TreeNode(9)\n",
        "#root.right = TreeNode(20)\n",
        "#root.right.left = TreeNode(15)\n",
        "#root.right.right = TreeNode(7)\n",
        "\n",
        "root.right = TreeNode(3)\n",
        "root.right.right = TreeNode(4)\n",
        "root.right.right.right = TreeNode(5)\n",
        "root.right.right.right.right = TreeNode(6)\n",
        "b = Solution()\n",
        "b.minDepth(root)\n",
        "\n",
        "\n",
        "#root.left.left =TreeNode(None)\n",
        "#root.left.right =TreeNode(None)\n",
        "#root = [3,9,20,null,null,15,7]\n",
        "#[2,null,3,null,4,null,5,null,6]"
      ],
      "metadata": {
        "colab": {
          "base_uri": "https://localhost:8080/"
        },
        "id": "ya09VyeBWAfA",
        "outputId": "0b9f5b30-e683-49aa-9cad-c7f7b308aff0"
      },
      "execution_count": null,
      "outputs": [
        {
          "output_type": "execute_result",
          "data": {
            "text/plain": [
              "5"
            ]
          },
          "metadata": {},
          "execution_count": 24
        }
      ]
    },
    {
      "cell_type": "markdown",
      "source": [
        "100 Given the roots of two binary trees p and q, write a function to check if they are the same or not.\n",
        "\n",
        "Two binary trees are considered the same if they are structurally identical, and the nodes have the same value."
      ],
      "metadata": {
        "id": "OJ4u6NBLuxdN"
      }
    },
    {
      "cell_type": "code",
      "source": [
        "from collections import deque\n",
        "\n",
        "class TreeNode:\n",
        "    def __init__(self, val=0, left=None, right=None):\n",
        "        self.val = val\n",
        "        self.left = left\n",
        "        self.right = right\n",
        "\n",
        "\n",
        "class Solution:\n",
        "    def isSameTree(self, p, q):\n",
        "      queue = deque([p,q])\n",
        "\n",
        "      while queue:\n",
        "        p = queue.popleft()\n",
        "        q = queue.popleft()\n",
        "\n",
        "        if not p and not q:\n",
        "          continue\n",
        "        if not p or not q:\n",
        "          return False\n",
        "\n",
        "        if p.val != q.val:\n",
        "          return False\n",
        "\n",
        "        queue.append(p.left)\n",
        "        queue.append(q.left)\n",
        "        queue.append(p.right)\n",
        "        queue.append(q.right)\n",
        "\n",
        "      return True\n",
        "\n",
        "\n",
        "\n",
        "\n",
        "# Создаем узлы дерева\n",
        "root = TreeNode(1)\n",
        "root.left = TreeNode(2)\n",
        "\n",
        "root1 = TreeNode(1)\n",
        "root1.left = TreeNode()\n",
        "root1.left.left = TreeNode(2)\n",
        "\n",
        "#root.right.left = TreeNode(15)\n",
        "#root.right.right = TreeNode(7)\n",
        "\n",
        "#root.right = TreeNode(3)\n",
        "#root.right.right = TreeNode(4)\n",
        "#root.right.right.right = TreeNode(5)\n",
        "#root.right.right.right.right = TreeNode(6)\n",
        "b = Solution()\n",
        "b.isSameTree(root,root1)\n",
        "\n",
        "\n",
        "\n",
        "\n",
        "\n",
        "#True\n",
        "#p = [1,2,3]\n",
        "#q = [1,2,3]\n",
        "#False\n",
        "#p = [1,2]\n",
        "#q = [1,null,2]\n"
      ],
      "metadata": {
        "colab": {
          "base_uri": "https://localhost:8080/"
        },
        "id": "CjUvYK8suwuA",
        "outputId": "29b304a4-5ff9-4a6e-b7b1-ee8b66a9dc7f"
      },
      "execution_count": null,
      "outputs": [
        {
          "output_type": "execute_result",
          "data": {
            "text/plain": [
              "False"
            ]
          },
          "metadata": {},
          "execution_count": 29
        }
      ]
    },
    {
      "cell_type": "markdown",
      "source": [
        "112 Given the root of a binary tree and an integer targetSum, return true if the tree has a root-to-leaf path such that adding up all the values along the path equals targetSum.\n",
        "\n",
        "A leaf is a node with no children."
      ],
      "metadata": {
        "id": "NtTovHA2Df8l"
      }
    },
    {
      "cell_type": "code",
      "source": [
        "from collections import deque\n",
        "\n",
        "class TreeNode:\n",
        "    def __init__(self, val=0, left=None, right=None):\n",
        "        self.val = val\n",
        "        self.left = left\n",
        "        self.right = right\n",
        "\n",
        "\n",
        "\n",
        "\n",
        "class Solution:\n",
        "    def hasPathSum(self, node, target):\n",
        "      if not node:\n",
        "        return False\n",
        "\n",
        "      target -= node.val\n",
        "      if not node.left and not node.right:\n",
        "        return target==0\n",
        "\n",
        "      return self.hasPathSum(node.left,target) or self.hasPathSum(node.right,target)\n",
        "\n",
        "\n",
        "\n",
        "\n",
        "\n",
        "# Создаем узлы дерева\n",
        "root = TreeNode(5)\n",
        "root.left = TreeNode(4)\n",
        "root.right = TreeNode(8)\n",
        "root.left.left = TreeNode(11)\n",
        "root.left.right = TreeNode()\n",
        "root.right.left = TreeNode(13)\n",
        "root.right.right = TreeNode(4)\n",
        "root.left.left.left = TreeNode(7)\n",
        "root.left.left.right = TreeNode(2)\n",
        "root.right.left.left = TreeNode()\n",
        "root.right.left.right = TreeNode()\n",
        "root.right.right.left = TreeNode()\n",
        "root.right.right.right = TreeNode(1)\n",
        "#root.right.left = TreeNode(15)\n",
        "#root.right.right = TreeNode(7)\n",
        "\n",
        "#root.right = TreeNode(3)\n",
        "#root.right.right = TreeNode(4)\n",
        "#root.right.right.right = TreeNode(5)\n",
        "#root.right.right.right.right = TreeNode(6)\n",
        "\n",
        "\n",
        "#root = [5,4,8,11,null,13,4,7,2,null,null,null,1]\n",
        "#targetSum = 22"
      ],
      "metadata": {
        "colab": {
          "base_uri": "https://localhost:8080/"
        },
        "id": "aZZffjAFDfNe",
        "outputId": "5e69a9a8-c15a-461b-e128-c750cc124e76"
      },
      "execution_count": null,
      "outputs": [
        {
          "output_type": "execute_result",
          "data": {
            "text/plain": [
              "True"
            ]
          },
          "metadata": {},
          "execution_count": 34
        }
      ]
    },
    {
      "cell_type": "markdown",
      "source": [
        "543 Given the root of a binary tree, return the length of the diameter of the tree.\n",
        "\n",
        "The diameter of a binary tree is the length of the longest path between any two nodes in a tree. This path may or may not pass through the root.\n",
        "\n",
        "The length of a path between two nodes is represented by the number of edges between them."
      ],
      "metadata": {
        "id": "S6v1fKdyYAGN"
      }
    },
    {
      "cell_type": "code",
      "source": [
        "class TreeNode:\n",
        "\n",
        "    def __init__(self, val=0, left=None, right=None):\n",
        "        self.val = val\n",
        "        self.left = left\n",
        "        self.right = right\n",
        "\n",
        "\n",
        "class Solution:\n",
        "    def diameterOfBinaryTree(self, root: TreeNode) -> int:\n",
        "        # Helper function to perform depth-first search and calculate depth.\n",
        "        def dfs(node):\n",
        "            # If the node is None, then this is a leaf so we return 0.\n",
        "            if node is None:\n",
        "                return 0\n",
        "            nonlocal max_diameter\n",
        "            # Recursively find the depths of the left and right subtrees.\n",
        "            left_depth = dfs(node.left)\n",
        "            right_depth = dfs(node.right)\n",
        "            # Update the maximum diameter found so far.\n",
        "            # Diameter at this node will be the sum of depths of left & right subtrees.\n",
        "            max_diameter = max(max_diameter, left_depth + right_depth)\n",
        "            # Return the depth of this node which is max of left or right subtree depths plus 1.\n",
        "            return 1 + max(left_depth, right_depth)\n",
        "\n",
        "        # Initialize the maximum diameter as 0.\n",
        "        max_diameter = 0\n",
        "        # Start the DFS traversal from the root.\n",
        "        dfs(root)\n",
        "        # Finally, return the maximum diameter found.\n",
        "        return max_diameter\n",
        "\n",
        "# Создаем узлы дерева\n",
        "root = TreeNode(1)\n",
        "root.left = TreeNode(2)\n",
        "root.right = TreeNode(3)\n",
        "root.left.left = TreeNode(4)\n",
        "root.left.right = TreeNode(5)\n",
        "\n",
        "b = Solution()\n",
        "print(b.diameterOfBinaryTree(root))"
      ],
      "metadata": {
        "colab": {
          "base_uri": "https://localhost:8080/"
        },
        "id": "CsDtiiayBqp9",
        "outputId": "3d93e3b3-d33c-4cab-c4c1-ac3f73973a8b"
      },
      "execution_count": null,
      "outputs": [
        {
          "output_type": "stream",
          "name": "stdout",
          "text": [
            "3\n"
          ]
        }
      ]
    },
    {
      "cell_type": "markdown",
      "source": [
        "617 You are given two binary trees root1 and root2.\n",
        "\n",
        "Imagine that when you put one of them to cover the other, some nodes of the two trees are overlapped while the others are not. You need to merge the two trees into a new binary tree. The merge rule is that if two nodes overlap, then sum node values up as the new value of the merged node. Otherwise, the NOT null node will be used as the node of the new tree.\n",
        "\n",
        "Return the merged tree.\n",
        "\n",
        "Note: The merging process must start from the root nodes of both trees."
      ],
      "metadata": {
        "id": "b3vMYRmXVsJ-"
      }
    },
    {
      "cell_type": "code",
      "source": [
        "class TreeNode:\n",
        "\n",
        "    def __init__(self, val=0, left=None, right=None):\n",
        "        self.val = val\n",
        "        self.left = left\n",
        "        self.right = right\n",
        "\n",
        "\n",
        "\n",
        "class Solution:\n",
        "    def mergeTrees(self,node1,node2):\n",
        "      if not node1:\n",
        "        return node2\n",
        "      if not node2:\n",
        "        return node1\n",
        "\n",
        "      node1.val+=node2.val\n",
        "      node1.left = self.mergeTrees(node1.left,node2.left)\n",
        "      node1.right = self.mergeTrees(node1.right,node1.right)\n",
        "\n",
        "\n",
        "      return node1\n",
        "\n",
        "# Создаем узлы дерева\n",
        "root = TreeNode(1)\n",
        "root.left = TreeNode(3)\n",
        "root.right = TreeNode(2)\n",
        "root.left.left = TreeNode(5)\n",
        "\n",
        "# Создаем узлы дерева\n",
        "root1 = TreeNode(2)\n",
        "root1.left = TreeNode(1)\n",
        "root1.right = TreeNode(3)\n",
        "root1.left.left = TreeNode()\n",
        "root1.left.right = TreeNode(4)\n",
        "root1.right.left = TreeNode()\n",
        "root1.right.right = TreeNode(7)\n",
        "\n",
        "b = Solution()\n",
        "b.mergeTrees(root,root1)"
      ],
      "metadata": {
        "colab": {
          "base_uri": "https://localhost:8080/"
        },
        "id": "xPywsGlcVxIX",
        "outputId": "46e080a0-8d70-4eac-bed6-406517c98cac"
      },
      "execution_count": null,
      "outputs": [
        {
          "output_type": "execute_result",
          "data": {
            "text/plain": [
              "[<__main__.TreeNode at 0x7b3f63893550>]"
            ]
          },
          "metadata": {},
          "execution_count": 7
        }
      ]
    },
    {
      "cell_type": "markdown",
      "source": [
        "104 Given the root of a binary tree, return its maximum depth.\n",
        "\n",
        "A binary tree's maximum depth is the number of nodes along the longest path from the root node down to the farthest leaf node."
      ],
      "metadata": {
        "id": "LUuOXnkcgID_"
      }
    },
    {
      "cell_type": "code",
      "source": [
        "class TreeNode:\n",
        "\n",
        "    def __init__(self, val=0, left=None, right=None):\n",
        "        self.val = val\n",
        "        self.left = left\n",
        "        self.right = right\n",
        "\n",
        "\n",
        "\n",
        "\n",
        "class Solution:\n",
        "    def maxDepth(self, node):\n",
        "      if not node:\n",
        "        return 0\n",
        "      left = self.maxDepth(node.left)\n",
        "      right = self.maxDepth(node.right)\n",
        "\n",
        "      return max(left,right)+1\n",
        "\n",
        "\n",
        "\n",
        "\n",
        "\n",
        "\n",
        "# Создаем узлы дерева\n",
        "root = TreeNode()\n",
        "root.left = TreeNode(9)\n",
        "root.right = TreeNode(20)\n",
        "root.right.left = TreeNode(15)\n",
        "root.right.right = TreeNode(7)\n",
        "\n",
        "b = Solution()\n",
        "b.maxDepth(root)"
      ],
      "metadata": {
        "colab": {
          "base_uri": "https://localhost:8080/"
        },
        "id": "8rQsKUB4gLg-",
        "outputId": "5065f929-1d84-4e6c-d72a-312d5b66bd64"
      },
      "execution_count": null,
      "outputs": [
        {
          "output_type": "execute_result",
          "data": {
            "text/plain": [
              "3"
            ]
          },
          "metadata": {},
          "execution_count": 9
        }
      ]
    },
    {
      "cell_type": "markdown",
      "source": [
        "236 Given a binary tree, find the lowest common ancestor (LCA) of two given nodes in the tree.\n",
        "\n",
        "According to the definition of LCA on Wikipedia: “The lowest common ancestor is defined between two nodes p and q as the lowest node in T that has both p and q as descendants (where we allow a node to be a descendant of itself).”"
      ],
      "metadata": {
        "id": "69TkGOyF0nGH"
      }
    },
    {
      "cell_type": "code",
      "source": [
        "class TreeNode:\n",
        "    def __init__(self, val=0, left=None, right=None):\n",
        "        self.val = val\n",
        "        self.left = left\n",
        "        self.right = right\n",
        "\n",
        "class Solution:\n",
        "    def lowestCommonAncestor(self, root, p, q):\n",
        "      node=root\n",
        "      while node:\n",
        "        if p > node.val and q > node.val:\n",
        "          node = node.right\n",
        "        elif p < node.val and q < node.val:\n",
        "          node = node.left\n",
        "        else:\n",
        "          return node.val\n",
        "\n",
        "      return None\n",
        "\n",
        "\n",
        "\n",
        "\n",
        "\n",
        "# Создаем узлы дерева\n",
        "root = TreeNode(3)\n",
        "root.left = TreeNode(5)\n",
        "root.right = TreeNode(1)\n",
        "root.left.left = TreeNode(6)\n",
        "root.left.right = TreeNode(2)\n",
        "root.right.left = TreeNode(0)\n",
        "root.right.right = TreeNode(8)\n",
        "root.left.left.left = TreeNode()\n",
        "root.left.left.right = TreeNode()\n",
        "root.left.right.left = TreeNode(7)\n",
        "root.left.right.right = TreeNode(4)\n",
        "p = 5\n",
        "q = 1\n",
        "b = Solution()\n",
        "print(b.lowestCommonAncestor(root,p,q))\n"
      ],
      "metadata": {
        "colab": {
          "base_uri": "https://localhost:8080/"
        },
        "id": "oX59sefZ0qdS",
        "outputId": "5b5316f2-5887-461a-cb3d-67d280939fda"
      },
      "execution_count": null,
      "outputs": [
        {
          "output_type": "stream",
          "name": "stdout",
          "text": [
            "3\n"
          ]
        }
      ]
    },
    {
      "cell_type": "markdown",
      "source": [
        "572 Given the roots of two binary trees root and subRoot, return true if there is a subtree of root with the same structure and node values of subRoot and false otherwise.\n",
        "\n",
        "A subtree of a binary tree tree is a tree that consists of a node in tree and all of this node's descendants. The tree tree could also be considered as a subtree of itself."
      ],
      "metadata": {
        "id": "6V5bsrF2-WeA"
      }
    },
    {
      "cell_type": "code",
      "source": [
        "\n",
        "class TreeNode:\n",
        "    def __init__(self, val=0, left=None, right=None):\n",
        "        self.val = val\n",
        "        self.left = left\n",
        "        self.right = right\n",
        "\n",
        "class Solution:\n",
        "    def isSubtree(self, root, subRoot):\n",
        "        if not root:\n",
        "            return False\n",
        "        if self.isSameTree(root, subRoot):\n",
        "            return True\n",
        "\n",
        "        return self.isSubtree(root.left, subRoot) or self.isSubtree(root.right, subRoot)\n",
        "\n",
        "    def isSameTree(self, p, q):\n",
        "        if not p and not q:\n",
        "            return True\n",
        "        if not p or not q:\n",
        "            return False\n",
        "        if p.val != q.val:\n",
        "            return False\n",
        "\n",
        "        return self.isSameTree(p.left, q.left) and self.isSameTree(p.right, q.right)\n",
        "\n",
        "# Создаем узлы дерева\n",
        "root = TreeNode(3)\n",
        "root.left = TreeNode(4)\n",
        "root.right = TreeNode(5)\n",
        "root.left.left = TreeNode(1)\n",
        "root.left.right = TreeNode(2)\n",
        "root.right.left = None\n",
        "root.right.right = None\n",
        "root.left.left.left = None\n",
        "root.left.left.right = None\n",
        "root.left.right.left = None\n",
        "root.left.right.right = None\n",
        "\n",
        "# Создаем subRoot\n",
        "root1 = TreeNode(4)\n",
        "root1.left = TreeNode(1)\n",
        "root1.right = TreeNode(2)\n",
        "\n",
        "#root = [3,4,5,1,2], subRoot = [4,1,2]\n",
        "b = Solution()\n",
        "print(b.isSubtree(root, root1))"
      ],
      "metadata": {
        "id": "S3Gk8u23-af2",
        "colab": {
          "base_uri": "https://localhost:8080/"
        },
        "outputId": "08c90175-3417-4b89-882c-9b4fb0a3d5d1"
      },
      "execution_count": null,
      "outputs": [
        {
          "output_type": "stream",
          "name": "stdout",
          "text": [
            "True\n"
          ]
        }
      ]
    },
    {
      "cell_type": "markdown",
      "source": [
        "226 Given the root of a binary tree, invert the tree, and return its root."
      ],
      "metadata": {
        "id": "ipCKvC7_uBAV"
      }
    },
    {
      "cell_type": "code",
      "source": [
        "class TreeNode:\n",
        "    def __init__(self, val=0, left=None, right=None):\n",
        "        self.val = val\n",
        "        self.left = left\n",
        "        self.right = right\n",
        "\n",
        "class Solution:\n",
        "  def invertTree(self, node):\n",
        "    if not node:\n",
        "      return node\n",
        "    node.left,node.right = self.invertTree(node.right),self.invertTree(node.left)\n",
        "    return node\n",
        "\n",
        "\n",
        "# Создаем узлы дерева\n",
        "root = TreeNode(3)\n",
        "root.left = TreeNode(4)\n",
        "root.right = TreeNode(5)\n",
        "root.left.left = TreeNode(1)\n",
        "root.left.right = TreeNode(2)\n",
        "root.right.left = None\n",
        "root.right.right = None\n",
        "root.left.left.left = None\n",
        "root.left.left.right = None\n",
        "root.left.right.left = None\n",
        "root.left.right.right = None\n",
        "\n",
        "\n",
        "b = Solution()\n",
        "print(b.invertTree(root))"
      ],
      "metadata": {
        "colab": {
          "base_uri": "https://localhost:8080/"
        },
        "id": "lWTNG-piuEZk",
        "outputId": "8d238aeb-52eb-405f-ef84-48a3de3ce655"
      },
      "execution_count": null,
      "outputs": [
        {
          "output_type": "stream",
          "name": "stdout",
          "text": [
            "<__main__.TreeNode object at 0x7c2a9cb66050>\n"
          ]
        }
      ]
    },
    {
      "cell_type": "markdown",
      "source": [
        "252 Given an array of meeting time intervals where intervals[i] = [starti, endi], determine if a person could attend all meetings."
      ],
      "metadata": {
        "id": "vIDw9USdDpbr"
      }
    },
    {
      "cell_type": "code",
      "source": [
        "def CantAttentMetting(intervals):\n",
        "  #сортируем по первому значению(дате старта)\n",
        "   intervals.sort(key=lambda x: x[0])\n",
        "   #проходимся по интервалам\n",
        "   for i in range(len(intervals) - 1):\n",
        "    #если время окончания ([i][1]) больше чем следующая дата начала тогда False иначе tRUE\n",
        "    if intervals[i][1] > intervals[i + 1][0]:\n",
        "     return False\n",
        "    return True\n",
        "\n",
        "\n",
        "#false\n",
        "intervals = [[0,30],[5,10],[15,20]]\n",
        "#true\n",
        "intervals1 = [[7,10],[2,4]]\n",
        "\n",
        "CantAttentMetting(intervals1)"
      ],
      "metadata": {
        "colab": {
          "base_uri": "https://localhost:8080/"
        },
        "id": "RszCi6AcDcGY",
        "outputId": "f281267a-6d56-4f63-cd7d-8e9a1c87426c"
      },
      "execution_count": null,
      "outputs": [
        {
          "output_type": "execute_result",
          "data": {
            "text/plain": [
              "True"
            ]
          },
          "metadata": {},
          "execution_count": 30
        }
      ]
    },
    {
      "cell_type": "markdown",
      "source": [
        "Given an integer array nums sorted in non-decreasing order, return an array of the squares of each number sorted in non-decreasing order."
      ],
      "metadata": {
        "id": "GiLrJQqMPrDj"
      }
    },
    {
      "cell_type": "code",
      "source": [
        "def sortedSquares(nums):\n",
        "  #заводим 2 указателя левый и правый и перебираем массив с конца\n",
        "  #если квадрат левого больше правого то добавляем в резалт квадртал левого иначе наоборот\n",
        "  n=len(nums)\n",
        "  left = 0\n",
        "  right =n-1\n",
        "  result=[0 for _ in range(n)]\n",
        "\n",
        "  for i in range(n-1,-1,-1):\n",
        "    if nums[left]**2 > nums[right]**2:\n",
        "      result[i] = nums[left]**2\n",
        "      left+=1\n",
        "    else:\n",
        "      result[i]=nums[right]**2\n",
        "      right-=1\n",
        "  return result\n",
        "\n",
        "\n",
        "\n",
        "#Output: [0,1,9,16,100]\n",
        "nums = [-4,-1,0,3,10]\n",
        "nums1 = [-7,-3,2,3,11]\n",
        "sortedSquares(nums)"
      ],
      "metadata": {
        "colab": {
          "base_uri": "https://localhost:8080/"
        },
        "id": "XVdUXTvpPsmz",
        "outputId": "92f1c107-fcf4-4b4c-c293-1b4e3fc97f32"
      },
      "execution_count": null,
      "outputs": [
        {
          "output_type": "execute_result",
          "data": {
            "text/plain": [
              "[0, 1, 9, 16, 100]"
            ]
          },
          "metadata": {},
          "execution_count": 17
        }
      ]
    },
    {
      "cell_type": "markdown",
      "source": [
        "844 Given two strings s and t, return true if they are equal when both are typed into empty text editors. '#' means a backspace character.\n",
        "\n",
        "Note that after backspacing an empty text, the text will continue empty."
      ],
      "metadata": {
        "id": "QYNnwQAqbEe3"
      }
    },
    {
      "cell_type": "code",
      "source": [
        "class Solution:\n",
        "  def get_curr_index(self,s,i):\n",
        "    to_skip=0\n",
        "    while i>=0:\n",
        "      if s[i]=='#':\n",
        "        to_skip+=1\n",
        "      elif to_skip>0:\n",
        "        to_skip-=1\n",
        "      else:\n",
        "        break\n",
        "      i-=1\n",
        "    return i\n",
        "\n",
        "  def backspaceCompare(self, s,t):\n",
        "    i=len(s)-1\n",
        "    j=len(t)-1\n",
        "    while i >=0 or j >=0:\n",
        "      i= self.get_curr_index(s,i)\n",
        "      j = self.get_curr_index(t,j)\n",
        "\n",
        "      if i<0 and j<0:\n",
        "        return True\n",
        "\n",
        "      if i<0 or j<0:\n",
        "        return False\n",
        "\n",
        "      if s[i] != t[j]:\n",
        "        return False\n",
        "\n",
        "      i-=1\n",
        "      j-=1\n",
        "\n",
        "    return True\n",
        "\n",
        "\n",
        "#True\n",
        "s = \"ab#c\"\n",
        "t = \"ad#c\"\n",
        "#False\n",
        "s1 = \"a#c\"\n",
        "t1 = \"b\"\n",
        "\n",
        "b= Solution()\n",
        "b.backspaceCompare(s1,t1)"
      ],
      "metadata": {
        "colab": {
          "base_uri": "https://localhost:8080/"
        },
        "id": "vcum7JEQbZyx",
        "outputId": "f1240924-486c-4337-cd4a-27b097bfb7bb"
      },
      "execution_count": null,
      "outputs": [
        {
          "output_type": "execute_result",
          "data": {
            "text/plain": [
              "False"
            ]
          },
          "metadata": {},
          "execution_count": 22
        }
      ]
    },
    {
      "cell_type": "markdown",
      "source": [
        "54 Given an m x n matrix, return all elements of the matrix in spiral order."
      ],
      "metadata": {
        "id": "LfocnCouNxmY"
      }
    },
    {
      "cell_type": "code",
      "source": [
        "def spiralOrder(matrix):\n",
        "  result = []\n",
        "\n",
        "  #верхняя граница\n",
        "  top = 0\n",
        "  #нижняя граница\n",
        "  botton=len(matrix)-1\n",
        "  #левая граница\n",
        "  left=0\n",
        "  #правая граница\n",
        "  right=len(matrix[0])-1\n",
        "\n",
        "  direction=0\n",
        "  while top <=botton and left<=right:\n",
        "    if direction==0:\n",
        "      #проходимся по матрице с лева на право\n",
        "      for i in range(left,right+1):\n",
        "        #print(matrix[top][i])\n",
        "        result.append(matrix[top][i])\n",
        "\n",
        "      top+=1\n",
        "      direction=1\n",
        "    elif direction==1:\n",
        "      #проходимся по матрице сверху вниз\n",
        "      for i in range(top,botton+1):\n",
        "        #print(matrix[i][right])\n",
        "        result.append(matrix[i][right])\n",
        "\n",
        "      right-=1\n",
        "      direction=2\n",
        "    elif direction==2:\n",
        "      #проходимся по матрице с права на лево\n",
        "      for i in range(right,left-1,-1):\n",
        "        #print(matrix[botton][i])\n",
        "        result.append(matrix[botton][i])\n",
        "\n",
        "      botton-=1\n",
        "      direction=3\n",
        "    elif direction==3:\n",
        "      #проходимся по матрице снизу вверх\n",
        "      for i in range(botton,top-1,-1):\n",
        "        #print(matrix[i][left])\n",
        "        result.append(matrix[i][left])\n",
        "\n",
        "      left+=1\n",
        "      direction=0\n",
        "\n",
        "  return result\n",
        "\n",
        "\n",
        "\n",
        "#[1,2,3,6,9,8,7,4,5]\n",
        "matrix = [[1,2,3],[4,5,6],[7,8,9]]\n",
        "#[1,2,3,4,8,12,11,10,9,5,6,7]\n",
        "matrix1 = [[1,2,3,4],[5,6,7,8],[9,10,11,12]]\n",
        "\n",
        "spiralOrder(matrix1)"
      ],
      "metadata": {
        "colab": {
          "base_uri": "https://localhost:8080/"
        },
        "id": "0qJhqEYyN1Bz",
        "outputId": "324fa578-63c2-4705-b730-647dacd636bc"
      },
      "execution_count": null,
      "outputs": [
        {
          "output_type": "execute_result",
          "data": {
            "text/plain": [
              "[1, 2, 3, 4, 8, 12, 11, 10, 9, 5, 6, 7]"
            ]
          },
          "metadata": {},
          "execution_count": 17
        }
      ]
    },
    {
      "cell_type": "markdown",
      "source": [
        "79 Given an m x n grid of characters board and a string word, return true if word exists in the grid.\n",
        "\n",
        "The word can be constructed from letters of sequentially adjacent cells, where adjacent cells are horizontally or vertically neighboring. The same letter cell may not be used more than once."
      ],
      "metadata": {
        "id": "1hPuZFr66PL5"
      }
    },
    {
      "cell_type": "code",
      "source": [
        "class Solution:\n",
        "  def exist(self,board, word):\n",
        "    for i in range(len(board)):\n",
        "      for j in range(len(board[0])):\n",
        "        if board[i][j]==word[0] and self.traverse(board,i,j,word):\n",
        "          return True\n",
        "    return False\n",
        "\n",
        "  def traverse(self,board,i,j,word):\n",
        "    if len(word)==0:\n",
        "      return True\n",
        "\n",
        "    if i <0 or i >= len(board) or j<0 or j >= len(board[0]) or board[i][j] !=word[0]:\n",
        "      return False\n",
        "\n",
        "    matchs=False\n",
        "\n",
        "    original_value = board[i][j]\n",
        "    board[i][j] = '-'\n",
        "\n",
        "    matchs = self.traverse(board,i+1,j,word[1:]) or self.traverse(board,i-1,j,word[1:]) or self.traverse(board,i,j+1,word[1:]) or self.traverse(board,i,j-1,word[1:])\n",
        "\n",
        "    board[i][j] = original_value\n",
        "\n",
        "\n",
        "    return matchs\n",
        "\n",
        "board = [[\"A\",\"B\",\"C\",\"E\"],[\"S\",\"F\",\"C\",\"S\"],[\"A\",\"D\",\"E\",\"E\"]]\n",
        "word = \"ABCCED\"\n",
        "\n",
        "board1 = [[\"A\",\"B\",\"C\",\"E\"],[\"S\",\"F\",\"C\",\"S\"],[\"A\",\"D\",\"E\",\"E\"]]\n",
        "word1 = \"ABCB\"\n",
        "\n",
        "\n",
        "b=Solution()\n",
        "b.exist(board1,word1)"
      ],
      "metadata": {
        "colab": {
          "base_uri": "https://localhost:8080/"
        },
        "id": "XLdIpG7g6XJ7",
        "outputId": "3c4cc230-ed95-4bb9-e45e-a29c8c21b7f1"
      },
      "execution_count": null,
      "outputs": [
        {
          "output_type": "execute_result",
          "data": {
            "text/plain": [
              "False"
            ]
          },
          "metadata": {},
          "execution_count": 28
        }
      ]
    },
    {
      "cell_type": "markdown",
      "source": [
        "9 Given an integer x, return true if x is a\n",
        "palindrome , and false otherwise."
      ],
      "metadata": {
        "id": "Z26OVk-nNFJC"
      }
    },
    {
      "cell_type": "code",
      "source": [
        "def isPalindrome(x):\n",
        "  origin=x\n",
        "  new=0\n",
        "  while x:\n",
        "    x,d =divmod(x,10)\n",
        "    new = new*10+d\n",
        "\n",
        "  return new==origin\n",
        "\n",
        "#True\n",
        "x = 376\n",
        "#False\n",
        "x1 = -121\n",
        "isPalindrome(x)"
      ],
      "metadata": {
        "colab": {
          "base_uri": "https://localhost:8080/"
        },
        "id": "ppVlNszqNNoo",
        "outputId": "52ff44ac-eb8c-419f-e623-177219317927"
      },
      "execution_count": null,
      "outputs": [
        {
          "output_type": "execute_result",
          "data": {
            "text/plain": [
              "False"
            ]
          },
          "metadata": {},
          "execution_count": 21
        }
      ]
    },
    {
      "cell_type": "markdown",
      "source": [
        "338 Given an integer n, return an array ans of length n + 1 such that for each i (0 <= i <= n), ans[i] is the number of 1's in the binary representation of i."
      ],
      "metadata": {
        "id": "1y7F6XvA5r6X"
      }
    },
    {
      "cell_type": "code",
      "source": [
        "def countBits(n):\n",
        "  ans=[0]\n",
        "  for i in range(1,n+1):\n",
        "    cur=0\n",
        "    while i:\n",
        "      #сравнении двух бит  & выдает 1 (то есть бит будет скопирован), если бит есть в обоих сравниваемых операндах, и 0, если это условие не выполняется\n",
        "      cur +=i & 1\n",
        "      # >>Returns x with the bits shifted to the right by y places. This is the same as //'ing x by 2**y.\n",
        "      i >>=1\n",
        "\n",
        "    ans.append(cur)\n",
        "\n",
        "    return ans\n",
        "#def countBits2(n):\n",
        "#  ans=[0]\n",
        "#  for i in range(1,n+1):\n",
        "#    ans.append(ans[i>>1] + i%2)\n",
        "\n",
        "#  return ans\n",
        "\n",
        "\n",
        "\n",
        "\n",
        "n = 2\n",
        "n1 = 5\n",
        "\n",
        "countBits(n)"
      ],
      "metadata": {
        "colab": {
          "base_uri": "https://localhost:8080/"
        },
        "id": "zfgv9z7Y5qms",
        "outputId": "7882cdb2-6241-4628-d832-74c3256c64ca"
      },
      "execution_count": null,
      "outputs": [
        {
          "output_type": "execute_result",
          "data": {
            "text/plain": [
              "[0, 1]"
            ]
          },
          "metadata": {},
          "execution_count": 41
        }
      ]
    },
    {
      "cell_type": "markdown",
      "source": [
        "367 Given a positive integer num, return true if num is a perfect square or false otherwise.\n",
        "\n",
        "A perfect square is an integer that is the square of an integer. In other words, it is the product of some integer with itself.\n",
        "\n",
        "You must not use any built-in library function, such as sqrt."
      ],
      "metadata": {
        "id": "vvtpNZ_cQkeH"
      }
    },
    {
      "cell_type": "code",
      "source": [
        "def isPerfectSquare(num):\n",
        "  if num==1:\n",
        "    return True\n",
        "  left=0\n",
        "  right=num\n",
        "\n",
        "  while left<=right:\n",
        "    middle = left+(right-left)//2\n",
        "    if middle**2 == num:\n",
        "      return True\n",
        "    if middle**2 > num:\n",
        "      right=middle-1\n",
        "    else:\n",
        "      left=middle+1\n",
        "\n",
        "\n",
        "  return False\n",
        "\n",
        "\n",
        "#True\n",
        "num = 16\n",
        "#False\n",
        "isPerfectSquare(num)"
      ],
      "metadata": {
        "colab": {
          "base_uri": "https://localhost:8080/"
        },
        "id": "TbTMwYv7RdW4",
        "outputId": "7570e393-9853-4bad-f433-a3a8878b9996"
      },
      "execution_count": null,
      "outputs": [
        {
          "output_type": "execute_result",
          "data": {
            "text/plain": [
              "True"
            ]
          },
          "metadata": {},
          "execution_count": 13
        }
      ]
    },
    {
      "cell_type": "markdown",
      "source": [
        "258 Given an integer num, repeatedly add all its digits until the result has only one digit, and return it."
      ],
      "metadata": {
        "id": "is_aOKXMfvKZ"
      }
    },
    {
      "cell_type": "code",
      "source": [
        "def addDigits(num):\n",
        "\n",
        "  while num>=10:\n",
        "    cur=num\n",
        "    new=0\n",
        "    while cur:\n",
        "      cur,d =divmod(cur,10)\n",
        "      new = new+d\n",
        "    num = new\n",
        "\n",
        "  return num\n",
        "\n",
        "x = 38\n",
        "addDigits(x)"
      ],
      "metadata": {
        "colab": {
          "base_uri": "https://localhost:8080/"
        },
        "id": "fv4j6a0Xf0NW",
        "outputId": "6b220e2c-fc15-4ceb-cbc0-9b36dfb350e9"
      },
      "execution_count": null,
      "outputs": [
        {
          "output_type": "execute_result",
          "data": {
            "text/plain": [
              "2"
            ]
          },
          "metadata": {},
          "execution_count": 37
        }
      ]
    },
    {
      "cell_type": "markdown",
      "source": [
        "551 You are given a string s representing an attendance record for a student where each character signifies whether the student was absent, late, or present on that day. The record only contains the following three characters:\n",
        "\n",
        "    'A': Absent.\n",
        "    'L': Late.\n",
        "    'P': Present.\n",
        "\n",
        "The student is eligible for an attendance award if they meet both of the following criteria:\n",
        "\n",
        "    The student was absent ('A') for strictly fewer than 2 days total.\n",
        "    The student was never late ('L') for 3 or more consecutive days.\n",
        "\n",
        "Return true if the student is eligible for an attendance award, or false otherwise."
      ],
      "metadata": {
        "id": "1lIh_PM8sKqG"
      }
    },
    {
      "cell_type": "code",
      "source": [
        "def checkRecord(s):\n",
        "  l_cnt=0\n",
        "  a_cnt=0\n",
        "  for char in s:\n",
        "\n",
        "    if char == 'A':\n",
        "      a_cnt+=1\n",
        "      if a_cnt == 2:\n",
        "        return False\n",
        "\n",
        "\n",
        "    if char == 'L':\n",
        "      l_cnt+=1\n",
        "      if l_cnt > 2:\n",
        "        return False\n",
        "\n",
        "    else:\n",
        "      l_cnt=0\n",
        "\n",
        "  return True\n",
        "\n",
        "\n",
        "#true\n",
        "#s = \"PPALLP\"\n",
        "#false\n",
        "s1 = \"PPALLL\"\n",
        "checkRecord(s1)"
      ],
      "metadata": {
        "colab": {
          "base_uri": "https://localhost:8080/"
        },
        "id": "9YeRBskesQiZ",
        "outputId": "f6fea47a-1e4f-48a7-db87-a29dcda1f877"
      },
      "execution_count": null,
      "outputs": [
        {
          "output_type": "execute_result",
          "data": {
            "text/plain": [
              "False"
            ]
          },
          "metadata": {},
          "execution_count": 52
        }
      ]
    },
    {
      "cell_type": "markdown",
      "source": [],
      "metadata": {
        "id": "DlnACxQCyAl7"
      }
    },
    {
      "cell_type": "code",
      "source": [
        "class TreeNode:\n",
        "    def __init__(self, val=0, left=None, right=None):\n",
        "        self.val = val\n",
        "        self.left = left\n",
        "        self.right = right\n",
        "\n",
        "class Solution:\n",
        "    def postorderTraversal(self, root):\n",
        "      ans=[]\n",
        "      def helper(node):\n",
        "        if node:\n",
        "          helper(node.left)\n",
        "          helper(node.right)\n",
        "          ans.append(node.val)\n",
        "\n",
        "      helper(root)\n",
        "      return ans\n",
        "# Создаем узлы дерева\n",
        "root = TreeNode(1)\n",
        "root.left = TreeNode()\n",
        "root.right = TreeNode(2)\n",
        "root.left.left = TreeNode(3)\n",
        "\n",
        "\n",
        "#root = [1,null,2,3]\n",
        "b = Solution()\n",
        "print(b.postorderTraversal(root))\n"
      ],
      "metadata": {
        "colab": {
          "base_uri": "https://localhost:8080/"
        },
        "id": "GaGEO57EyBIV",
        "outputId": "7dc685f6-9a6d-4f45-d7da-d8c5692b42e1"
      },
      "execution_count": null,
      "outputs": [
        {
          "output_type": "stream",
          "name": "stdout",
          "text": [
            "[3, 0, 2, 1]\n"
          ]
        }
      ]
    },
    {
      "cell_type": "markdown",
      "source": [
        "392 Given two strings s and t, return true if s is a subsequence of t, or false otherwise.\n",
        "\n",
        "A subsequence of a string is a new string that is formed from the original string by deleting some (can be none) of the characters without disturbing the relative positions of the remaining characters. (i.e., \"ace\" is a subsequence of \"abcde\" while \"aec\" is not)."
      ],
      "metadata": {
        "id": "sfH9xbqv_7C1"
      }
    },
    {
      "cell_type": "code",
      "source": [
        "def isSubsequence(s,t):\n",
        "  stack=list(s)[::-1]\n",
        "  for c in t:\n",
        "    if stack and stack[-1] == c:\n",
        "      stack.pop()\n",
        "\n",
        "  return len(stack)==0\n",
        "#true\n",
        "s = \"abc\"\n",
        "t = \"ahbgdc\"\n",
        "#false\n",
        "s1 = \"axc\"\n",
        "t1 = \"ahbgdc\"\n",
        "isSubsequence(s1,t1)"
      ],
      "metadata": {
        "colab": {
          "base_uri": "https://localhost:8080/"
        },
        "id": "I10G2r4RAUut",
        "outputId": "a578b8ae-262f-470f-86dd-73e1a0ffcd2c"
      },
      "execution_count": null,
      "outputs": [
        {
          "output_type": "execute_result",
          "data": {
            "text/plain": [
              "False"
            ]
          },
          "metadata": {},
          "execution_count": 66
        }
      ]
    },
    {
      "cell_type": "markdown",
      "source": [
        "101 Given the root of a binary tree, check whether it is a mirror of itself (i.e., symmetric around its center)."
      ],
      "metadata": {
        "id": "O9VpTn-YRdvq"
      }
    },
    {
      "cell_type": "code",
      "source": [
        "from collections import deque\n",
        "\n",
        "class TreeNode:\n",
        "    def __init__(self, val=0, left=None, right=None):\n",
        "        self.val = val\n",
        "        self.left = left\n",
        "        self.right = right\n",
        "\n",
        "class Solution:\n",
        "    def isSymmetric(self, root):\n",
        "        q = deque([root])\n",
        "        levels = []\n",
        "        while q:\n",
        "            level = []\n",
        "            for _ in range(len(q)):\n",
        "                cur = q.popleft()\n",
        "                level.append(cur.val if cur else None)\n",
        "                if cur:\n",
        "                    q.append(cur.left)\n",
        "                    q.append(cur.right)\n",
        "\n",
        "            if len(level) > 1:\n",
        "                n = len(level)\n",
        "                fh, sh = level[:n//2], level[-(n//2):][::-1]\n",
        "                if fh != sh:\n",
        "                    return False\n",
        "\n",
        "        return True\n",
        "\n",
        "# Создаем узлы дерева\n",
        "root = TreeNode(1)\n",
        "root.left = TreeNode(2)\n",
        "root.right = TreeNode(2)\n",
        "root.left.left = TreeNode(3)\n",
        "root.left.right = TreeNode(4)\n",
        "root.right.left = TreeNode(4)\n",
        "root.right.right = TreeNode(3)\n",
        "\n",
        "b = Solution()\n",
        "print(b.isSymmetric(root))"
      ],
      "metadata": {
        "id": "vl0G1Ssoknl5",
        "outputId": "00f4e9b8-0283-4528-91ed-71779679bb26",
        "colab": {
          "base_uri": "https://localhost:8080/"
        }
      },
      "execution_count": null,
      "outputs": [
        {
          "output_type": "stream",
          "name": "stdout",
          "text": [
            "True\n"
          ]
        }
      ]
    },
    {
      "cell_type": "code",
      "source": [],
      "metadata": {
        "id": "L6fZ6FWBbYr8"
      },
      "execution_count": null,
      "outputs": []
    },
    {
      "cell_type": "markdown",
      "source": [
        "66 You are given a large integer represented as an integer array digits, where each digits[i] is the ith digit of the integer. The digits are ordered from most significant to least significant in left-to-right order. The large integer does not contain any leading 0's.\n",
        "\n",
        "Increment the large integer by one and return the resulting array of digits."
      ],
      "metadata": {
        "id": "9QeYq9m1bVRn"
      }
    },
    {
      "cell_type": "code",
      "source": [
        "def plusOne(digit):\n",
        "  carry=1\n",
        "  for i in range(len(digit)-1,-1,-1):\n",
        "    carry,digit[i] = divmod(digit[i]+carry,10)\n",
        "\n",
        "  return digit if not carry else [carry]+digit\n",
        "\n",
        "\n",
        "\n",
        "\n",
        "#[1,2,4]\n",
        "digits = [1,2,3]\n",
        "plusOne(digits)"
      ],
      "metadata": {
        "colab": {
          "base_uri": "https://localhost:8080/"
        },
        "id": "a9fHX6UibZYH",
        "outputId": "d179fbad-f06e-456c-b729-fd22ed632b2d"
      },
      "execution_count": null,
      "outputs": [
        {
          "output_type": "execute_result",
          "data": {
            "text/plain": [
              "[1, 2, 4]"
            ]
          },
          "metadata": {},
          "execution_count": 11
        }
      ]
    },
    {
      "cell_type": "markdown",
      "source": [
        "1346 Given an array arr of integers, check if there exist two indices i and j such that :\n",
        "\n",
        "    i != j\n",
        "    0 <= i, j < arr.length\n",
        "    arr[i] == 2 * arr[j]\n"
      ],
      "metadata": {
        "id": "VR8DafZw4ej9"
      }
    },
    {
      "cell_type": "code",
      "source": [
        "def checkIfExist(arr):\n",
        "  seem=set()\n",
        "  for num in arr:\n",
        "    if num*2 in seem  or num//2 in seem:\n",
        "      return True\n",
        "    seem.add(num)\n",
        "  return False\n",
        "\n",
        "\n",
        "arr = [10,2,5,3]\n",
        "checkIfExist(arr)"
      ],
      "metadata": {
        "colab": {
          "base_uri": "https://localhost:8080/"
        },
        "id": "d-HIYGZ84kQ7",
        "outputId": "c5aa3b92-d666-4b8c-b107-9686569464d2"
      },
      "execution_count": null,
      "outputs": [
        {
          "output_type": "execute_result",
          "data": {
            "text/plain": [
              "True"
            ]
          },
          "metadata": {},
          "execution_count": 16
        }
      ]
    },
    {
      "cell_type": "markdown",
      "source": [
        "1137 The Tribonacci sequence Tn is defined as follows:\n",
        "\n",
        "T0 = 0, T1 = 1, T2 = 1, and Tn+3 = Tn + Tn+1 + Tn+2 for n >= 0.\n",
        "\n",
        "Given n, return the value of Tn."
      ],
      "metadata": {
        "id": "66gD1zfeaHeZ"
      }
    },
    {
      "cell_type": "code",
      "source": [
        "def tribonacci(n):\n",
        "  dp = [0,1,1]\n",
        "  if n<3:\n",
        "    return dp[n]\n",
        "  for i in range(3,n+1):\n",
        "    dp.append(dp[i-3]+dp[i-2]+dp[i-1])\n",
        "\n",
        "  return dp[-1]\n",
        "#1389537\n",
        "n = 25\n",
        "tribonacci(n)"
      ],
      "metadata": {
        "colab": {
          "base_uri": "https://localhost:8080/"
        },
        "id": "OaPEioYmaSZF",
        "outputId": "d05d540d-e88b-4c03-bfa1-5cd23937b741"
      },
      "execution_count": null,
      "outputs": [
        {
          "output_type": "execute_result",
          "data": {
            "text/plain": [
              "1389537"
            ]
          },
          "metadata": {},
          "execution_count": 1
        }
      ]
    },
    {
      "cell_type": "markdown",
      "source": [
        "125 A phrase is a palindrome if, after converting all uppercase letters into lowercase letters and removing all non-alphanumeric characters, it reads the same forward and backward. Alphanumeric characters include letters and numbers.\n",
        "\n",
        "Given a string s, return true if it is a palindrome, or false otherwise."
      ],
      "metadata": {
        "id": "yDwQrL0T1qxT"
      }
    },
    {
      "cell_type": "code",
      "source": [
        "def isPalindrome(s):\n",
        "  l,r =0,len(s)-1\n",
        "  while l<=r:\n",
        "    if not s[l].isalnum():\n",
        "      l+=1\n",
        "      continue\n",
        "\n",
        "    if not s[r].isalnum():\n",
        "      r-=1\n",
        "      continue\n",
        "\n",
        "    if s[l].lower() != s[r].lower():\n",
        "      return False\n",
        "    l+=1\n",
        "    r-=1\n",
        "  return True\n",
        "\n",
        "\n",
        "#false\n",
        "s1 = \"race a car\"\n",
        "#true\n",
        "s = \"A man, a plan, a canal: Panama\"\n",
        "\n",
        "isPalindrome(s)"
      ],
      "metadata": {
        "colab": {
          "base_uri": "https://localhost:8080/"
        },
        "id": "_57UGhv31rF3",
        "outputId": "becb9cc2-cac2-4f2b-a6f8-59ab607d9dc2"
      },
      "execution_count": null,
      "outputs": [
        {
          "output_type": "execute_result",
          "data": {
            "text/plain": [
              "True"
            ]
          },
          "metadata": {},
          "execution_count": 5
        }
      ]
    },
    {
      "cell_type": "markdown",
      "source": [
        "344 Write a function that reverses a string. The input string is given as an array of characters s.\n",
        "\n",
        "You must do this by modifying the input array in-place with O(1) extra memory."
      ],
      "metadata": {
        "id": "pIq6Mq3WLlIY"
      }
    },
    {
      "cell_type": "code",
      "source": [
        "def reverseString(s):\n",
        "  l,r =0,len(s)-1\n",
        "  while l<=r:\n",
        "    s[l],s[r] = s[r],s[l]\n",
        "    l+=1\n",
        "    r-=1\n",
        "  return s\n",
        "\n",
        "#2 s[::-1]\n",
        "\n",
        "#[\"o\",\"l\",\"l\",\"e\",\"h\"]\n",
        "s = [\"h\",\"e\",\"l\",\"l\",\"o\"]\n",
        "reverseString(s)\n"
      ],
      "metadata": {
        "colab": {
          "base_uri": "https://localhost:8080/"
        },
        "id": "aQB2Hp4m1rH0",
        "outputId": "a1292bb4-2220-4196-850a-5665adba99e8"
      },
      "execution_count": null,
      "outputs": [
        {
          "output_type": "execute_result",
          "data": {
            "text/plain": [
              "['o', 'l', 'l', 'e', 'h']"
            ]
          },
          "metadata": {},
          "execution_count": 9
        }
      ]
    },
    {
      "cell_type": "markdown",
      "source": [
        "69 Given a non-negative integer x, return the square root of x rounded down to the nearest integer. The returned integer should be non-negative as well.\n",
        "\n",
        "You must not use any built-in exponent function or operator.\n",
        "\n",
        "\n"
      ],
      "metadata": {
        "id": "S99EAx-SNinl"
      }
    },
    {
      "cell_type": "code",
      "source": [
        "def mySqrt(x):\n",
        "  if x<2:\n",
        "    return x\n",
        "  l,r =1, x//2\n",
        "  while l <= r:\n",
        "    mid = (l+r)//2\n",
        "    sqr = mid*mid\n",
        "\n",
        "    if sqr == x:\n",
        "      return mid\n",
        "    if sqr > x:\n",
        "      r=mid-1\n",
        "    else:\n",
        "      l=mid+1\n",
        "  return r\n",
        "\n",
        "#The square root of 4 is 2, so we return 2.\n",
        "x = 4\n",
        "mySqrt(x)"
      ],
      "metadata": {
        "id": "TCPGSxDhNq_s",
        "colab": {
          "base_uri": "https://localhost:8080/"
        },
        "outputId": "da5a99af-1518-4f86-8d9a-caadb79e031d"
      },
      "execution_count": null,
      "outputs": [
        {
          "output_type": "execute_result",
          "data": {
            "text/plain": [
              "2"
            ]
          },
          "metadata": {},
          "execution_count": 19
        }
      ]
    },
    {
      "cell_type": "markdown",
      "source": [
        "1295 Given an array nums of integers, return how many of them contain an even number of digits."
      ],
      "metadata": {
        "id": "XJw_L4ObpBqB"
      }
    },
    {
      "cell_type": "code",
      "source": [
        "def findNumbers(nums):\n",
        "  #функция для подсчета количества чисел в числе\n",
        "  def d_num(num):\n",
        "    ret=0\n",
        "    while num:\n",
        "      #пока есть число делим на 10 и добавляем+1 и так узнаем кол во чисел\n",
        "      num //=10\n",
        "      ret+=1\n",
        "\n",
        "    return ret\n",
        "\n",
        "  ans=0\n",
        "  for num in nums:\n",
        "    # % 2 остаток от деления для проверки четности или не четности\n",
        "    ans+= 0 if d_num(num)%2 else 1\n",
        "\n",
        "  return ans\n",
        "\n",
        "\n",
        "#2\n",
        "nums = [12,345,2,6,7896]\n",
        "findNumbers(nums)"
      ],
      "metadata": {
        "colab": {
          "base_uri": "https://localhost:8080/"
        },
        "id": "p1ShsTFApIgU",
        "outputId": "012ef88e-0aa9-40a3-dd93-6c20393b6ac4"
      },
      "execution_count": null,
      "outputs": [
        {
          "output_type": "execute_result",
          "data": {
            "text/plain": [
              "2"
            ]
          },
          "metadata": {},
          "execution_count": 30
        }
      ]
    },
    {
      "cell_type": "markdown",
      "source": [
        "389 You are given two strings s and t.\n",
        "\n",
        "String t is generated by random shuffling string s and then add one more letter at a random position.\n",
        "\n",
        "Return the letter that was added to t."
      ],
      "metadata": {
        "id": "mnDiASHOWtz0"
      }
    },
    {
      "cell_type": "code",
      "source": [
        "from typing_extensions import Counter\n",
        "def findTheDifference(s,t):\n",
        "  return list((Counter(t) - Counter(s)).elements())[0]\n",
        "\n",
        "\n",
        "\n",
        "\n",
        "s = \"abcd\"\n",
        "t = \"abcde\"\n",
        "findTheDifference(s,t)"
      ],
      "metadata": {
        "colab": {
          "base_uri": "https://localhost:8080/",
          "height": 35
        },
        "id": "lb3v5P1vXE6P",
        "outputId": "ce196bdc-1db8-429d-ca2a-167ad7d8e693"
      },
      "execution_count": null,
      "outputs": [
        {
          "output_type": "execute_result",
          "data": {
            "text/plain": [
              "'e'"
            ],
            "application/vnd.google.colaboratory.intrinsic+json": {
              "type": "string"
            }
          },
          "metadata": {},
          "execution_count": 5
        }
      ]
    },
    {
      "cell_type": "markdown",
      "source": [
        "1047 You are given a string s consisting of lowercase English letters. A duplicate removal consists of choosing two adjacent and equal letters and removing them.\n",
        "\n",
        "We repeatedly make duplicate removals on s until we no longer can.\n",
        "\n",
        "Return the final string after all such duplicate removals have been made. It can be proven that the answer is unique."
      ],
      "metadata": {
        "id": "e8pGgRwos6eD"
      }
    },
    {
      "cell_type": "code",
      "source": [
        "def removeDuplicates(s):\n",
        "  stack=[]\n",
        "  for c in s:\n",
        "    if stack and stack[-1] == c:\n",
        "      stack.pop()\n",
        "    else:\n",
        "      stack.append(c)\n",
        "  return ''.join(stack)\n",
        "\n",
        "#ca\n",
        "s = \"abbaca\"\n",
        "removeDuplicates(s)"
      ],
      "metadata": {
        "colab": {
          "base_uri": "https://localhost:8080/",
          "height": 35
        },
        "id": "mlQ6VyB5s_MV",
        "outputId": "ebc897f5-4a9c-4316-a9f4-dbb8c887b492"
      },
      "execution_count": null,
      "outputs": [
        {
          "output_type": "execute_result",
          "data": {
            "text/plain": [
              "'ca'"
            ],
            "application/vnd.google.colaboratory.intrinsic+json": {
              "type": "string"
            }
          },
          "metadata": {},
          "execution_count": 6
        }
      ]
    },
    {
      "cell_type": "markdown",
      "source": [
        "557 Given a string s, reverse the order of characters in each word within a sentence while still preserving whitespace and initial word order."
      ],
      "metadata": {
        "id": "hphSV7j75VOa"
      }
    },
    {
      "cell_type": "code",
      "source": [
        "def reverseWords(s):\n",
        "  words= s.split(' ')\n",
        "  for i in range(len(words)):\n",
        "    words[i] = words[i][::-1]\n",
        "\n",
        "  return \" \".join(words)\n",
        "\n",
        "\n",
        "#\"s'teL ekat edoCteeL tsetnoc\"\n",
        "s = \"Let's take LeetCode contest\"\n",
        "reverseWords(s)\n"
      ],
      "metadata": {
        "colab": {
          "base_uri": "https://localhost:8080/",
          "height": 35
        },
        "id": "k25qbPO35YNc",
        "outputId": "9c07f9fe-6cbc-4368-f1a6-4fc9ac1d3d62"
      },
      "execution_count": null,
      "outputs": [
        {
          "output_type": "execute_result",
          "data": {
            "text/plain": [
              "\"s'teL ekat edoCteeL tsetnoc\""
            ],
            "application/vnd.google.colaboratory.intrinsic+json": {
              "type": "string"
            }
          },
          "metadata": {},
          "execution_count": 9
        }
      ]
    },
    {
      "cell_type": "code",
      "source": [
        "s = \"Let's take LeetCode contest\"\n",
        "print(s[::-1])"
      ],
      "metadata": {
        "colab": {
          "base_uri": "https://localhost:8080/"
        },
        "id": "oVd3_YlX6bhr",
        "outputId": "b2e716bb-1654-41c7-a005-e167786e6364"
      },
      "execution_count": null,
      "outputs": [
        {
          "output_type": "stream",
          "name": "stdout",
          "text": [
            "tsetnoc edoCteeL ekat s'teL\n"
          ]
        }
      ]
    },
    {
      "cell_type": "markdown",
      "source": [
        "374 We are playing the Guess Game. The game is as follows:\n",
        "\n",
        "I pick a number from 1 to n. You have to guess which number I picked.\n",
        "\n",
        "Every time you guess wrong, I will tell you whether the number I picked is higher or lower than your guess.\n",
        "\n",
        "You call a pre-defined API int guess(int num), which returns three possible results:\n",
        "\n",
        "    -1: Your guess is higher than the number I picked (i.e. num > pick).\n",
        "    1: Your guess is lower than the number I picked (i.e. num < pick).\n",
        "    0: your guess is equal to the number I picked (i.e. num == pick).\n"
      ],
      "metadata": {
        "id": "n2j7mOFn9ntN"
      }
    },
    {
      "cell_type": "code",
      "source": [
        "def guessNumber(n,pick):\n",
        "  l, r = 1, len(n)\n",
        "  while l <= r:\n",
        "    mid=(l+r)//2\n",
        "    if mid == pick:\n",
        "      return mid\n",
        "    if mid > pick:\n",
        "        r=mid-1\n",
        "    else:\n",
        "       l=mid+1\n",
        "  return l\n",
        "\n",
        "\n",
        "\n",
        "\n",
        "\n",
        "n = [1,3,5,6,7,8,10]\n",
        "pick = 4\n",
        "guessNumber(n,pick)"
      ],
      "metadata": {
        "colab": {
          "base_uri": "https://localhost:8080/"
        },
        "id": "heLkTMoe9rJ0",
        "outputId": "308845f7-87ec-4965-d231-228c9ce05bce"
      },
      "execution_count": null,
      "outputs": [
        {
          "output_type": "execute_result",
          "data": {
            "text/plain": [
              "4"
            ]
          },
          "metadata": {},
          "execution_count": 26
        }
      ]
    },
    {
      "cell_type": "markdown",
      "source": [
        "35 Given a sorted array of distinct integers and a target value, return the index if the target is found. If not, return the index where it would be if it were inserted in order.\n",
        "\n",
        "You must write an algorithm with O(log n) runtime complexity."
      ],
      "metadata": {
        "id": "h4_PK4avUJWW"
      }
    },
    {
      "cell_type": "code",
      "source": [
        "from bisect import bisect_left\n",
        "def searchInsert(nums,target):\n",
        "  return bisect_left(nums,target)\n",
        "\n",
        "#2\n",
        "nums = [1,3,5,6]\n",
        "target = 5\n",
        "#1\n",
        "nums2 = [1,3,5,6]\n",
        "target2 = 2\n",
        "searchInsert(nums,target)"
      ],
      "metadata": {
        "colab": {
          "base_uri": "https://localhost:8080/"
        },
        "id": "uy_fqdfaUnOy",
        "outputId": "3f5289d7-136a-42a0-ec01-cd17a33f7e1e"
      },
      "execution_count": null,
      "outputs": [
        {
          "output_type": "execute_result",
          "data": {
            "text/plain": [
              "2"
            ]
          },
          "metadata": {},
          "execution_count": 29
        }
      ]
    },
    {
      "cell_type": "markdown",
      "source": [
        "342 Given an integer n, return true if it is a power of four. Otherwise, return false.\n",
        "\n",
        "An integer n is a power of four, if there exists an integer x such that n == 4x."
      ],
      "metadata": {
        "id": "rly0BnmreWUi"
      }
    },
    {
      "cell_type": "code",
      "source": [
        "def isPowerOfFour(n):\n",
        "  if n<1:\n",
        "    return False\n",
        "  if n==1:\n",
        "    return True\n",
        "  return isPowerOfFour(n//4)\n",
        "\n",
        "\n",
        "#True\n",
        "n = 16\n",
        "isPowerOfFour(n)"
      ],
      "metadata": {
        "colab": {
          "base_uri": "https://localhost:8080/"
        },
        "id": "iExrj3kbebCX",
        "outputId": "6a053e8d-5127-46f1-fbf9-f83a5b9baf7e"
      },
      "execution_count": null,
      "outputs": [
        {
          "output_type": "execute_result",
          "data": {
            "text/plain": [
              "True"
            ]
          },
          "metadata": {},
          "execution_count": 33
        }
      ]
    },
    {
      "cell_type": "markdown",
      "source": [
        "242 Given two strings s and t, return true if t is an anagram of s, and false otherwise.\n",
        "\n",
        "An Anagram is a word or phrase formed by rearranging the letters of a different word or phrase, typically using all the original letters exactly once."
      ],
      "metadata": {
        "id": "9IymeLAqhLly"
      }
    },
    {
      "cell_type": "code",
      "source": [
        "from typing_extensions import Counter\n",
        "def isAnagram(s,t):\n",
        "  return Counter(s) == Counter(t)\n",
        "\n",
        "\n",
        "s = \"anagram\"\n",
        "t = \"nagaram\"\n",
        "isAnagram(s,t)"
      ],
      "metadata": {
        "colab": {
          "base_uri": "https://localhost:8080/"
        },
        "id": "CWknQZhVhPKS",
        "outputId": "ba37d9aa-d51a-460b-bc07-75d334ce2383"
      },
      "execution_count": null,
      "outputs": [
        {
          "output_type": "execute_result",
          "data": {
            "text/plain": [
              "True"
            ]
          },
          "metadata": {},
          "execution_count": 35
        }
      ]
    },
    {
      "cell_type": "markdown",
      "source": [
        "605 You have a long flowerbed in which some of the plots are planted, and some are not. However, flowers cannot be planted in adjacent plots.\n",
        "\n",
        "Given an integer array flowerbed containing 0's and 1's, where 0 means empty and 1 means not empty, and an integer n, return true if n new flowers can be planted in the flowerbed without violating the no-adjacent-flowers rule and false otherwise."
      ],
      "metadata": {
        "id": "NoZ61kbwOm-u"
      }
    },
    {
      "cell_type": "code",
      "source": [
        "def canPlaceFlowers(flowerbed, n):\n",
        "  place = 0\n",
        "  for i in range(0,len(flowerbed)-2):\n",
        "    if flowerbed[i] ==1 and flowerbed[i+1] ==0 and flowerbed[i+2] == 0:\n",
        "      place+=1\n",
        "    if place !=n:\n",
        "      return False\n",
        "  return True\n",
        "\n",
        "def canPlaceFlowers2(flowerbed, n):\n",
        "  flowerbed = [0] +flowerbed+[0]\n",
        "  for i in range(0,len(flowerbed)-1):\n",
        "    if flowerbed[i-1] == flowerbed[i] == flowerbed[i+1] == 0:\n",
        "      flowerbed[i] = 1\n",
        "      n-=1\n",
        "  return n<=0\n",
        "\n",
        "\n",
        "\n",
        "\n",
        "\n",
        "#true\n",
        "flowerbed1 = [1,0,0,0,1]\n",
        "n1 = 1\n",
        "#false\n",
        "flowerbed = [1,0,0,0,1]\n",
        "n = 2\n",
        "canPlaceFlowers2(flowerbed1, n1)"
      ],
      "metadata": {
        "colab": {
          "base_uri": "https://localhost:8080/"
        },
        "id": "f8VXtELJOqig",
        "outputId": "5908e05c-5bc0-43c1-8211-03a157789ef3"
      },
      "execution_count": null,
      "outputs": [
        {
          "output_type": "execute_result",
          "data": {
            "text/plain": [
              "True"
            ]
          },
          "metadata": {},
          "execution_count": 5
        }
      ]
    },
    {
      "cell_type": "markdown",
      "source": [
        "844 Given two strings s and t, return true if they are equal when both are typed into empty text editors. '#' means a backspace character.\n",
        "\n",
        "Note that after backspacing an empty text, the text will continue empty."
      ],
      "metadata": {
        "id": "VWJuemeJuOzl"
      }
    },
    {
      "cell_type": "code",
      "source": [
        "def backspaceCompare(s,t):\n",
        "  def typing(s):\n",
        "    stack=[]\n",
        "    for c in s:\n",
        "      if c == '#':\n",
        "        if stack:\n",
        "          stack.pop()\n",
        "      else:\n",
        "        stack.append(c)\n",
        "    return \"\".join(stack)\n",
        "\n",
        "  return typing(s) == typing(t)\n",
        "\n",
        "\n",
        "#true\n",
        "s = \"ab#c\"\n",
        "t = \"ad#c\"\n",
        "#false\n",
        "s1 = \"a#c\"\n",
        "t1 = \"b\"\n",
        "backspaceCompare(s1,t1)"
      ],
      "metadata": {
        "colab": {
          "base_uri": "https://localhost:8080/"
        },
        "id": "6kg-GMIpuSxb",
        "outputId": "1fe4a3e5-ef4e-4f9e-92f7-22e217ae4b70"
      },
      "execution_count": null,
      "outputs": [
        {
          "output_type": "execute_result",
          "data": {
            "text/plain": [
              "False"
            ]
          },
          "metadata": {},
          "execution_count": 22
        }
      ]
    },
    {
      "cell_type": "markdown",
      "source": [],
      "metadata": {
        "id": "rSj5GBrocMse"
      }
    },
    {
      "cell_type": "code",
      "source": [
        "from collections import deque\n",
        "\n",
        "class ListNode:\n",
        "  def __init__(self, x):\n",
        "    self.val = x\n",
        "    self.next = None\n",
        "\n",
        "\n",
        "class Solution:\n",
        "     def hasCycle(self, head: Optional[ListNode]) -> bool:\n",
        "      #решение через бфс\n",
        "      if not root:\n",
        "        return 0\n",
        "      depth =1\n",
        "      q = deque([root])\n",
        "      while q:\n",
        "        for _ in range(len(q)):\n",
        "          node = q.popleft()\n",
        "          if not node.left and not node.right:\n",
        "            return depth\n",
        "          elif node.left:\n",
        "            q.append(node.left)\n",
        "          elif node.right:\n",
        "            q.append(node.right)\n",
        "\n",
        "        depth +=1\n",
        "\n",
        "\n",
        "\n",
        "      return depth\n",
        "\n",
        "\n",
        "\n",
        "\n",
        "\n",
        "\n",
        "# Создаем узлы дерева\n",
        "root = TreeNode(2)\n",
        "#root.left = TreeNode(9)\n",
        "#root.right = TreeNode(20)\n",
        "#root.right.left = TreeNode(15)\n",
        "#root.right.right = TreeNode(7)\n",
        "\n",
        "root.right = TreeNode(3)\n",
        "root.right.right = TreeNode(4)\n",
        "root.right.right.right = TreeNode(5)\n",
        "root.right.right.right.right = TreeNode(6)\n",
        "b = Solution()\n",
        "b.minDepth(root)"
      ],
      "metadata": {
        "id": "lmijUNW_cNRX"
      },
      "execution_count": null,
      "outputs": []
    },
    {
      "cell_type": "markdown",
      "source": [
        "461 The Hamming distance between two integers is the number of positions at which the corresponding bits are different.\n",
        "\n",
        "Given two integers x and y, return the Hamming distance between them."
      ],
      "metadata": {
        "id": "dFrS0aY1xksh"
      }
    },
    {
      "cell_type": "code",
      "source": [
        "def hammingDistance(x, y):\n",
        "  ans =0\n",
        "  while x or y:\n",
        "    ans+=(x&1) !=(y&1)\n",
        "    x>>=1\n",
        "    y>>=1\n",
        "  return ans\n",
        "\n",
        "\n",
        "\n",
        "\n",
        "#2\n",
        "x = 1\n",
        "y = 4\n",
        "#1\n",
        "x1=3\n",
        "y1=1\n",
        "hammingDistance(x1, y1)"
      ],
      "metadata": {
        "colab": {
          "base_uri": "https://localhost:8080/"
        },
        "id": "2jhOLUvkxoC9",
        "outputId": "df2517b2-f9c0-40b6-b65e-a796ae20f594"
      },
      "execution_count": null,
      "outputs": [
        {
          "output_type": "execute_result",
          "data": {
            "text/plain": [
              "1"
            ]
          },
          "metadata": {},
          "execution_count": 2
        }
      ]
    },
    {
      "cell_type": "markdown",
      "source": [
        "257 Given the root of a binary tree, return all root-to-leaf paths in any order.\n",
        "\n",
        "A leaf is a node with no children."
      ],
      "metadata": {
        "id": "9I2fwRiu3Udg"
      }
    },
    {
      "cell_type": "code",
      "source": [
        "class TreeNode:\n",
        "    def __init__(self, val=0, left=None, right=None):\n",
        "        self.val = val\n",
        "        self.left = left\n",
        "        self.right = right\n",
        "\n",
        "\n",
        "class Solution:\n",
        "  def binaryTreePaths(self, node):\n",
        "    ans = []\n",
        "    def dfs(node,path):\n",
        "      path += str(node.val) + '->'\n",
        "\n",
        "      if not node.left and not node.right:\n",
        "        ans.append(path[:-2])\n",
        "        return\n",
        "\n",
        "      if node.left:\n",
        "        dfs(node.left,path)\n",
        "      if node.right:\n",
        "        dfs(node.right,path)\n",
        "\n",
        "    dfs(node,'')\n",
        "    return ans\n",
        "\n",
        "\n",
        "\n",
        "\n",
        "\n",
        "# Создаем узлы дерева\n",
        "root = TreeNode(1)\n",
        "root.left = TreeNode(2)\n",
        "root.right = TreeNode(3)\n",
        "root.left.right = TreeNode(5)\n",
        "\n",
        "#Output: [\"1->2->5\",\"1->3\"]\n",
        "b = Solution()\n",
        "print(b.binaryTreePaths(root))"
      ],
      "metadata": {
        "colab": {
          "base_uri": "https://localhost:8080/"
        },
        "id": "cWoZ1IV73U1r",
        "outputId": "2486d9e9-6e25-4897-9cc6-11d3960cfe3c"
      },
      "execution_count": null,
      "outputs": [
        {
          "output_type": "stream",
          "name": "stdout",
          "text": [
            "['1->2->5', '1->3']\n"
          ]
        }
      ]
    },
    {
      "cell_type": "markdown",
      "source": [
        "108 Given an integer array nums where the elements are sorted in ascending order, convert it to a\n",
        "height-balanced\n",
        "binary search tree."
      ],
      "metadata": {
        "id": "sRZpu2_6HABf"
      }
    },
    {
      "cell_type": "code",
      "source": [
        "class TreeNode:\n",
        "   def __init__(self, data, left = None, right = None):\n",
        "      self.data = data\n",
        "      self.left = left\n",
        "      self.right = right\n",
        "def insert(temp,data):\n",
        "   que = []\n",
        "   que.append(temp)\n",
        "   while (len(que)):\n",
        "      temp = que[0]\n",
        "      que.pop(0)\n",
        "      if (not temp.left):\n",
        "         if data is not None:\n",
        "            temp.left = TreeNode(data)\n",
        "         else:\n",
        "            temp.left = TreeNode(0)\n",
        "         break\n",
        "      else:\n",
        "         que.append(temp.left)\n",
        "      if (not temp.right):\n",
        "         if data is not None:\n",
        "            temp.right = TreeNode(data)\n",
        "      else:\n",
        "         temp.right = TreeNode(0)\n",
        "      break\n",
        "   else:\n",
        "      que.append(temp.right)\n",
        "def make_tree(elements):\n",
        "   Tree = TreeNode(elements[0])\n",
        "   for element in elements[1:]:\n",
        "      insert(Tree, element)\n",
        "   return Tree\n",
        "def height(root):\n",
        "   if root is None:\n",
        "      return 0\n",
        "   else :\n",
        "      # Compute the height of left and right subtree\n",
        "      l_height = height(root.left)\n",
        "      r_height = height(root.right)\n",
        "      #Find the greater one, and return it\n",
        "      if l_height > r_height :\n",
        "         return l_height+1\n",
        "      else:\n",
        "         return r_height+1\n",
        "def print_given_level(root, level):\n",
        "   if root is None:\n",
        "      return\n",
        "   if level == 1:\n",
        "      print(root.data,end = ',')\n",
        "   elif level > 1 :\n",
        "      print_given_level(root.left , level-1)\n",
        "      print_given_level(root.right , level-1)\n",
        "def level_order(root):\n",
        "   print('[', end = '')\n",
        "   h = height(root)\n",
        "   for i in range(1, h+1):\n",
        "      print_given_level(root, i)\n",
        "   print(']')\n",
        "class Solution(object):\n",
        "   def sortedArrayToBST(self, nums):\n",
        "      \"\"\"\n",
        "      :type nums: List[int]\n",
        "      :rtype: TreeNode\n",
        "      \"\"\"\n",
        "      if not nums:\n",
        "         return None\n",
        "      mid = nums[len(nums)//2]\n",
        "      root = TreeNode(mid)\n",
        "      root.left = self.sortedArrayToBST(nums[:len(nums)//2])\n",
        "      root.right = self.sortedArrayToBST(nums[len(nums)//2 +1 :])\n",
        "      return root\n",
        "\n",
        "\n",
        "#class Solution:\n",
        "  #def sortedArrayToBST(self, nums):\n",
        "    #def helper(l, r):\n",
        "      #if l > r:\n",
        "        #return None\n",
        "        #mid = (l + r) // 2\n",
        "        #root = TreeNode(nums[mid])\n",
        "        #root.left = helper(l, mid - 1)\n",
        "        #root.right = helper(mid + 1, r)\n",
        "        #return root\n",
        "\n",
        "\n",
        "\n",
        "    #return helper(0, len(nums) - 1)\n",
        "\n",
        "\n",
        "nums = [-10,-3,0,5,9]\n",
        "ob1 = Solution()\n",
        "bst = ob1.sortedArrayToBST(nums)\n",
        "level_order(bst)"
      ],
      "metadata": {
        "id": "uW2Y_UDkRxOj",
        "colab": {
          "base_uri": "https://localhost:8080/"
        },
        "outputId": "c83dcf8f-c587-42b8-8fb0-467daff4ea9c"
      },
      "execution_count": null,
      "outputs": [
        {
          "output_type": "stream",
          "name": "stdout",
          "text": [
            "[0,-3,9,-10,5,]\n"
          ]
        }
      ]
    },
    {
      "cell_type": "markdown",
      "source": [
        "832 Given an n x n binary matrix image, flip the image horizontally, then invert it, and return the resulting image.\n",
        "\n",
        "To flip an image horizontally means that each row of the image is reversed.\n",
        "\n",
        "    For example, flipping [1,1,0] horizontally results in [0,1,1].\n",
        "\n",
        "To invert an image means that each 0 is replaced by 1, and each 1 is replaced by 0.\n",
        "\n",
        "    For example, inverting [0,1,1] results in [1,0,0].\n"
      ],
      "metadata": {
        "id": "b_PbUIyglYRz"
      }
    },
    {
      "cell_type": "code",
      "source": [
        "def flipAndInvertImage(image):\n",
        "  for row in image:\n",
        "    l,r=0,len(image)-1\n",
        "    while l<=r:\n",
        "      row[l],row[r] = row[r],row[l]\n",
        "      row[l]=0 if row[l] else 1\n",
        "      if l != r:\n",
        "        row[r]=0 if row[r] else 1\n",
        "\n",
        "\n",
        "\n",
        "      l+=1\n",
        "      r-=1\n",
        "  return image\n",
        "\n",
        "\n",
        "#Explanation: First reverse each row: [[0,1,1],[1,0,1],[0,0,0]].\n",
        "#Then, invert the image: [[1,0,0],[0,1,0],[1,1,1]]\n",
        "\n",
        "image = [[1,1,0],[1,0,1],[0,0,0]]\n",
        "flipAndInvertImage(image)"
      ],
      "metadata": {
        "colab": {
          "base_uri": "https://localhost:8080/"
        },
        "id": "OeHU2SiMlasu",
        "outputId": "3da584da-2279-4c27-8526-ba762820b9e9"
      },
      "execution_count": null,
      "outputs": [
        {
          "output_type": "execute_result",
          "data": {
            "text/plain": [
              "[[1, 0, 0], [0, 1, 0], [1, 1, 1]]"
            ]
          },
          "metadata": {},
          "execution_count": 17
        }
      ]
    },
    {
      "cell_type": "markdown",
      "source": [
        "167 Given a 1-indexed array of integers numbers that is already sorted in non-decreasing order, find two numbers such that they add up to a specific target number. Let these two numbers be numbers[index1] and numbers[index2] where 1 <= index1 < index2 <= numbers.length.\n",
        "\n",
        "Return the indices of the two numbers, index1 and index2, added by one as an integer array [index1, index2] of length 2.\n",
        "\n",
        "The tests are generated such that there is exactly one solution. You may not use the same element twice.\n",
        "\n",
        "Your solution must use only constant extra space."
      ],
      "metadata": {
        "id": "hyDfakCPrhUf"
      }
    },
    {
      "cell_type": "code",
      "source": [
        "def twoSum(numbers,target):\n",
        "  #2 поинтера левый и правый\n",
        "  l,r = 0,len(numbers)-1\n",
        "  #пока левый меньше или равен правому\n",
        "  while l<=r:\n",
        "    #cur = сумма поинтеров\n",
        "    cur = numbers[l]+numbers[r]\n",
        "    #если кур равен таргету возращаем индексы +1(усл задачи)\n",
        "    if cur == target:\n",
        "      return [l+1,r+1]\n",
        "    #если кур больше таргета то умешаем правую границу иначе левую\n",
        "    if cur > target:\n",
        "      r-=1\n",
        "    else:\n",
        "      l+=1\n",
        "\n",
        "\n",
        "\n",
        "\n",
        "\n",
        "\n",
        "numbers = [2,7,11,15]\n",
        "target = 9\n",
        "twoSum(numbers,target)"
      ],
      "metadata": {
        "colab": {
          "base_uri": "https://localhost:8080/"
        },
        "id": "erzonGflrlfM",
        "outputId": "74d6e653-228b-4766-cec8-3a58a44d96d0"
      },
      "execution_count": null,
      "outputs": [
        {
          "output_type": "execute_result",
          "data": {
            "text/plain": [
              "[1, 2]"
            ]
          },
          "metadata": {},
          "execution_count": 18
        }
      ]
    },
    {
      "cell_type": "markdown",
      "source": [
        "941 Given an array of integers arr, return true if and only if it is a valid mountain array.\n",
        "\n",
        "Recall that arr is a mountain array if and only if:\n",
        "\n",
        "    arr.length >= 3\n",
        "    There exists some i with 0 < i < arr.length - 1 such that:\n",
        "        arr[0] < arr[1] < ... < arr[i - 1] < arr[i]\n",
        "        arr[i] > arr[i + 1] > ... > arr[arr.length - 1]\n"
      ],
      "metadata": {
        "id": "awSc0VtB-yHq"
      }
    },
    {
      "cell_type": "code",
      "source": [
        "def validMountainArray(arr):\n",
        "  if len(arr)<3:\n",
        "    return False\n",
        "  i=0\n",
        "  while arr[i]<arr[i+1]:\n",
        "    i+=1\n",
        "  j = len(arr)-1\n",
        "  while arr[j-1]>arr[j]:\n",
        "    j-=1\n",
        "  return i==j\n",
        "\n",
        "#false\n",
        "arr = [2,1]\n",
        "#true\n",
        "arr1 = [0,3,2,1]\n",
        "validMountainArray(arr1)"
      ],
      "metadata": {
        "colab": {
          "base_uri": "https://localhost:8080/"
        },
        "id": "WwoN9vqJ-3dt",
        "outputId": "d776f9ff-39c7-47c8-be28-1468f07a9812"
      },
      "execution_count": null,
      "outputs": [
        {
          "output_type": "execute_result",
          "data": {
            "text/plain": [
              "True"
            ]
          },
          "metadata": {},
          "execution_count": 22
        }
      ]
    },
    {
      "cell_type": "markdown",
      "source": [
        "13 Roman numerals are represented by seven different symbols: I, V, X, L, C, D and M.\n",
        "\n",
        "Symbol       Value\n",
        "I             1\n",
        "V             5\n",
        "X             10\n",
        "L             50\n",
        "C             100\n",
        "D             500\n",
        "M             1000\n",
        "\n",
        "For example, 2 is written as II in Roman numeral, just two ones added together. 12 is written as XII, which is simply X + II. The number 27 is written as XXVII, which is XX + V + II.\n",
        "\n",
        "Roman numerals are usually written largest to smallest from left to right. However, the numeral for four is not IIII. Instead, the number four is written as IV. Because the one is before the five we subtract it making four. The same principle applies to the number nine, which is written as IX. There are six instances where subtraction is used:\n",
        "\n",
        "    I can be placed before V (5) and X (10) to make 4 and 9.\n",
        "    X can be placed before L (50) and C (100) to make 40 and 90.\n",
        "    C can be placed before D (500) and M (1000) to make 400 and 900.\n",
        "\n",
        "Given a roman numeral, convert it to an integer."
      ],
      "metadata": {
        "id": "M8EhAkxEcJyH"
      }
    },
    {
      "cell_type": "code",
      "source": [
        "def romanToInt(s):\n",
        "  d={'I':1,'V':5,'X':10,'L':50,'C':100,'D':500,'M':1000}\n",
        "  ans=0\n",
        "  i=0\n",
        "  while i<len(s):\n",
        "    if i < len(s)-1 and d[s[i]]<d[s[i+1]]:\n",
        "      ans += d[s[i+1]]-d[s[i]]\n",
        "      i+=2\n",
        "    else:\n",
        "     ans += d[s[i]]\n",
        "     i+=1\n",
        "  return ans\n",
        "\n",
        "#1994\n",
        "s = \"MCMXCIV\"\n",
        "romanToInt(s)"
      ],
      "metadata": {
        "colab": {
          "base_uri": "https://localhost:8080/"
        },
        "id": "pb03SHIr-e22",
        "outputId": "b0cb138e-ba8d-4f60-fa78-f520f48ec8bc"
      },
      "execution_count": null,
      "outputs": [
        {
          "output_type": "execute_result",
          "data": {
            "text/plain": [
              "1994"
            ]
          },
          "metadata": {},
          "execution_count": 10
        }
      ]
    },
    {
      "cell_type": "markdown",
      "source": [
        "482 You are given a license key represented as a string s that consists of only alphanumeric characters and dashes. The string is separated into n + 1 groups by n dashes. You are also given an integer k.\n",
        "\n",
        "We want to reformat the string s such that each group contains exactly k characters, except for the first group, which could be shorter than k but still must contain at least one character. Furthermore, there must be a dash inserted between two groups, and you should convert all lowercase letters to uppercase.\n",
        "\n",
        "Return the reformatted license key."
      ],
      "metadata": {
        "id": "NQnjphd9mwPB"
      }
    },
    {
      "cell_type": "code",
      "source": [
        "def licenseKeyFormatting(s, k):\n",
        "  s= s.replace('-','').upper()\n",
        "  ans=''\n",
        "  #Мы проходим по строке s в обратном порядке (от последнего символа к первому)\n",
        "  for i in range(len(s)-1,-1,-1):\n",
        "    # если длина строки ans делится на (k+1) без остатка (где k - это заданное значение), то мы добавляем дефис\n",
        "    if not len(ans) % (k+1):\n",
        "      ans+='-'\n",
        "    ans+=s[i]\n",
        "  #возвращаем перевернутую строку ans без последнего символа (чтобы убрать лишний дефис в конце).\n",
        "  return ans[::-1][:-1]\n",
        "\n",
        "\n",
        "\n",
        "#\"5F3Z-2E9W\"\n",
        "s = \"5F3Z-2e-9-w\"\n",
        "k = 4\n",
        "licenseKeyFormatting(s, k)"
      ],
      "metadata": {
        "colab": {
          "base_uri": "https://localhost:8080/",
          "height": 35
        },
        "id": "50uniaammyjX",
        "outputId": "b1653a18-1a2b-4fd3-bf1c-a5bb1577f669"
      },
      "execution_count": null,
      "outputs": [
        {
          "output_type": "execute_result",
          "data": {
            "text/plain": [
              "'5F3Z-2E9W'"
            ],
            "application/vnd.google.colaboratory.intrinsic+json": {
              "type": "string"
            }
          },
          "metadata": {},
          "execution_count": 18
        }
      ]
    },
    {
      "cell_type": "markdown",
      "source": [
        "455 Assume you are an awesome parent and want to give your children some cookies. But, you should give each child at most one cookie.\n",
        "\n",
        "Each child i has a greed factor g[i], which is the minimum size of a cookie that the child will be content with; and each cookie j has a size s[j]. If s[j] >= g[i], we can assign the cookie j to the child i, and the child i will be content. Your goal is to maximize the number of your content children and output the maximum number."
      ],
      "metadata": {
        "id": "h9Pj312UH9WZ"
      }
    },
    {
      "cell_type": "code",
      "source": [
        "#def findContentChildren(g,s):\n",
        "  #b= len(g)\n",
        "  #count=0\n",
        "  #for i in range(b):\n",
        "    #if i==len(s):\n",
        "      #break\n",
        "    #if s[i]>=g[i]:\n",
        "      #count+=1\n",
        "  #return count\n",
        "\n",
        "def findContentChildren(g, s):\n",
        "    # Sort the greed factor array and the cookie size array\n",
        "    g.sort()\n",
        "    s.sort()\n",
        "\n",
        "    # Initialize indices for greed factor array and cookie size array\n",
        "    i = j = 0\n",
        "\n",
        "    # Count of content children\n",
        "    content_children = 0\n",
        "\n",
        "    # Traverse through the greed factor array and cookie size array\n",
        "    while i < len(g) and j < len(s):\n",
        "        # If the size of the cookie satisfies the greed factor\n",
        "        if s[j] >= g[i]:\n",
        "            # Increment the content children count\n",
        "            content_children += 1\n",
        "            # Move on to the next child\n",
        "            i += 1\n",
        "        # Move on to the next cookie\n",
        "        j += 1\n",
        "\n",
        "    return content_children\n",
        "\n",
        "g = [1,2]\n",
        "s = [1,2,3]\n",
        "findContentChildren(g,s)"
      ],
      "metadata": {
        "colab": {
          "base_uri": "https://localhost:8080/"
        },
        "id": "rP5xgK8DIAGg",
        "outputId": "d40b7a95-f756-45d3-842a-18e00c9191ac"
      },
      "execution_count": null,
      "outputs": [
        {
          "output_type": "execute_result",
          "data": {
            "text/plain": [
              "2"
            ]
          },
          "metadata": {},
          "execution_count": 24
        }
      ]
    },
    {
      "cell_type": "markdown",
      "source": [
        "345 Given a string s, reverse only all the vowels in the string and return it.\n",
        "\n",
        "The vowels are 'a', 'e', 'i', 'o', and 'u', and they can appear in both lower and upper cases, more than once."
      ],
      "metadata": {
        "id": "kElZViJC_pVP"
      }
    },
    {
      "cell_type": "code",
      "source": [
        "def reverseVowels(s):\n",
        "  vowels = {'a','e','i','o','u'}\n",
        "  s=list(s)\n",
        "  l,r=0,len(s)-1\n",
        "  while l<=r:\n",
        "    if not s[l].lower() in vowels:\n",
        "      l+=1\n",
        "      continue\n",
        "    if not s[r].lower() in vowels:\n",
        "      r-=1\n",
        "      continue\n",
        "    s[l],s[r] = s[r],s[l]\n",
        "    l+=1\n",
        "    r-=1\n",
        "  return ''.join(s)\n",
        "\n",
        "\n",
        "#\"holle\"\n",
        "s1 = \"hello\"\n",
        "#\"leotcede\"\n",
        "s2 = \"leetcode\"\n",
        "reverseVowels(s1)"
      ],
      "metadata": {
        "colab": {
          "base_uri": "https://localhost:8080/",
          "height": 35
        },
        "id": "R4KZIwmu_sMp",
        "outputId": "1d8da194-4658-41a2-de6c-af4a2ce04b1b"
      },
      "execution_count": null,
      "outputs": [
        {
          "output_type": "execute_result",
          "data": {
            "text/plain": [
              "'holle'"
            ],
            "application/vnd.google.colaboratory.intrinsic+json": {
              "type": "string"
            }
          },
          "metadata": {},
          "execution_count": 7
        }
      ]
    },
    {
      "cell_type": "markdown",
      "source": [
        "67 Given two binary strings a and b, return their sum as a binary string."
      ],
      "metadata": {
        "id": "tFOa5-1wGPPU"
      }
    },
    {
      "cell_type": "code",
      "source": [
        "def addBinary(a, b):\n",
        "  #уравниваем 2 строки добавляя 0\n",
        "  la,lb=len(a),len(b)\n",
        "  if la>lb:\n",
        "    b='0'*(la-lb)+b\n",
        "  else:\n",
        "    a='0'*(lb-la)+b\n",
        "\n",
        "  carry =0\n",
        "  ans=''\n",
        "  for i in range(len(a)-1,-1,-1):\n",
        "    d1=int(a[i])\n",
        "    d2=int(b[i])\n",
        "    carry,d=divmod(d1+d2+carry,2)\n",
        "    ans+=str(d)\n",
        "  if carry:\n",
        "    ans+=str(carry)\n",
        "  return ans[::-1]\n",
        "\n",
        "\n",
        "#\"100\"\n",
        "a = \"11\"\n",
        "b = \"1\"\n",
        "addBinary(a, b)"
      ],
      "metadata": {
        "colab": {
          "base_uri": "https://localhost:8080/",
          "height": 35
        },
        "id": "4ULLNGCKGRFx",
        "outputId": "fcb8384d-566b-4bd7-c4c2-7aea3bae5ac7"
      },
      "execution_count": null,
      "outputs": [
        {
          "output_type": "execute_result",
          "data": {
            "text/plain": [
              "'100'"
            ],
            "application/vnd.google.colaboratory.intrinsic+json": {
              "type": "string"
            }
          },
          "metadata": {},
          "execution_count": 13
        }
      ]
    },
    {
      "cell_type": "markdown",
      "source": [
        "409 Given a string s which consists of lowercase or uppercase letters, return the length of the longest palindrome that can be built with those letters.\n",
        "\n",
        "Letters are case sensitive, for example, \"Aa\" is not considered a palindrome here."
      ],
      "metadata": {
        "id": "sEyTw14yUvst"
      }
    },
    {
      "cell_type": "code",
      "source": [
        "import collections\n",
        "from collections import Counter\n",
        "def longestPalindrome(s):\n",
        "  cnt=Counter(s)\n",
        "  ans=0\n",
        "  for l,c in cnt.items():\n",
        "    cur = c -(c % 2)\n",
        "    ans+=cur\n",
        "    cnt[l]-=cur\n",
        "  return ans if not sum(cnt.values()) else ans+1\n",
        "#7\n",
        "s = \"abccccdd\"\n",
        "longestPalindrome(s)"
      ],
      "metadata": {
        "id": "2SokAsUPUzMW",
        "colab": {
          "base_uri": "https://localhost:8080/"
        },
        "outputId": "9abedd00-3092-4200-9886-da6bd8074d06"
      },
      "execution_count": null,
      "outputs": [
        {
          "output_type": "execute_result",
          "data": {
            "text/plain": [
              "7"
            ]
          },
          "metadata": {},
          "execution_count": 7
        }
      ]
    },
    {
      "cell_type": "markdown",
      "source": [
        "58 Given a string s consisting of words and spaces, return the length of the last word in the string.\n",
        "\n",
        "A word is a maximal\n",
        "substring\n",
        "consisting of non-space characters only."
      ],
      "metadata": {
        "id": "g49UP8VXi6bJ"
      }
    },
    {
      "cell_type": "code",
      "source": [
        "def lengthOfLastWord(s):\n",
        "  word=''\n",
        "  for i in range(len(s)-1,-1,-1):\n",
        "    if s[i] == ' ':\n",
        "      if word:\n",
        "        return len(word)\n",
        "    else:\n",
        "      word+=s[i]\n",
        "\n",
        "  return len(word)\n",
        "\n",
        "\n",
        "#5\n",
        "s = \"Hello World\"\n",
        "#6\n",
        "s = \"luffy is still joyboy\"\n",
        "lengthOfLastWord(s)"
      ],
      "metadata": {
        "colab": {
          "base_uri": "https://localhost:8080/"
        },
        "id": "cvEE3l87i9M2",
        "outputId": "ed3c6b05-0bea-424c-a279-fd0b001caf0d"
      },
      "execution_count": null,
      "outputs": [
        {
          "output_type": "execute_result",
          "data": {
            "text/plain": [
              "6"
            ]
          },
          "metadata": {},
          "execution_count": 3
        }
      ]
    },
    {
      "cell_type": "markdown",
      "source": [
        "485 Given a binary array nums, return the maximum number of consecutive 1's in the array."
      ],
      "metadata": {
        "id": "vb99v_4niSUa"
      }
    },
    {
      "cell_type": "code",
      "source": [
        "def findMaxConsecutiveOnes(nums):\n",
        "  dp=[0]*(len(nums)+1)\n",
        "  for i in range(len(nums)):\n",
        "    if nums[i]:\n",
        "      dp[i+1] = dp[i] +1\n",
        "    else:\n",
        "      dp[i+1]=0\n",
        "  return dp\n",
        "\n",
        "\n",
        "\n",
        "#3\n",
        "nums = [1,1,0,1,1,1]\n",
        "findMaxConsecutiveOnes(nums)"
      ],
      "metadata": {
        "colab": {
          "base_uri": "https://localhost:8080/"
        },
        "id": "QLHsuUuTiVou",
        "outputId": "83b504ac-f568-4a2e-9e5f-ed8c85d867c5"
      },
      "execution_count": null,
      "outputs": [
        {
          "output_type": "execute_result",
          "data": {
            "text/plain": [
              "[0, 1, 2, 0, 1, 2, 3]"
            ]
          },
          "metadata": {},
          "execution_count": 2
        }
      ]
    },
    {
      "cell_type": "markdown",
      "source": [
        "674 Given an unsorted array of integers nums, return the length of the longest continuous increasing subsequence (i.e. subarray). The subsequence must be strictly increasing.\n",
        "\n",
        "A continuous increasing subsequence is defined by two indices l and r (l < r) such that it is [nums[l], nums[l + 1], ..., nums[r - 1], nums[r]] and for each l <= i < r, nums[i] < nums[i + 1]."
      ],
      "metadata": {
        "id": "bmcGGNdzmgT7"
      }
    },
    {
      "cell_type": "code",
      "source": [
        "def findLengthOfLCIS(nums):\n",
        "  dp=[1]*len(nums)\n",
        "  for i in range(len(nums)):\n",
        "    if nums[i]>nums[i-1]:\n",
        "      dp[i]=dp[i-1]+1\n",
        "  return max(dp)\n",
        "\n",
        "\n",
        "#3\n",
        "nums = [1,3,5,4,7]\n",
        "findLengthOfLCIS(nums)"
      ],
      "metadata": {
        "colab": {
          "base_uri": "https://localhost:8080/"
        },
        "id": "bPH3w6HCmfY5",
        "outputId": "163c9d96-8bea-4da9-9307-4358aebc2470"
      },
      "execution_count": null,
      "outputs": [
        {
          "output_type": "execute_result",
          "data": {
            "text/plain": [
              "3"
            ]
          },
          "metadata": {},
          "execution_count": 9
        }
      ]
    },
    {
      "cell_type": "markdown",
      "source": [
        "26 Given an integer array nums sorted in non-decreasing order, remove the duplicates in-place such that each unique element appears only once. The relative order of the elements should be kept the same. Then return the number of unique elements in nums.\n",
        "\n",
        "Consider the number of unique elements of nums to be k, to get accepted, you need to do the following things:\n",
        "\n",
        "    Change the array nums such that the first k elements of nums contain the unique elements in the order they were present in nums initially. The remaining elements of nums are not important as well as the size of nums.\n",
        "    Return k.\n"
      ],
      "metadata": {
        "id": "FDgkLG3cu-J-"
      }
    },
    {
      "cell_type": "code",
      "source": [
        "def removeDuplicates(nums):\n",
        "  j=0\n",
        "  for i in range(len(nums)):\n",
        "    if nums[i] != nums[j]:\n",
        "      j+=1\n",
        "      nums[j],nums[i]=nums[i],nums[j]\n",
        "\n",
        "\n",
        "  return j+1\n",
        "\n",
        "#5\n",
        "nums = [0,0,1,1,1,2,2,3,3,4]\n",
        "removeDuplicates(nums)"
      ],
      "metadata": {
        "colab": {
          "base_uri": "https://localhost:8080/"
        },
        "id": "Hxi-OISIvAl9",
        "outputId": "ac0e4f30-48b7-4ddb-be71-4f9fcb58fb12"
      },
      "execution_count": null,
      "outputs": [
        {
          "output_type": "execute_result",
          "data": {
            "text/plain": [
              "5"
            ]
          },
          "metadata": {},
          "execution_count": 12
        }
      ]
    },
    {
      "cell_type": "markdown",
      "source": [
        "1480 Given an array nums. We define a running sum of an array as runningSum[i] = sum(nums[0]…nums[i]).\n",
        "\n",
        "Return the running sum of nums."
      ],
      "metadata": {
        "id": "eLd61tJ8xXKT"
      }
    },
    {
      "cell_type": "code",
      "source": [
        "def runningSum(nums):\n",
        "  for i in range(1,len(nums)):\n",
        "    nums[i] += nums[i-1]\n",
        "\n",
        "  return nums\n",
        "\n",
        "\n",
        "#[1,3,6,10]\n",
        "nums = [1,2,3,4]\n",
        "runningSum(nums)"
      ],
      "metadata": {
        "colab": {
          "base_uri": "https://localhost:8080/"
        },
        "id": "4_GG0S1ixc_M",
        "outputId": "1b865b62-eff2-457f-e4b5-d699c04fcf57"
      },
      "execution_count": null,
      "outputs": [
        {
          "output_type": "execute_result",
          "data": {
            "text/plain": [
              "[1, 3, 6, 10]"
            ]
          },
          "metadata": {},
          "execution_count": 15
        }
      ]
    },
    {
      "cell_type": "markdown",
      "source": [
        "349 Given two integer arrays nums1 and nums2, return an array of their\n",
        "intersection\n",
        ". Each element in the result must be unique and you may return the result in any order."
      ],
      "metadata": {
        "id": "Sx7fB5Zume6e"
      }
    },
    {
      "cell_type": "code",
      "source": [
        "from collections import Counter\n",
        "def intersection(nums1, nums2):\n",
        "  cnt1=Counter(nums1)\n",
        "  cnt2 = Counter(nums2)\n",
        "  #пересечение каутеров\n",
        "  return list(cnt1 & cnt2)\n",
        "\n",
        "#[2]\n",
        "nums10 = [1,2,2,1]\n",
        "nums20 = [2,2]\n",
        "#[9,4]\n",
        "nums1 = [4,9,5]\n",
        "nums2 = [9,4,9,8,4]\n",
        "intersection(nums1, nums2)\n"
      ],
      "metadata": {
        "colab": {
          "base_uri": "https://localhost:8080/"
        },
        "id": "ouZP9mUBmjTY",
        "outputId": "e1635880-8bfd-4dca-a912-9814799d9281"
      },
      "execution_count": null,
      "outputs": [
        {
          "output_type": "execute_result",
          "data": {
            "text/plain": [
              "[4, 9]"
            ]
          },
          "metadata": {},
          "execution_count": 5
        }
      ]
    },
    {
      "cell_type": "markdown",
      "source": [
        "219 Given an integer array nums and an integer k, return true if there are two distinct indices i and j in the array such that nums[i] == nums[j] and abs(i - j) <= k."
      ],
      "metadata": {
        "id": "PDF9jPgsvv2K"
      }
    },
    {
      "cell_type": "code",
      "source": [
        "def containsNearbyDuplicate(nums, k):\n",
        "  d={}\n",
        "  for i,num in enumerate(nums):\n",
        "    if num in d and i - d[num]<=k:\n",
        "      return True\n",
        "\n",
        "    d[num]=i\n",
        "    print(d[num])\n",
        "\n",
        "  return False\n",
        "\n",
        "nums = [1,2,3,1]\n",
        "k = 3\n",
        "containsNearbyDuplicate(nums, k)"
      ],
      "metadata": {
        "colab": {
          "base_uri": "https://localhost:8080/"
        },
        "id": "5tKfq7XQv1Op",
        "outputId": "5fccc2c7-9f39-42eb-80db-88da4424b84f"
      },
      "execution_count": null,
      "outputs": [
        {
          "output_type": "stream",
          "name": "stdout",
          "text": [
            "0\n",
            "1\n",
            "2\n"
          ]
        },
        {
          "output_type": "execute_result",
          "data": {
            "text/plain": [
              "True"
            ]
          },
          "metadata": {},
          "execution_count": 8
        }
      ]
    },
    {
      "cell_type": "markdown",
      "source": [
        "977 Given an integer array nums sorted in non-decreasing order, return an array of the squares of each number sorted in non-decreasing order."
      ],
      "metadata": {
        "id": "6mpS7bQaO9Vb"
      }
    },
    {
      "cell_type": "code",
      "source": [
        "def sortedSquares(nums):\n",
        "  l,r=0,len(nums)-1\n",
        "  ans=[]\n",
        "  while l<=r:\n",
        "    if abs(nums[r])>abs(nums[l]):\n",
        "      ans.append(nums[r]*nums[r])\n",
        "      r-=1\n",
        "    else:\n",
        "      ans.append(nums[l]*nums[l])\n",
        "      l+=1\n",
        "  return ans[::-1]\n",
        "\n",
        "\n",
        "\n",
        "\n",
        "\n",
        "\n",
        "\n",
        "#[0,1,9,16,100]\n",
        "nums = [-4,-1,0,3,10]\n",
        "sortedSquares(nums)"
      ],
      "metadata": {
        "colab": {
          "base_uri": "https://localhost:8080/"
        },
        "id": "QBdxXUiKPybn",
        "outputId": "ffdb9387-a703-4519-8eef-ffb61f367160"
      },
      "execution_count": null,
      "outputs": [
        {
          "output_type": "execute_result",
          "data": {
            "text/plain": [
              "[0, 1, 9, 16, 100]"
            ]
          },
          "metadata": {},
          "execution_count": 4
        }
      ]
    },
    {
      "cell_type": "markdown",
      "source": [
        "771 You're given strings jewels representing the types of stones that are jewels, and stones representing the stones you have. Each character in stones is a type of stone you have. You want to know how many of the stones you have are also jewels.\n",
        "\n",
        "Letters are case sensitive, so \"a\" is considered a different type of stone from \"A\"."
      ],
      "metadata": {
        "id": "gCOXqiiIbzFh"
      }
    },
    {
      "cell_type": "code",
      "source": [
        "def numJewelsInStones(jewels,stones):\n",
        "  jewels=set(jewels)\n",
        "  ans=0\n",
        "  for s in stones:\n",
        "    if s in jewels:\n",
        "      ans+=1\n",
        "  return ans\n",
        "\n",
        "jewels = \"aA\"\n",
        "stones = \"aAAbbbb\"\n",
        "numJewelsInStones(jewels,stones)"
      ],
      "metadata": {
        "colab": {
          "base_uri": "https://localhost:8080/"
        },
        "id": "Y5kmN_o1b4D7",
        "outputId": "663bc8b8-ccf5-45c0-c2f0-ca28974f5ef2"
      },
      "execution_count": null,
      "outputs": [
        {
          "output_type": "execute_result",
          "data": {
            "text/plain": [
              "3"
            ]
          },
          "metadata": {},
          "execution_count": 5
        }
      ]
    },
    {
      "cell_type": "markdown",
      "source": [
        "387 Given a string s, find the first non-repeating character in it and return its index. If it does not exist, return -1."
      ],
      "metadata": {
        "id": "Um6nd92CdO_P"
      }
    },
    {
      "cell_type": "code",
      "source": [
        "from collections import Counter\n",
        "def firstUniqChar(s):\n",
        "  cnt=Counter(s)\n",
        "  for i,c in enumerate(s):\n",
        "    if cnt[c]==1:\n",
        "      return i\n",
        "  return -1\n",
        "#2\n",
        "s = \"loveleetcode\"\n",
        "firstUniqChar(s)"
      ],
      "metadata": {
        "colab": {
          "base_uri": "https://localhost:8080/"
        },
        "id": "7DzGWWdxf3dk",
        "outputId": "725b91b8-01f9-4aa6-913b-90abec0f16a8"
      },
      "execution_count": null,
      "outputs": [
        {
          "output_type": "execute_result",
          "data": {
            "text/plain": [
              "2"
            ]
          },
          "metadata": {},
          "execution_count": 8
        }
      ]
    },
    {
      "cell_type": "markdown",
      "source": [
        "383 Given two strings ransomNote and magazine, return true if ransomNote can be constructed by using the letters from magazine and false otherwise.\n",
        "\n",
        "Each letter in magazine can only be used once in ransomNote."
      ],
      "metadata": {
        "id": "Y_uGPAqWiecB"
      }
    },
    {
      "cell_type": "code",
      "source": [
        "from collections import Counter\n",
        "def canConstruct(ransomNote, magazine):\n",
        "  cnt_r =Counter(ransomNote)\n",
        "  cnt_l = Counter(magazine)\n",
        "  for k,v in cnt_r.items():\n",
        "    if cnt_l[k]<v:\n",
        "      return False\n",
        "    else:\n",
        "      return True\n",
        "  #Counter(ransomNote)&Counter(magazine)==Counter(ransomNote)\n",
        "\n",
        "\n",
        "ransomNote = \"aa\"\n",
        "magazine = \"aab\"\n",
        "canConstruct(ransomNote, magazine)"
      ],
      "metadata": {
        "id": "pNPb-xfmihEg",
        "colab": {
          "base_uri": "https://localhost:8080/"
        },
        "outputId": "a8b8f936-2f31-4546-80d2-d340917d2628"
      },
      "execution_count": null,
      "outputs": [
        {
          "output_type": "execute_result",
          "data": {
            "text/plain": [
              "True"
            ]
          },
          "metadata": {},
          "execution_count": 4
        }
      ]
    },
    {
      "cell_type": "markdown",
      "source": [
        "387 Given a string s, find the first non-repeating character in it and return its index. If it does not exist, return -1."
      ],
      "metadata": {
        "id": "qBviIoPPwWi-"
      }
    },
    {
      "cell_type": "code",
      "source": [
        "from collections import Counter\n",
        "\n",
        "def firstUniqChar(s):\n",
        "\n",
        "  cnt=Counter(s)\n",
        "  for i,c in enumerate(s):\n",
        "    if cnt[c]==1:\n",
        "      return i\n",
        "  return -1\n",
        "\n",
        "\n",
        "\n",
        "\n",
        "\n",
        "\n",
        "\n",
        "\n",
        "#0\n",
        "s1 = \"leetcode\"\n",
        "#2\n",
        "s2 = \"loveleetcode\"\n",
        "firstUniqChar(s2)"
      ],
      "metadata": {
        "colab": {
          "base_uri": "https://localhost:8080/"
        },
        "id": "c7gGAnIRwc-F",
        "outputId": "c9fc4c81-6890-4ccd-db11-41649ea7ed80"
      },
      "execution_count": null,
      "outputs": [
        {
          "output_type": "execute_result",
          "data": {
            "text/plain": [
              "2"
            ]
          },
          "metadata": {},
          "execution_count": 9
        }
      ]
    },
    {
      "cell_type": "markdown",
      "source": [
        "412 Given an integer n, return a string array answer (1-indexed) where:\n",
        "\n",
        "    answer[i] == \"FizzBuzz\" if i is divisible by 3 and 5.\n",
        "    answer[i] == \"Fizz\" if i is divisible by 3.\n",
        "    answer[i] == \"Buzz\" if i is divisible by 5.\n",
        "    answer[i] == i (as a string) if none of the above conditions are true.\n"
      ],
      "metadata": {
        "id": "KrxrT_b7-as0"
      }
    },
    {
      "cell_type": "code",
      "source": [
        "def fizzBuzz(n):\n",
        "  ans=[]\n",
        "  for i in range(1,n+1):\n",
        "    if i %3 ==0 and i%5 ==0 :\n",
        "      ans.append('FizzBuzz')\n",
        "    elif i %3 ==0:\n",
        "      ans.append('Fizz')\n",
        "    elif i %5 ==0:\n",
        "      ans.append('Buzz')\n",
        "    else:\n",
        "      ans.append(str(i))\n",
        "\n",
        "  return ans\n",
        "\n",
        "\n",
        "#[\"1\",\"2\",\"Fizz\"]\n",
        "n = 3\n",
        "fizzBuzz(n)\n"
      ],
      "metadata": {
        "colab": {
          "base_uri": "https://localhost:8080/"
        },
        "id": "Ul7CFHuK-dU6",
        "outputId": "efd4758f-f303-495b-df73-7422f1442c1b"
      },
      "execution_count": null,
      "outputs": [
        {
          "output_type": "execute_result",
          "data": {
            "text/plain": [
              "['1', '2', 'Fizz']"
            ]
          },
          "metadata": {},
          "execution_count": 13
        }
      ]
    },
    {
      "cell_type": "markdown",
      "source": [
        "3069. Distribute Elements Into Two Arrays I\n",
        "You are given a 1-indexed array of distinct integers nums of length n.\n",
        "\n",
        "You need to distribute all the elements of nums between two arrays arr1 and arr2 using n operations. In the first operation, append nums[1] to arr1. In the second operation, append nums[2] to arr2. Afterwards, in the ith operation:"
      ],
      "metadata": {
        "id": "-OvmBBqNSy9w"
      }
    },
    {
      "cell_type": "code",
      "source": [
        "def resultArray(nums):\n",
        "  array1 = [nums[0]]\n",
        "  array2 = [nums[1]]\n",
        "\n",
        "  for i in range(2,len(nums)):\n",
        "    if array1[-1]>array2[-1]:\n",
        "      array1.append(nums[i])\n",
        "    else:\n",
        "      array2.append(nums[i])\n",
        "  return array1+array2\n",
        "\n",
        "#[5,3,4,8]\n",
        "nums = [5,4,3,8]\n",
        "resultArray(nums)"
      ],
      "metadata": {
        "colab": {
          "base_uri": "https://localhost:8080/"
        },
        "id": "SLH8hME-SwdV",
        "outputId": "36a22e47-09a2-4057-d5bf-7d04cf2ae5d7"
      },
      "execution_count": null,
      "outputs": [
        {
          "output_type": "execute_result",
          "data": {
            "text/plain": [
              "[5, 3, 4, 8]"
            ]
          },
          "metadata": {},
          "execution_count": 4
        }
      ]
    },
    {
      "cell_type": "markdown",
      "source": [
        "3083. Existence of a Substring in a String and Its Reverse\n",
        "Given a string s, find any\n",
        "substring\n",
        "of length 2 which is also present in the reverse of s.\n",
        "\n",
        "Return true if such a substring exists, and false otherwise."
      ],
      "metadata": {
        "id": "6X5CbS9gX1Hl"
      }
    },
    {
      "cell_type": "code",
      "source": [
        "def isSubstringPresent(s):\n",
        "  rev= s[::-1]\n",
        "  for i in range(0,len(s)):\n",
        "    sub=s[i:i+2]\n",
        "    if len(sub)>1 and sub in rev:\n",
        "      return True\n",
        "  else:\n",
        "   return False\n",
        "\n",
        "def isSubstringPresent2(s):\n",
        "  rev= set()\n",
        "  for i in range(0,len(s)):\n",
        "    sub=s[i:i+2][::-1]\n",
        "    if len(sub)>1:\n",
        "      rev.add(sub)\n",
        "\n",
        "  for i in range(0,len(s)):\n",
        "    sub=s[i:i+2]\n",
        "    if len(sub)>1 and sub in rev:\n",
        "      return True\n",
        "  else:\n",
        "   return False\n",
        "\n",
        "\n",
        "s = \"leetcode\"\n",
        "#s = \"abcd\"\n",
        "isSubstringPresent2(s)"
      ],
      "metadata": {
        "id": "qFF2UCZWX7DL",
        "colab": {
          "base_uri": "https://localhost:8080/"
        },
        "outputId": "17593d81-8a7f-4bb6-cd6a-a4a9287082dd"
      },
      "execution_count": null,
      "outputs": [
        {
          "output_type": "execute_result",
          "data": {
            "text/plain": [
              "True"
            ]
          },
          "metadata": {},
          "execution_count": 6
        }
      ]
    },
    {
      "cell_type": "markdown",
      "source": [
        "3079\n",
        "You are given an integer array nums containing positive integers. We define a function encrypt such that encrypt(x) replaces every digit in x with the largest digit in x. For example, encrypt(523) = 555 and encrypt(213) = 333.\n",
        "\n",
        "Return the sum of encrypted elements."
      ],
      "metadata": {
        "id": "82w2rpUpuzbM"
      }
    },
    {
      "cell_type": "code",
      "source": [
        "def sumOfEncryptedInt(nums):\n",
        "  def encrypted(x):\n",
        "    max_digit= max(list(str(x)))\n",
        "    return int(max_digit*len(str(x)))\n",
        "\n",
        "  ans=0\n",
        "  for num in nums:\n",
        "    ans+=encrypted(num)\n",
        "  return ans\n",
        "\n",
        "\n",
        "\n",
        "#6\n",
        "nums = [1,2,3]\n",
        "#66\n",
        "#nums = [10,21,31]\n",
        "sumOfEncryptedInt(nums)\n"
      ],
      "metadata": {
        "colab": {
          "base_uri": "https://localhost:8080/"
        },
        "id": "cd2w5tHRuyrR",
        "outputId": "2435217f-8278-480b-b40c-bdaf78915e29"
      },
      "execution_count": null,
      "outputs": [
        {
          "output_type": "execute_result",
          "data": {
            "text/plain": [
              "6"
            ]
          },
          "metadata": {},
          "execution_count": 8
        }
      ]
    },
    {
      "cell_type": "markdown",
      "source": [
        "3074 You are given an array apple of size n and an array capacity of size m.\n",
        "\n",
        "There are n packs where the ith pack contains apple[i] apples. There are m boxes as well, and the ith box has a capacity of capacity[i] apples."
      ],
      "metadata": {
        "id": "0VUlCABlKVbB"
      }
    },
    {
      "cell_type": "code",
      "source": [
        "def minimumBoxes(apple, capacity):\n",
        "  capacity.sort(reverse=True)\n",
        "  all_apple=sum(apple)\n",
        "  for i,c in enumerate(capacity,1):\n",
        "     all_apple -= c\n",
        "     if all_apple <= 0:\n",
        "      return i\n",
        "\n",
        "\n",
        "\n",
        "\n",
        "\n",
        "\n",
        "\n",
        "apple = [1,3,2]\n",
        "capacity = [4,3,1,5,2]\n",
        "minimumBoxes(apple, capacity)"
      ],
      "metadata": {
        "colab": {
          "base_uri": "https://localhost:8080/"
        },
        "id": "QDhR2d-NKXeI",
        "outputId": "229c046c-8faf-4ba7-8cf3-888944d007cd"
      },
      "execution_count": null,
      "outputs": [
        {
          "output_type": "execute_result",
          "data": {
            "text/plain": [
              "2"
            ]
          },
          "metadata": {},
          "execution_count": 11
        }
      ]
    },
    {
      "cell_type": "markdown",
      "source": [
        "3065 You are given a 0-indexed integer array nums, and an integer k.\n",
        "\n",
        "In one operation, you can remove one occurrence of the smallest element of nums.\n",
        "\n",
        "Return the minimum number of operations needed so that all elements of the array are greater than or equal to k."
      ],
      "metadata": {
        "id": "IAe_sgTqVtO8"
      }
    },
    {
      "cell_type": "code",
      "source": [
        "def minOperations(nums,k):\n",
        "  nums.sort()\n",
        "\n",
        "  return nums.index(k)\n",
        "\n",
        "import bisect\n",
        "def minOperations2(nums,k):\n",
        "  nums.sort()\n",
        "\n",
        "  return bisect.bisect_left(nums,k)\n",
        "\n",
        "def minOperations3(nums,k):\n",
        "  ans=0\n",
        "  for i in nums:\n",
        "    if i<k:\n",
        "      ans+=1\n",
        "  return ans\n",
        "def minOperations4(nums,k):\n",
        "\n",
        "  return sum(n<k for n in nums)\n",
        "\n",
        "nums = [2,11,10,1,3]\n",
        "k = 10\n",
        "minOperations4(nums,k)"
      ],
      "metadata": {
        "colab": {
          "base_uri": "https://localhost:8080/"
        },
        "id": "oe0QUBozVrjl",
        "outputId": "f0974a7d-ecf4-4efc-897e-306e45a86f6d"
      },
      "execution_count": null,
      "outputs": [
        {
          "output_type": "execute_result",
          "data": {
            "text/plain": [
              "3"
            ]
          },
          "metadata": {},
          "execution_count": 10
        }
      ]
    },
    {
      "cell_type": "markdown",
      "source": [
        "3038 Given an array of integers called nums, you can perform the following operation while nums contains at least 2 elements:\n",
        "\n",
        "    Choose the first two elements of nums and delete them.\n",
        "\n",
        "The score of the operation is the sum of the deleted elements.\n",
        "\n",
        "Your task is to find the maximum number of operations that can be performed, such that all operations have the same score.\n",
        "\n",
        "Return the maximum number of operations possible that satisfy the condition mentioned above."
      ],
      "metadata": {
        "id": "AIvkvNTY86UA"
      }
    },
    {
      "cell_type": "code",
      "source": [
        "def maxOperations(nums):\n",
        "  ans=1\n",
        "  first_sum=nums[0]+nums[1]\n",
        "\n",
        "  for i in range(2,len(nums)-1,2):\n",
        "    if nums[i] + nums[i+1] == first_sum:\n",
        "      ans+=1\n",
        "    else:\n",
        "      return ans\n",
        "  return ans\n",
        "\n",
        "\n",
        "\n",
        "\n",
        "nums = [3,2,1,4,5]\n",
        "maxOperations(nums)"
      ],
      "metadata": {
        "colab": {
          "base_uri": "https://localhost:8080/"
        },
        "id": "N0GxjDkC9QgX",
        "outputId": "8800b0ad-d442-48f0-fc57-b619d470314b"
      },
      "execution_count": null,
      "outputs": [
        {
          "output_type": "execute_result",
          "data": {
            "text/plain": [
              "2"
            ]
          },
          "metadata": {},
          "execution_count": 4
        }
      ]
    },
    {
      "cell_type": "markdown",
      "source": [
        "3046 You are given an integer array nums of even length. You have to split the array into two parts nums1 and nums2 such that:\n",
        "\n",
        "    nums1.length == nums2.length == nums.length / 2.\n",
        "    nums1 should contain distinct elements.\n",
        "    nums2 should also contain distinct elements.\n",
        "\n",
        "Return true if it is possible to split the array, and false otherwise."
      ],
      "metadata": {
        "id": "-yy89WC3Ti9v"
      }
    },
    {
      "cell_type": "code",
      "source": [
        "from collections import Counter\n",
        "def isPossibleToSplit(nums):\n",
        "\n",
        "  counter=Counter(nums)\n",
        "\n",
        "  for _,val in counter.items():\n",
        "    if val > 2:\n",
        "      return False\n",
        "\n",
        "  return True\n",
        "\n",
        "\n",
        "\n",
        "nums = [1,1,2,2,3,4]\n",
        "nums1 = [1,1,1,1]\n",
        "isPossibleToSplit(nums1)"
      ],
      "metadata": {
        "colab": {
          "base_uri": "https://localhost:8080/"
        },
        "id": "Q0QoCZ--Tl2U",
        "outputId": "3e1eb9f1-7ceb-40b8-993f-6af7569a445f"
      },
      "execution_count": null,
      "outputs": [
        {
          "output_type": "execute_result",
          "data": {
            "text/plain": [
              "False"
            ]
          },
          "metadata": {},
          "execution_count": 6
        }
      ]
    },
    {
      "cell_type": "markdown",
      "source": [
        "3042 You are given a 0-indexed string array words.\n",
        "\n",
        "Let's define a boolean function isPrefixAndSuffix that takes two strings, str1 and str2:\n",
        "\n",
        "    isPrefixAndSuffix(str1, str2) returns true if str1 is both a prefix and a suffix of str2, and false otherwise.\n",
        "\n",
        "For example, isPrefixAndSuffix(\"aba\", \"ababa\") is true because \"aba\" is a prefix of \"ababa\" and also a suffix, but isPrefixAndSuffix(\"abc\", \"abcd\") is false.\n",
        "\n",
        "Return an integer denoting the number of index pairs (i, j) such that i < j, and isPrefixAndSuffix(words[i], words[j]) is true."
      ],
      "metadata": {
        "id": "M6UTTnHgviTm"
      }
    },
    {
      "cell_type": "code",
      "source": [
        "def countPrefixSuffixPairs(words):\n",
        "  def isPrefixAndSuffix(str1, str2):\n",
        "    return str2.startswith(str1) and str2.endswith(str1)\n",
        "\n",
        "  ans =0\n",
        "  for i in range(len(words)):\n",
        "    for j in range(i+1,len(words)):\n",
        "      ans+=isPrefixAndSuffix(words[i], words[j])\n",
        "\n",
        "  return ans\n",
        "\n",
        "\n",
        "#4\n",
        "words = [\"a\",\"aba\",\"ababa\",\"aa\"]\n",
        "#2\n",
        "words2 = [\"pa\",\"papa\",\"ma\",\"mama\"]\n",
        "countPrefixSuffixPairs(words2)\n"
      ],
      "metadata": {
        "colab": {
          "base_uri": "https://localhost:8080/"
        },
        "id": "_CZ0iHXpvjwG",
        "outputId": "b51bf029-71ed-43d6-db84-22ee24c20b77"
      },
      "execution_count": null,
      "outputs": [
        {
          "output_type": "execute_result",
          "data": {
            "text/plain": [
              "2"
            ]
          },
          "metadata": {},
          "execution_count": 8
        }
      ]
    },
    {
      "cell_type": "markdown",
      "source": [
        "17 Medium"
      ],
      "metadata": {
        "id": "AuC_z5_pSaKi"
      }
    },
    {
      "cell_type": "code",
      "source": [
        "def backtracking(digit):\n",
        "  phone ={'2':'abc','3':'def','4':'ghi','5':'jkl','6':'mno','7':'pqrs','8':'tuv','9':'wxyz'}\n",
        "  base=[]\n",
        "  for i in range(len(digit)):\n",
        "    words = str(phone[digit[i]])\n",
        "    base.append(words)\n",
        "    print(base)\n",
        "  res =[]\n",
        "\n",
        "  for i in range(len(base[0])):\n",
        "    for j in range(i,len(base[1])-1):\n",
        "      if base[0][i] !=base[1][j]:\n",
        "        if len(str()\n",
        "        res.append(base[i]+base[j])\n",
        "  return res\n",
        "\n",
        "digit=\"23\"\n",
        "backtracking(digit)\n"
      ],
      "metadata": {
        "colab": {
          "base_uri": "https://localhost:8080/"
        },
        "id": "UmO2cbLoSeFi",
        "outputId": "4df1ba53-097e-48b2-b344-2d174eadb34c"
      },
      "execution_count": null,
      "outputs": [
        {
          "output_type": "stream",
          "name": "stdout",
          "text": [
            "['abc']\n",
            "['abc', 'def']\n"
          ]
        },
        {
          "output_type": "execute_result",
          "data": {
            "text/plain": [
              "['abcabc', 'abcdef', 'defdef']"
            ]
          },
          "metadata": {},
          "execution_count": 39
        }
      ]
    },
    {
      "cell_type": "code",
      "source": [
        "k=['abc','def']\n",
        "k[1][0]"
      ],
      "metadata": {
        "colab": {
          "base_uri": "https://localhost:8080/",
          "height": 35
        },
        "id": "avVAQ9F3fwzS",
        "outputId": "681716d3-ba44-439e-87cc-b962a17b61b4"
      },
      "execution_count": null,
      "outputs": [
        {
          "output_type": "execute_result",
          "data": {
            "text/plain": [
              "'d'"
            ],
            "application/vnd.google.colaboratory.intrinsic+json": {
              "type": "string"
            }
          },
          "metadata": {},
          "execution_count": 35
        }
      ]
    }
  ]
}