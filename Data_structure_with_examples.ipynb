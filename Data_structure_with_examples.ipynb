{
  "nbformat": 4,
  "nbformat_minor": 0,
  "metadata": {
    "colab": {
      "provenance": [],
      "authorship_tag": "ABX9TyMinxhx30SjVpSMQHiD8ZsN",
      "include_colab_link": true
    },
    "kernelspec": {
      "name": "python3",
      "display_name": "Python 3"
    },
    "language_info": {
      "name": "python"
    }
  },
  "cells": [
    {
      "cell_type": "markdown",
      "metadata": {
        "id": "view-in-github",
        "colab_type": "text"
      },
      "source": [
        "<a href=\"https://colab.research.google.com/github/googspell/Notes/blob/main/Data_structure_with_examples.ipynb\" target=\"_parent\"><img src=\"https://colab.research.google.com/assets/colab-badge.svg\" alt=\"Open In Colab\"/></a>"
      ]
    },
    {
      "cell_type": "markdown",
      "source": [
        "**FIFO (Очередь) – First In, First Out**\n",
        "\n",
        "Структура данных, в которой первый добавленный элемент извлекается первым.\n",
        "\n",
        "* list.pop(0) работает за O(n), потому что Python сдвигает все элементы влево.\n",
        "* Для больших очередей это медленно.\n",
        "\n",
        "Применяется :\n",
        "* Реализация кешей (например, LRU Cache с модификациями)\n",
        "*   Буферизация данных\n",
        "*   Асинхронные задачи (Celery, RabbitMQ, Kafka)\n"
      ],
      "metadata": {
        "id": "4Erx9Ngob1gg"
      }
    },
    {
      "cell_type": "code",
      "source": [
        "class FIFO:\n",
        "    def __init__(self):\n",
        "        self.queue = []\n",
        "\n",
        "    def put(self, value):\n",
        "        self.queue.append(value)\n",
        "\n",
        "    def get(self):\n",
        "        return self.queue.pop(0)  # Удаляет первый элемент (O(n) операция!)\n",
        "fifo = FIFO()\n",
        "fifo.put(1)\n",
        "fifo.put(2)\n",
        "\n",
        "print(fifo.get())\n",
        "print(fifo.get())"
      ],
      "metadata": {
        "colab": {
          "base_uri": "https://localhost:8080/"
        },
        "id": "XNW4U7a1cag3",
        "outputId": "7695be59-422b-4711-8d79-eb20358df3d5"
      },
      "execution_count": 2,
      "outputs": [
        {
          "output_type": "stream",
          "name": "stdout",
          "text": [
            "1\n",
            "2\n"
          ]
        }
      ]
    },
    {
      "cell_type": "markdown",
      "source": [
        "**FILO (Стек) – First In, Last Out**\n",
        "\n",
        "Структура данных в которой самый верхний элемент стека, который добавлен последним, извлекается самым первым.\n",
        "\n",
        "*   .put(value) → stack.append(value) Сложность: O(1) Добавление в конец списка в Python всегда занимает константное время.\n",
        "*   .get() → stack.pop()  Сложность: O(1)  Удаление последнего элемента также выполняется за константное время.\n",
        "\n",
        "Применяется:\n",
        "*   Отмена действий (Undo)\n",
        "*   Системный стек вызовов (Call Stack)\n",
        "\n",
        "\n",
        "\n"
      ],
      "metadata": {
        "id": "X4tji6Feb8mZ"
      }
    },
    {
      "cell_type": "code",
      "source": [
        "class FILO:\n",
        "    def __init__(self):\n",
        "        self.stack = []\n",
        "\n",
        "    def put(self, value):\n",
        "        self.stack.append(value)\n",
        "\n",
        "    def get(self):\n",
        "        return self.stack.pop()  # O(1)\n",
        "\n",
        "filo = FILO()\n",
        "filo.put(1)\n",
        "filo.put(2)\n",
        "\n",
        "print(filo.get())\n",
        "print(filo.get())"
      ],
      "metadata": {
        "colab": {
          "base_uri": "https://localhost:8080/"
        },
        "id": "iRf59uoQedzV",
        "outputId": "ab1da02e-c2eb-4548-ea4e-b82e8bab5ffe"
      },
      "execution_count": 3,
      "outputs": [
        {
          "output_type": "stream",
          "name": "stdout",
          "text": [
            "2\n",
            "1\n"
          ]
        }
      ]
    },
    {
      "cell_type": "markdown",
      "source": [
        "**Двусторонняя очередь (deque)**\n",
        "\n",
        "Гибкая очередь с возможностью добавления/удаления с обоих концов.\n",
        "\n",
        "Использовать когда:\n",
        "* Нужны частые операции с началом и концом коллекции (O(1)).\n",
        "* Работаете с очередями, стеками или скользящими окнами.\n",
        "Применяется:\n",
        "* История действий (Undo/Redo)\n",
        "* Скольязщее окно"
      ],
      "metadata": {
        "id": "q4AjEQTsgi1a"
      }
    },
    {
      "cell_type": "code",
      "source": [
        "from collections import deque\n",
        "\n",
        "d = deque([1,2,3])\n",
        "d.append(4)\n",
        "print(d)\n",
        "d.appendleft(5)\n",
        "print(d)\n",
        "d.pop()\n",
        "print(d)\n",
        "d.popleft()\n",
        "print(d)"
      ],
      "metadata": {
        "colab": {
          "base_uri": "https://localhost:8080/"
        },
        "id": "OH7-g23WgOp-",
        "outputId": "babb8f93-e72e-4f6d-86a2-7034d0ecc9ec"
      },
      "execution_count": 4,
      "outputs": [
        {
          "output_type": "stream",
          "name": "stdout",
          "text": [
            "deque([1, 2, 3, 4])\n",
            "deque([5, 1, 2, 3, 4])\n",
            "deque([5, 1, 2, 3])\n",
            "deque([1, 2, 3])\n"
          ]
        }
      ]
    },
    {
      "cell_type": "code",
      "source": [],
      "metadata": {
        "id": "m_t3IYxWhyRC"
      },
      "execution_count": null,
      "outputs": []
    },
    {
      "cell_type": "markdown",
      "source": [
        "**Очередь с приоритетом (Priority Queue)**\n",
        "\n",
        "Структура данных, где элементы извлекаются не в порядке добавления (FIFO), а по приоритету.\n",
        "\n",
        "* Сложность: Вставка и извлечение — O(log n), минимум — O(1).\n",
        "* Применение: Алгоритмы на графах, планирование, системы реального времени.\n",
        "* Реализация: heapq (гибкость) или PriorityQueue (потокобезопасность)"
      ],
      "metadata": {
        "id": "oIzLKhTHh7K1"
      }
    },
    {
      "cell_type": "code",
      "source": [
        "import heapq\n",
        "\n",
        "pq = []\n",
        "heapq.heappush(pq, (2, \"task2\"))  # Приоритет, значение\n",
        "heapq.heappush(pq, (1, \"task1\"))\n",
        "heapq.heappush(pq, (3, \"task3\"))\n",
        "\n",
        "print(heapq.heappop(pq)[1])  # \"task1\" (с наивысшим приоритетом)"
      ],
      "metadata": {
        "colab": {
          "base_uri": "https://localhost:8080/"
        },
        "id": "sRrJx1IUigzg",
        "outputId": "b958a54f-8de9-4419-a6c4-d4e0d5ac21bc"
      },
      "execution_count": 5,
      "outputs": [
        {
          "output_type": "stream",
          "name": "stdout",
          "text": [
            "task1\n"
          ]
        }
      ]
    },
    {
      "cell_type": "markdown",
      "source": [
        "**Связанный список (Linked List)**\n",
        "\n",
        "Линейная структура данных, где каждый элемент (узел) содержит данные и ссылку на следующий (и/или предыдущий) узел.\n",
        "\n",
        "Существуют : Односвязный: Только ссылка на следующий узел (next). и  Двусвязный: Ссылки на следующий и предыдущий узлы (next, prev).\n",
        "\n",
        "Преимущество :\n",
        "* операции вставка/удаление за константное время.\n",
        "* Используется дининамическое выделение памяти когда используется памят тогда когда нужно.\n",
        "* В очередях и стеке. Возможность отмены в программа,в хеш таблицах и графах"
      ],
      "metadata": {
        "id": "x3eWuDbkjGXg"
      }
    },
    {
      "cell_type": "code",
      "source": [
        "#создадим класс node\n",
        "class Node(object):\n",
        "#иниициализитор 2 значения дата и следующий\n",
        "  def __init__(self, data = None, next = None):\n",
        "    self.data = data\n",
        "    self.next = next\n",
        "\n",
        "\t # Get методы\n",
        "   #возращает текущие data\n",
        "  def get_data(self):\n",
        "      return self.data\n",
        "   #возвращает следующий\n",
        "  def get_next(self):\n",
        "      return self.next\n",
        "\n",
        "\t# Set методы\n",
        "  #установка даты\n",
        "  def set_data(self, data):\n",
        "      self.data = data\n",
        "\n",
        "  #установка след\n",
        "  def set_next(self, next):\n",
        "      self.next = next\n",
        "\n",
        "\n",
        "#создадим класс линк лист\n",
        "class LinkedList(object):\n",
        "  def __init__(self):\n",
        "    #содадим head голоу\n",
        "    self.head = None\n",
        "\n",
        "  #добавление в конец\n",
        "  def append(self, data):\n",
        "    new_node = Node(data)\n",
        "    cur_node = self.head\n",
        "    #если в текущей голове ничего нет,тогда задаем через новый нод\n",
        "    if cur_node == None:\n",
        "      self.head = new_node\n",
        "      return\n",
        "    #проверяем пока cur node не равен nOne (не дашел до конца списка)\n",
        "    while cur_node.get_next() != None:\n",
        "      cur_node = cur_node.get_next()\n",
        "    #добавляем в кур нод новый элемент\n",
        "    cur_node.set_next(new_node)\n",
        "\n",
        "  #отображение\n",
        "  def show(self):\n",
        "    cur_node = self.head\n",
        "    output=\"\"\n",
        "    #пока курнод не равен none добавляем в аутпут дату и двигаемся к следующему элементу\n",
        "    while cur_node !=None:\n",
        "      output+=str(cur_node.get_data())+str(\">\")\n",
        "      cur_node = cur_node.get_next()\n",
        "    print(output)\n",
        "\n",
        "  #длина\n",
        "  def lenght(self):\n",
        "    cur_node =self.head\n",
        "    count = 0\n",
        "    while cur_node !=None:\n",
        "      count+=1\n",
        "      cur_node = cur_node.get_next()\n",
        "    print(count)\n",
        "\n",
        "\n",
        " #добавление в начало\n",
        "  def push_front(self,data):\n",
        "    new_node=Node(data)\n",
        "    cur_node = self.head\n",
        "    #устанавливаем следующий элемент текущий нод\n",
        "    new_node.set_next(cur_node)\n",
        "    #устаналиваем голову как новый нод\n",
        "    self.head = new_node\n",
        "\n",
        "\n",
        "  #удаление последнего элемента\n",
        "  def remove_back(self):\n",
        "    cur_node = self.head\n",
        "    #пока курнод получает следующий элемент 2 раза так как мы должны на пред.последнем остановится\n",
        "    while cur_node.get_next().get_next() != None:\n",
        "      #получаем предпоследний и делаем его курнодом\n",
        "      cur_node= cur_node.get_next()\n",
        "    #устанавливаем следующим элементом курнода none\n",
        "    cur_node.set_next(None)\n",
        "\n",
        "  #удаление первого элемента\n",
        "  def remove_front(self):\n",
        "    cur_node=self.head\n",
        "    #устаналиваем голову как следующй элмент\n",
        "    self.head = cur_node.get_next()\n",
        "\n",
        "\n",
        "  #значение по индексу\n",
        "  def value_at(self,index):\n",
        "    cur_node =self.head\n",
        "    count=0\n",
        "    while cur_node !=None:\n",
        "      if count == index:\n",
        "        return cur_node.get_data()\n",
        "      count+=1\n",
        "      cur_node = cur_node.get_next()\n",
        "    print(\"Index is out of range\")\n",
        "\n",
        "\n",
        "  #вставка по индексу\n",
        "  def insert(self,index,data):\n",
        "    new_node=Node(data)\n",
        "    cur_node =self.head\n",
        "    count=0\n",
        "    while cur_node.get_next() !=None:\n",
        "      #если хотим вставить в 0 индекс то вызываем функции вставить в начало\n",
        "      if index==0:\n",
        "        self.push_front(data)\n",
        "        return\n",
        "     #находим элемент стоящий перед искомым\n",
        "      elif count+1 == index:\n",
        "        #получаем значение которое нужно сдвинуть(тот элемент который занимает место вставляемого)\n",
        "        the_node_after_cur = cur_node.get_next()\n",
        "        #устаналиваем в курнод следующим текущее(как бы переносим ссылку на новое значение)\n",
        "        cur_node.set_next(new_node)\n",
        "        #устаналиваем для нового нода следующим то что раньше двигали(как бы устаналиваем ссылку с нового значения на старое которое находилось на нужном индексе)\n",
        "        new_node.set_next(the_node_after_cur)\n",
        "        return\n",
        "      count+=1\n",
        "      cur_node= cur_node.get_next()\n",
        "\n",
        "\n",
        "\n",
        "  def remove(self,index):\n",
        "    cur_node =self.head\n",
        "    count=0\n",
        "    while cur_node.get_next() !=None:\n",
        "      if index==0:\n",
        "        self.remove_front()\n",
        "        return\n",
        "      elif count+1 == index:\n",
        "        the_node_to_move = cur_node.get_next()\n",
        "        the_node_after_remove = the_node_to_move.get_next()\n",
        "        cur_node.set_next(the_node_after_remove)\n",
        "      count+=1\n",
        "      cur_node = cur_node.get_next()\n",
        "\n",
        "  def reverse(self):\n",
        "    prev =None\n",
        "    cur_node = self.head\n",
        "    next=None\n",
        "    #пока курнод не равен none\n",
        "    while cur_node !=None:\n",
        "      #получаем следующий\n",
        "      next=cur_node.get_next()\n",
        "      #устаналиваем для текущего следующим предидущий\n",
        "      cur_node.set_next(prev)\n",
        "      #предидущий это текущий нод\n",
        "      prev=cur_node\n",
        "      #текущий это следующий\n",
        "      cur_node=next\n",
        "    #устаналиваем голову как предидущий\n",
        "    self.head = prev\n",
        "\n",
        "mylist = LinkedList()\n",
        "mylist.append(2)\n",
        "mylist.append(4)\n",
        "mylist.append(8)\n",
        "mylist.append(16)\n",
        "\n",
        "mylist.show()\n",
        "mylist.reverse()\n",
        "\n",
        "mylist.show()"
      ],
      "metadata": {
        "colab": {
          "base_uri": "https://localhost:8080/"
        },
        "id": "kmWuYEk4jmD7",
        "outputId": "43892055-80ab-4f1f-ac01-f400aa515cfc"
      },
      "execution_count": 6,
      "outputs": [
        {
          "output_type": "stream",
          "name": "stdout",
          "text": [
            "2>4>8>16>\n",
            "16>8>4>2>\n"
          ]
        }
      ]
    },
    {
      "cell_type": "markdown",
      "source": [
        "**Двусвязнный список (Doubly Linked List)**\n",
        "\n",
        "* Быстрое удаление с конца (O(1) вместо O(n)).\n",
        "* Обход в обе стороны — полезно для задач типа \"история браузера\".\n",
        "* Эффективный разворот — достаточно поменять местами prev и next."
      ],
      "metadata": {
        "id": "eIqXhWrPkQgj"
      }
    },
    {
      "cell_type": "code",
      "source": [
        "class Node:\n",
        "    def __init__(self, data=None, prev=None, next=None):\n",
        "        self.data = data\n",
        "        self.prev = prev  # Новое поле: ссылка на предыдущий узел\n",
        "        self.next = next\n",
        "\n",
        "class DoublyLinkedList:\n",
        "    def __init__(self):\n",
        "        self.head = None\n",
        "        self.tail = None  # Добавляем хвост для удобства операций в конец\n",
        "\n",
        "    def append(self, data):\n",
        "        new_node = Node(data)\n",
        "        if not self.head:\n",
        "            self.head = self.tail = new_node\n",
        "        else:\n",
        "            new_node.prev = self.tail\n",
        "            self.tail.next = new_node\n",
        "            self.tail = new_node\n",
        "\n",
        "    def push_front(self, data):\n",
        "        new_node = Node(data, next=self.head)\n",
        "        if self.head:\n",
        "            self.head.prev = new_node\n",
        "        else:\n",
        "            self.tail = new_node\n",
        "        self.head = new_node\n",
        "\n",
        "    def show(self):\n",
        "        cur = self.head\n",
        "        while cur:\n",
        "            print(f\"{cur.data} <-> \", end=\"\")\n",
        "            cur = cur.next\n",
        "        print(\"None\")\n",
        "\n",
        "    def remove_front(self):\n",
        "        if not self.head:\n",
        "            return\n",
        "        if self.head.next:\n",
        "            self.head.next.prev = None\n",
        "        else:\n",
        "            self.tail = None\n",
        "        self.head = self.head.next\n",
        "\n",
        "    def remove_back(self):\n",
        "        if not self.tail:\n",
        "            return\n",
        "        if self.tail.prev:\n",
        "            self.tail.prev.next = None\n",
        "        else:\n",
        "            self.head = None\n",
        "        self.tail = self.tail.prev\n",
        "\n",
        "    def reverse(self):\n",
        "        current = self.head\n",
        "        while current:\n",
        "            current.prev, current.next = current.next, current.prev\n",
        "            current = current.prev\n",
        "        self.head, self.tail = self.tail, self.head\n",
        "\n",
        "dll = DoublyLinkedList()\n",
        "dll.append(1)\n",
        "dll.append(2)\n",
        "dll.push_front(0)\n",
        "dll.remove_back()\n",
        "dll.show()\n",
        "dll.reverse()"
      ],
      "metadata": {
        "colab": {
          "base_uri": "https://localhost:8080/"
        },
        "id": "S5NslQSGkmrL",
        "outputId": "a6893956-f974-445c-e7be-0546e914fcbb"
      },
      "execution_count": 7,
      "outputs": [
        {
          "output_type": "stream",
          "name": "stdout",
          "text": [
            "0 <-> 1 <-> None\n"
          ]
        }
      ]
    },
    {
      "cell_type": "markdown",
      "source": [
        " **Двоичное дерево поиска (BST — Binary Search Tree).**\n",
        "\n",
        " Двоичное дерево — древовидная структура данных, в которой у родительских узлов не может быть больше двух детей.\n",
        "\n",
        "* BST позволяет искать элементы быстрее, чем в списке (O(log n) vs O(n))\n",
        "* Пример: поиск слова в словаре."
      ],
      "metadata": {
        "id": "ygf3CYj1ljcJ"
      }
    },
    {
      "cell_type": "code",
      "source": [
        "class Node:\n",
        "  def __init__(self,data):\n",
        "    self.left = None\n",
        "    self.right = None\n",
        "    self.data=data\n",
        "\n",
        "  def insert(self,data):\n",
        "    #если есть дата\n",
        "    if self.data:\n",
        "      #если дата меньше текущей даты\n",
        "      if data<self.data:\n",
        "        #если левое дерево не нан\n",
        "        if self.left is None:\n",
        "          #добавляем в левое дату\n",
        "          self.left = Node(data)\n",
        "        else:\n",
        "          self.left.insert(data)\n",
        "      #если дата больше\n",
        "      elif data>self.data:\n",
        "        #если правое дерево нан\n",
        "        if self.right is None:\n",
        "          #добавляем в прово ноду\n",
        "          self.right= Node(data)\n",
        "        else:\n",
        "          self.right.insert(data)\n",
        "    else:\n",
        "      self.data=data\n",
        "\n",
        "\n",
        "  def find_value(self,value):\n",
        "    if value <self.data:\n",
        "      if self.left is None:\n",
        "        return str(value) + \" not found\"\n",
        "      return self.left.find_value(value)\n",
        "    elif value>self.data:\n",
        "      if self.right is None:\n",
        "        return str(value)+\"not found\"\n",
        "      return self.right.find_value(value)\n",
        "    else:\n",
        "      return str(value) + \"is found\"\n",
        "\n",
        "  def print_tree(self):\n",
        "    if self.left:\n",
        "      self.left.print_tree()\n",
        "    print(self.data)\n",
        "    if self.right:\n",
        "      self.right.print_tree()\n",
        "\n",
        "node=Node(12)\n",
        "node.insert(6)\n",
        "node.insert(14)\n",
        "node.insert(3)\n",
        "\n",
        "node.print_tree()"
      ],
      "metadata": {
        "colab": {
          "base_uri": "https://localhost:8080/"
        },
        "id": "t1r8Nsxwl-PI",
        "outputId": "43a655a0-4ca3-496f-9f9c-10bf5fcca5e4"
      },
      "execution_count": 8,
      "outputs": [
        {
          "output_type": "stream",
          "name": "stdout",
          "text": [
            "3\n",
            "6\n",
            "12\n",
            "14\n"
          ]
        }
      ]
    },
    {
      "cell_type": "markdown",
      "source": [
        "**Куча (Heap)**\n",
        "\n",
        "Полное бинарное дерево, где каждый родительский узел меньше (min-heap) или больше (max-heap) своих потомков.\n",
        "\n",
        "Куча — идеальна для задач, где нужен быстрый доступ к минимуму/максимуму.\n",
        "Основные операции: push, pop за O(log n)"
      ],
      "metadata": {
        "id": "kY69uLsQr0wq"
      }
    },
    {
      "cell_type": "code",
      "source": [
        "import heapq  # Встроенный модуль Python для работы с кучей\n",
        "\n",
        "# Создание кучи (min-heap)\n",
        "heap = []\n",
        "heapq.heappush(heap, 5)  # Добавление элементов\n",
        "heapq.heappush(heap, 3)\n",
        "heapq.heappush(heap, 7)\n",
        "\n",
        "print(\"Минимум:\", heapq.heappop(heap))  # Извлечение минимума (3)\n",
        "print(\"Минимум:\", heapq.heappop(heap))  # Следующий минимум (5)\n",
        "\n",
        "class MinHeap:\n",
        "    def __init__(self):\n",
        "        self.heap = []\n",
        "\n",
        "    def push(self, val):\n",
        "        self.heap.append(val)\n",
        "        self._sift_up(len(self.heap) - 1)\n",
        "\n",
        "    def pop(self):\n",
        "        if not self.heap:\n",
        "            return None\n",
        "        self._swap(0, len(self.heap) - 1)\n",
        "        val = self.heap.pop()\n",
        "        self._sift_down(0)\n",
        "        return val\n",
        "\n",
        "    def _sift_up(self, idx):\n",
        "        parent = (idx - 1) // 2\n",
        "        if parent >= 0 and self.heap[parent] > self.heap[idx]:\n",
        "            self._swap(parent, idx)\n",
        "            self._sift_up(parent)\n",
        "\n",
        "    def _sift_down(self, idx):\n",
        "        left = 2 * idx + 1\n",
        "        right = 2 * idx + 2\n",
        "        smallest = idx\n",
        "        if left < len(self.heap) and self.heap[left] < self.heap[smallest]:\n",
        "            smallest = left\n",
        "        if right < len(self.heap) and self.heap[right] < self.heap[smallest]:\n",
        "            smallest = right\n",
        "        if smallest != idx:\n",
        "            self._swap(idx, smallest)\n",
        "            self._sift_down(smallest)\n",
        "\n",
        "    def _swap(self, i, j):\n",
        "        self.heap[i], self.heap[j] = self.heap[j], self.heap[i]\n",
        "heap = MinHeap()\n",
        "heap.push(5)\n",
        "heap.push(3)\n",
        "heap.push(7)\n",
        "heap.push(1)\n",
        "heap.push(4)\n",
        "\n",
        "\n",
        "print(heap.pop())\n",
        "print(heap.pop())\n",
        "print(heap.pop())"
      ],
      "metadata": {
        "colab": {
          "base_uri": "https://localhost:8080/"
        },
        "id": "__rmitU_scjq",
        "outputId": "dbf7cc91-0bc8-4f34-e49e-e819fdd895ed"
      },
      "execution_count": 10,
      "outputs": [
        {
          "output_type": "stream",
          "name": "stdout",
          "text": [
            "Минимум: 3\n",
            "Минимум: 5\n",
            "1\n",
            "3\n",
            "4\n"
          ]
        }
      ]
    },
    {
      "cell_type": "markdown",
      "source": [
        "**Графы Graphs**\n",
        "\n",
        "Граф — это абстрактная структура данных, представляющая собой:\n",
        "* Вершины (узлы) — объекты (например: города, пользователи, веб-страницы).\n",
        "* Рёбра (связи) — отношения между вершинами (например: дороги, дружба, гиперссылки)\n",
        "\n",
        "Применяется:\n",
        "* Социальные сети: поиск связей между людьми.\n",
        "* Маршрутизация: поиск пути в навигаторах.\n",
        "* Рекомендательные системы: анализ связей между товарами.\n",
        "\n",
        "Когда НЕ использовать?\n",
        "* Данные имеют простую структуру (списки, деревья).\n",
        "* Критична память (графы могут занимать много места)"
      ],
      "metadata": {
        "id": "qMHrPQ7omzdG"
      }
    },
    {
      "cell_type": "code",
      "source": [
        "from collections import deque\n",
        "\n",
        "class Graph:\n",
        "    def __init__(self, edges):\n",
        "        self.graph_dict = {}\n",
        "        # Правильное построение графа (учёт всех рёбер)\n",
        "        for start, end in edges:\n",
        "            if start not in self.graph_dict:\n",
        "                self.graph_dict[start] = []\n",
        "            self.graph_dict[start].append(end)\n",
        "            # Для неориентированного графа добавить обратное ребро:\n",
        "            # if end not in self.graph_dict:\n",
        "            #     self.graph_dict[end] = []\n",
        "            # self.graph_dict[end].append(start)\n",
        "        print(\"Graph dict:\", self.graph_dict)\n",
        "\n",
        "    def get_paths(self, start, end, path=None):\n",
        "        if path is None:\n",
        "            path = []\n",
        "        path = path + [start]\n",
        "\n",
        "        if start == end:\n",
        "            return [path]\n",
        "\n",
        "        if start not in self.graph_dict:\n",
        "            return []\n",
        "\n",
        "        paths = []\n",
        "        for node in self.graph_dict[start]:  # Исправлено: graph_dict[start]\n",
        "            if node not in path:\n",
        "                new_paths = self.get_paths(node, end, path)\n",
        "                for p in new_paths:\n",
        "                    paths.append(p)\n",
        "        return paths\n",
        "\n",
        "    def get_shortest_path(self, start, end):\n",
        "        \"\"\"Оптимизированная версия через BFS (для невзвешенных графов)\"\"\"\n",
        "        if start not in self.graph_dict or end not in self.graph_dict:\n",
        "            return None\n",
        "\n",
        "        queue = deque()\n",
        "        queue.append([start])\n",
        "\n",
        "        while queue:\n",
        "            path = queue.popleft()\n",
        "            node = path[-1]\n",
        "\n",
        "            if node == end:\n",
        "                return path\n",
        "\n",
        "            for neighbor in self.graph_dict.get(node, []):\n",
        "                if neighbor not in path:\n",
        "                    new_path = list(path)\n",
        "                    new_path.append(neighbor)\n",
        "                    queue.append(new_path)\n",
        "        return None\n",
        "\n",
        "# Тестирование\n",
        "routes = [\n",
        "    (\"Mumbai\", \"Paris\"),\n",
        "    (\"Mumbai\", \"Dubai\"),\n",
        "    (\"Paris\", \"Dubai\"),\n",
        "    (\"Paris\", \"New York\"),\n",
        "    (\"New York\", \"Toronto\")\n",
        "]\n",
        "\n",
        "route_graph = Graph(routes)\n",
        "start = \"Mumbai\"\n",
        "end = \"Dubai\"\n",
        "\n",
        "print(\"\\nAll paths:\")\n",
        "print(route_graph.get_paths(start, end))\n",
        "print(\"\\nShortest path:\")\n",
        "print(route_graph.get_shortest_path(start, end))"
      ],
      "metadata": {
        "colab": {
          "base_uri": "https://localhost:8080/"
        },
        "id": "guvnTel9mrFw",
        "outputId": "af63f41b-53fc-47ce-b263-d9207aa1610e"
      },
      "execution_count": 9,
      "outputs": [
        {
          "output_type": "stream",
          "name": "stdout",
          "text": [
            "Graph dict: {'Mumbai': ['Paris', 'Dubai'], 'Paris': ['Dubai', 'New York'], 'New York': ['Toronto']}\n",
            "\n",
            "All paths:\n",
            "[['Mumbai', 'Paris', 'Dubai'], ['Mumbai', 'Dubai']]\n",
            "\n",
            "Shortest path:\n",
            "None\n"
          ]
        }
      ]
    }
  ]
}