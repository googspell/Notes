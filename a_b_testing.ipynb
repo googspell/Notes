{
  "nbformat": 4,
  "nbformat_minor": 0,
  "metadata": {
    "colab": {
      "provenance": [],
      "authorship_tag": "ABX9TyOqQUAEuG08VXEY7pdtbTlr",
      "include_colab_link": true
    },
    "kernelspec": {
      "name": "python3",
      "display_name": "Python 3"
    },
    "language_info": {
      "name": "python"
    },
    "widgets": {
      "application/vnd.jupyter.widget-state+json": {
        "935d362e5d154e8e82662a06886bc1f0": {
          "model_module": "@jupyter-widgets/controls",
          "model_name": "HBoxModel",
          "model_module_version": "1.5.0",
          "state": {
            "_dom_classes": [],
            "_model_module": "@jupyter-widgets/controls",
            "_model_module_version": "1.5.0",
            "_model_name": "HBoxModel",
            "_view_count": null,
            "_view_module": "@jupyter-widgets/controls",
            "_view_module_version": "1.5.0",
            "_view_name": "HBoxView",
            "box_style": "",
            "children": [
              "IPY_MODEL_c988a23469e047439c6ae70906752151",
              "IPY_MODEL_8d639a1cd95b4273824b2566ee037b8b",
              "IPY_MODEL_6f1814964c34482eb0ff3677eb4ee38b"
            ],
            "layout": "IPY_MODEL_a2bed13871d7422d893a55913d70653d"
          }
        },
        "c988a23469e047439c6ae70906752151": {
          "model_module": "@jupyter-widgets/controls",
          "model_name": "HTMLModel",
          "model_module_version": "1.5.0",
          "state": {
            "_dom_classes": [],
            "_model_module": "@jupyter-widgets/controls",
            "_model_module_version": "1.5.0",
            "_model_name": "HTMLModel",
            "_view_count": null,
            "_view_module": "@jupyter-widgets/controls",
            "_view_module_version": "1.5.0",
            "_view_name": "HTMLView",
            "description": "",
            "description_tooltip": null,
            "layout": "IPY_MODEL_c6af187bf5ca425d87eb17ddeeec4656",
            "placeholder": "​",
            "style": "IPY_MODEL_d87d806f8a1842fdbbb11aa90b0b3e72",
            "value": "100%"
          }
        },
        "8d639a1cd95b4273824b2566ee037b8b": {
          "model_module": "@jupyter-widgets/controls",
          "model_name": "FloatProgressModel",
          "model_module_version": "1.5.0",
          "state": {
            "_dom_classes": [],
            "_model_module": "@jupyter-widgets/controls",
            "_model_module_version": "1.5.0",
            "_model_name": "FloatProgressModel",
            "_view_count": null,
            "_view_module": "@jupyter-widgets/controls",
            "_view_module_version": "1.5.0",
            "_view_name": "ProgressView",
            "bar_style": "success",
            "description": "",
            "description_tooltip": null,
            "layout": "IPY_MODEL_7a3f78ced78f4a8998b02424fce77f36",
            "max": 10000,
            "min": 0,
            "orientation": "horizontal",
            "style": "IPY_MODEL_68593015450b4ffc8bc3f7eb661642f8",
            "value": 10000
          }
        },
        "6f1814964c34482eb0ff3677eb4ee38b": {
          "model_module": "@jupyter-widgets/controls",
          "model_name": "HTMLModel",
          "model_module_version": "1.5.0",
          "state": {
            "_dom_classes": [],
            "_model_module": "@jupyter-widgets/controls",
            "_model_module_version": "1.5.0",
            "_model_name": "HTMLModel",
            "_view_count": null,
            "_view_module": "@jupyter-widgets/controls",
            "_view_module_version": "1.5.0",
            "_view_name": "HTMLView",
            "description": "",
            "description_tooltip": null,
            "layout": "IPY_MODEL_2b1060cd40ff431187c16907d0e9aa7a",
            "placeholder": "​",
            "style": "IPY_MODEL_95940c3018064d0bb93eb1b8d9252b09",
            "value": " 10000/10000 [00:38&lt;00:00, 305.99it/s]"
          }
        },
        "a2bed13871d7422d893a55913d70653d": {
          "model_module": "@jupyter-widgets/base",
          "model_name": "LayoutModel",
          "model_module_version": "1.2.0",
          "state": {
            "_model_module": "@jupyter-widgets/base",
            "_model_module_version": "1.2.0",
            "_model_name": "LayoutModel",
            "_view_count": null,
            "_view_module": "@jupyter-widgets/base",
            "_view_module_version": "1.2.0",
            "_view_name": "LayoutView",
            "align_content": null,
            "align_items": null,
            "align_self": null,
            "border": null,
            "bottom": null,
            "display": null,
            "flex": null,
            "flex_flow": null,
            "grid_area": null,
            "grid_auto_columns": null,
            "grid_auto_flow": null,
            "grid_auto_rows": null,
            "grid_column": null,
            "grid_gap": null,
            "grid_row": null,
            "grid_template_areas": null,
            "grid_template_columns": null,
            "grid_template_rows": null,
            "height": null,
            "justify_content": null,
            "justify_items": null,
            "left": null,
            "margin": null,
            "max_height": null,
            "max_width": null,
            "min_height": null,
            "min_width": null,
            "object_fit": null,
            "object_position": null,
            "order": null,
            "overflow": null,
            "overflow_x": null,
            "overflow_y": null,
            "padding": null,
            "right": null,
            "top": null,
            "visibility": null,
            "width": null
          }
        },
        "c6af187bf5ca425d87eb17ddeeec4656": {
          "model_module": "@jupyter-widgets/base",
          "model_name": "LayoutModel",
          "model_module_version": "1.2.0",
          "state": {
            "_model_module": "@jupyter-widgets/base",
            "_model_module_version": "1.2.0",
            "_model_name": "LayoutModel",
            "_view_count": null,
            "_view_module": "@jupyter-widgets/base",
            "_view_module_version": "1.2.0",
            "_view_name": "LayoutView",
            "align_content": null,
            "align_items": null,
            "align_self": null,
            "border": null,
            "bottom": null,
            "display": null,
            "flex": null,
            "flex_flow": null,
            "grid_area": null,
            "grid_auto_columns": null,
            "grid_auto_flow": null,
            "grid_auto_rows": null,
            "grid_column": null,
            "grid_gap": null,
            "grid_row": null,
            "grid_template_areas": null,
            "grid_template_columns": null,
            "grid_template_rows": null,
            "height": null,
            "justify_content": null,
            "justify_items": null,
            "left": null,
            "margin": null,
            "max_height": null,
            "max_width": null,
            "min_height": null,
            "min_width": null,
            "object_fit": null,
            "object_position": null,
            "order": null,
            "overflow": null,
            "overflow_x": null,
            "overflow_y": null,
            "padding": null,
            "right": null,
            "top": null,
            "visibility": null,
            "width": null
          }
        },
        "d87d806f8a1842fdbbb11aa90b0b3e72": {
          "model_module": "@jupyter-widgets/controls",
          "model_name": "DescriptionStyleModel",
          "model_module_version": "1.5.0",
          "state": {
            "_model_module": "@jupyter-widgets/controls",
            "_model_module_version": "1.5.0",
            "_model_name": "DescriptionStyleModel",
            "_view_count": null,
            "_view_module": "@jupyter-widgets/base",
            "_view_module_version": "1.2.0",
            "_view_name": "StyleView",
            "description_width": ""
          }
        },
        "7a3f78ced78f4a8998b02424fce77f36": {
          "model_module": "@jupyter-widgets/base",
          "model_name": "LayoutModel",
          "model_module_version": "1.2.0",
          "state": {
            "_model_module": "@jupyter-widgets/base",
            "_model_module_version": "1.2.0",
            "_model_name": "LayoutModel",
            "_view_count": null,
            "_view_module": "@jupyter-widgets/base",
            "_view_module_version": "1.2.0",
            "_view_name": "LayoutView",
            "align_content": null,
            "align_items": null,
            "align_self": null,
            "border": null,
            "bottom": null,
            "display": null,
            "flex": null,
            "flex_flow": null,
            "grid_area": null,
            "grid_auto_columns": null,
            "grid_auto_flow": null,
            "grid_auto_rows": null,
            "grid_column": null,
            "grid_gap": null,
            "grid_row": null,
            "grid_template_areas": null,
            "grid_template_columns": null,
            "grid_template_rows": null,
            "height": null,
            "justify_content": null,
            "justify_items": null,
            "left": null,
            "margin": null,
            "max_height": null,
            "max_width": null,
            "min_height": null,
            "min_width": null,
            "object_fit": null,
            "object_position": null,
            "order": null,
            "overflow": null,
            "overflow_x": null,
            "overflow_y": null,
            "padding": null,
            "right": null,
            "top": null,
            "visibility": null,
            "width": null
          }
        },
        "68593015450b4ffc8bc3f7eb661642f8": {
          "model_module": "@jupyter-widgets/controls",
          "model_name": "ProgressStyleModel",
          "model_module_version": "1.5.0",
          "state": {
            "_model_module": "@jupyter-widgets/controls",
            "_model_module_version": "1.5.0",
            "_model_name": "ProgressStyleModel",
            "_view_count": null,
            "_view_module": "@jupyter-widgets/base",
            "_view_module_version": "1.2.0",
            "_view_name": "StyleView",
            "bar_color": null,
            "description_width": ""
          }
        },
        "2b1060cd40ff431187c16907d0e9aa7a": {
          "model_module": "@jupyter-widgets/base",
          "model_name": "LayoutModel",
          "model_module_version": "1.2.0",
          "state": {
            "_model_module": "@jupyter-widgets/base",
            "_model_module_version": "1.2.0",
            "_model_name": "LayoutModel",
            "_view_count": null,
            "_view_module": "@jupyter-widgets/base",
            "_view_module_version": "1.2.0",
            "_view_name": "LayoutView",
            "align_content": null,
            "align_items": null,
            "align_self": null,
            "border": null,
            "bottom": null,
            "display": null,
            "flex": null,
            "flex_flow": null,
            "grid_area": null,
            "grid_auto_columns": null,
            "grid_auto_flow": null,
            "grid_auto_rows": null,
            "grid_column": null,
            "grid_gap": null,
            "grid_row": null,
            "grid_template_areas": null,
            "grid_template_columns": null,
            "grid_template_rows": null,
            "height": null,
            "justify_content": null,
            "justify_items": null,
            "left": null,
            "margin": null,
            "max_height": null,
            "max_width": null,
            "min_height": null,
            "min_width": null,
            "object_fit": null,
            "object_position": null,
            "order": null,
            "overflow": null,
            "overflow_x": null,
            "overflow_y": null,
            "padding": null,
            "right": null,
            "top": null,
            "visibility": null,
            "width": null
          }
        },
        "95940c3018064d0bb93eb1b8d9252b09": {
          "model_module": "@jupyter-widgets/controls",
          "model_name": "DescriptionStyleModel",
          "model_module_version": "1.5.0",
          "state": {
            "_model_module": "@jupyter-widgets/controls",
            "_model_module_version": "1.5.0",
            "_model_name": "DescriptionStyleModel",
            "_view_count": null,
            "_view_module": "@jupyter-widgets/base",
            "_view_module_version": "1.2.0",
            "_view_name": "StyleView",
            "description_width": ""
          }
        }
      }
    }
  },
  "cells": [
    {
      "cell_type": "markdown",
      "metadata": {
        "id": "view-in-github",
        "colab_type": "text"
      },
      "source": [
        "<a href=\"https://colab.research.google.com/github/googspell/Notes/blob/main/a_b_testing.ipynb\" target=\"_parent\"><img src=\"https://colab.research.google.com/assets/colab-badge.svg\" alt=\"Open In Colab\"/></a>"
      ]
    },
    {
      "cell_type": "code",
      "execution_count": 2,
      "metadata": {
        "id": "rCo1pqs8LtXr"
      },
      "outputs": [],
      "source": [
        "import pandas as pd\n",
        "import numpy as np\n",
        "import seaborn as sns\n",
        "import matplotlib.pyplot as plt\n",
        "from scipy.stats import ttest_ind\n",
        "from scipy.stats import norm\n",
        "from tqdm.auto import tqdm\n",
        "from statsmodels.stats.power import tt_ind_solve_power\n",
        "import datetime as dt\n",
        "import matplotlib.pyplot as plt\n",
        "import seaborn as sns\n",
        "import random\n",
        "from random import shuffle\n",
        "import scipy.stats as stats\n",
        "import pylab\n",
        "import scipy.stats as stats\n",
        "import statsmodels.stats.api as sms\n",
        "from tqdm.notebook import tqdm\n",
        "from scipy.stats import ttest_ind\n",
        "from statsmodels.stats.proportion import proportions_ztest\n",
        "from sklearn.model_selection import train_test_split\n",
        "import math"
      ]
    },
    {
      "cell_type": "markdown",
      "source": [
        "#Кратко про A/B"
      ],
      "metadata": {
        "id": "b3S0gJJDJjqb"
      }
    },
    {
      "cell_type": "markdown",
      "source": [
        "Планирование эксперимента:\n",
        "\n",
        "    выбираем и фиксируем метрики;\n",
        "\n",
        "    формулируем гипотезу H0, альтернативную и выбираем MDE;\n",
        "\n",
        "    выбираем способ подведения итогов;\n",
        "\n",
        "    определяем alpha и beta, размер выборки и MDE;\n",
        "\n",
        "    оптимизируем размер выборки.\n",
        "\n",
        "Подготовка групп:\n",
        "\n",
        "    разбиваем клиентов на группы;\n",
        "\n",
        "    проводим стратификацию, если она возможна;\n",
        "\n",
        "    замораживаем клиентов, участвующих в кампании (контрольная и тестовая группы).\n",
        "\n",
        "Запуск эксперимента:\n",
        "\n",
        "    проверяем статус факта воздействия;\n",
        "\n",
        "    проверяем, что объекты из контрольной группы были без воздействия;\n",
        "\n",
        "    контролируем заморозку клиентов;\n",
        "\n",
        "    уточняем, как замораживается глобальная контрольная группа (если планируется ее учет в анализе).\n",
        "\n",
        "Анализ результатов:\n",
        "\n",
        "    подготавливаем данные;\n",
        "\n",
        "    анализируем результаты эксперимента."
      ],
      "metadata": {
        "id": "zELxI_J9DR4K"
      }
    },
    {
      "cell_type": "markdown",
      "source": [
        "#Загрузка данных"
      ],
      "metadata": {
        "id": "yqw0PSvyJury"
      }
    },
    {
      "cell_type": "code",
      "source": [
        "#download_data\n",
        "! gdown --id 1d4dKVSWkM5krXxRAYFfpsjfrKXsvxC09\n",
        "df = pd.read_csv('data_sample.csv')\n",
        "df"
      ],
      "metadata": {
        "colab": {
          "base_uri": "https://localhost:8080/",
          "height": 569
        },
        "id": "Ubrzb644L3rM",
        "outputId": "9ab1af39-88a1-4b5b-9b9e-e45bda52de5d"
      },
      "execution_count": 3,
      "outputs": [
        {
          "output_type": "stream",
          "name": "stdout",
          "text": [
            "/usr/local/lib/python3.11/dist-packages/gdown/__main__.py:140: FutureWarning: Option `--id` was deprecated in version 4.3.1 and will be removed in 5.0. You don't need to pass it anymore to use a file ID.\n",
            "  warnings.warn(\n",
            "Downloading...\n",
            "From (original): https://drive.google.com/uc?id=1d4dKVSWkM5krXxRAYFfpsjfrKXsvxC09\n",
            "From (redirected): https://drive.google.com/uc?id=1d4dKVSWkM5krXxRAYFfpsjfrKXsvxC09&confirm=t&uuid=7f4236e9-e51e-4f7e-a0c6-aaf876b72a0d\n",
            "To: /content/data_sample.csv\n",
            "100% 222M/222M [00:02<00:00, 97.9MB/s]\n"
          ]
        },
        {
          "output_type": "execute_result",
          "data": {
            "text/plain": [
              "                   client_id    metric_0   metric_1              cluster\n",
              "0       -2917156731031764456  177.886667  179.22000 -6531971287207578528\n",
              "1        -306818816989293400  180.000000  175.00000  7211711116472990198\n",
              "2       -1872005487286263859  180.000000  175.00000 -6531971287207578528\n",
              "3       -5945540625927146720  181.000000  174.17600  3679653954144948413\n",
              "4        4772133492388554009  159.960000  160.00000  3679653954144948413\n",
              "...                      ...         ...        ...                  ...\n",
              "3693379 -6030660957351469840  190.000000  199.91000 -7957617277778039593\n",
              "3693380 -2479951720758887163  175.873333  179.71000  7211711116472990198\n",
              "3693381 -9020186507018426629  165.540000  170.27750 -7957617277778039593\n",
              "3693382 -5655608610769659125  172.670000  173.19200 -7957617277778039593\n",
              "3693383 -2811140655796299293  179.176667  180.03125 -7957617277778039593\n",
              "\n",
              "[3693384 rows x 4 columns]"
            ],
            "text/html": [
              "\n",
              "  <div id=\"df-7c51dbdd-0bf8-43a3-b60a-d61b064fe7bc\" class=\"colab-df-container\">\n",
              "    <div>\n",
              "<style scoped>\n",
              "    .dataframe tbody tr th:only-of-type {\n",
              "        vertical-align: middle;\n",
              "    }\n",
              "\n",
              "    .dataframe tbody tr th {\n",
              "        vertical-align: top;\n",
              "    }\n",
              "\n",
              "    .dataframe thead th {\n",
              "        text-align: right;\n",
              "    }\n",
              "</style>\n",
              "<table border=\"1\" class=\"dataframe\">\n",
              "  <thead>\n",
              "    <tr style=\"text-align: right;\">\n",
              "      <th></th>\n",
              "      <th>client_id</th>\n",
              "      <th>metric_0</th>\n",
              "      <th>metric_1</th>\n",
              "      <th>cluster</th>\n",
              "    </tr>\n",
              "  </thead>\n",
              "  <tbody>\n",
              "    <tr>\n",
              "      <th>0</th>\n",
              "      <td>-2917156731031764456</td>\n",
              "      <td>177.886667</td>\n",
              "      <td>179.22000</td>\n",
              "      <td>-6531971287207578528</td>\n",
              "    </tr>\n",
              "    <tr>\n",
              "      <th>1</th>\n",
              "      <td>-306818816989293400</td>\n",
              "      <td>180.000000</td>\n",
              "      <td>175.00000</td>\n",
              "      <td>7211711116472990198</td>\n",
              "    </tr>\n",
              "    <tr>\n",
              "      <th>2</th>\n",
              "      <td>-1872005487286263859</td>\n",
              "      <td>180.000000</td>\n",
              "      <td>175.00000</td>\n",
              "      <td>-6531971287207578528</td>\n",
              "    </tr>\n",
              "    <tr>\n",
              "      <th>3</th>\n",
              "      <td>-5945540625927146720</td>\n",
              "      <td>181.000000</td>\n",
              "      <td>174.17600</td>\n",
              "      <td>3679653954144948413</td>\n",
              "    </tr>\n",
              "    <tr>\n",
              "      <th>4</th>\n",
              "      <td>4772133492388554009</td>\n",
              "      <td>159.960000</td>\n",
              "      <td>160.00000</td>\n",
              "      <td>3679653954144948413</td>\n",
              "    </tr>\n",
              "    <tr>\n",
              "      <th>...</th>\n",
              "      <td>...</td>\n",
              "      <td>...</td>\n",
              "      <td>...</td>\n",
              "      <td>...</td>\n",
              "    </tr>\n",
              "    <tr>\n",
              "      <th>3693379</th>\n",
              "      <td>-6030660957351469840</td>\n",
              "      <td>190.000000</td>\n",
              "      <td>199.91000</td>\n",
              "      <td>-7957617277778039593</td>\n",
              "    </tr>\n",
              "    <tr>\n",
              "      <th>3693380</th>\n",
              "      <td>-2479951720758887163</td>\n",
              "      <td>175.873333</td>\n",
              "      <td>179.71000</td>\n",
              "      <td>7211711116472990198</td>\n",
              "    </tr>\n",
              "    <tr>\n",
              "      <th>3693381</th>\n",
              "      <td>-9020186507018426629</td>\n",
              "      <td>165.540000</td>\n",
              "      <td>170.27750</td>\n",
              "      <td>-7957617277778039593</td>\n",
              "    </tr>\n",
              "    <tr>\n",
              "      <th>3693382</th>\n",
              "      <td>-5655608610769659125</td>\n",
              "      <td>172.670000</td>\n",
              "      <td>173.19200</td>\n",
              "      <td>-7957617277778039593</td>\n",
              "    </tr>\n",
              "    <tr>\n",
              "      <th>3693383</th>\n",
              "      <td>-2811140655796299293</td>\n",
              "      <td>179.176667</td>\n",
              "      <td>180.03125</td>\n",
              "      <td>-7957617277778039593</td>\n",
              "    </tr>\n",
              "  </tbody>\n",
              "</table>\n",
              "<p>3693384 rows × 4 columns</p>\n",
              "</div>\n",
              "    <div class=\"colab-df-buttons\">\n",
              "\n",
              "  <div class=\"colab-df-container\">\n",
              "    <button class=\"colab-df-convert\" onclick=\"convertToInteractive('df-7c51dbdd-0bf8-43a3-b60a-d61b064fe7bc')\"\n",
              "            title=\"Convert this dataframe to an interactive table.\"\n",
              "            style=\"display:none;\">\n",
              "\n",
              "  <svg xmlns=\"http://www.w3.org/2000/svg\" height=\"24px\" viewBox=\"0 -960 960 960\">\n",
              "    <path d=\"M120-120v-720h720v720H120Zm60-500h600v-160H180v160Zm220 220h160v-160H400v160Zm0 220h160v-160H400v160ZM180-400h160v-160H180v160Zm440 0h160v-160H620v160ZM180-180h160v-160H180v160Zm440 0h160v-160H620v160Z\"/>\n",
              "  </svg>\n",
              "    </button>\n",
              "\n",
              "  <style>\n",
              "    .colab-df-container {\n",
              "      display:flex;\n",
              "      gap: 12px;\n",
              "    }\n",
              "\n",
              "    .colab-df-convert {\n",
              "      background-color: #E8F0FE;\n",
              "      border: none;\n",
              "      border-radius: 50%;\n",
              "      cursor: pointer;\n",
              "      display: none;\n",
              "      fill: #1967D2;\n",
              "      height: 32px;\n",
              "      padding: 0 0 0 0;\n",
              "      width: 32px;\n",
              "    }\n",
              "\n",
              "    .colab-df-convert:hover {\n",
              "      background-color: #E2EBFA;\n",
              "      box-shadow: 0px 1px 2px rgba(60, 64, 67, 0.3), 0px 1px 3px 1px rgba(60, 64, 67, 0.15);\n",
              "      fill: #174EA6;\n",
              "    }\n",
              "\n",
              "    .colab-df-buttons div {\n",
              "      margin-bottom: 4px;\n",
              "    }\n",
              "\n",
              "    [theme=dark] .colab-df-convert {\n",
              "      background-color: #3B4455;\n",
              "      fill: #D2E3FC;\n",
              "    }\n",
              "\n",
              "    [theme=dark] .colab-df-convert:hover {\n",
              "      background-color: #434B5C;\n",
              "      box-shadow: 0px 1px 3px 1px rgba(0, 0, 0, 0.15);\n",
              "      filter: drop-shadow(0px 1px 2px rgba(0, 0, 0, 0.3));\n",
              "      fill: #FFFFFF;\n",
              "    }\n",
              "  </style>\n",
              "\n",
              "    <script>\n",
              "      const buttonEl =\n",
              "        document.querySelector('#df-7c51dbdd-0bf8-43a3-b60a-d61b064fe7bc button.colab-df-convert');\n",
              "      buttonEl.style.display =\n",
              "        google.colab.kernel.accessAllowed ? 'block' : 'none';\n",
              "\n",
              "      async function convertToInteractive(key) {\n",
              "        const element = document.querySelector('#df-7c51dbdd-0bf8-43a3-b60a-d61b064fe7bc');\n",
              "        const dataTable =\n",
              "          await google.colab.kernel.invokeFunction('convertToInteractive',\n",
              "                                                    [key], {});\n",
              "        if (!dataTable) return;\n",
              "\n",
              "        const docLinkHtml = 'Like what you see? Visit the ' +\n",
              "          '<a target=\"_blank\" href=https://colab.research.google.com/notebooks/data_table.ipynb>data table notebook</a>'\n",
              "          + ' to learn more about interactive tables.';\n",
              "        element.innerHTML = '';\n",
              "        dataTable['output_type'] = 'display_data';\n",
              "        await google.colab.output.renderOutput(dataTable, element);\n",
              "        const docLink = document.createElement('div');\n",
              "        docLink.innerHTML = docLinkHtml;\n",
              "        element.appendChild(docLink);\n",
              "      }\n",
              "    </script>\n",
              "  </div>\n",
              "\n",
              "\n",
              "    <div id=\"df-d435f6de-07d2-4c3a-891a-0b898f1598ec\">\n",
              "      <button class=\"colab-df-quickchart\" onclick=\"quickchart('df-d435f6de-07d2-4c3a-891a-0b898f1598ec')\"\n",
              "                title=\"Suggest charts\"\n",
              "                style=\"display:none;\">\n",
              "\n",
              "<svg xmlns=\"http://www.w3.org/2000/svg\" height=\"24px\"viewBox=\"0 0 24 24\"\n",
              "     width=\"24px\">\n",
              "    <g>\n",
              "        <path d=\"M19 3H5c-1.1 0-2 .9-2 2v14c0 1.1.9 2 2 2h14c1.1 0 2-.9 2-2V5c0-1.1-.9-2-2-2zM9 17H7v-7h2v7zm4 0h-2V7h2v10zm4 0h-2v-4h2v4z\"/>\n",
              "    </g>\n",
              "</svg>\n",
              "      </button>\n",
              "\n",
              "<style>\n",
              "  .colab-df-quickchart {\n",
              "      --bg-color: #E8F0FE;\n",
              "      --fill-color: #1967D2;\n",
              "      --hover-bg-color: #E2EBFA;\n",
              "      --hover-fill-color: #174EA6;\n",
              "      --disabled-fill-color: #AAA;\n",
              "      --disabled-bg-color: #DDD;\n",
              "  }\n",
              "\n",
              "  [theme=dark] .colab-df-quickchart {\n",
              "      --bg-color: #3B4455;\n",
              "      --fill-color: #D2E3FC;\n",
              "      --hover-bg-color: #434B5C;\n",
              "      --hover-fill-color: #FFFFFF;\n",
              "      --disabled-bg-color: #3B4455;\n",
              "      --disabled-fill-color: #666;\n",
              "  }\n",
              "\n",
              "  .colab-df-quickchart {\n",
              "    background-color: var(--bg-color);\n",
              "    border: none;\n",
              "    border-radius: 50%;\n",
              "    cursor: pointer;\n",
              "    display: none;\n",
              "    fill: var(--fill-color);\n",
              "    height: 32px;\n",
              "    padding: 0;\n",
              "    width: 32px;\n",
              "  }\n",
              "\n",
              "  .colab-df-quickchart:hover {\n",
              "    background-color: var(--hover-bg-color);\n",
              "    box-shadow: 0 1px 2px rgba(60, 64, 67, 0.3), 0 1px 3px 1px rgba(60, 64, 67, 0.15);\n",
              "    fill: var(--button-hover-fill-color);\n",
              "  }\n",
              "\n",
              "  .colab-df-quickchart-complete:disabled,\n",
              "  .colab-df-quickchart-complete:disabled:hover {\n",
              "    background-color: var(--disabled-bg-color);\n",
              "    fill: var(--disabled-fill-color);\n",
              "    box-shadow: none;\n",
              "  }\n",
              "\n",
              "  .colab-df-spinner {\n",
              "    border: 2px solid var(--fill-color);\n",
              "    border-color: transparent;\n",
              "    border-bottom-color: var(--fill-color);\n",
              "    animation:\n",
              "      spin 1s steps(1) infinite;\n",
              "  }\n",
              "\n",
              "  @keyframes spin {\n",
              "    0% {\n",
              "      border-color: transparent;\n",
              "      border-bottom-color: var(--fill-color);\n",
              "      border-left-color: var(--fill-color);\n",
              "    }\n",
              "    20% {\n",
              "      border-color: transparent;\n",
              "      border-left-color: var(--fill-color);\n",
              "      border-top-color: var(--fill-color);\n",
              "    }\n",
              "    30% {\n",
              "      border-color: transparent;\n",
              "      border-left-color: var(--fill-color);\n",
              "      border-top-color: var(--fill-color);\n",
              "      border-right-color: var(--fill-color);\n",
              "    }\n",
              "    40% {\n",
              "      border-color: transparent;\n",
              "      border-right-color: var(--fill-color);\n",
              "      border-top-color: var(--fill-color);\n",
              "    }\n",
              "    60% {\n",
              "      border-color: transparent;\n",
              "      border-right-color: var(--fill-color);\n",
              "    }\n",
              "    80% {\n",
              "      border-color: transparent;\n",
              "      border-right-color: var(--fill-color);\n",
              "      border-bottom-color: var(--fill-color);\n",
              "    }\n",
              "    90% {\n",
              "      border-color: transparent;\n",
              "      border-bottom-color: var(--fill-color);\n",
              "    }\n",
              "  }\n",
              "</style>\n",
              "\n",
              "      <script>\n",
              "        async function quickchart(key) {\n",
              "          const quickchartButtonEl =\n",
              "            document.querySelector('#' + key + ' button');\n",
              "          quickchartButtonEl.disabled = true;  // To prevent multiple clicks.\n",
              "          quickchartButtonEl.classList.add('colab-df-spinner');\n",
              "          try {\n",
              "            const charts = await google.colab.kernel.invokeFunction(\n",
              "                'suggestCharts', [key], {});\n",
              "          } catch (error) {\n",
              "            console.error('Error during call to suggestCharts:', error);\n",
              "          }\n",
              "          quickchartButtonEl.classList.remove('colab-df-spinner');\n",
              "          quickchartButtonEl.classList.add('colab-df-quickchart-complete');\n",
              "        }\n",
              "        (() => {\n",
              "          let quickchartButtonEl =\n",
              "            document.querySelector('#df-d435f6de-07d2-4c3a-891a-0b898f1598ec button');\n",
              "          quickchartButtonEl.style.display =\n",
              "            google.colab.kernel.accessAllowed ? 'block' : 'none';\n",
              "        })();\n",
              "      </script>\n",
              "    </div>\n",
              "    </div>\n",
              "  </div>\n"
            ],
            "application/vnd.google.colaboratory.intrinsic+json": {
              "type": "dataframe",
              "variable_name": "df"
            }
          },
          "metadata": {},
          "execution_count": 3
        }
      ]
    },
    {
      "cell_type": "markdown",
      "source": [
        "# Распределение средних\n",
        "Для проведения теста необходимо выяснить распределение среднего. Распределение среднего покажет каким методом оценки теста лучше воспользоваться. Для этого построим гистограмму и QQ"
      ],
      "metadata": {
        "id": "PFN7BDAQgZWa"
      }
    },
    {
      "cell_type": "code",
      "source": [
        "pd.Series([df['metric_0'].sample(30000,replace=True).mean() for _ in range(10000)]).hist()"
      ],
      "metadata": {
        "colab": {
          "base_uri": "https://localhost:8080/",
          "height": 448
        },
        "id": "OpHoL3ZJgcA_",
        "outputId": "b765847d-2156-46fb-d76b-0edc9cd1faef"
      },
      "execution_count": 4,
      "outputs": [
        {
          "output_type": "execute_result",
          "data": {
            "text/plain": [
              "<Axes: >"
            ]
          },
          "metadata": {},
          "execution_count": 4
        },
        {
          "output_type": "display_data",
          "data": {
            "text/plain": [
              "<Figure size 640x480 with 1 Axes>"
            ],
            "image/png": "[encoded data removed]"
          },
          "metadata": {}
        }
      ]
    },
    {
      "cell_type": "markdown",
      "source": [
        "Видим, что средние распредлены нормально т.е \"колокообразно\""
      ],
      "metadata": {
        "id": "wR_IurOfhdws"
      }
    },
    {
      "cell_type": "code",
      "source": [
        "d = pd.Series([df['metric_0'].sample(30000,replace=True).mean() for _ in range(1000)])\n",
        "stats.probplot(d, dist=\"norm\", plot=pylab)\n",
        "pylab.show()"
      ],
      "metadata": {
        "colab": {
          "base_uri": "https://localhost:8080/",
          "height": 472
        },
        "id": "MJqeggLKhtOD",
        "outputId": "bb1d1b4c-026d-416a-893f-5a0e3924cf9a"
      },
      "execution_count": 5,
      "outputs": [
        {
          "output_type": "display_data",
          "data": {
            "text/plain": [
              "<Figure size 640x480 with 1 Axes>"
            ],
            "image/png": "[encoded data removed]"
          },
          "metadata": {}
        }
      ]
    },
    {
      "cell_type": "markdown",
      "source": [
        "Видим что большая часть средних на линии"
      ],
      "metadata": {
        "id": "E6U4ZsGwiEw6"
      }
    },
    {
      "cell_type": "markdown",
      "source": [
        "Соотвественно средние распределены нормально и выполняються условия для проведения t  -testa"
      ],
      "metadata": {
        "id": "6BIxuJ0QCCV3"
      }
    },
    {
      "cell_type": "markdown",
      "source": [
        "# A/A тестирование"
      ],
      "metadata": {
        "id": "SkI6uypzs8c4"
      }
    },
    {
      "cell_type": "markdown",
      "source": [
        "Перед проведением a/b теста необходимо провести a/a тест и убедится в том, что различий между группа a/b нет различий. \"Мы планируем дать скидку части пользователям и посмотреть среднее и нам нужно убедиться в том,что нет различий в средних которым планируем дать скидку и которым не планируем\".\n",
        "Проведение a/a теста покажет верно ли выбран тест или наличие разницы средними в контрольной группе. А именно распределение p value должно быть равномерным.\n",
        "Если нулевая гипотиза верна то распределение p value должно быть равномерным. H0 - разницы между группами нет,выборки из одного распредления."
      ],
      "metadata": {
        "id": "l9CbXhJNC0ki"
      }
    },
    {
      "cell_type": "code",
      "source": [
        "p_values = []\n",
        "variations_rs = []\n",
        "\n",
        "n = 10000\n",
        "for _ in tqdm(range(n)):\n",
        "   sampled = np.random.choice(df['metric_0'].values, (10_000, 2), replace = True)\n",
        "   A = sampled[:, 0]\n",
        "   B = sampled[:, 1]\n",
        "\n",
        "   variations_rs.append(np.var(A))\n",
        "   _, p_value = ttest_ind(A, B, alternative = 'greater')\n",
        "   p_values.append(p_value)\n"
      ],
      "metadata": {
        "colab": {
          "base_uri": "https://localhost:8080/",
          "height": 49,
          "referenced_widgets": [
            "935d362e5d154e8e82662a06886bc1f0",
            "c988a23469e047439c6ae70906752151",
            "8d639a1cd95b4273824b2566ee037b8b",
            "6f1814964c34482eb0ff3677eb4ee38b",
            "a2bed13871d7422d893a55913d70653d",
            "c6af187bf5ca425d87eb17ddeeec4656",
            "d87d806f8a1842fdbbb11aa90b0b3e72",
            "7a3f78ced78f4a8998b02424fce77f36",
            "68593015450b4ffc8bc3f7eb661642f8",
            "2b1060cd40ff431187c16907d0e9aa7a",
            "95940c3018064d0bb93eb1b8d9252b09"
          ]
        },
        "id": "TyMaR0jrxkvj",
        "outputId": "53dfd166-0971-4562-a37d-2d53a768d554"
      },
      "execution_count": 6,
      "outputs": [
        {
          "output_type": "display_data",
          "data": {
            "text/plain": [
              "  0%|          | 0/10000 [00:00<?, ?it/s]"
            ],
            "application/vnd.jupyter.widget-view+json": {
              "version_major": 2,
              "version_minor": 0,
              "model_id": "935d362e5d154e8e82662a06886bc1f0"
            }
          },
          "metadata": {}
        }
      ]
    },
    {
      "cell_type": "code",
      "source": [
        "sns.histplot(p_values, bins = 10)"
      ],
      "metadata": {
        "colab": {
          "base_uri": "https://localhost:8080/",
          "height": 448
        },
        "id": "AETFx7LlwHy4",
        "outputId": "ecc13ff3-a122-4ecc-c1cc-cf0dda98938f"
      },
      "execution_count": 7,
      "outputs": [
        {
          "output_type": "execute_result",
          "data": {
            "text/plain": [
              "<Axes: ylabel='Count'>"
            ]
          },
          "metadata": {},
          "execution_count": 7
        },
        {
          "output_type": "display_data",
          "data": {
            "text/plain": [
              "<Figure size 640x480 with 1 Axes>"
            ],
            "image/png": "[encoded data removed]"
          },
          "metadata": {}
        }
      ]
    },
    {
      "cell_type": "markdown",
      "source": [
        "#Подсчет длительности и установка параметров теста\n"
      ],
      "metadata": {
        "id": "hTNpaWxxH895"
      }
    },
    {
      "cell_type": "code",
      "source": [
        "mean_value = df['metric_0'].mean()\n",
        "std_value  = df['metric_0'].std()\n",
        "eff=1.03\n",
        "results = tt_ind_solve_power(\n",
        "                    effect_size=mean_value*(eff-1)/std_value,\n",
        "                   alpha=0.05,\n",
        "                   power=0.8,\n",
        "                   nobs1=None,\n",
        "                   ratio=1)\n",
        "results"
      ],
      "metadata": {
        "colab": {
          "base_uri": "https://localhost:8080/"
        },
        "id": "VwHg6A8FA5mp",
        "outputId": "060e69c7-8cce-481b-e931-67ea9a416ba9"
      },
      "execution_count": 8,
      "outputs": [
        {
          "output_type": "execute_result",
          "data": {
            "text/plain": [
              "161.8829726988396"
            ]
          },
          "metadata": {},
          "execution_count": 8
        }
      ]
    },
    {
      "cell_type": "markdown",
      "source": [
        "Хотим зафиксировать эффект 3%.\n",
        "\n",
        "alpha=0.05 - вероятность отвергнуть нулевую гипотезу,когда она верна.\n",
        "\n",
        "power=0.8 - вероятность отклонить нулевую гипотизу при условии ее не верности.Грубо говорят показывает сколько % детектит наш тест p value < (0.05). В 80% случае когда нулевая гипотиза не верна мы ее отклоним."
      ],
      "metadata": {
        "id": "i9ffhoYyEikv"
      }
    },
    {
      "cell_type": "markdown",
      "source": [
        "Перед проведением эксперимента попробуем снизить дисперсию наших выборок. Зачем снижать дисперсию и что это дает? Дисперсия показывает насколько данные внутренне разбросаны.Соотвественно смещают оценку среднего,снижают MDE(минимальный детектируем эффект который признаеться значимым при заданных параметрах),что приводит к увеличению длительности экспермента(нам нужно набрать больше данных),и снижению чувствительности теста. Существует 2 распостраненных способа снижения дисперсии - стратификация и CUPED."
      ],
      "metadata": {
        "id": "L1R1Qg6_VlKC"
      }
    },
    {
      "cell_type": "markdown",
      "source": [
        "# Стратификация"
      ],
      "metadata": {
        "id": "acttHx4fWWs9"
      }
    },
    {
      "cell_type": "markdown",
      "source": [
        "В основе этого метода лежит разбиение всех наблюдений на независимые страты (группы) и использование выборочного стратифицированного среднего вместо обычного выборочного среднего.\n",
        "\n",
        "-выделяем кластеры\n",
        "\n",
        "-сэмплируем из кластеров"
      ],
      "metadata": {
        "id": "lYlZWcZ3WhMa"
      }
    },
    {
      "cell_type": "code",
      "source": [
        "p_values = []\n",
        "variations_srs = []\n",
        "for i in range(1000):\n",
        "    if (i % 50) == 0:\n",
        "        print(i)\n",
        "\n",
        "    clients_A = df.groupby('cluster', group_keys=False).apply(lambda x: x.sample(int(math.ceil(10_000*len(x)/len(df))))).sample(frac=1)\n",
        "    clients_B = df.loc[list(set(df.index) - set(clients_A.index))].groupby('cluster', group_keys=False).apply(lambda x: x.sample(int(math.ceil(10_000*len(x)/len(df))))).sample(frac=1)\n",
        "    A = clients_A['metric_0'].values\n",
        "    B = clients_B['metric_0'].values\n",
        "    variations_srs.append(np.var(A))\n",
        "    _, p_value = ttest_ind(A, B, alternative = 'greater')\n",
        "    p_values.append(p_value)"
      ],
      "metadata": {
        "colab": {
          "base_uri": "https://localhost:8080/"
        },
        "id": "KmTDDE66WNkU",
        "outputId": "16260098-7459-48aa-ae70-a718b1be45f6"
      },
      "execution_count": null,
      "outputs": [
        {
          "output_type": "stream",
          "name": "stdout",
          "text": [
            "0\n"
          ]
        },
        {
          "output_type": "stream",
          "name": "stderr",
          "text": [
            "<ipython-input-9-fe0bb6b3d82a>:7: DeprecationWarning: DataFrameGroupBy.apply operated on the grouping columns. This behavior is deprecated, and in a future version of pandas the grouping columns will be excluded from the operation. Either pass `include_groups=False` to exclude the groupings or explicitly select the grouping columns after groupby to silence this warning.\n",
            "  clients_A = df.groupby('cluster', group_keys=False).apply(lambda x: x.sample(int(math.ceil(10_000*len(x)/len(df))))).sample(frac=1)\n",
            "<ipython-input-9-fe0bb6b3d82a>:8: DeprecationWarning: DataFrameGroupBy.apply operated on the grouping columns. This behavior is deprecated, and in a future version of pandas the grouping columns will be excluded from the operation. Either pass `include_groups=False` to exclude the groupings or explicitly select the grouping columns after groupby to silence this warning.\n",
            "  clients_B = df.loc[list(set(df.index) - set(clients_A.index))].groupby('cluster', group_keys=False).apply(lambda x: x.sample(int(math.ceil(10_000*len(x)/len(df))))).sample(frac=1)\n",
            "<ipython-input-9-fe0bb6b3d82a>:7: DeprecationWarning: DataFrameGroupBy.apply operated on the grouping columns. This behavior is deprecated, and in a future version of pandas the grouping columns will be excluded from the operation. Either pass `include_groups=False` to exclude the groupings or explicitly select the grouping columns after groupby to silence this warning.\n",
            "  clients_A = df.groupby('cluster', group_keys=False).apply(lambda x: x.sample(int(math.ceil(10_000*len(x)/len(df))))).sample(frac=1)\n",
            "<ipython-input-9-fe0bb6b3d82a>:8: DeprecationWarning: DataFrameGroupBy.apply operated on the grouping columns. This behavior is deprecated, and in a future version of pandas the grouping columns will be excluded from the operation. Either pass `include_groups=False` to exclude the groupings or explicitly select the grouping columns after groupby to silence this warning.\n",
            "  clients_B = df.loc[list(set(df.index) - set(clients_A.index))].groupby('cluster', group_keys=False).apply(lambda x: x.sample(int(math.ceil(10_000*len(x)/len(df))))).sample(frac=1)\n",
            "<ipython-input-9-fe0bb6b3d82a>:7: DeprecationWarning: DataFrameGroupBy.apply operated on the grouping columns. This behavior is deprecated, and in a future version of pandas the grouping columns will be excluded from the operation. Either pass `include_groups=False` to exclude the groupings or explicitly select the grouping columns after groupby to silence this warning.\n",
            "  clients_A = df.groupby('cluster', group_keys=False).apply(lambda x: x.sample(int(math.ceil(10_000*len(x)/len(df))))).sample(frac=1)\n",
            "<ipython-input-9-fe0bb6b3d82a>:8: DeprecationWarning: DataFrameGroupBy.apply operated on the grouping columns. This behavior is deprecated, and in a future version of pandas the grouping columns will be excluded from the operation. Either pass `include_groups=False` to exclude the groupings or explicitly select the grouping columns after groupby to silence this warning.\n",
            "  clients_B = df.loc[list(set(df.index) - set(clients_A.index))].groupby('cluster', group_keys=False).apply(lambda x: x.sample(int(math.ceil(10_000*len(x)/len(df))))).sample(frac=1)\n",
            "<ipython-input-9-fe0bb6b3d82a>:7: DeprecationWarning: DataFrameGroupBy.apply operated on the grouping columns. This behavior is deprecated, and in a future version of pandas the grouping columns will be excluded from the operation. Either pass `include_groups=False` to exclude the groupings or explicitly select the grouping columns after groupby to silence this warning.\n",
            "  clients_A = df.groupby('cluster', group_keys=False).apply(lambda x: x.sample(int(math.ceil(10_000*len(x)/len(df))))).sample(frac=1)\n",
            "<ipython-input-9-fe0bb6b3d82a>:8: DeprecationWarning: DataFrameGroupBy.apply operated on the grouping columns. This behavior is deprecated, and in a future version of pandas the grouping columns will be excluded from the operation. Either pass `include_groups=False` to exclude the groupings or explicitly select the grouping columns after groupby to silence this warning.\n",
            "  clients_B = df.loc[list(set(df.index) - set(clients_A.index))].groupby('cluster', group_keys=False).apply(lambda x: x.sample(int(math.ceil(10_000*len(x)/len(df))))).sample(frac=1)\n",
            "<ipython-input-9-fe0bb6b3d82a>:7: DeprecationWarning: DataFrameGroupBy.apply operated on the grouping columns. This behavior is deprecated, and in a future version of pandas the grouping columns will be excluded from the operation. Either pass `include_groups=False` to exclude the groupings or explicitly select the grouping columns after groupby to silence this warning.\n",
            "  clients_A = df.groupby('cluster', group_keys=False).apply(lambda x: x.sample(int(math.ceil(10_000*len(x)/len(df))))).sample(frac=1)\n",
            "<ipython-input-9-fe0bb6b3d82a>:8: DeprecationWarning: DataFrameGroupBy.apply operated on the grouping columns. This behavior is deprecated, and in a future version of pandas the grouping columns will be excluded from the operation. Either pass `include_groups=False` to exclude the groupings or explicitly select the grouping columns after groupby to silence this warning.\n",
            "  clients_B = df.loc[list(set(df.index) - set(clients_A.index))].groupby('cluster', group_keys=False).apply(lambda x: x.sample(int(math.ceil(10_000*len(x)/len(df))))).sample(frac=1)\n",
            "<ipython-input-9-fe0bb6b3d82a>:7: DeprecationWarning: DataFrameGroupBy.apply operated on the grouping columns. This behavior is deprecated, and in a future version of pandas the grouping columns will be excluded from the operation. Either pass `include_groups=False` to exclude the groupings or explicitly select the grouping columns after groupby to silence this warning.\n",
            "  clients_A = df.groupby('cluster', group_keys=False).apply(lambda x: x.sample(int(math.ceil(10_000*len(x)/len(df))))).sample(frac=1)\n",
            "<ipython-input-9-fe0bb6b3d82a>:8: DeprecationWarning: DataFrameGroupBy.apply operated on the grouping columns. This behavior is deprecated, and in a future version of pandas the grouping columns will be excluded from the operation. Either pass `include_groups=False` to exclude the groupings or explicitly select the grouping columns after groupby to silence this warning.\n",
            "  clients_B = df.loc[list(set(df.index) - set(clients_A.index))].groupby('cluster', group_keys=False).apply(lambda x: x.sample(int(math.ceil(10_000*len(x)/len(df))))).sample(frac=1)\n",
            "<ipython-input-9-fe0bb6b3d82a>:7: DeprecationWarning: DataFrameGroupBy.apply operated on the grouping columns. This behavior is deprecated, and in a future version of pandas the grouping columns will be excluded from the operation. Either pass `include_groups=False` to exclude the groupings or explicitly select the grouping columns after groupby to silence this warning.\n",
            "  clients_A = df.groupby('cluster', group_keys=False).apply(lambda x: x.sample(int(math.ceil(10_000*len(x)/len(df))))).sample(frac=1)\n",
            "<ipython-input-9-fe0bb6b3d82a>:8: DeprecationWarning: DataFrameGroupBy.apply operated on the grouping columns. This behavior is deprecated, and in a future version of pandas the grouping columns will be excluded from the operation. Either pass `include_groups=False` to exclude the groupings or explicitly select the grouping columns after groupby to silence this warning.\n",
            "  clients_B = df.loc[list(set(df.index) - set(clients_A.index))].groupby('cluster', group_keys=False).apply(lambda x: x.sample(int(math.ceil(10_000*len(x)/len(df))))).sample(frac=1)\n",
            "<ipython-input-9-fe0bb6b3d82a>:7: DeprecationWarning: DataFrameGroupBy.apply operated on the grouping columns. This behavior is deprecated, and in a future version of pandas the grouping columns will be excluded from the operation. Either pass `include_groups=False` to exclude the groupings or explicitly select the grouping columns after groupby to silence this warning.\n",
            "  clients_A = df.groupby('cluster', group_keys=False).apply(lambda x: x.sample(int(math.ceil(10_000*len(x)/len(df))))).sample(frac=1)\n",
            "<ipython-input-9-fe0bb6b3d82a>:8: DeprecationWarning: DataFrameGroupBy.apply operated on the grouping columns. This behavior is deprecated, and in a future version of pandas the grouping columns will be excluded from the operation. Either pass `include_groups=False` to exclude the groupings or explicitly select the grouping columns after groupby to silence this warning.\n",
            "  clients_B = df.loc[list(set(df.index) - set(clients_A.index))].groupby('cluster', group_keys=False).apply(lambda x: x.sample(int(math.ceil(10_000*len(x)/len(df))))).sample(frac=1)\n",
            "<ipython-input-9-fe0bb6b3d82a>:7: DeprecationWarning: DataFrameGroupBy.apply operated on the grouping columns. This behavior is deprecated, and in a future version of pandas the grouping columns will be excluded from the operation. Either pass `include_groups=False` to exclude the groupings or explicitly select the grouping columns after groupby to silence this warning.\n",
            "  clients_A = df.groupby('cluster', group_keys=False).apply(lambda x: x.sample(int(math.ceil(10_000*len(x)/len(df))))).sample(frac=1)\n",
            "<ipython-input-9-fe0bb6b3d82a>:8: DeprecationWarning: DataFrameGroupBy.apply operated on the grouping columns. This behavior is deprecated, and in a future version of pandas the grouping columns will be excluded from the operation. Either pass `include_groups=False` to exclude the groupings or explicitly select the grouping columns after groupby to silence this warning.\n",
            "  clients_B = df.loc[list(set(df.index) - set(clients_A.index))].groupby('cluster', group_keys=False).apply(lambda x: x.sample(int(math.ceil(10_000*len(x)/len(df))))).sample(frac=1)\n",
            "<ipython-input-9-fe0bb6b3d82a>:7: DeprecationWarning: DataFrameGroupBy.apply operated on the grouping columns. This behavior is deprecated, and in a future version of pandas the grouping columns will be excluded from the operation. Either pass `include_groups=False` to exclude the groupings or explicitly select the grouping columns after groupby to silence this warning.\n",
            "  clients_A = df.groupby('cluster', group_keys=False).apply(lambda x: x.sample(int(math.ceil(10_000*len(x)/len(df))))).sample(frac=1)\n",
            "<ipython-input-9-fe0bb6b3d82a>:8: DeprecationWarning: DataFrameGroupBy.apply operated on the grouping columns. This behavior is deprecated, and in a future version of pandas the grouping columns will be excluded from the operation. Either pass `include_groups=False` to exclude the groupings or explicitly select the grouping columns after groupby to silence this warning.\n",
            "  clients_B = df.loc[list(set(df.index) - set(clients_A.index))].groupby('cluster', group_keys=False).apply(lambda x: x.sample(int(math.ceil(10_000*len(x)/len(df))))).sample(frac=1)\n",
            "<ipython-input-9-fe0bb6b3d82a>:7: DeprecationWarning: DataFrameGroupBy.apply operated on the grouping columns. This behavior is deprecated, and in a future version of pandas the grouping columns will be excluded from the operation. Either pass `include_groups=False` to exclude the groupings or explicitly select the grouping columns after groupby to silence this warning.\n",
            "  clients_A = df.groupby('cluster', group_keys=False).apply(lambda x: x.sample(int(math.ceil(10_000*len(x)/len(df))))).sample(frac=1)\n",
            "<ipython-input-9-fe0bb6b3d82a>:8: DeprecationWarning: DataFrameGroupBy.apply operated on the grouping columns. This behavior is deprecated, and in a future version of pandas the grouping columns will be excluded from the operation. Either pass `include_groups=False` to exclude the groupings or explicitly select the grouping columns after groupby to silence this warning.\n",
            "  clients_B = df.loc[list(set(df.index) - set(clients_A.index))].groupby('cluster', group_keys=False).apply(lambda x: x.sample(int(math.ceil(10_000*len(x)/len(df))))).sample(frac=1)\n",
            "<ipython-input-9-fe0bb6b3d82a>:7: DeprecationWarning: DataFrameGroupBy.apply operated on the grouping columns. This behavior is deprecated, and in a future version of pandas the grouping columns will be excluded from the operation. Either pass `include_groups=False` to exclude the groupings or explicitly select the grouping columns after groupby to silence this warning.\n",
            "  clients_A = df.groupby('cluster', group_keys=False).apply(lambda x: x.sample(int(math.ceil(10_000*len(x)/len(df))))).sample(frac=1)\n",
            "<ipython-input-9-fe0bb6b3d82a>:8: DeprecationWarning: DataFrameGroupBy.apply operated on the grouping columns. This behavior is deprecated, and in a future version of pandas the grouping columns will be excluded from the operation. Either pass `include_groups=False` to exclude the groupings or explicitly select the grouping columns after groupby to silence this warning.\n",
            "  clients_B = df.loc[list(set(df.index) - set(clients_A.index))].groupby('cluster', group_keys=False).apply(lambda x: x.sample(int(math.ceil(10_000*len(x)/len(df))))).sample(frac=1)\n",
            "<ipython-input-9-fe0bb6b3d82a>:7: DeprecationWarning: DataFrameGroupBy.apply operated on the grouping columns. This behavior is deprecated, and in a future version of pandas the grouping columns will be excluded from the operation. Either pass `include_groups=False` to exclude the groupings or explicitly select the grouping columns after groupby to silence this warning.\n",
            "  clients_A = df.groupby('cluster', group_keys=False).apply(lambda x: x.sample(int(math.ceil(10_000*len(x)/len(df))))).sample(frac=1)\n",
            "<ipython-input-9-fe0bb6b3d82a>:8: DeprecationWarning: DataFrameGroupBy.apply operated on the grouping columns. This behavior is deprecated, and in a future version of pandas the grouping columns will be excluded from the operation. Either pass `include_groups=False` to exclude the groupings or explicitly select the grouping columns after groupby to silence this warning.\n",
            "  clients_B = df.loc[list(set(df.index) - set(clients_A.index))].groupby('cluster', group_keys=False).apply(lambda x: x.sample(int(math.ceil(10_000*len(x)/len(df))))).sample(frac=1)\n",
            "<ipython-input-9-fe0bb6b3d82a>:7: DeprecationWarning: DataFrameGroupBy.apply operated on the grouping columns. This behavior is deprecated, and in a future version of pandas the grouping columns will be excluded from the operation. Either pass `include_groups=False` to exclude the groupings or explicitly select the grouping columns after groupby to silence this warning.\n",
            "  clients_A = df.groupby('cluster', group_keys=False).apply(lambda x: x.sample(int(math.ceil(10_000*len(x)/len(df))))).sample(frac=1)\n",
            "<ipython-input-9-fe0bb6b3d82a>:8: DeprecationWarning: DataFrameGroupBy.apply operated on the grouping columns. This behavior is deprecated, and in a future version of pandas the grouping columns will be excluded from the operation. Either pass `include_groups=False` to exclude the groupings or explicitly select the grouping columns after groupby to silence this warning.\n",
            "  clients_B = df.loc[list(set(df.index) - set(clients_A.index))].groupby('cluster', group_keys=False).apply(lambda x: x.sample(int(math.ceil(10_000*len(x)/len(df))))).sample(frac=1)\n",
            "<ipython-input-9-fe0bb6b3d82a>:7: DeprecationWarning: DataFrameGroupBy.apply operated on the grouping columns. This behavior is deprecated, and in a future version of pandas the grouping columns will be excluded from the operation. Either pass `include_groups=False` to exclude the groupings or explicitly select the grouping columns after groupby to silence this warning.\n",
            "  clients_A = df.groupby('cluster', group_keys=False).apply(lambda x: x.sample(int(math.ceil(10_000*len(x)/len(df))))).sample(frac=1)\n",
            "<ipython-input-9-fe0bb6b3d82a>:8: DeprecationWarning: DataFrameGroupBy.apply operated on the grouping columns. This behavior is deprecated, and in a future version of pandas the grouping columns will be excluded from the operation. Either pass `include_groups=False` to exclude the groupings or explicitly select the grouping columns after groupby to silence this warning.\n",
            "  clients_B = df.loc[list(set(df.index) - set(clients_A.index))].groupby('cluster', group_keys=False).apply(lambda x: x.sample(int(math.ceil(10_000*len(x)/len(df))))).sample(frac=1)\n",
            "<ipython-input-9-fe0bb6b3d82a>:7: DeprecationWarning: DataFrameGroupBy.apply operated on the grouping columns. This behavior is deprecated, and in a future version of pandas the grouping columns will be excluded from the operation. Either pass `include_groups=False` to exclude the groupings or explicitly select the grouping columns after groupby to silence this warning.\n",
            "  clients_A = df.groupby('cluster', group_keys=False).apply(lambda x: x.sample(int(math.ceil(10_000*len(x)/len(df))))).sample(frac=1)\n",
            "<ipython-input-9-fe0bb6b3d82a>:8: DeprecationWarning: DataFrameGroupBy.apply operated on the grouping columns. This behavior is deprecated, and in a future version of pandas the grouping columns will be excluded from the operation. Either pass `include_groups=False` to exclude the groupings or explicitly select the grouping columns after groupby to silence this warning.\n",
            "  clients_B = df.loc[list(set(df.index) - set(clients_A.index))].groupby('cluster', group_keys=False).apply(lambda x: x.sample(int(math.ceil(10_000*len(x)/len(df))))).sample(frac=1)\n",
            "<ipython-input-9-fe0bb6b3d82a>:7: DeprecationWarning: DataFrameGroupBy.apply operated on the grouping columns. This behavior is deprecated, and in a future version of pandas the grouping columns will be excluded from the operation. Either pass `include_groups=False` to exclude the groupings or explicitly select the grouping columns after groupby to silence this warning.\n",
            "  clients_A = df.groupby('cluster', group_keys=False).apply(lambda x: x.sample(int(math.ceil(10_000*len(x)/len(df))))).sample(frac=1)\n",
            "<ipython-input-9-fe0bb6b3d82a>:8: DeprecationWarning: DataFrameGroupBy.apply operated on the grouping columns. This behavior is deprecated, and in a future version of pandas the grouping columns will be excluded from the operation. Either pass `include_groups=False` to exclude the groupings or explicitly select the grouping columns after groupby to silence this warning.\n",
            "  clients_B = df.loc[list(set(df.index) - set(clients_A.index))].groupby('cluster', group_keys=False).apply(lambda x: x.sample(int(math.ceil(10_000*len(x)/len(df))))).sample(frac=1)\n",
            "<ipython-input-9-fe0bb6b3d82a>:7: DeprecationWarning: DataFrameGroupBy.apply operated on the grouping columns. This behavior is deprecated, and in a future version of pandas the grouping columns will be excluded from the operation. Either pass `include_groups=False` to exclude the groupings or explicitly select the grouping columns after groupby to silence this warning.\n",
            "  clients_A = df.groupby('cluster', group_keys=False).apply(lambda x: x.sample(int(math.ceil(10_000*len(x)/len(df))))).sample(frac=1)\n",
            "<ipython-input-9-fe0bb6b3d82a>:8: DeprecationWarning: DataFrameGroupBy.apply operated on the grouping columns. This behavior is deprecated, and in a future version of pandas the grouping columns will be excluded from the operation. Either pass `include_groups=False` to exclude the groupings or explicitly select the grouping columns after groupby to silence this warning.\n",
            "  clients_B = df.loc[list(set(df.index) - set(clients_A.index))].groupby('cluster', group_keys=False).apply(lambda x: x.sample(int(math.ceil(10_000*len(x)/len(df))))).sample(frac=1)\n",
            "<ipython-input-9-fe0bb6b3d82a>:7: DeprecationWarning: DataFrameGroupBy.apply operated on the grouping columns. This behavior is deprecated, and in a future version of pandas the grouping columns will be excluded from the operation. Either pass `include_groups=False` to exclude the groupings or explicitly select the grouping columns after groupby to silence this warning.\n",
            "  clients_A = df.groupby('cluster', group_keys=False).apply(lambda x: x.sample(int(math.ceil(10_000*len(x)/len(df))))).sample(frac=1)\n",
            "<ipython-input-9-fe0bb6b3d82a>:8: DeprecationWarning: DataFrameGroupBy.apply operated on the grouping columns. This behavior is deprecated, and in a future version of pandas the grouping columns will be excluded from the operation. Either pass `include_groups=False` to exclude the groupings or explicitly select the grouping columns after groupby to silence this warning.\n",
            "  clients_B = df.loc[list(set(df.index) - set(clients_A.index))].groupby('cluster', group_keys=False).apply(lambda x: x.sample(int(math.ceil(10_000*len(x)/len(df))))).sample(frac=1)\n",
            "<ipython-input-9-fe0bb6b3d82a>:7: DeprecationWarning: DataFrameGroupBy.apply operated on the grouping columns. This behavior is deprecated, and in a future version of pandas the grouping columns will be excluded from the operation. Either pass `include_groups=False` to exclude the groupings or explicitly select the grouping columns after groupby to silence this warning.\n",
            "  clients_A = df.groupby('cluster', group_keys=False).apply(lambda x: x.sample(int(math.ceil(10_000*len(x)/len(df))))).sample(frac=1)\n",
            "<ipython-input-9-fe0bb6b3d82a>:8: DeprecationWarning: DataFrameGroupBy.apply operated on the grouping columns. This behavior is deprecated, and in a future version of pandas the grouping columns will be excluded from the operation. Either pass `include_groups=False` to exclude the groupings or explicitly select the grouping columns after groupby to silence this warning.\n",
            "  clients_B = df.loc[list(set(df.index) - set(clients_A.index))].groupby('cluster', group_keys=False).apply(lambda x: x.sample(int(math.ceil(10_000*len(x)/len(df))))).sample(frac=1)\n",
            "<ipython-input-9-fe0bb6b3d82a>:7: DeprecationWarning: DataFrameGroupBy.apply operated on the grouping columns. This behavior is deprecated, and in a future version of pandas the grouping columns will be excluded from the operation. Either pass `include_groups=False` to exclude the groupings or explicitly select the grouping columns after groupby to silence this warning.\n",
            "  clients_A = df.groupby('cluster', group_keys=False).apply(lambda x: x.sample(int(math.ceil(10_000*len(x)/len(df))))).sample(frac=1)\n",
            "<ipython-input-9-fe0bb6b3d82a>:8: DeprecationWarning: DataFrameGroupBy.apply operated on the grouping columns. This behavior is deprecated, and in a future version of pandas the grouping columns will be excluded from the operation. Either pass `include_groups=False` to exclude the groupings or explicitly select the grouping columns after groupby to silence this warning.\n",
            "  clients_B = df.loc[list(set(df.index) - set(clients_A.index))].groupby('cluster', group_keys=False).apply(lambda x: x.sample(int(math.ceil(10_000*len(x)/len(df))))).sample(frac=1)\n",
            "<ipython-input-9-fe0bb6b3d82a>:7: DeprecationWarning: DataFrameGroupBy.apply operated on the grouping columns. This behavior is deprecated, and in a future version of pandas the grouping columns will be excluded from the operation. Either pass `include_groups=False` to exclude the groupings or explicitly select the grouping columns after groupby to silence this warning.\n",
            "  clients_A = df.groupby('cluster', group_keys=False).apply(lambda x: x.sample(int(math.ceil(10_000*len(x)/len(df))))).sample(frac=1)\n",
            "<ipython-input-9-fe0bb6b3d82a>:8: DeprecationWarning: DataFrameGroupBy.apply operated on the grouping columns. This behavior is deprecated, and in a future version of pandas the grouping columns will be excluded from the operation. Either pass `include_groups=False` to exclude the groupings or explicitly select the grouping columns after groupby to silence this warning.\n",
            "  clients_B = df.loc[list(set(df.index) - set(clients_A.index))].groupby('cluster', group_keys=False).apply(lambda x: x.sample(int(math.ceil(10_000*len(x)/len(df))))).sample(frac=1)\n",
            "<ipython-input-9-fe0bb6b3d82a>:7: DeprecationWarning: DataFrameGroupBy.apply operated on the grouping columns. This behavior is deprecated, and in a future version of pandas the grouping columns will be excluded from the operation. Either pass `include_groups=False` to exclude the groupings or explicitly select the grouping columns after groupby to silence this warning.\n",
            "  clients_A = df.groupby('cluster', group_keys=False).apply(lambda x: x.sample(int(math.ceil(10_000*len(x)/len(df))))).sample(frac=1)\n",
            "<ipython-input-9-fe0bb6b3d82a>:8: DeprecationWarning: DataFrameGroupBy.apply operated on the grouping columns. This behavior is deprecated, and in a future version of pandas the grouping columns will be excluded from the operation. Either pass `include_groups=False` to exclude the groupings or explicitly select the grouping columns after groupby to silence this warning.\n",
            "  clients_B = df.loc[list(set(df.index) - set(clients_A.index))].groupby('cluster', group_keys=False).apply(lambda x: x.sample(int(math.ceil(10_000*len(x)/len(df))))).sample(frac=1)\n",
            "<ipython-input-9-fe0bb6b3d82a>:7: DeprecationWarning: DataFrameGroupBy.apply operated on the grouping columns. This behavior is deprecated, and in a future version of pandas the grouping columns will be excluded from the operation. Either pass `include_groups=False` to exclude the groupings or explicitly select the grouping columns after groupby to silence this warning.\n",
            "  clients_A = df.groupby('cluster', group_keys=False).apply(lambda x: x.sample(int(math.ceil(10_000*len(x)/len(df))))).sample(frac=1)\n",
            "<ipython-input-9-fe0bb6b3d82a>:8: DeprecationWarning: DataFrameGroupBy.apply operated on the grouping columns. This behavior is deprecated, and in a future version of pandas the grouping columns will be excluded from the operation. Either pass `include_groups=False` to exclude the groupings or explicitly select the grouping columns after groupby to silence this warning.\n",
            "  clients_B = df.loc[list(set(df.index) - set(clients_A.index))].groupby('cluster', group_keys=False).apply(lambda x: x.sample(int(math.ceil(10_000*len(x)/len(df))))).sample(frac=1)\n",
            "<ipython-input-9-fe0bb6b3d82a>:7: DeprecationWarning: DataFrameGroupBy.apply operated on the grouping columns. This behavior is deprecated, and in a future version of pandas the grouping columns will be excluded from the operation. Either pass `include_groups=False` to exclude the groupings or explicitly select the grouping columns after groupby to silence this warning.\n",
            "  clients_A = df.groupby('cluster', group_keys=False).apply(lambda x: x.sample(int(math.ceil(10_000*len(x)/len(df))))).sample(frac=1)\n",
            "<ipython-input-9-fe0bb6b3d82a>:8: DeprecationWarning: DataFrameGroupBy.apply operated on the grouping columns. This behavior is deprecated, and in a future version of pandas the grouping columns will be excluded from the operation. Either pass `include_groups=False` to exclude the groupings or explicitly select the grouping columns after groupby to silence this warning.\n",
            "  clients_B = df.loc[list(set(df.index) - set(clients_A.index))].groupby('cluster', group_keys=False).apply(lambda x: x.sample(int(math.ceil(10_000*len(x)/len(df))))).sample(frac=1)\n",
            "<ipython-input-9-fe0bb6b3d82a>:7: DeprecationWarning: DataFrameGroupBy.apply operated on the grouping columns. This behavior is deprecated, and in a future version of pandas the grouping columns will be excluded from the operation. Either pass `include_groups=False` to exclude the groupings or explicitly select the grouping columns after groupby to silence this warning.\n",
            "  clients_A = df.groupby('cluster', group_keys=False).apply(lambda x: x.sample(int(math.ceil(10_000*len(x)/len(df))))).sample(frac=1)\n",
            "<ipython-input-9-fe0bb6b3d82a>:8: DeprecationWarning: DataFrameGroupBy.apply operated on the grouping columns. This behavior is deprecated, and in a future version of pandas the grouping columns will be excluded from the operation. Either pass `include_groups=False` to exclude the groupings or explicitly select the grouping columns after groupby to silence this warning.\n",
            "  clients_B = df.loc[list(set(df.index) - set(clients_A.index))].groupby('cluster', group_keys=False).apply(lambda x: x.sample(int(math.ceil(10_000*len(x)/len(df))))).sample(frac=1)\n",
            "<ipython-input-9-fe0bb6b3d82a>:7: DeprecationWarning: DataFrameGroupBy.apply operated on the grouping columns. This behavior is deprecated, and in a future version of pandas the grouping columns will be excluded from the operation. Either pass `include_groups=False` to exclude the groupings or explicitly select the grouping columns after groupby to silence this warning.\n",
            "  clients_A = df.groupby('cluster', group_keys=False).apply(lambda x: x.sample(int(math.ceil(10_000*len(x)/len(df))))).sample(frac=1)\n",
            "<ipython-input-9-fe0bb6b3d82a>:8: DeprecationWarning: DataFrameGroupBy.apply operated on the grouping columns. This behavior is deprecated, and in a future version of pandas the grouping columns will be excluded from the operation. Either pass `include_groups=False` to exclude the groupings or explicitly select the grouping columns after groupby to silence this warning.\n",
            "  clients_B = df.loc[list(set(df.index) - set(clients_A.index))].groupby('cluster', group_keys=False).apply(lambda x: x.sample(int(math.ceil(10_000*len(x)/len(df))))).sample(frac=1)\n",
            "<ipython-input-9-fe0bb6b3d82a>:7: DeprecationWarning: DataFrameGroupBy.apply operated on the grouping columns. This behavior is deprecated, and in a future version of pandas the grouping columns will be excluded from the operation. Either pass `include_groups=False` to exclude the groupings or explicitly select the grouping columns after groupby to silence this warning.\n",
            "  clients_A = df.groupby('cluster', group_keys=False).apply(lambda x: x.sample(int(math.ceil(10_000*len(x)/len(df))))).sample(frac=1)\n",
            "<ipython-input-9-fe0bb6b3d82a>:8: DeprecationWarning: DataFrameGroupBy.apply operated on the grouping columns. This behavior is deprecated, and in a future version of pandas the grouping columns will be excluded from the operation. Either pass `include_groups=False` to exclude the groupings or explicitly select the grouping columns after groupby to silence this warning.\n",
            "  clients_B = df.loc[list(set(df.index) - set(clients_A.index))].groupby('cluster', group_keys=False).apply(lambda x: x.sample(int(math.ceil(10_000*len(x)/len(df))))).sample(frac=1)\n",
            "<ipython-input-9-fe0bb6b3d82a>:7: DeprecationWarning: DataFrameGroupBy.apply operated on the grouping columns. This behavior is deprecated, and in a future version of pandas the grouping columns will be excluded from the operation. Either pass `include_groups=False` to exclude the groupings or explicitly select the grouping columns after groupby to silence this warning.\n",
            "  clients_A = df.groupby('cluster', group_keys=False).apply(lambda x: x.sample(int(math.ceil(10_000*len(x)/len(df))))).sample(frac=1)\n",
            "<ipython-input-9-fe0bb6b3d82a>:8: DeprecationWarning: DataFrameGroupBy.apply operated on the grouping columns. This behavior is deprecated, and in a future version of pandas the grouping columns will be excluded from the operation. Either pass `include_groups=False` to exclude the groupings or explicitly select the grouping columns after groupby to silence this warning.\n",
            "  clients_B = df.loc[list(set(df.index) - set(clients_A.index))].groupby('cluster', group_keys=False).apply(lambda x: x.sample(int(math.ceil(10_000*len(x)/len(df))))).sample(frac=1)\n",
            "<ipython-input-9-fe0bb6b3d82a>:7: DeprecationWarning: DataFrameGroupBy.apply operated on the grouping columns. This behavior is deprecated, and in a future version of pandas the grouping columns will be excluded from the operation. Either pass `include_groups=False` to exclude the groupings or explicitly select the grouping columns after groupby to silence this warning.\n",
            "  clients_A = df.groupby('cluster', group_keys=False).apply(lambda x: x.sample(int(math.ceil(10_000*len(x)/len(df))))).sample(frac=1)\n",
            "<ipython-input-9-fe0bb6b3d82a>:8: DeprecationWarning: DataFrameGroupBy.apply operated on the grouping columns. This behavior is deprecated, and in a future version of pandas the grouping columns will be excluded from the operation. Either pass `include_groups=False` to exclude the groupings or explicitly select the grouping columns after groupby to silence this warning.\n",
            "  clients_B = df.loc[list(set(df.index) - set(clients_A.index))].groupby('cluster', group_keys=False).apply(lambda x: x.sample(int(math.ceil(10_000*len(x)/len(df))))).sample(frac=1)\n",
            "<ipython-input-9-fe0bb6b3d82a>:7: DeprecationWarning: DataFrameGroupBy.apply operated on the grouping columns. This behavior is deprecated, and in a future version of pandas the grouping columns will be excluded from the operation. Either pass `include_groups=False` to exclude the groupings or explicitly select the grouping columns after groupby to silence this warning.\n",
            "  clients_A = df.groupby('cluster', group_keys=False).apply(lambda x: x.sample(int(math.ceil(10_000*len(x)/len(df))))).sample(frac=1)\n",
            "<ipython-input-9-fe0bb6b3d82a>:8: DeprecationWarning: DataFrameGroupBy.apply operated on the grouping columns. This behavior is deprecated, and in a future version of pandas the grouping columns will be excluded from the operation. Either pass `include_groups=False` to exclude the groupings or explicitly select the grouping columns after groupby to silence this warning.\n",
            "  clients_B = df.loc[list(set(df.index) - set(clients_A.index))].groupby('cluster', group_keys=False).apply(lambda x: x.sample(int(math.ceil(10_000*len(x)/len(df))))).sample(frac=1)\n",
            "<ipython-input-9-fe0bb6b3d82a>:7: DeprecationWarning: DataFrameGroupBy.apply operated on the grouping columns. This behavior is deprecated, and in a future version of pandas the grouping columns will be excluded from the operation. Either pass `include_groups=False` to exclude the groupings or explicitly select the grouping columns after groupby to silence this warning.\n",
            "  clients_A = df.groupby('cluster', group_keys=False).apply(lambda x: x.sample(int(math.ceil(10_000*len(x)/len(df))))).sample(frac=1)\n",
            "<ipython-input-9-fe0bb6b3d82a>:8: DeprecationWarning: DataFrameGroupBy.apply operated on the grouping columns. This behavior is deprecated, and in a future version of pandas the grouping columns will be excluded from the operation. Either pass `include_groups=False` to exclude the groupings or explicitly select the grouping columns after groupby to silence this warning.\n",
            "  clients_B = df.loc[list(set(df.index) - set(clients_A.index))].groupby('cluster', group_keys=False).apply(lambda x: x.sample(int(math.ceil(10_000*len(x)/len(df))))).sample(frac=1)\n",
            "<ipython-input-9-fe0bb6b3d82a>:7: DeprecationWarning: DataFrameGroupBy.apply operated on the grouping columns. This behavior is deprecated, and in a future version of pandas the grouping columns will be excluded from the operation. Either pass `include_groups=False` to exclude the groupings or explicitly select the grouping columns after groupby to silence this warning.\n",
            "  clients_A = df.groupby('cluster', group_keys=False).apply(lambda x: x.sample(int(math.ceil(10_000*len(x)/len(df))))).sample(frac=1)\n",
            "<ipython-input-9-fe0bb6b3d82a>:8: DeprecationWarning: DataFrameGroupBy.apply operated on the grouping columns. This behavior is deprecated, and in a future version of pandas the grouping columns will be excluded from the operation. Either pass `include_groups=False` to exclude the groupings or explicitly select the grouping columns after groupby to silence this warning.\n",
            "  clients_B = df.loc[list(set(df.index) - set(clients_A.index))].groupby('cluster', group_keys=False).apply(lambda x: x.sample(int(math.ceil(10_000*len(x)/len(df))))).sample(frac=1)\n",
            "<ipython-input-9-fe0bb6b3d82a>:7: DeprecationWarning: DataFrameGroupBy.apply operated on the grouping columns. This behavior is deprecated, and in a future version of pandas the grouping columns will be excluded from the operation. Either pass `include_groups=False` to exclude the groupings or explicitly select the grouping columns after groupby to silence this warning.\n",
            "  clients_A = df.groupby('cluster', group_keys=False).apply(lambda x: x.sample(int(math.ceil(10_000*len(x)/len(df))))).sample(frac=1)\n",
            "<ipython-input-9-fe0bb6b3d82a>:8: DeprecationWarning: DataFrameGroupBy.apply operated on the grouping columns. This behavior is deprecated, and in a future version of pandas the grouping columns will be excluded from the operation. Either pass `include_groups=False` to exclude the groupings or explicitly select the grouping columns after groupby to silence this warning.\n",
            "  clients_B = df.loc[list(set(df.index) - set(clients_A.index))].groupby('cluster', group_keys=False).apply(lambda x: x.sample(int(math.ceil(10_000*len(x)/len(df))))).sample(frac=1)\n",
            "<ipython-input-9-fe0bb6b3d82a>:7: DeprecationWarning: DataFrameGroupBy.apply operated on the grouping columns. This behavior is deprecated, and in a future version of pandas the grouping columns will be excluded from the operation. Either pass `include_groups=False` to exclude the groupings or explicitly select the grouping columns after groupby to silence this warning.\n",
            "  clients_A = df.groupby('cluster', group_keys=False).apply(lambda x: x.sample(int(math.ceil(10_000*len(x)/len(df))))).sample(frac=1)\n",
            "<ipython-input-9-fe0bb6b3d82a>:8: DeprecationWarning: DataFrameGroupBy.apply operated on the grouping columns. This behavior is deprecated, and in a future version of pandas the grouping columns will be excluded from the operation. Either pass `include_groups=False` to exclude the groupings or explicitly select the grouping columns after groupby to silence this warning.\n",
            "  clients_B = df.loc[list(set(df.index) - set(clients_A.index))].groupby('cluster', group_keys=False).apply(lambda x: x.sample(int(math.ceil(10_000*len(x)/len(df))))).sample(frac=1)\n",
            "<ipython-input-9-fe0bb6b3d82a>:7: DeprecationWarning: DataFrameGroupBy.apply operated on the grouping columns. This behavior is deprecated, and in a future version of pandas the grouping columns will be excluded from the operation. Either pass `include_groups=False` to exclude the groupings or explicitly select the grouping columns after groupby to silence this warning.\n",
            "  clients_A = df.groupby('cluster', group_keys=False).apply(lambda x: x.sample(int(math.ceil(10_000*len(x)/len(df))))).sample(frac=1)\n",
            "<ipython-input-9-fe0bb6b3d82a>:8: DeprecationWarning: DataFrameGroupBy.apply operated on the grouping columns. This behavior is deprecated, and in a future version of pandas the grouping columns will be excluded from the operation. Either pass `include_groups=False` to exclude the groupings or explicitly select the grouping columns after groupby to silence this warning.\n",
            "  clients_B = df.loc[list(set(df.index) - set(clients_A.index))].groupby('cluster', group_keys=False).apply(lambda x: x.sample(int(math.ceil(10_000*len(x)/len(df))))).sample(frac=1)\n",
            "<ipython-input-9-fe0bb6b3d82a>:7: DeprecationWarning: DataFrameGroupBy.apply operated on the grouping columns. This behavior is deprecated, and in a future version of pandas the grouping columns will be excluded from the operation. Either pass `include_groups=False` to exclude the groupings or explicitly select the grouping columns after groupby to silence this warning.\n",
            "  clients_A = df.groupby('cluster', group_keys=False).apply(lambda x: x.sample(int(math.ceil(10_000*len(x)/len(df))))).sample(frac=1)\n",
            "<ipython-input-9-fe0bb6b3d82a>:8: DeprecationWarning: DataFrameGroupBy.apply operated on the grouping columns. This behavior is deprecated, and in a future version of pandas the grouping columns will be excluded from the operation. Either pass `include_groups=False` to exclude the groupings or explicitly select the grouping columns after groupby to silence this warning.\n",
            "  clients_B = df.loc[list(set(df.index) - set(clients_A.index))].groupby('cluster', group_keys=False).apply(lambda x: x.sample(int(math.ceil(10_000*len(x)/len(df))))).sample(frac=1)\n",
            "<ipython-input-9-fe0bb6b3d82a>:7: DeprecationWarning: DataFrameGroupBy.apply operated on the grouping columns. This behavior is deprecated, and in a future version of pandas the grouping columns will be excluded from the operation. Either pass `include_groups=False` to exclude the groupings or explicitly select the grouping columns after groupby to silence this warning.\n",
            "  clients_A = df.groupby('cluster', group_keys=False).apply(lambda x: x.sample(int(math.ceil(10_000*len(x)/len(df))))).sample(frac=1)\n",
            "<ipython-input-9-fe0bb6b3d82a>:8: DeprecationWarning: DataFrameGroupBy.apply operated on the grouping columns. This behavior is deprecated, and in a future version of pandas the grouping columns will be excluded from the operation. Either pass `include_groups=False` to exclude the groupings or explicitly select the grouping columns after groupby to silence this warning.\n",
            "  clients_B = df.loc[list(set(df.index) - set(clients_A.index))].groupby('cluster', group_keys=False).apply(lambda x: x.sample(int(math.ceil(10_000*len(x)/len(df))))).sample(frac=1)\n",
            "<ipython-input-9-fe0bb6b3d82a>:7: DeprecationWarning: DataFrameGroupBy.apply operated on the grouping columns. This behavior is deprecated, and in a future version of pandas the grouping columns will be excluded from the operation. Either pass `include_groups=False` to exclude the groupings or explicitly select the grouping columns after groupby to silence this warning.\n",
            "  clients_A = df.groupby('cluster', group_keys=False).apply(lambda x: x.sample(int(math.ceil(10_000*len(x)/len(df))))).sample(frac=1)\n",
            "<ipython-input-9-fe0bb6b3d82a>:8: DeprecationWarning: DataFrameGroupBy.apply operated on the grouping columns. This behavior is deprecated, and in a future version of pandas the grouping columns will be excluded from the operation. Either pass `include_groups=False` to exclude the groupings or explicitly select the grouping columns after groupby to silence this warning.\n",
            "  clients_B = df.loc[list(set(df.index) - set(clients_A.index))].groupby('cluster', group_keys=False).apply(lambda x: x.sample(int(math.ceil(10_000*len(x)/len(df))))).sample(frac=1)\n",
            "<ipython-input-9-fe0bb6b3d82a>:7: DeprecationWarning: DataFrameGroupBy.apply operated on the grouping columns. This behavior is deprecated, and in a future version of pandas the grouping columns will be excluded from the operation. Either pass `include_groups=False` to exclude the groupings or explicitly select the grouping columns after groupby to silence this warning.\n",
            "  clients_A = df.groupby('cluster', group_keys=False).apply(lambda x: x.sample(int(math.ceil(10_000*len(x)/len(df))))).sample(frac=1)\n",
            "<ipython-input-9-fe0bb6b3d82a>:8: DeprecationWarning: DataFrameGroupBy.apply operated on the grouping columns. This behavior is deprecated, and in a future version of pandas the grouping columns will be excluded from the operation. Either pass `include_groups=False` to exclude the groupings or explicitly select the grouping columns after groupby to silence this warning.\n",
            "  clients_B = df.loc[list(set(df.index) - set(clients_A.index))].groupby('cluster', group_keys=False).apply(lambda x: x.sample(int(math.ceil(10_000*len(x)/len(df))))).sample(frac=1)\n",
            "<ipython-input-9-fe0bb6b3d82a>:7: DeprecationWarning: DataFrameGroupBy.apply operated on the grouping columns. This behavior is deprecated, and in a future version of pandas the grouping columns will be excluded from the operation. Either pass `include_groups=False` to exclude the groupings or explicitly select the grouping columns after groupby to silence this warning.\n",
            "  clients_A = df.groupby('cluster', group_keys=False).apply(lambda x: x.sample(int(math.ceil(10_000*len(x)/len(df))))).sample(frac=1)\n",
            "<ipython-input-9-fe0bb6b3d82a>:8: DeprecationWarning: DataFrameGroupBy.apply operated on the grouping columns. This behavior is deprecated, and in a future version of pandas the grouping columns will be excluded from the operation. Either pass `include_groups=False` to exclude the groupings or explicitly select the grouping columns after groupby to silence this warning.\n",
            "  clients_B = df.loc[list(set(df.index) - set(clients_A.index))].groupby('cluster', group_keys=False).apply(lambda x: x.sample(int(math.ceil(10_000*len(x)/len(df))))).sample(frac=1)\n",
            "<ipython-input-9-fe0bb6b3d82a>:7: DeprecationWarning: DataFrameGroupBy.apply operated on the grouping columns. This behavior is deprecated, and in a future version of pandas the grouping columns will be excluded from the operation. Either pass `include_groups=False` to exclude the groupings or explicitly select the grouping columns after groupby to silence this warning.\n",
            "  clients_A = df.groupby('cluster', group_keys=False).apply(lambda x: x.sample(int(math.ceil(10_000*len(x)/len(df))))).sample(frac=1)\n",
            "<ipython-input-9-fe0bb6b3d82a>:8: DeprecationWarning: DataFrameGroupBy.apply operated on the grouping columns. This behavior is deprecated, and in a future version of pandas the grouping columns will be excluded from the operation. Either pass `include_groups=False` to exclude the groupings or explicitly select the grouping columns after groupby to silence this warning.\n",
            "  clients_B = df.loc[list(set(df.index) - set(clients_A.index))].groupby('cluster', group_keys=False).apply(lambda x: x.sample(int(math.ceil(10_000*len(x)/len(df))))).sample(frac=1)\n",
            "<ipython-input-9-fe0bb6b3d82a>:7: DeprecationWarning: DataFrameGroupBy.apply operated on the grouping columns. This behavior is deprecated, and in a future version of pandas the grouping columns will be excluded from the operation. Either pass `include_groups=False` to exclude the groupings or explicitly select the grouping columns after groupby to silence this warning.\n",
            "  clients_A = df.groupby('cluster', group_keys=False).apply(lambda x: x.sample(int(math.ceil(10_000*len(x)/len(df))))).sample(frac=1)\n",
            "<ipython-input-9-fe0bb6b3d82a>:8: DeprecationWarning: DataFrameGroupBy.apply operated on the grouping columns. This behavior is deprecated, and in a future version of pandas the grouping columns will be excluded from the operation. Either pass `include_groups=False` to exclude the groupings or explicitly select the grouping columns after groupby to silence this warning.\n",
            "  clients_B = df.loc[list(set(df.index) - set(clients_A.index))].groupby('cluster', group_keys=False).apply(lambda x: x.sample(int(math.ceil(10_000*len(x)/len(df))))).sample(frac=1)\n",
            "<ipython-input-9-fe0bb6b3d82a>:7: DeprecationWarning: DataFrameGroupBy.apply operated on the grouping columns. This behavior is deprecated, and in a future version of pandas the grouping columns will be excluded from the operation. Either pass `include_groups=False` to exclude the groupings or explicitly select the grouping columns after groupby to silence this warning.\n",
            "  clients_A = df.groupby('cluster', group_keys=False).apply(lambda x: x.sample(int(math.ceil(10_000*len(x)/len(df))))).sample(frac=1)\n",
            "<ipython-input-9-fe0bb6b3d82a>:8: DeprecationWarning: DataFrameGroupBy.apply operated on the grouping columns. This behavior is deprecated, and in a future version of pandas the grouping columns will be excluded from the operation. Either pass `include_groups=False` to exclude the groupings or explicitly select the grouping columns after groupby to silence this warning.\n",
            "  clients_B = df.loc[list(set(df.index) - set(clients_A.index))].groupby('cluster', group_keys=False).apply(lambda x: x.sample(int(math.ceil(10_000*len(x)/len(df))))).sample(frac=1)\n",
            "<ipython-input-9-fe0bb6b3d82a>:7: DeprecationWarning: DataFrameGroupBy.apply operated on the grouping columns. This behavior is deprecated, and in a future version of pandas the grouping columns will be excluded from the operation. Either pass `include_groups=False` to exclude the groupings or explicitly select the grouping columns after groupby to silence this warning.\n",
            "  clients_A = df.groupby('cluster', group_keys=False).apply(lambda x: x.sample(int(math.ceil(10_000*len(x)/len(df))))).sample(frac=1)\n",
            "<ipython-input-9-fe0bb6b3d82a>:8: DeprecationWarning: DataFrameGroupBy.apply operated on the grouping columns. This behavior is deprecated, and in a future version of pandas the grouping columns will be excluded from the operation. Either pass `include_groups=False` to exclude the groupings or explicitly select the grouping columns after groupby to silence this warning.\n",
            "  clients_B = df.loc[list(set(df.index) - set(clients_A.index))].groupby('cluster', group_keys=False).apply(lambda x: x.sample(int(math.ceil(10_000*len(x)/len(df))))).sample(frac=1)\n",
            "<ipython-input-9-fe0bb6b3d82a>:7: DeprecationWarning: DataFrameGroupBy.apply operated on the grouping columns. This behavior is deprecated, and in a future version of pandas the grouping columns will be excluded from the operation. Either pass `include_groups=False` to exclude the groupings or explicitly select the grouping columns after groupby to silence this warning.\n",
            "  clients_A = df.groupby('cluster', group_keys=False).apply(lambda x: x.sample(int(math.ceil(10_000*len(x)/len(df))))).sample(frac=1)\n",
            "<ipython-input-9-fe0bb6b3d82a>:8: DeprecationWarning: DataFrameGroupBy.apply operated on the grouping columns. This behavior is deprecated, and in a future version of pandas the grouping columns will be excluded from the operation. Either pass `include_groups=False` to exclude the groupings or explicitly select the grouping columns after groupby to silence this warning.\n",
            "  clients_B = df.loc[list(set(df.index) - set(clients_A.index))].groupby('cluster', group_keys=False).apply(lambda x: x.sample(int(math.ceil(10_000*len(x)/len(df))))).sample(frac=1)\n",
            "<ipython-input-9-fe0bb6b3d82a>:7: DeprecationWarning: DataFrameGroupBy.apply operated on the grouping columns. This behavior is deprecated, and in a future version of pandas the grouping columns will be excluded from the operation. Either pass `include_groups=False` to exclude the groupings or explicitly select the grouping columns after groupby to silence this warning.\n",
            "  clients_A = df.groupby('cluster', group_keys=False).apply(lambda x: x.sample(int(math.ceil(10_000*len(x)/len(df))))).sample(frac=1)\n",
            "<ipython-input-9-fe0bb6b3d82a>:8: DeprecationWarning: DataFrameGroupBy.apply operated on the grouping columns. This behavior is deprecated, and in a future version of pandas the grouping columns will be excluded from the operation. Either pass `include_groups=False` to exclude the groupings or explicitly select the grouping columns after groupby to silence this warning.\n",
            "  clients_B = df.loc[list(set(df.index) - set(clients_A.index))].groupby('cluster', group_keys=False).apply(lambda x: x.sample(int(math.ceil(10_000*len(x)/len(df))))).sample(frac=1)\n",
            "<ipython-input-9-fe0bb6b3d82a>:7: DeprecationWarning: DataFrameGroupBy.apply operated on the grouping columns. This behavior is deprecated, and in a future version of pandas the grouping columns will be excluded from the operation. Either pass `include_groups=False` to exclude the groupings or explicitly select the grouping columns after groupby to silence this warning.\n",
            "  clients_A = df.groupby('cluster', group_keys=False).apply(lambda x: x.sample(int(math.ceil(10_000*len(x)/len(df))))).sample(frac=1)\n",
            "<ipython-input-9-fe0bb6b3d82a>:8: DeprecationWarning: DataFrameGroupBy.apply operated on the grouping columns. This behavior is deprecated, and in a future version of pandas the grouping columns will be excluded from the operation. Either pass `include_groups=False` to exclude the groupings or explicitly select the grouping columns after groupby to silence this warning.\n",
            "  clients_B = df.loc[list(set(df.index) - set(clients_A.index))].groupby('cluster', group_keys=False).apply(lambda x: x.sample(int(math.ceil(10_000*len(x)/len(df))))).sample(frac=1)\n",
            "<ipython-input-9-fe0bb6b3d82a>:7: DeprecationWarning: DataFrameGroupBy.apply operated on the grouping columns. This behavior is deprecated, and in a future version of pandas the grouping columns will be excluded from the operation. Either pass `include_groups=False` to exclude the groupings or explicitly select the grouping columns after groupby to silence this warning.\n",
            "  clients_A = df.groupby('cluster', group_keys=False).apply(lambda x: x.sample(int(math.ceil(10_000*len(x)/len(df))))).sample(frac=1)\n",
            "<ipython-input-9-fe0bb6b3d82a>:8: DeprecationWarning: DataFrameGroupBy.apply operated on the grouping columns. This behavior is deprecated, and in a future version of pandas the grouping columns will be excluded from the operation. Either pass `include_groups=False` to exclude the groupings or explicitly select the grouping columns after groupby to silence this warning.\n",
            "  clients_B = df.loc[list(set(df.index) - set(clients_A.index))].groupby('cluster', group_keys=False).apply(lambda x: x.sample(int(math.ceil(10_000*len(x)/len(df))))).sample(frac=1)\n",
            "<ipython-input-9-fe0bb6b3d82a>:7: DeprecationWarning: DataFrameGroupBy.apply operated on the grouping columns. This behavior is deprecated, and in a future version of pandas the grouping columns will be excluded from the operation. Either pass `include_groups=False` to exclude the groupings or explicitly select the grouping columns after groupby to silence this warning.\n",
            "  clients_A = df.groupby('cluster', group_keys=False).apply(lambda x: x.sample(int(math.ceil(10_000*len(x)/len(df))))).sample(frac=1)\n",
            "<ipython-input-9-fe0bb6b3d82a>:8: DeprecationWarning: DataFrameGroupBy.apply operated on the grouping columns. This behavior is deprecated, and in a future version of pandas the grouping columns will be excluded from the operation. Either pass `include_groups=False` to exclude the groupings or explicitly select the grouping columns after groupby to silence this warning.\n",
            "  clients_B = df.loc[list(set(df.index) - set(clients_A.index))].groupby('cluster', group_keys=False).apply(lambda x: x.sample(int(math.ceil(10_000*len(x)/len(df))))).sample(frac=1)\n"
          ]
        },
        {
          "output_type": "stream",
          "name": "stdout",
          "text": [
            "50\n"
          ]
        },
        {
          "output_type": "stream",
          "name": "stderr",
          "text": [
            "<ipython-input-9-fe0bb6b3d82a>:7: DeprecationWarning: DataFrameGroupBy.apply operated on the grouping columns. This behavior is deprecated, and in a future version of pandas the grouping columns will be excluded from the operation. Either pass `include_groups=False` to exclude the groupings or explicitly select the grouping columns after groupby to silence this warning.\n",
            "  clients_A = df.groupby('cluster', group_keys=False).apply(lambda x: x.sample(int(math.ceil(10_000*len(x)/len(df))))).sample(frac=1)\n",
            "<ipython-input-9-fe0bb6b3d82a>:8: DeprecationWarning: DataFrameGroupBy.apply operated on the grouping columns. This behavior is deprecated, and in a future version of pandas the grouping columns will be excluded from the operation. Either pass `include_groups=False` to exclude the groupings or explicitly select the grouping columns after groupby to silence this warning.\n",
            "  clients_B = df.loc[list(set(df.index) - set(clients_A.index))].groupby('cluster', group_keys=False).apply(lambda x: x.sample(int(math.ceil(10_000*len(x)/len(df))))).sample(frac=1)\n",
            "<ipython-input-9-fe0bb6b3d82a>:7: DeprecationWarning: DataFrameGroupBy.apply operated on the grouping columns. This behavior is deprecated, and in a future version of pandas the grouping columns will be excluded from the operation. Either pass `include_groups=False` to exclude the groupings or explicitly select the grouping columns after groupby to silence this warning.\n",
            "  clients_A = df.groupby('cluster', group_keys=False).apply(lambda x: x.sample(int(math.ceil(10_000*len(x)/len(df))))).sample(frac=1)\n",
            "<ipython-input-9-fe0bb6b3d82a>:8: DeprecationWarning: DataFrameGroupBy.apply operated on the grouping columns. This behavior is deprecated, and in a future version of pandas the grouping columns will be excluded from the operation. Either pass `include_groups=False` to exclude the groupings or explicitly select the grouping columns after groupby to silence this warning.\n",
            "  clients_B = df.loc[list(set(df.index) - set(clients_A.index))].groupby('cluster', group_keys=False).apply(lambda x: x.sample(int(math.ceil(10_000*len(x)/len(df))))).sample(frac=1)\n",
            "<ipython-input-9-fe0bb6b3d82a>:7: DeprecationWarning: DataFrameGroupBy.apply operated on the grouping columns. This behavior is deprecated, and in a future version of pandas the grouping columns will be excluded from the operation. Either pass `include_groups=False` to exclude the groupings or explicitly select the grouping columns after groupby to silence this warning.\n",
            "  clients_A = df.groupby('cluster', group_keys=False).apply(lambda x: x.sample(int(math.ceil(10_000*len(x)/len(df))))).sample(frac=1)\n",
            "<ipython-input-9-fe0bb6b3d82a>:8: DeprecationWarning: DataFrameGroupBy.apply operated on the grouping columns. This behavior is deprecated, and in a future version of pandas the grouping columns will be excluded from the operation. Either pass `include_groups=False` to exclude the groupings or explicitly select the grouping columns after groupby to silence this warning.\n",
            "  clients_B = df.loc[list(set(df.index) - set(clients_A.index))].groupby('cluster', group_keys=False).apply(lambda x: x.sample(int(math.ceil(10_000*len(x)/len(df))))).sample(frac=1)\n",
            "<ipython-input-9-fe0bb6b3d82a>:7: DeprecationWarning: DataFrameGroupBy.apply operated on the grouping columns. This behavior is deprecated, and in a future version of pandas the grouping columns will be excluded from the operation. Either pass `include_groups=False` to exclude the groupings or explicitly select the grouping columns after groupby to silence this warning.\n",
            "  clients_A = df.groupby('cluster', group_keys=False).apply(lambda x: x.sample(int(math.ceil(10_000*len(x)/len(df))))).sample(frac=1)\n",
            "<ipython-input-9-fe0bb6b3d82a>:8: DeprecationWarning: DataFrameGroupBy.apply operated on the grouping columns. This behavior is deprecated, and in a future version of pandas the grouping columns will be excluded from the operation. Either pass `include_groups=False` to exclude the groupings or explicitly select the grouping columns after groupby to silence this warning.\n",
            "  clients_B = df.loc[list(set(df.index) - set(clients_A.index))].groupby('cluster', group_keys=False).apply(lambda x: x.sample(int(math.ceil(10_000*len(x)/len(df))))).sample(frac=1)\n",
            "<ipython-input-9-fe0bb6b3d82a>:7: DeprecationWarning: DataFrameGroupBy.apply operated on the grouping columns. This behavior is deprecated, and in a future version of pandas the grouping columns will be excluded from the operation. Either pass `include_groups=False` to exclude the groupings or explicitly select the grouping columns after groupby to silence this warning.\n",
            "  clients_A = df.groupby('cluster', group_keys=False).apply(lambda x: x.sample(int(math.ceil(10_000*len(x)/len(df))))).sample(frac=1)\n",
            "<ipython-input-9-fe0bb6b3d82a>:8: DeprecationWarning: DataFrameGroupBy.apply operated on the grouping columns. This behavior is deprecated, and in a future version of pandas the grouping columns will be excluded from the operation. Either pass `include_groups=False` to exclude the groupings or explicitly select the grouping columns after groupby to silence this warning.\n",
            "  clients_B = df.loc[list(set(df.index) - set(clients_A.index))].groupby('cluster', group_keys=False).apply(lambda x: x.sample(int(math.ceil(10_000*len(x)/len(df))))).sample(frac=1)\n",
            "<ipython-input-9-fe0bb6b3d82a>:7: DeprecationWarning: DataFrameGroupBy.apply operated on the grouping columns. This behavior is deprecated, and in a future version of pandas the grouping columns will be excluded from the operation. Either pass `include_groups=False` to exclude the groupings or explicitly select the grouping columns after groupby to silence this warning.\n",
            "  clients_A = df.groupby('cluster', group_keys=False).apply(lambda x: x.sample(int(math.ceil(10_000*len(x)/len(df))))).sample(frac=1)\n",
            "<ipython-input-9-fe0bb6b3d82a>:8: DeprecationWarning: DataFrameGroupBy.apply operated on the grouping columns. This behavior is deprecated, and in a future version of pandas the grouping columns will be excluded from the operation. Either pass `include_groups=False` to exclude the groupings or explicitly select the grouping columns after groupby to silence this warning.\n",
            "  clients_B = df.loc[list(set(df.index) - set(clients_A.index))].groupby('cluster', group_keys=False).apply(lambda x: x.sample(int(math.ceil(10_000*len(x)/len(df))))).sample(frac=1)\n",
            "<ipython-input-9-fe0bb6b3d82a>:7: DeprecationWarning: DataFrameGroupBy.apply operated on the grouping columns. This behavior is deprecated, and in a future version of pandas the grouping columns will be excluded from the operation. Either pass `include_groups=False` to exclude the groupings or explicitly select the grouping columns after groupby to silence this warning.\n",
            "  clients_A = df.groupby('cluster', group_keys=False).apply(lambda x: x.sample(int(math.ceil(10_000*len(x)/len(df))))).sample(frac=1)\n",
            "<ipython-input-9-fe0bb6b3d82a>:8: DeprecationWarning: DataFrameGroupBy.apply operated on the grouping columns. This behavior is deprecated, and in a future version of pandas the grouping columns will be excluded from the operation. Either pass `include_groups=False` to exclude the groupings or explicitly select the grouping columns after groupby to silence this warning.\n",
            "  clients_B = df.loc[list(set(df.index) - set(clients_A.index))].groupby('cluster', group_keys=False).apply(lambda x: x.sample(int(math.ceil(10_000*len(x)/len(df))))).sample(frac=1)\n",
            "<ipython-input-9-fe0bb6b3d82a>:7: DeprecationWarning: DataFrameGroupBy.apply operated on the grouping columns. This behavior is deprecated, and in a future version of pandas the grouping columns will be excluded from the operation. Either pass `include_groups=False` to exclude the groupings or explicitly select the grouping columns after groupby to silence this warning.\n",
            "  clients_A = df.groupby('cluster', group_keys=False).apply(lambda x: x.sample(int(math.ceil(10_000*len(x)/len(df))))).sample(frac=1)\n",
            "<ipython-input-9-fe0bb6b3d82a>:8: DeprecationWarning: DataFrameGroupBy.apply operated on the grouping columns. This behavior is deprecated, and in a future version of pandas the grouping columns will be excluded from the operation. Either pass `include_groups=False` to exclude the groupings or explicitly select the grouping columns after groupby to silence this warning.\n",
            "  clients_B = df.loc[list(set(df.index) - set(clients_A.index))].groupby('cluster', group_keys=False).apply(lambda x: x.sample(int(math.ceil(10_000*len(x)/len(df))))).sample(frac=1)\n",
            "<ipython-input-9-fe0bb6b3d82a>:7: DeprecationWarning: DataFrameGroupBy.apply operated on the grouping columns. This behavior is deprecated, and in a future version of pandas the grouping columns will be excluded from the operation. Either pass `include_groups=False` to exclude the groupings or explicitly select the grouping columns after groupby to silence this warning.\n",
            "  clients_A = df.groupby('cluster', group_keys=False).apply(lambda x: x.sample(int(math.ceil(10_000*len(x)/len(df))))).sample(frac=1)\n",
            "<ipython-input-9-fe0bb6b3d82a>:8: DeprecationWarning: DataFrameGroupBy.apply operated on the grouping columns. This behavior is deprecated, and in a future version of pandas the grouping columns will be excluded from the operation. Either pass `include_groups=False` to exclude the groupings or explicitly select the grouping columns after groupby to silence this warning.\n",
            "  clients_B = df.loc[list(set(df.index) - set(clients_A.index))].groupby('cluster', group_keys=False).apply(lambda x: x.sample(int(math.ceil(10_000*len(x)/len(df))))).sample(frac=1)\n",
            "<ipython-input-9-fe0bb6b3d82a>:7: DeprecationWarning: DataFrameGroupBy.apply operated on the grouping columns. This behavior is deprecated, and in a future version of pandas the grouping columns will be excluded from the operation. Either pass `include_groups=False` to exclude the groupings or explicitly select the grouping columns after groupby to silence this warning.\n",
            "  clients_A = df.groupby('cluster', group_keys=False).apply(lambda x: x.sample(int(math.ceil(10_000*len(x)/len(df))))).sample(frac=1)\n",
            "<ipython-input-9-fe0bb6b3d82a>:8: DeprecationWarning: DataFrameGroupBy.apply operated on the grouping columns. This behavior is deprecated, and in a future version of pandas the grouping columns will be excluded from the operation. Either pass `include_groups=False` to exclude the groupings or explicitly select the grouping columns after groupby to silence this warning.\n",
            "  clients_B = df.loc[list(set(df.index) - set(clients_A.index))].groupby('cluster', group_keys=False).apply(lambda x: x.sample(int(math.ceil(10_000*len(x)/len(df))))).sample(frac=1)\n",
            "<ipython-input-9-fe0bb6b3d82a>:7: DeprecationWarning: DataFrameGroupBy.apply operated on the grouping columns. This behavior is deprecated, and in a future version of pandas the grouping columns will be excluded from the operation. Either pass `include_groups=False` to exclude the groupings or explicitly select the grouping columns after groupby to silence this warning.\n",
            "  clients_A = df.groupby('cluster', group_keys=False).apply(lambda x: x.sample(int(math.ceil(10_000*len(x)/len(df))))).sample(frac=1)\n",
            "<ipython-input-9-fe0bb6b3d82a>:8: DeprecationWarning: DataFrameGroupBy.apply operated on the grouping columns. This behavior is deprecated, and in a future version of pandas the grouping columns will be excluded from the operation. Either pass `include_groups=False` to exclude the groupings or explicitly select the grouping columns after groupby to silence this warning.\n",
            "  clients_B = df.loc[list(set(df.index) - set(clients_A.index))].groupby('cluster', group_keys=False).apply(lambda x: x.sample(int(math.ceil(10_000*len(x)/len(df))))).sample(frac=1)\n",
            "<ipython-input-9-fe0bb6b3d82a>:7: DeprecationWarning: DataFrameGroupBy.apply operated on the grouping columns. This behavior is deprecated, and in a future version of pandas the grouping columns will be excluded from the operation. Either pass `include_groups=False` to exclude the groupings or explicitly select the grouping columns after groupby to silence this warning.\n",
            "  clients_A = df.groupby('cluster', group_keys=False).apply(lambda x: x.sample(int(math.ceil(10_000*len(x)/len(df))))).sample(frac=1)\n",
            "<ipython-input-9-fe0bb6b3d82a>:8: DeprecationWarning: DataFrameGroupBy.apply operated on the grouping columns. This behavior is deprecated, and in a future version of pandas the grouping columns will be excluded from the operation. Either pass `include_groups=False` to exclude the groupings or explicitly select the grouping columns after groupby to silence this warning.\n",
            "  clients_B = df.loc[list(set(df.index) - set(clients_A.index))].groupby('cluster', group_keys=False).apply(lambda x: x.sample(int(math.ceil(10_000*len(x)/len(df))))).sample(frac=1)\n",
            "<ipython-input-9-fe0bb6b3d82a>:7: DeprecationWarning: DataFrameGroupBy.apply operated on the grouping columns. This behavior is deprecated, and in a future version of pandas the grouping columns will be excluded from the operation. Either pass `include_groups=False` to exclude the groupings or explicitly select the grouping columns after groupby to silence this warning.\n",
            "  clients_A = df.groupby('cluster', group_keys=False).apply(lambda x: x.sample(int(math.ceil(10_000*len(x)/len(df))))).sample(frac=1)\n",
            "<ipython-input-9-fe0bb6b3d82a>:8: DeprecationWarning: DataFrameGroupBy.apply operated on the grouping columns. This behavior is deprecated, and in a future version of pandas the grouping columns will be excluded from the operation. Either pass `include_groups=False` to exclude the groupings or explicitly select the grouping columns after groupby to silence this warning.\n",
            "  clients_B = df.loc[list(set(df.index) - set(clients_A.index))].groupby('cluster', group_keys=False).apply(lambda x: x.sample(int(math.ceil(10_000*len(x)/len(df))))).sample(frac=1)\n",
            "<ipython-input-9-fe0bb6b3d82a>:7: DeprecationWarning: DataFrameGroupBy.apply operated on the grouping columns. This behavior is deprecated, and in a future version of pandas the grouping columns will be excluded from the operation. Either pass `include_groups=False` to exclude the groupings or explicitly select the grouping columns after groupby to silence this warning.\n",
            "  clients_A = df.groupby('cluster', group_keys=False).apply(lambda x: x.sample(int(math.ceil(10_000*len(x)/len(df))))).sample(frac=1)\n",
            "<ipython-input-9-fe0bb6b3d82a>:8: DeprecationWarning: DataFrameGroupBy.apply operated on the grouping columns. This behavior is deprecated, and in a future version of pandas the grouping columns will be excluded from the operation. Either pass `include_groups=False` to exclude the groupings or explicitly select the grouping columns after groupby to silence this warning.\n",
            "  clients_B = df.loc[list(set(df.index) - set(clients_A.index))].groupby('cluster', group_keys=False).apply(lambda x: x.sample(int(math.ceil(10_000*len(x)/len(df))))).sample(frac=1)\n",
            "<ipython-input-9-fe0bb6b3d82a>:7: DeprecationWarning: DataFrameGroupBy.apply operated on the grouping columns. This behavior is deprecated, and in a future version of pandas the grouping columns will be excluded from the operation. Either pass `include_groups=False` to exclude the groupings or explicitly select the grouping columns after groupby to silence this warning.\n",
            "  clients_A = df.groupby('cluster', group_keys=False).apply(lambda x: x.sample(int(math.ceil(10_000*len(x)/len(df))))).sample(frac=1)\n",
            "<ipython-input-9-fe0bb6b3d82a>:8: DeprecationWarning: DataFrameGroupBy.apply operated on the grouping columns. This behavior is deprecated, and in a future version of pandas the grouping columns will be excluded from the operation. Either pass `include_groups=False` to exclude the groupings or explicitly select the grouping columns after groupby to silence this warning.\n",
            "  clients_B = df.loc[list(set(df.index) - set(clients_A.index))].groupby('cluster', group_keys=False).apply(lambda x: x.sample(int(math.ceil(10_000*len(x)/len(df))))).sample(frac=1)\n",
            "<ipython-input-9-fe0bb6b3d82a>:7: DeprecationWarning: DataFrameGroupBy.apply operated on the grouping columns. This behavior is deprecated, and in a future version of pandas the grouping columns will be excluded from the operation. Either pass `include_groups=False` to exclude the groupings or explicitly select the grouping columns after groupby to silence this warning.\n",
            "  clients_A = df.groupby('cluster', group_keys=False).apply(lambda x: x.sample(int(math.ceil(10_000*len(x)/len(df))))).sample(frac=1)\n",
            "<ipython-input-9-fe0bb6b3d82a>:8: DeprecationWarning: DataFrameGroupBy.apply operated on the grouping columns. This behavior is deprecated, and in a future version of pandas the grouping columns will be excluded from the operation. Either pass `include_groups=False` to exclude the groupings or explicitly select the grouping columns after groupby to silence this warning.\n",
            "  clients_B = df.loc[list(set(df.index) - set(clients_A.index))].groupby('cluster', group_keys=False).apply(lambda x: x.sample(int(math.ceil(10_000*len(x)/len(df))))).sample(frac=1)\n",
            "<ipython-input-9-fe0bb6b3d82a>:7: DeprecationWarning: DataFrameGroupBy.apply operated on the grouping columns. This behavior is deprecated, and in a future version of pandas the grouping columns will be excluded from the operation. Either pass `include_groups=False` to exclude the groupings or explicitly select the grouping columns after groupby to silence this warning.\n",
            "  clients_A = df.groupby('cluster', group_keys=False).apply(lambda x: x.sample(int(math.ceil(10_000*len(x)/len(df))))).sample(frac=1)\n",
            "<ipython-input-9-fe0bb6b3d82a>:8: DeprecationWarning: DataFrameGroupBy.apply operated on the grouping columns. This behavior is deprecated, and in a future version of pandas the grouping columns will be excluded from the operation. Either pass `include_groups=False` to exclude the groupings or explicitly select the grouping columns after groupby to silence this warning.\n",
            "  clients_B = df.loc[list(set(df.index) - set(clients_A.index))].groupby('cluster', group_keys=False).apply(lambda x: x.sample(int(math.ceil(10_000*len(x)/len(df))))).sample(frac=1)\n",
            "<ipython-input-9-fe0bb6b3d82a>:7: DeprecationWarning: DataFrameGroupBy.apply operated on the grouping columns. This behavior is deprecated, and in a future version of pandas the grouping columns will be excluded from the operation. Either pass `include_groups=False` to exclude the groupings or explicitly select the grouping columns after groupby to silence this warning.\n",
            "  clients_A = df.groupby('cluster', group_keys=False).apply(lambda x: x.sample(int(math.ceil(10_000*len(x)/len(df))))).sample(frac=1)\n",
            "<ipython-input-9-fe0bb6b3d82a>:8: DeprecationWarning: DataFrameGroupBy.apply operated on the grouping columns. This behavior is deprecated, and in a future version of pandas the grouping columns will be excluded from the operation. Either pass `include_groups=False` to exclude the groupings or explicitly select the grouping columns after groupby to silence this warning.\n",
            "  clients_B = df.loc[list(set(df.index) - set(clients_A.index))].groupby('cluster', group_keys=False).apply(lambda x: x.sample(int(math.ceil(10_000*len(x)/len(df))))).sample(frac=1)\n",
            "<ipython-input-9-fe0bb6b3d82a>:7: DeprecationWarning: DataFrameGroupBy.apply operated on the grouping columns. This behavior is deprecated, and in a future version of pandas the grouping columns will be excluded from the operation. Either pass `include_groups=False` to exclude the groupings or explicitly select the grouping columns after groupby to silence this warning.\n",
            "  clients_A = df.groupby('cluster', group_keys=False).apply(lambda x: x.sample(int(math.ceil(10_000*len(x)/len(df))))).sample(frac=1)\n",
            "<ipython-input-9-fe0bb6b3d82a>:8: DeprecationWarning: DataFrameGroupBy.apply operated on the grouping columns. This behavior is deprecated, and in a future version of pandas the grouping columns will be excluded from the operation. Either pass `include_groups=False` to exclude the groupings or explicitly select the grouping columns after groupby to silence this warning.\n",
            "  clients_B = df.loc[list(set(df.index) - set(clients_A.index))].groupby('cluster', group_keys=False).apply(lambda x: x.sample(int(math.ceil(10_000*len(x)/len(df))))).sample(frac=1)\n",
            "<ipython-input-9-fe0bb6b3d82a>:7: DeprecationWarning: DataFrameGroupBy.apply operated on the grouping columns. This behavior is deprecated, and in a future version of pandas the grouping columns will be excluded from the operation. Either pass `include_groups=False` to exclude the groupings or explicitly select the grouping columns after groupby to silence this warning.\n",
            "  clients_A = df.groupby('cluster', group_keys=False).apply(lambda x: x.sample(int(math.ceil(10_000*len(x)/len(df))))).sample(frac=1)\n",
            "<ipython-input-9-fe0bb6b3d82a>:8: DeprecationWarning: DataFrameGroupBy.apply operated on the grouping columns. This behavior is deprecated, and in a future version of pandas the grouping columns will be excluded from the operation. Either pass `include_groups=False` to exclude the groupings or explicitly select the grouping columns after groupby to silence this warning.\n",
            "  clients_B = df.loc[list(set(df.index) - set(clients_A.index))].groupby('cluster', group_keys=False).apply(lambda x: x.sample(int(math.ceil(10_000*len(x)/len(df))))).sample(frac=1)\n",
            "<ipython-input-9-fe0bb6b3d82a>:7: DeprecationWarning: DataFrameGroupBy.apply operated on the grouping columns. This behavior is deprecated, and in a future version of pandas the grouping columns will be excluded from the operation. Either pass `include_groups=False` to exclude the groupings or explicitly select the grouping columns after groupby to silence this warning.\n",
            "  clients_A = df.groupby('cluster', group_keys=False).apply(lambda x: x.sample(int(math.ceil(10_000*len(x)/len(df))))).sample(frac=1)\n",
            "<ipython-input-9-fe0bb6b3d82a>:8: DeprecationWarning: DataFrameGroupBy.apply operated on the grouping columns. This behavior is deprecated, and in a future version of pandas the grouping columns will be excluded from the operation. Either pass `include_groups=False` to exclude the groupings or explicitly select the grouping columns after groupby to silence this warning.\n",
            "  clients_B = df.loc[list(set(df.index) - set(clients_A.index))].groupby('cluster', group_keys=False).apply(lambda x: x.sample(int(math.ceil(10_000*len(x)/len(df))))).sample(frac=1)\n",
            "<ipython-input-9-fe0bb6b3d82a>:7: DeprecationWarning: DataFrameGroupBy.apply operated on the grouping columns. This behavior is deprecated, and in a future version of pandas the grouping columns will be excluded from the operation. Either pass `include_groups=False` to exclude the groupings or explicitly select the grouping columns after groupby to silence this warning.\n",
            "  clients_A = df.groupby('cluster', group_keys=False).apply(lambda x: x.sample(int(math.ceil(10_000*len(x)/len(df))))).sample(frac=1)\n",
            "<ipython-input-9-fe0bb6b3d82a>:8: DeprecationWarning: DataFrameGroupBy.apply operated on the grouping columns. This behavior is deprecated, and in a future version of pandas the grouping columns will be excluded from the operation. Either pass `include_groups=False` to exclude the groupings or explicitly select the grouping columns after groupby to silence this warning.\n",
            "  clients_B = df.loc[list(set(df.index) - set(clients_A.index))].groupby('cluster', group_keys=False).apply(lambda x: x.sample(int(math.ceil(10_000*len(x)/len(df))))).sample(frac=1)\n",
            "<ipython-input-9-fe0bb6b3d82a>:7: DeprecationWarning: DataFrameGroupBy.apply operated on the grouping columns. This behavior is deprecated, and in a future version of pandas the grouping columns will be excluded from the operation. Either pass `include_groups=False` to exclude the groupings or explicitly select the grouping columns after groupby to silence this warning.\n",
            "  clients_A = df.groupby('cluster', group_keys=False).apply(lambda x: x.sample(int(math.ceil(10_000*len(x)/len(df))))).sample(frac=1)\n",
            "<ipython-input-9-fe0bb6b3d82a>:8: DeprecationWarning: DataFrameGroupBy.apply operated on the grouping columns. This behavior is deprecated, and in a future version of pandas the grouping columns will be excluded from the operation. Either pass `include_groups=False` to exclude the groupings or explicitly select the grouping columns after groupby to silence this warning.\n",
            "  clients_B = df.loc[list(set(df.index) - set(clients_A.index))].groupby('cluster', group_keys=False).apply(lambda x: x.sample(int(math.ceil(10_000*len(x)/len(df))))).sample(frac=1)\n",
            "<ipython-input-9-fe0bb6b3d82a>:7: DeprecationWarning: DataFrameGroupBy.apply operated on the grouping columns. This behavior is deprecated, and in a future version of pandas the grouping columns will be excluded from the operation. Either pass `include_groups=False` to exclude the groupings or explicitly select the grouping columns after groupby to silence this warning.\n",
            "  clients_A = df.groupby('cluster', group_keys=False).apply(lambda x: x.sample(int(math.ceil(10_000*len(x)/len(df))))).sample(frac=1)\n",
            "<ipython-input-9-fe0bb6b3d82a>:8: DeprecationWarning: DataFrameGroupBy.apply operated on the grouping columns. This behavior is deprecated, and in a future version of pandas the grouping columns will be excluded from the operation. Either pass `include_groups=False` to exclude the groupings or explicitly select the grouping columns after groupby to silence this warning.\n",
            "  clients_B = df.loc[list(set(df.index) - set(clients_A.index))].groupby('cluster', group_keys=False).apply(lambda x: x.sample(int(math.ceil(10_000*len(x)/len(df))))).sample(frac=1)\n",
            "<ipython-input-9-fe0bb6b3d82a>:7: DeprecationWarning: DataFrameGroupBy.apply operated on the grouping columns. This behavior is deprecated, and in a future version of pandas the grouping columns will be excluded from the operation. Either pass `include_groups=False` to exclude the groupings or explicitly select the grouping columns after groupby to silence this warning.\n",
            "  clients_A = df.groupby('cluster', group_keys=False).apply(lambda x: x.sample(int(math.ceil(10_000*len(x)/len(df))))).sample(frac=1)\n",
            "<ipython-input-9-fe0bb6b3d82a>:8: DeprecationWarning: DataFrameGroupBy.apply operated on the grouping columns. This behavior is deprecated, and in a future version of pandas the grouping columns will be excluded from the operation. Either pass `include_groups=False` to exclude the groupings or explicitly select the grouping columns after groupby to silence this warning.\n",
            "  clients_B = df.loc[list(set(df.index) - set(clients_A.index))].groupby('cluster', group_keys=False).apply(lambda x: x.sample(int(math.ceil(10_000*len(x)/len(df))))).sample(frac=1)\n",
            "<ipython-input-9-fe0bb6b3d82a>:7: DeprecationWarning: DataFrameGroupBy.apply operated on the grouping columns. This behavior is deprecated, and in a future version of pandas the grouping columns will be excluded from the operation. Either pass `include_groups=False` to exclude the groupings or explicitly select the grouping columns after groupby to silence this warning.\n",
            "  clients_A = df.groupby('cluster', group_keys=False).apply(lambda x: x.sample(int(math.ceil(10_000*len(x)/len(df))))).sample(frac=1)\n",
            "<ipython-input-9-fe0bb6b3d82a>:8: DeprecationWarning: DataFrameGroupBy.apply operated on the grouping columns. This behavior is deprecated, and in a future version of pandas the grouping columns will be excluded from the operation. Either pass `include_groups=False` to exclude the groupings or explicitly select the grouping columns after groupby to silence this warning.\n",
            "  clients_B = df.loc[list(set(df.index) - set(clients_A.index))].groupby('cluster', group_keys=False).apply(lambda x: x.sample(int(math.ceil(10_000*len(x)/len(df))))).sample(frac=1)\n",
            "<ipython-input-9-fe0bb6b3d82a>:7: DeprecationWarning: DataFrameGroupBy.apply operated on the grouping columns. This behavior is deprecated, and in a future version of pandas the grouping columns will be excluded from the operation. Either pass `include_groups=False` to exclude the groupings or explicitly select the grouping columns after groupby to silence this warning.\n",
            "  clients_A = df.groupby('cluster', group_keys=False).apply(lambda x: x.sample(int(math.ceil(10_000*len(x)/len(df))))).sample(frac=1)\n",
            "<ipython-input-9-fe0bb6b3d82a>:8: DeprecationWarning: DataFrameGroupBy.apply operated on the grouping columns. This behavior is deprecated, and in a future version of pandas the grouping columns will be excluded from the operation. Either pass `include_groups=False` to exclude the groupings or explicitly select the grouping columns after groupby to silence this warning.\n",
            "  clients_B = df.loc[list(set(df.index) - set(clients_A.index))].groupby('cluster', group_keys=False).apply(lambda x: x.sample(int(math.ceil(10_000*len(x)/len(df))))).sample(frac=1)\n",
            "<ipython-input-9-fe0bb6b3d82a>:7: DeprecationWarning: DataFrameGroupBy.apply operated on the grouping columns. This behavior is deprecated, and in a future version of pandas the grouping columns will be excluded from the operation. Either pass `include_groups=False` to exclude the groupings or explicitly select the grouping columns after groupby to silence this warning.\n",
            "  clients_A = df.groupby('cluster', group_keys=False).apply(lambda x: x.sample(int(math.ceil(10_000*len(x)/len(df))))).sample(frac=1)\n",
            "<ipython-input-9-fe0bb6b3d82a>:8: DeprecationWarning: DataFrameGroupBy.apply operated on the grouping columns. This behavior is deprecated, and in a future version of pandas the grouping columns will be excluded from the operation. Either pass `include_groups=False` to exclude the groupings or explicitly select the grouping columns after groupby to silence this warning.\n",
            "  clients_B = df.loc[list(set(df.index) - set(clients_A.index))].groupby('cluster', group_keys=False).apply(lambda x: x.sample(int(math.ceil(10_000*len(x)/len(df))))).sample(frac=1)\n",
            "<ipython-input-9-fe0bb6b3d82a>:7: DeprecationWarning: DataFrameGroupBy.apply operated on the grouping columns. This behavior is deprecated, and in a future version of pandas the grouping columns will be excluded from the operation. Either pass `include_groups=False` to exclude the groupings or explicitly select the grouping columns after groupby to silence this warning.\n",
            "  clients_A = df.groupby('cluster', group_keys=False).apply(lambda x: x.sample(int(math.ceil(10_000*len(x)/len(df))))).sample(frac=1)\n",
            "<ipython-input-9-fe0bb6b3d82a>:8: DeprecationWarning: DataFrameGroupBy.apply operated on the grouping columns. This behavior is deprecated, and in a future version of pandas the grouping columns will be excluded from the operation. Either pass `include_groups=False` to exclude the groupings or explicitly select the grouping columns after groupby to silence this warning.\n",
            "  clients_B = df.loc[list(set(df.index) - set(clients_A.index))].groupby('cluster', group_keys=False).apply(lambda x: x.sample(int(math.ceil(10_000*len(x)/len(df))))).sample(frac=1)\n",
            "<ipython-input-9-fe0bb6b3d82a>:7: DeprecationWarning: DataFrameGroupBy.apply operated on the grouping columns. This behavior is deprecated, and in a future version of pandas the grouping columns will be excluded from the operation. Either pass `include_groups=False` to exclude the groupings or explicitly select the grouping columns after groupby to silence this warning.\n",
            "  clients_A = df.groupby('cluster', group_keys=False).apply(lambda x: x.sample(int(math.ceil(10_000*len(x)/len(df))))).sample(frac=1)\n",
            "<ipython-input-9-fe0bb6b3d82a>:8: DeprecationWarning: DataFrameGroupBy.apply operated on the grouping columns. This behavior is deprecated, and in a future version of pandas the grouping columns will be excluded from the operation. Either pass `include_groups=False` to exclude the groupings or explicitly select the grouping columns after groupby to silence this warning.\n",
            "  clients_B = df.loc[list(set(df.index) - set(clients_A.index))].groupby('cluster', group_keys=False).apply(lambda x: x.sample(int(math.ceil(10_000*len(x)/len(df))))).sample(frac=1)\n",
            "<ipython-input-9-fe0bb6b3d82a>:7: DeprecationWarning: DataFrameGroupBy.apply operated on the grouping columns. This behavior is deprecated, and in a future version of pandas the grouping columns will be excluded from the operation. Either pass `include_groups=False` to exclude the groupings or explicitly select the grouping columns after groupby to silence this warning.\n",
            "  clients_A = df.groupby('cluster', group_keys=False).apply(lambda x: x.sample(int(math.ceil(10_000*len(x)/len(df))))).sample(frac=1)\n",
            "<ipython-input-9-fe0bb6b3d82a>:8: DeprecationWarning: DataFrameGroupBy.apply operated on the grouping columns. This behavior is deprecated, and in a future version of pandas the grouping columns will be excluded from the operation. Either pass `include_groups=False` to exclude the groupings or explicitly select the grouping columns after groupby to silence this warning.\n",
            "  clients_B = df.loc[list(set(df.index) - set(clients_A.index))].groupby('cluster', group_keys=False).apply(lambda x: x.sample(int(math.ceil(10_000*len(x)/len(df))))).sample(frac=1)\n",
            "<ipython-input-9-fe0bb6b3d82a>:7: DeprecationWarning: DataFrameGroupBy.apply operated on the grouping columns. This behavior is deprecated, and in a future version of pandas the grouping columns will be excluded from the operation. Either pass `include_groups=False` to exclude the groupings or explicitly select the grouping columns after groupby to silence this warning.\n",
            "  clients_A = df.groupby('cluster', group_keys=False).apply(lambda x: x.sample(int(math.ceil(10_000*len(x)/len(df))))).sample(frac=1)\n",
            "<ipython-input-9-fe0bb6b3d82a>:8: DeprecationWarning: DataFrameGroupBy.apply operated on the grouping columns. This behavior is deprecated, and in a future version of pandas the grouping columns will be excluded from the operation. Either pass `include_groups=False` to exclude the groupings or explicitly select the grouping columns after groupby to silence this warning.\n",
            "  clients_B = df.loc[list(set(df.index) - set(clients_A.index))].groupby('cluster', group_keys=False).apply(lambda x: x.sample(int(math.ceil(10_000*len(x)/len(df))))).sample(frac=1)\n",
            "<ipython-input-9-fe0bb6b3d82a>:7: DeprecationWarning: DataFrameGroupBy.apply operated on the grouping columns. This behavior is deprecated, and in a future version of pandas the grouping columns will be excluded from the operation. Either pass `include_groups=False` to exclude the groupings or explicitly select the grouping columns after groupby to silence this warning.\n",
            "  clients_A = df.groupby('cluster', group_keys=False).apply(lambda x: x.sample(int(math.ceil(10_000*len(x)/len(df))))).sample(frac=1)\n",
            "<ipython-input-9-fe0bb6b3d82a>:8: DeprecationWarning: DataFrameGroupBy.apply operated on the grouping columns. This behavior is deprecated, and in a future version of pandas the grouping columns will be excluded from the operation. Either pass `include_groups=False` to exclude the groupings or explicitly select the grouping columns after groupby to silence this warning.\n",
            "  clients_B = df.loc[list(set(df.index) - set(clients_A.index))].groupby('cluster', group_keys=False).apply(lambda x: x.sample(int(math.ceil(10_000*len(x)/len(df))))).sample(frac=1)\n",
            "<ipython-input-9-fe0bb6b3d82a>:7: DeprecationWarning: DataFrameGroupBy.apply operated on the grouping columns. This behavior is deprecated, and in a future version of pandas the grouping columns will be excluded from the operation. Either pass `include_groups=False` to exclude the groupings or explicitly select the grouping columns after groupby to silence this warning.\n",
            "  clients_A = df.groupby('cluster', group_keys=False).apply(lambda x: x.sample(int(math.ceil(10_000*len(x)/len(df))))).sample(frac=1)\n",
            "<ipython-input-9-fe0bb6b3d82a>:8: DeprecationWarning: DataFrameGroupBy.apply operated on the grouping columns. This behavior is deprecated, and in a future version of pandas the grouping columns will be excluded from the operation. Either pass `include_groups=False` to exclude the groupings or explicitly select the grouping columns after groupby to silence this warning.\n",
            "  clients_B = df.loc[list(set(df.index) - set(clients_A.index))].groupby('cluster', group_keys=False).apply(lambda x: x.sample(int(math.ceil(10_000*len(x)/len(df))))).sample(frac=1)\n",
            "<ipython-input-9-fe0bb6b3d82a>:7: DeprecationWarning: DataFrameGroupBy.apply operated on the grouping columns. This behavior is deprecated, and in a future version of pandas the grouping columns will be excluded from the operation. Either pass `include_groups=False` to exclude the groupings or explicitly select the grouping columns after groupby to silence this warning.\n",
            "  clients_A = df.groupby('cluster', group_keys=False).apply(lambda x: x.sample(int(math.ceil(10_000*len(x)/len(df))))).sample(frac=1)\n",
            "<ipython-input-9-fe0bb6b3d82a>:8: DeprecationWarning: DataFrameGroupBy.apply operated on the grouping columns. This behavior is deprecated, and in a future version of pandas the grouping columns will be excluded from the operation. Either pass `include_groups=False` to exclude the groupings or explicitly select the grouping columns after groupby to silence this warning.\n",
            "  clients_B = df.loc[list(set(df.index) - set(clients_A.index))].groupby('cluster', group_keys=False).apply(lambda x: x.sample(int(math.ceil(10_000*len(x)/len(df))))).sample(frac=1)\n",
            "<ipython-input-9-fe0bb6b3d82a>:7: DeprecationWarning: DataFrameGroupBy.apply operated on the grouping columns. This behavior is deprecated, and in a future version of pandas the grouping columns will be excluded from the operation. Either pass `include_groups=False` to exclude the groupings or explicitly select the grouping columns after groupby to silence this warning.\n",
            "  clients_A = df.groupby('cluster', group_keys=False).apply(lambda x: x.sample(int(math.ceil(10_000*len(x)/len(df))))).sample(frac=1)\n",
            "<ipython-input-9-fe0bb6b3d82a>:8: DeprecationWarning: DataFrameGroupBy.apply operated on the grouping columns. This behavior is deprecated, and in a future version of pandas the grouping columns will be excluded from the operation. Either pass `include_groups=False` to exclude the groupings or explicitly select the grouping columns after groupby to silence this warning.\n",
            "  clients_B = df.loc[list(set(df.index) - set(clients_A.index))].groupby('cluster', group_keys=False).apply(lambda x: x.sample(int(math.ceil(10_000*len(x)/len(df))))).sample(frac=1)\n",
            "<ipython-input-9-fe0bb6b3d82a>:7: DeprecationWarning: DataFrameGroupBy.apply operated on the grouping columns. This behavior is deprecated, and in a future version of pandas the grouping columns will be excluded from the operation. Either pass `include_groups=False` to exclude the groupings or explicitly select the grouping columns after groupby to silence this warning.\n",
            "  clients_A = df.groupby('cluster', group_keys=False).apply(lambda x: x.sample(int(math.ceil(10_000*len(x)/len(df))))).sample(frac=1)\n",
            "<ipython-input-9-fe0bb6b3d82a>:8: DeprecationWarning: DataFrameGroupBy.apply operated on the grouping columns. This behavior is deprecated, and in a future version of pandas the grouping columns will be excluded from the operation. Either pass `include_groups=False` to exclude the groupings or explicitly select the grouping columns after groupby to silence this warning.\n",
            "  clients_B = df.loc[list(set(df.index) - set(clients_A.index))].groupby('cluster', group_keys=False).apply(lambda x: x.sample(int(math.ceil(10_000*len(x)/len(df))))).sample(frac=1)\n",
            "<ipython-input-9-fe0bb6b3d82a>:7: DeprecationWarning: DataFrameGroupBy.apply operated on the grouping columns. This behavior is deprecated, and in a future version of pandas the grouping columns will be excluded from the operation. Either pass `include_groups=False` to exclude the groupings or explicitly select the grouping columns after groupby to silence this warning.\n",
            "  clients_A = df.groupby('cluster', group_keys=False).apply(lambda x: x.sample(int(math.ceil(10_000*len(x)/len(df))))).sample(frac=1)\n",
            "<ipython-input-9-fe0bb6b3d82a>:8: DeprecationWarning: DataFrameGroupBy.apply operated on the grouping columns. This behavior is deprecated, and in a future version of pandas the grouping columns will be excluded from the operation. Either pass `include_groups=False` to exclude the groupings or explicitly select the grouping columns after groupby to silence this warning.\n",
            "  clients_B = df.loc[list(set(df.index) - set(clients_A.index))].groupby('cluster', group_keys=False).apply(lambda x: x.sample(int(math.ceil(10_000*len(x)/len(df))))).sample(frac=1)\n",
            "<ipython-input-9-fe0bb6b3d82a>:7: DeprecationWarning: DataFrameGroupBy.apply operated on the grouping columns. This behavior is deprecated, and in a future version of pandas the grouping columns will be excluded from the operation. Either pass `include_groups=False` to exclude the groupings or explicitly select the grouping columns after groupby to silence this warning.\n",
            "  clients_A = df.groupby('cluster', group_keys=False).apply(lambda x: x.sample(int(math.ceil(10_000*len(x)/len(df))))).sample(frac=1)\n",
            "<ipython-input-9-fe0bb6b3d82a>:8: DeprecationWarning: DataFrameGroupBy.apply operated on the grouping columns. This behavior is deprecated, and in a future version of pandas the grouping columns will be excluded from the operation. Either pass `include_groups=False` to exclude the groupings or explicitly select the grouping columns after groupby to silence this warning.\n",
            "  clients_B = df.loc[list(set(df.index) - set(clients_A.index))].groupby('cluster', group_keys=False).apply(lambda x: x.sample(int(math.ceil(10_000*len(x)/len(df))))).sample(frac=1)\n",
            "<ipython-input-9-fe0bb6b3d82a>:7: DeprecationWarning: DataFrameGroupBy.apply operated on the grouping columns. This behavior is deprecated, and in a future version of pandas the grouping columns will be excluded from the operation. Either pass `include_groups=False` to exclude the groupings or explicitly select the grouping columns after groupby to silence this warning.\n",
            "  clients_A = df.groupby('cluster', group_keys=False).apply(lambda x: x.sample(int(math.ceil(10_000*len(x)/len(df))))).sample(frac=1)\n",
            "<ipython-input-9-fe0bb6b3d82a>:8: DeprecationWarning: DataFrameGroupBy.apply operated on the grouping columns. This behavior is deprecated, and in a future version of pandas the grouping columns will be excluded from the operation. Either pass `include_groups=False` to exclude the groupings or explicitly select the grouping columns after groupby to silence this warning.\n",
            "  clients_B = df.loc[list(set(df.index) - set(clients_A.index))].groupby('cluster', group_keys=False).apply(lambda x: x.sample(int(math.ceil(10_000*len(x)/len(df))))).sample(frac=1)\n",
            "<ipython-input-9-fe0bb6b3d82a>:7: DeprecationWarning: DataFrameGroupBy.apply operated on the grouping columns. This behavior is deprecated, and in a future version of pandas the grouping columns will be excluded from the operation. Either pass `include_groups=False` to exclude the groupings or explicitly select the grouping columns after groupby to silence this warning.\n",
            "  clients_A = df.groupby('cluster', group_keys=False).apply(lambda x: x.sample(int(math.ceil(10_000*len(x)/len(df))))).sample(frac=1)\n",
            "<ipython-input-9-fe0bb6b3d82a>:8: DeprecationWarning: DataFrameGroupBy.apply operated on the grouping columns. This behavior is deprecated, and in a future version of pandas the grouping columns will be excluded from the operation. Either pass `include_groups=False` to exclude the groupings or explicitly select the grouping columns after groupby to silence this warning.\n",
            "  clients_B = df.loc[list(set(df.index) - set(clients_A.index))].groupby('cluster', group_keys=False).apply(lambda x: x.sample(int(math.ceil(10_000*len(x)/len(df))))).sample(frac=1)\n",
            "<ipython-input-9-fe0bb6b3d82a>:7: DeprecationWarning: DataFrameGroupBy.apply operated on the grouping columns. This behavior is deprecated, and in a future version of pandas the grouping columns will be excluded from the operation. Either pass `include_groups=False` to exclude the groupings or explicitly select the grouping columns after groupby to silence this warning.\n",
            "  clients_A = df.groupby('cluster', group_keys=False).apply(lambda x: x.sample(int(math.ceil(10_000*len(x)/len(df))))).sample(frac=1)\n",
            "<ipython-input-9-fe0bb6b3d82a>:8: DeprecationWarning: DataFrameGroupBy.apply operated on the grouping columns. This behavior is deprecated, and in a future version of pandas the grouping columns will be excluded from the operation. Either pass `include_groups=False` to exclude the groupings or explicitly select the grouping columns after groupby to silence this warning.\n",
            "  clients_B = df.loc[list(set(df.index) - set(clients_A.index))].groupby('cluster', group_keys=False).apply(lambda x: x.sample(int(math.ceil(10_000*len(x)/len(df))))).sample(frac=1)\n",
            "<ipython-input-9-fe0bb6b3d82a>:7: DeprecationWarning: DataFrameGroupBy.apply operated on the grouping columns. This behavior is deprecated, and in a future version of pandas the grouping columns will be excluded from the operation. Either pass `include_groups=False` to exclude the groupings or explicitly select the grouping columns after groupby to silence this warning.\n",
            "  clients_A = df.groupby('cluster', group_keys=False).apply(lambda x: x.sample(int(math.ceil(10_000*len(x)/len(df))))).sample(frac=1)\n",
            "<ipython-input-9-fe0bb6b3d82a>:8: DeprecationWarning: DataFrameGroupBy.apply operated on the grouping columns. This behavior is deprecated, and in a future version of pandas the grouping columns will be excluded from the operation. Either pass `include_groups=False` to exclude the groupings or explicitly select the grouping columns after groupby to silence this warning.\n",
            "  clients_B = df.loc[list(set(df.index) - set(clients_A.index))].groupby('cluster', group_keys=False).apply(lambda x: x.sample(int(math.ceil(10_000*len(x)/len(df))))).sample(frac=1)\n",
            "<ipython-input-9-fe0bb6b3d82a>:7: DeprecationWarning: DataFrameGroupBy.apply operated on the grouping columns. This behavior is deprecated, and in a future version of pandas the grouping columns will be excluded from the operation. Either pass `include_groups=False` to exclude the groupings or explicitly select the grouping columns after groupby to silence this warning.\n",
            "  clients_A = df.groupby('cluster', group_keys=False).apply(lambda x: x.sample(int(math.ceil(10_000*len(x)/len(df))))).sample(frac=1)\n",
            "<ipython-input-9-fe0bb6b3d82a>:8: DeprecationWarning: DataFrameGroupBy.apply operated on the grouping columns. This behavior is deprecated, and in a future version of pandas the grouping columns will be excluded from the operation. Either pass `include_groups=False` to exclude the groupings or explicitly select the grouping columns after groupby to silence this warning.\n",
            "  clients_B = df.loc[list(set(df.index) - set(clients_A.index))].groupby('cluster', group_keys=False).apply(lambda x: x.sample(int(math.ceil(10_000*len(x)/len(df))))).sample(frac=1)\n",
            "<ipython-input-9-fe0bb6b3d82a>:7: DeprecationWarning: DataFrameGroupBy.apply operated on the grouping columns. This behavior is deprecated, and in a future version of pandas the grouping columns will be excluded from the operation. Either pass `include_groups=False` to exclude the groupings or explicitly select the grouping columns after groupby to silence this warning.\n",
            "  clients_A = df.groupby('cluster', group_keys=False).apply(lambda x: x.sample(int(math.ceil(10_000*len(x)/len(df))))).sample(frac=1)\n",
            "<ipython-input-9-fe0bb6b3d82a>:8: DeprecationWarning: DataFrameGroupBy.apply operated on the grouping columns. This behavior is deprecated, and in a future version of pandas the grouping columns will be excluded from the operation. Either pass `include_groups=False` to exclude the groupings or explicitly select the grouping columns after groupby to silence this warning.\n",
            "  clients_B = df.loc[list(set(df.index) - set(clients_A.index))].groupby('cluster', group_keys=False).apply(lambda x: x.sample(int(math.ceil(10_000*len(x)/len(df))))).sample(frac=1)\n",
            "<ipython-input-9-fe0bb6b3d82a>:7: DeprecationWarning: DataFrameGroupBy.apply operated on the grouping columns. This behavior is deprecated, and in a future version of pandas the grouping columns will be excluded from the operation. Either pass `include_groups=False` to exclude the groupings or explicitly select the grouping columns after groupby to silence this warning.\n",
            "  clients_A = df.groupby('cluster', group_keys=False).apply(lambda x: x.sample(int(math.ceil(10_000*len(x)/len(df))))).sample(frac=1)\n",
            "<ipython-input-9-fe0bb6b3d82a>:8: DeprecationWarning: DataFrameGroupBy.apply operated on the grouping columns. This behavior is deprecated, and in a future version of pandas the grouping columns will be excluded from the operation. Either pass `include_groups=False` to exclude the groupings or explicitly select the grouping columns after groupby to silence this warning.\n",
            "  clients_B = df.loc[list(set(df.index) - set(clients_A.index))].groupby('cluster', group_keys=False).apply(lambda x: x.sample(int(math.ceil(10_000*len(x)/len(df))))).sample(frac=1)\n",
            "<ipython-input-9-fe0bb6b3d82a>:7: DeprecationWarning: DataFrameGroupBy.apply operated on the grouping columns. This behavior is deprecated, and in a future version of pandas the grouping columns will be excluded from the operation. Either pass `include_groups=False` to exclude the groupings or explicitly select the grouping columns after groupby to silence this warning.\n",
            "  clients_A = df.groupby('cluster', group_keys=False).apply(lambda x: x.sample(int(math.ceil(10_000*len(x)/len(df))))).sample(frac=1)\n",
            "<ipython-input-9-fe0bb6b3d82a>:8: DeprecationWarning: DataFrameGroupBy.apply operated on the grouping columns. This behavior is deprecated, and in a future version of pandas the grouping columns will be excluded from the operation. Either pass `include_groups=False` to exclude the groupings or explicitly select the grouping columns after groupby to silence this warning.\n",
            "  clients_B = df.loc[list(set(df.index) - set(clients_A.index))].groupby('cluster', group_keys=False).apply(lambda x: x.sample(int(math.ceil(10_000*len(x)/len(df))))).sample(frac=1)\n",
            "<ipython-input-9-fe0bb6b3d82a>:7: DeprecationWarning: DataFrameGroupBy.apply operated on the grouping columns. This behavior is deprecated, and in a future version of pandas the grouping columns will be excluded from the operation. Either pass `include_groups=False` to exclude the groupings or explicitly select the grouping columns after groupby to silence this warning.\n",
            "  clients_A = df.groupby('cluster', group_keys=False).apply(lambda x: x.sample(int(math.ceil(10_000*len(x)/len(df))))).sample(frac=1)\n",
            "<ipython-input-9-fe0bb6b3d82a>:8: DeprecationWarning: DataFrameGroupBy.apply operated on the grouping columns. This behavior is deprecated, and in a future version of pandas the grouping columns will be excluded from the operation. Either pass `include_groups=False` to exclude the groupings or explicitly select the grouping columns after groupby to silence this warning.\n",
            "  clients_B = df.loc[list(set(df.index) - set(clients_A.index))].groupby('cluster', group_keys=False).apply(lambda x: x.sample(int(math.ceil(10_000*len(x)/len(df))))).sample(frac=1)\n",
            "<ipython-input-9-fe0bb6b3d82a>:7: DeprecationWarning: DataFrameGroupBy.apply operated on the grouping columns. This behavior is deprecated, and in a future version of pandas the grouping columns will be excluded from the operation. Either pass `include_groups=False` to exclude the groupings or explicitly select the grouping columns after groupby to silence this warning.\n",
            "  clients_A = df.groupby('cluster', group_keys=False).apply(lambda x: x.sample(int(math.ceil(10_000*len(x)/len(df))))).sample(frac=1)\n",
            "<ipython-input-9-fe0bb6b3d82a>:8: DeprecationWarning: DataFrameGroupBy.apply operated on the grouping columns. This behavior is deprecated, and in a future version of pandas the grouping columns will be excluded from the operation. Either pass `include_groups=False` to exclude the groupings or explicitly select the grouping columns after groupby to silence this warning.\n",
            "  clients_B = df.loc[list(set(df.index) - set(clients_A.index))].groupby('cluster', group_keys=False).apply(lambda x: x.sample(int(math.ceil(10_000*len(x)/len(df))))).sample(frac=1)\n",
            "<ipython-input-9-fe0bb6b3d82a>:7: DeprecationWarning: DataFrameGroupBy.apply operated on the grouping columns. This behavior is deprecated, and in a future version of pandas the grouping columns will be excluded from the operation. Either pass `include_groups=False` to exclude the groupings or explicitly select the grouping columns after groupby to silence this warning.\n",
            "  clients_A = df.groupby('cluster', group_keys=False).apply(lambda x: x.sample(int(math.ceil(10_000*len(x)/len(df))))).sample(frac=1)\n",
            "<ipython-input-9-fe0bb6b3d82a>:8: DeprecationWarning: DataFrameGroupBy.apply operated on the grouping columns. This behavior is deprecated, and in a future version of pandas the grouping columns will be excluded from the operation. Either pass `include_groups=False` to exclude the groupings or explicitly select the grouping columns after groupby to silence this warning.\n",
            "  clients_B = df.loc[list(set(df.index) - set(clients_A.index))].groupby('cluster', group_keys=False).apply(lambda x: x.sample(int(math.ceil(10_000*len(x)/len(df))))).sample(frac=1)\n"
          ]
        },
        {
          "output_type": "stream",
          "name": "stdout",
          "text": [
            "100\n"
          ]
        },
        {
          "output_type": "stream",
          "name": "stderr",
          "text": [
            "<ipython-input-9-fe0bb6b3d82a>:7: DeprecationWarning: DataFrameGroupBy.apply operated on the grouping columns. This behavior is deprecated, and in a future version of pandas the grouping columns will be excluded from the operation. Either pass `include_groups=False` to exclude the groupings or explicitly select the grouping columns after groupby to silence this warning.\n",
            "  clients_A = df.groupby('cluster', group_keys=False).apply(lambda x: x.sample(int(math.ceil(10_000*len(x)/len(df))))).sample(frac=1)\n",
            "<ipython-input-9-fe0bb6b3d82a>:8: DeprecationWarning: DataFrameGroupBy.apply operated on the grouping columns. This behavior is deprecated, and in a future version of pandas the grouping columns will be excluded from the operation. Either pass `include_groups=False` to exclude the groupings or explicitly select the grouping columns after groupby to silence this warning.\n",
            "  clients_B = df.loc[list(set(df.index) - set(clients_A.index))].groupby('cluster', group_keys=False).apply(lambda x: x.sample(int(math.ceil(10_000*len(x)/len(df))))).sample(frac=1)\n",
            "<ipython-input-9-fe0bb6b3d82a>:7: DeprecationWarning: DataFrameGroupBy.apply operated on the grouping columns. This behavior is deprecated, and in a future version of pandas the grouping columns will be excluded from the operation. Either pass `include_groups=False` to exclude the groupings or explicitly select the grouping columns after groupby to silence this warning.\n",
            "  clients_A = df.groupby('cluster', group_keys=False).apply(lambda x: x.sample(int(math.ceil(10_000*len(x)/len(df))))).sample(frac=1)\n",
            "<ipython-input-9-fe0bb6b3d82a>:8: DeprecationWarning: DataFrameGroupBy.apply operated on the grouping columns. This behavior is deprecated, and in a future version of pandas the grouping columns will be excluded from the operation. Either pass `include_groups=False` to exclude the groupings or explicitly select the grouping columns after groupby to silence this warning.\n",
            "  clients_B = df.loc[list(set(df.index) - set(clients_A.index))].groupby('cluster', group_keys=False).apply(lambda x: x.sample(int(math.ceil(10_000*len(x)/len(df))))).sample(frac=1)\n",
            "<ipython-input-9-fe0bb6b3d82a>:7: DeprecationWarning: DataFrameGroupBy.apply operated on the grouping columns. This behavior is deprecated, and in a future version of pandas the grouping columns will be excluded from the operation. Either pass `include_groups=False` to exclude the groupings or explicitly select the grouping columns after groupby to silence this warning.\n",
            "  clients_A = df.groupby('cluster', group_keys=False).apply(lambda x: x.sample(int(math.ceil(10_000*len(x)/len(df))))).sample(frac=1)\n",
            "<ipython-input-9-fe0bb6b3d82a>:8: DeprecationWarning: DataFrameGroupBy.apply operated on the grouping columns. This behavior is deprecated, and in a future version of pandas the grouping columns will be excluded from the operation. Either pass `include_groups=False` to exclude the groupings or explicitly select the grouping columns after groupby to silence this warning.\n",
            "  clients_B = df.loc[list(set(df.index) - set(clients_A.index))].groupby('cluster', group_keys=False).apply(lambda x: x.sample(int(math.ceil(10_000*len(x)/len(df))))).sample(frac=1)\n",
            "<ipython-input-9-fe0bb6b3d82a>:7: DeprecationWarning: DataFrameGroupBy.apply operated on the grouping columns. This behavior is deprecated, and in a future version of pandas the grouping columns will be excluded from the operation. Either pass `include_groups=False` to exclude the groupings or explicitly select the grouping columns after groupby to silence this warning.\n",
            "  clients_A = df.groupby('cluster', group_keys=False).apply(lambda x: x.sample(int(math.ceil(10_000*len(x)/len(df))))).sample(frac=1)\n",
            "<ipython-input-9-fe0bb6b3d82a>:8: DeprecationWarning: DataFrameGroupBy.apply operated on the grouping columns. This behavior is deprecated, and in a future version of pandas the grouping columns will be excluded from the operation. Either pass `include_groups=False` to exclude the groupings or explicitly select the grouping columns after groupby to silence this warning.\n",
            "  clients_B = df.loc[list(set(df.index) - set(clients_A.index))].groupby('cluster', group_keys=False).apply(lambda x: x.sample(int(math.ceil(10_000*len(x)/len(df))))).sample(frac=1)\n",
            "<ipython-input-9-fe0bb6b3d82a>:7: DeprecationWarning: DataFrameGroupBy.apply operated on the grouping columns. This behavior is deprecated, and in a future version of pandas the grouping columns will be excluded from the operation. Either pass `include_groups=False` to exclude the groupings or explicitly select the grouping columns after groupby to silence this warning.\n",
            "  clients_A = df.groupby('cluster', group_keys=False).apply(lambda x: x.sample(int(math.ceil(10_000*len(x)/len(df))))).sample(frac=1)\n",
            "<ipython-input-9-fe0bb6b3d82a>:8: DeprecationWarning: DataFrameGroupBy.apply operated on the grouping columns. This behavior is deprecated, and in a future version of pandas the grouping columns will be excluded from the operation. Either pass `include_groups=False` to exclude the groupings or explicitly select the grouping columns after groupby to silence this warning.\n",
            "  clients_B = df.loc[list(set(df.index) - set(clients_A.index))].groupby('cluster', group_keys=False).apply(lambda x: x.sample(int(math.ceil(10_000*len(x)/len(df))))).sample(frac=1)\n",
            "<ipython-input-9-fe0bb6b3d82a>:7: DeprecationWarning: DataFrameGroupBy.apply operated on the grouping columns. This behavior is deprecated, and in a future version of pandas the grouping columns will be excluded from the operation. Either pass `include_groups=False` to exclude the groupings or explicitly select the grouping columns after groupby to silence this warning.\n",
            "  clients_A = df.groupby('cluster', group_keys=False).apply(lambda x: x.sample(int(math.ceil(10_000*len(x)/len(df))))).sample(frac=1)\n",
            "<ipython-input-9-fe0bb6b3d82a>:8: DeprecationWarning: DataFrameGroupBy.apply operated on the grouping columns. This behavior is deprecated, and in a future version of pandas the grouping columns will be excluded from the operation. Either pass `include_groups=False` to exclude the groupings or explicitly select the grouping columns after groupby to silence this warning.\n",
            "  clients_B = df.loc[list(set(df.index) - set(clients_A.index))].groupby('cluster', group_keys=False).apply(lambda x: x.sample(int(math.ceil(10_000*len(x)/len(df))))).sample(frac=1)\n",
            "<ipython-input-9-fe0bb6b3d82a>:7: DeprecationWarning: DataFrameGroupBy.apply operated on the grouping columns. This behavior is deprecated, and in a future version of pandas the grouping columns will be excluded from the operation. Either pass `include_groups=False` to exclude the groupings or explicitly select the grouping columns after groupby to silence this warning.\n",
            "  clients_A = df.groupby('cluster', group_keys=False).apply(lambda x: x.sample(int(math.ceil(10_000*len(x)/len(df))))).sample(frac=1)\n",
            "<ipython-input-9-fe0bb6b3d82a>:8: DeprecationWarning: DataFrameGroupBy.apply operated on the grouping columns. This behavior is deprecated, and in a future version of pandas the grouping columns will be excluded from the operation. Either pass `include_groups=False` to exclude the groupings or explicitly select the grouping columns after groupby to silence this warning.\n",
            "  clients_B = df.loc[list(set(df.index) - set(clients_A.index))].groupby('cluster', group_keys=False).apply(lambda x: x.sample(int(math.ceil(10_000*len(x)/len(df))))).sample(frac=1)\n",
            "<ipython-input-9-fe0bb6b3d82a>:7: DeprecationWarning: DataFrameGroupBy.apply operated on the grouping columns. This behavior is deprecated, and in a future version of pandas the grouping columns will be excluded from the operation. Either pass `include_groups=False` to exclude the groupings or explicitly select the grouping columns after groupby to silence this warning.\n",
            "  clients_A = df.groupby('cluster', group_keys=False).apply(lambda x: x.sample(int(math.ceil(10_000*len(x)/len(df))))).sample(frac=1)\n",
            "<ipython-input-9-fe0bb6b3d82a>:8: DeprecationWarning: DataFrameGroupBy.apply operated on the grouping columns. This behavior is deprecated, and in a future version of pandas the grouping columns will be excluded from the operation. Either pass `include_groups=False` to exclude the groupings or explicitly select the grouping columns after groupby to silence this warning.\n",
            "  clients_B = df.loc[list(set(df.index) - set(clients_A.index))].groupby('cluster', group_keys=False).apply(lambda x: x.sample(int(math.ceil(10_000*len(x)/len(df))))).sample(frac=1)\n",
            "<ipython-input-9-fe0bb6b3d82a>:7: DeprecationWarning: DataFrameGroupBy.apply operated on the grouping columns. This behavior is deprecated, and in a future version of pandas the grouping columns will be excluded from the operation. Either pass `include_groups=False` to exclude the groupings or explicitly select the grouping columns after groupby to silence this warning.\n",
            "  clients_A = df.groupby('cluster', group_keys=False).apply(lambda x: x.sample(int(math.ceil(10_000*len(x)/len(df))))).sample(frac=1)\n",
            "<ipython-input-9-fe0bb6b3d82a>:8: DeprecationWarning: DataFrameGroupBy.apply operated on the grouping columns. This behavior is deprecated, and in a future version of pandas the grouping columns will be excluded from the operation. Either pass `include_groups=False` to exclude the groupings or explicitly select the grouping columns after groupby to silence this warning.\n",
            "  clients_B = df.loc[list(set(df.index) - set(clients_A.index))].groupby('cluster', group_keys=False).apply(lambda x: x.sample(int(math.ceil(10_000*len(x)/len(df))))).sample(frac=1)\n",
            "<ipython-input-9-fe0bb6b3d82a>:7: DeprecationWarning: DataFrameGroupBy.apply operated on the grouping columns. This behavior is deprecated, and in a future version of pandas the grouping columns will be excluded from the operation. Either pass `include_groups=False` to exclude the groupings or explicitly select the grouping columns after groupby to silence this warning.\n",
            "  clients_A = df.groupby('cluster', group_keys=False).apply(lambda x: x.sample(int(math.ceil(10_000*len(x)/len(df))))).sample(frac=1)\n",
            "<ipython-input-9-fe0bb6b3d82a>:8: DeprecationWarning: DataFrameGroupBy.apply operated on the grouping columns. This behavior is deprecated, and in a future version of pandas the grouping columns will be excluded from the operation. Either pass `include_groups=False` to exclude the groupings or explicitly select the grouping columns after groupby to silence this warning.\n",
            "  clients_B = df.loc[list(set(df.index) - set(clients_A.index))].groupby('cluster', group_keys=False).apply(lambda x: x.sample(int(math.ceil(10_000*len(x)/len(df))))).sample(frac=1)\n",
            "<ipython-input-9-fe0bb6b3d82a>:7: DeprecationWarning: DataFrameGroupBy.apply operated on the grouping columns. This behavior is deprecated, and in a future version of pandas the grouping columns will be excluded from the operation. Either pass `include_groups=False` to exclude the groupings or explicitly select the grouping columns after groupby to silence this warning.\n",
            "  clients_A = df.groupby('cluster', group_keys=False).apply(lambda x: x.sample(int(math.ceil(10_000*len(x)/len(df))))).sample(frac=1)\n",
            "<ipython-input-9-fe0bb6b3d82a>:8: DeprecationWarning: DataFrameGroupBy.apply operated on the grouping columns. This behavior is deprecated, and in a future version of pandas the grouping columns will be excluded from the operation. Either pass `include_groups=False` to exclude the groupings or explicitly select the grouping columns after groupby to silence this warning.\n",
            "  clients_B = df.loc[list(set(df.index) - set(clients_A.index))].groupby('cluster', group_keys=False).apply(lambda x: x.sample(int(math.ceil(10_000*len(x)/len(df))))).sample(frac=1)\n",
            "<ipython-input-9-fe0bb6b3d82a>:7: DeprecationWarning: DataFrameGroupBy.apply operated on the grouping columns. This behavior is deprecated, and in a future version of pandas the grouping columns will be excluded from the operation. Either pass `include_groups=False` to exclude the groupings or explicitly select the grouping columns after groupby to silence this warning.\n",
            "  clients_A = df.groupby('cluster', group_keys=False).apply(lambda x: x.sample(int(math.ceil(10_000*len(x)/len(df))))).sample(frac=1)\n",
            "<ipython-input-9-fe0bb6b3d82a>:8: DeprecationWarning: DataFrameGroupBy.apply operated on the grouping columns. This behavior is deprecated, and in a future version of pandas the grouping columns will be excluded from the operation. Either pass `include_groups=False` to exclude the groupings or explicitly select the grouping columns after groupby to silence this warning.\n",
            "  clients_B = df.loc[list(set(df.index) - set(clients_A.index))].groupby('cluster', group_keys=False).apply(lambda x: x.sample(int(math.ceil(10_000*len(x)/len(df))))).sample(frac=1)\n",
            "<ipython-input-9-fe0bb6b3d82a>:7: DeprecationWarning: DataFrameGroupBy.apply operated on the grouping columns. This behavior is deprecated, and in a future version of pandas the grouping columns will be excluded from the operation. Either pass `include_groups=False` to exclude the groupings or explicitly select the grouping columns after groupby to silence this warning.\n",
            "  clients_A = df.groupby('cluster', group_keys=False).apply(lambda x: x.sample(int(math.ceil(10_000*len(x)/len(df))))).sample(frac=1)\n",
            "<ipython-input-9-fe0bb6b3d82a>:8: DeprecationWarning: DataFrameGroupBy.apply operated on the grouping columns. This behavior is deprecated, and in a future version of pandas the grouping columns will be excluded from the operation. Either pass `include_groups=False` to exclude the groupings or explicitly select the grouping columns after groupby to silence this warning.\n",
            "  clients_B = df.loc[list(set(df.index) - set(clients_A.index))].groupby('cluster', group_keys=False).apply(lambda x: x.sample(int(math.ceil(10_000*len(x)/len(df))))).sample(frac=1)\n",
            "<ipython-input-9-fe0bb6b3d82a>:7: DeprecationWarning: DataFrameGroupBy.apply operated on the grouping columns. This behavior is deprecated, and in a future version of pandas the grouping columns will be excluded from the operation. Either pass `include_groups=False` to exclude the groupings or explicitly select the grouping columns after groupby to silence this warning.\n",
            "  clients_A = df.groupby('cluster', group_keys=False).apply(lambda x: x.sample(int(math.ceil(10_000*len(x)/len(df))))).sample(frac=1)\n",
            "<ipython-input-9-fe0bb6b3d82a>:8: DeprecationWarning: DataFrameGroupBy.apply operated on the grouping columns. This behavior is deprecated, and in a future version of pandas the grouping columns will be excluded from the operation. Either pass `include_groups=False` to exclude the groupings or explicitly select the grouping columns after groupby to silence this warning.\n",
            "  clients_B = df.loc[list(set(df.index) - set(clients_A.index))].groupby('cluster', group_keys=False).apply(lambda x: x.sample(int(math.ceil(10_000*len(x)/len(df))))).sample(frac=1)\n",
            "<ipython-input-9-fe0bb6b3d82a>:7: DeprecationWarning: DataFrameGroupBy.apply operated on the grouping columns. This behavior is deprecated, and in a future version of pandas the grouping columns will be excluded from the operation. Either pass `include_groups=False` to exclude the groupings or explicitly select the grouping columns after groupby to silence this warning.\n",
            "  clients_A = df.groupby('cluster', group_keys=False).apply(lambda x: x.sample(int(math.ceil(10_000*len(x)/len(df))))).sample(frac=1)\n",
            "<ipython-input-9-fe0bb6b3d82a>:8: DeprecationWarning: DataFrameGroupBy.apply operated on the grouping columns. This behavior is deprecated, and in a future version of pandas the grouping columns will be excluded from the operation. Either pass `include_groups=False` to exclude the groupings or explicitly select the grouping columns after groupby to silence this warning.\n",
            "  clients_B = df.loc[list(set(df.index) - set(clients_A.index))].groupby('cluster', group_keys=False).apply(lambda x: x.sample(int(math.ceil(10_000*len(x)/len(df))))).sample(frac=1)\n",
            "<ipython-input-9-fe0bb6b3d82a>:7: DeprecationWarning: DataFrameGroupBy.apply operated on the grouping columns. This behavior is deprecated, and in a future version of pandas the grouping columns will be excluded from the operation. Either pass `include_groups=False` to exclude the groupings or explicitly select the grouping columns after groupby to silence this warning.\n",
            "  clients_A = df.groupby('cluster', group_keys=False).apply(lambda x: x.sample(int(math.ceil(10_000*len(x)/len(df))))).sample(frac=1)\n",
            "<ipython-input-9-fe0bb6b3d82a>:8: DeprecationWarning: DataFrameGroupBy.apply operated on the grouping columns. This behavior is deprecated, and in a future version of pandas the grouping columns will be excluded from the operation. Either pass `include_groups=False` to exclude the groupings or explicitly select the grouping columns after groupby to silence this warning.\n",
            "  clients_B = df.loc[list(set(df.index) - set(clients_A.index))].groupby('cluster', group_keys=False).apply(lambda x: x.sample(int(math.ceil(10_000*len(x)/len(df))))).sample(frac=1)\n",
            "<ipython-input-9-fe0bb6b3d82a>:7: DeprecationWarning: DataFrameGroupBy.apply operated on the grouping columns. This behavior is deprecated, and in a future version of pandas the grouping columns will be excluded from the operation. Either pass `include_groups=False` to exclude the groupings or explicitly select the grouping columns after groupby to silence this warning.\n",
            "  clients_A = df.groupby('cluster', group_keys=False).apply(lambda x: x.sample(int(math.ceil(10_000*len(x)/len(df))))).sample(frac=1)\n",
            "<ipython-input-9-fe0bb6b3d82a>:8: DeprecationWarning: DataFrameGroupBy.apply operated on the grouping columns. This behavior is deprecated, and in a future version of pandas the grouping columns will be excluded from the operation. Either pass `include_groups=False` to exclude the groupings or explicitly select the grouping columns after groupby to silence this warning.\n",
            "  clients_B = df.loc[list(set(df.index) - set(clients_A.index))].groupby('cluster', group_keys=False).apply(lambda x: x.sample(int(math.ceil(10_000*len(x)/len(df))))).sample(frac=1)\n",
            "<ipython-input-9-fe0bb6b3d82a>:7: DeprecationWarning: DataFrameGroupBy.apply operated on the grouping columns. This behavior is deprecated, and in a future version of pandas the grouping columns will be excluded from the operation. Either pass `include_groups=False` to exclude the groupings or explicitly select the grouping columns after groupby to silence this warning.\n",
            "  clients_A = df.groupby('cluster', group_keys=False).apply(lambda x: x.sample(int(math.ceil(10_000*len(x)/len(df))))).sample(frac=1)\n",
            "<ipython-input-9-fe0bb6b3d82a>:8: DeprecationWarning: DataFrameGroupBy.apply operated on the grouping columns. This behavior is deprecated, and in a future version of pandas the grouping columns will be excluded from the operation. Either pass `include_groups=False` to exclude the groupings or explicitly select the grouping columns after groupby to silence this warning.\n",
            "  clients_B = df.loc[list(set(df.index) - set(clients_A.index))].groupby('cluster', group_keys=False).apply(lambda x: x.sample(int(math.ceil(10_000*len(x)/len(df))))).sample(frac=1)\n",
            "<ipython-input-9-fe0bb6b3d82a>:7: DeprecationWarning: DataFrameGroupBy.apply operated on the grouping columns. This behavior is deprecated, and in a future version of pandas the grouping columns will be excluded from the operation. Either pass `include_groups=False` to exclude the groupings or explicitly select the grouping columns after groupby to silence this warning.\n",
            "  clients_A = df.groupby('cluster', group_keys=False).apply(lambda x: x.sample(int(math.ceil(10_000*len(x)/len(df))))).sample(frac=1)\n",
            "<ipython-input-9-fe0bb6b3d82a>:8: DeprecationWarning: DataFrameGroupBy.apply operated on the grouping columns. This behavior is deprecated, and in a future version of pandas the grouping columns will be excluded from the operation. Either pass `include_groups=False` to exclude the groupings or explicitly select the grouping columns after groupby to silence this warning.\n",
            "  clients_B = df.loc[list(set(df.index) - set(clients_A.index))].groupby('cluster', group_keys=False).apply(lambda x: x.sample(int(math.ceil(10_000*len(x)/len(df))))).sample(frac=1)\n",
            "<ipython-input-9-fe0bb6b3d82a>:7: DeprecationWarning: DataFrameGroupBy.apply operated on the grouping columns. This behavior is deprecated, and in a future version of pandas the grouping columns will be excluded from the operation. Either pass `include_groups=False` to exclude the groupings or explicitly select the grouping columns after groupby to silence this warning.\n",
            "  clients_A = df.groupby('cluster', group_keys=False).apply(lambda x: x.sample(int(math.ceil(10_000*len(x)/len(df))))).sample(frac=1)\n",
            "<ipython-input-9-fe0bb6b3d82a>:8: DeprecationWarning: DataFrameGroupBy.apply operated on the grouping columns. This behavior is deprecated, and in a future version of pandas the grouping columns will be excluded from the operation. Either pass `include_groups=False` to exclude the groupings or explicitly select the grouping columns after groupby to silence this warning.\n",
            "  clients_B = df.loc[list(set(df.index) - set(clients_A.index))].groupby('cluster', group_keys=False).apply(lambda x: x.sample(int(math.ceil(10_000*len(x)/len(df))))).sample(frac=1)\n",
            "<ipython-input-9-fe0bb6b3d82a>:7: DeprecationWarning: DataFrameGroupBy.apply operated on the grouping columns. This behavior is deprecated, and in a future version of pandas the grouping columns will be excluded from the operation. Either pass `include_groups=False` to exclude the groupings or explicitly select the grouping columns after groupby to silence this warning.\n",
            "  clients_A = df.groupby('cluster', group_keys=False).apply(lambda x: x.sample(int(math.ceil(10_000*len(x)/len(df))))).sample(frac=1)\n",
            "<ipython-input-9-fe0bb6b3d82a>:8: DeprecationWarning: DataFrameGroupBy.apply operated on the grouping columns. This behavior is deprecated, and in a future version of pandas the grouping columns will be excluded from the operation. Either pass `include_groups=False` to exclude the groupings or explicitly select the grouping columns after groupby to silence this warning.\n",
            "  clients_B = df.loc[list(set(df.index) - set(clients_A.index))].groupby('cluster', group_keys=False).apply(lambda x: x.sample(int(math.ceil(10_000*len(x)/len(df))))).sample(frac=1)\n",
            "<ipython-input-9-fe0bb6b3d82a>:7: DeprecationWarning: DataFrameGroupBy.apply operated on the grouping columns. This behavior is deprecated, and in a future version of pandas the grouping columns will be excluded from the operation. Either pass `include_groups=False` to exclude the groupings or explicitly select the grouping columns after groupby to silence this warning.\n",
            "  clients_A = df.groupby('cluster', group_keys=False).apply(lambda x: x.sample(int(math.ceil(10_000*len(x)/len(df))))).sample(frac=1)\n",
            "<ipython-input-9-fe0bb6b3d82a>:8: DeprecationWarning: DataFrameGroupBy.apply operated on the grouping columns. This behavior is deprecated, and in a future version of pandas the grouping columns will be excluded from the operation. Either pass `include_groups=False` to exclude the groupings or explicitly select the grouping columns after groupby to silence this warning.\n",
            "  clients_B = df.loc[list(set(df.index) - set(clients_A.index))].groupby('cluster', group_keys=False).apply(lambda x: x.sample(int(math.ceil(10_000*len(x)/len(df))))).sample(frac=1)\n",
            "<ipython-input-9-fe0bb6b3d82a>:7: DeprecationWarning: DataFrameGroupBy.apply operated on the grouping columns. This behavior is deprecated, and in a future version of pandas the grouping columns will be excluded from the operation. Either pass `include_groups=False` to exclude the groupings or explicitly select the grouping columns after groupby to silence this warning.\n",
            "  clients_A = df.groupby('cluster', group_keys=False).apply(lambda x: x.sample(int(math.ceil(10_000*len(x)/len(df))))).sample(frac=1)\n",
            "<ipython-input-9-fe0bb6b3d82a>:8: DeprecationWarning: DataFrameGroupBy.apply operated on the grouping columns. This behavior is deprecated, and in a future version of pandas the grouping columns will be excluded from the operation. Either pass `include_groups=False` to exclude the groupings or explicitly select the grouping columns after groupby to silence this warning.\n",
            "  clients_B = df.loc[list(set(df.index) - set(clients_A.index))].groupby('cluster', group_keys=False).apply(lambda x: x.sample(int(math.ceil(10_000*len(x)/len(df))))).sample(frac=1)\n",
            "<ipython-input-9-fe0bb6b3d82a>:7: DeprecationWarning: DataFrameGroupBy.apply operated on the grouping columns. This behavior is deprecated, and in a future version of pandas the grouping columns will be excluded from the operation. Either pass `include_groups=False` to exclude the groupings or explicitly select the grouping columns after groupby to silence this warning.\n",
            "  clients_A = df.groupby('cluster', group_keys=False).apply(lambda x: x.sample(int(math.ceil(10_000*len(x)/len(df))))).sample(frac=1)\n",
            "<ipython-input-9-fe0bb6b3d82a>:8: DeprecationWarning: DataFrameGroupBy.apply operated on the grouping columns. This behavior is deprecated, and in a future version of pandas the grouping columns will be excluded from the operation. Either pass `include_groups=False` to exclude the groupings or explicitly select the grouping columns after groupby to silence this warning.\n",
            "  clients_B = df.loc[list(set(df.index) - set(clients_A.index))].groupby('cluster', group_keys=False).apply(lambda x: x.sample(int(math.ceil(10_000*len(x)/len(df))))).sample(frac=1)\n",
            "<ipython-input-9-fe0bb6b3d82a>:7: DeprecationWarning: DataFrameGroupBy.apply operated on the grouping columns. This behavior is deprecated, and in a future version of pandas the grouping columns will be excluded from the operation. Either pass `include_groups=False` to exclude the groupings or explicitly select the grouping columns after groupby to silence this warning.\n",
            "  clients_A = df.groupby('cluster', group_keys=False).apply(lambda x: x.sample(int(math.ceil(10_000*len(x)/len(df))))).sample(frac=1)\n",
            "<ipython-input-9-fe0bb6b3d82a>:8: DeprecationWarning: DataFrameGroupBy.apply operated on the grouping columns. This behavior is deprecated, and in a future version of pandas the grouping columns will be excluded from the operation. Either pass `include_groups=False` to exclude the groupings or explicitly select the grouping columns after groupby to silence this warning.\n",
            "  clients_B = df.loc[list(set(df.index) - set(clients_A.index))].groupby('cluster', group_keys=False).apply(lambda x: x.sample(int(math.ceil(10_000*len(x)/len(df))))).sample(frac=1)\n",
            "<ipython-input-9-fe0bb6b3d82a>:7: DeprecationWarning: DataFrameGroupBy.apply operated on the grouping columns. This behavior is deprecated, and in a future version of pandas the grouping columns will be excluded from the operation. Either pass `include_groups=False` to exclude the groupings or explicitly select the grouping columns after groupby to silence this warning.\n",
            "  clients_A = df.groupby('cluster', group_keys=False).apply(lambda x: x.sample(int(math.ceil(10_000*len(x)/len(df))))).sample(frac=1)\n",
            "<ipython-input-9-fe0bb6b3d82a>:8: DeprecationWarning: DataFrameGroupBy.apply operated on the grouping columns. This behavior is deprecated, and in a future version of pandas the grouping columns will be excluded from the operation. Either pass `include_groups=False` to exclude the groupings or explicitly select the grouping columns after groupby to silence this warning.\n",
            "  clients_B = df.loc[list(set(df.index) - set(clients_A.index))].groupby('cluster', group_keys=False).apply(lambda x: x.sample(int(math.ceil(10_000*len(x)/len(df))))).sample(frac=1)\n",
            "<ipython-input-9-fe0bb6b3d82a>:7: DeprecationWarning: DataFrameGroupBy.apply operated on the grouping columns. This behavior is deprecated, and in a future version of pandas the grouping columns will be excluded from the operation. Either pass `include_groups=False` to exclude the groupings or explicitly select the grouping columns after groupby to silence this warning.\n",
            "  clients_A = df.groupby('cluster', group_keys=False).apply(lambda x: x.sample(int(math.ceil(10_000*len(x)/len(df))))).sample(frac=1)\n",
            "<ipython-input-9-fe0bb6b3d82a>:8: DeprecationWarning: DataFrameGroupBy.apply operated on the grouping columns. This behavior is deprecated, and in a future version of pandas the grouping columns will be excluded from the operation. Either pass `include_groups=False` to exclude the groupings or explicitly select the grouping columns after groupby to silence this warning.\n",
            "  clients_B = df.loc[list(set(df.index) - set(clients_A.index))].groupby('cluster', group_keys=False).apply(lambda x: x.sample(int(math.ceil(10_000*len(x)/len(df))))).sample(frac=1)\n",
            "<ipython-input-9-fe0bb6b3d82a>:7: DeprecationWarning: DataFrameGroupBy.apply operated on the grouping columns. This behavior is deprecated, and in a future version of pandas the grouping columns will be excluded from the operation. Either pass `include_groups=False` to exclude the groupings or explicitly select the grouping columns after groupby to silence this warning.\n",
            "  clients_A = df.groupby('cluster', group_keys=False).apply(lambda x: x.sample(int(math.ceil(10_000*len(x)/len(df))))).sample(frac=1)\n",
            "<ipython-input-9-fe0bb6b3d82a>:8: DeprecationWarning: DataFrameGroupBy.apply operated on the grouping columns. This behavior is deprecated, and in a future version of pandas the grouping columns will be excluded from the operation. Either pass `include_groups=False` to exclude the groupings or explicitly select the grouping columns after groupby to silence this warning.\n",
            "  clients_B = df.loc[list(set(df.index) - set(clients_A.index))].groupby('cluster', group_keys=False).apply(lambda x: x.sample(int(math.ceil(10_000*len(x)/len(df))))).sample(frac=1)\n",
            "<ipython-input-9-fe0bb6b3d82a>:7: DeprecationWarning: DataFrameGroupBy.apply operated on the grouping columns. This behavior is deprecated, and in a future version of pandas the grouping columns will be excluded from the operation. Either pass `include_groups=False` to exclude the groupings or explicitly select the grouping columns after groupby to silence this warning.\n",
            "  clients_A = df.groupby('cluster', group_keys=False).apply(lambda x: x.sample(int(math.ceil(10_000*len(x)/len(df))))).sample(frac=1)\n",
            "<ipython-input-9-fe0bb6b3d82a>:8: DeprecationWarning: DataFrameGroupBy.apply operated on the grouping columns. This behavior is deprecated, and in a future version of pandas the grouping columns will be excluded from the operation. Either pass `include_groups=False` to exclude the groupings or explicitly select the grouping columns after groupby to silence this warning.\n",
            "  clients_B = df.loc[list(set(df.index) - set(clients_A.index))].groupby('cluster', group_keys=False).apply(lambda x: x.sample(int(math.ceil(10_000*len(x)/len(df))))).sample(frac=1)\n",
            "<ipython-input-9-fe0bb6b3d82a>:7: DeprecationWarning: DataFrameGroupBy.apply operated on the grouping columns. This behavior is deprecated, and in a future version of pandas the grouping columns will be excluded from the operation. Either pass `include_groups=False` to exclude the groupings or explicitly select the grouping columns after groupby to silence this warning.\n",
            "  clients_A = df.groupby('cluster', group_keys=False).apply(lambda x: x.sample(int(math.ceil(10_000*len(x)/len(df))))).sample(frac=1)\n",
            "<ipython-input-9-fe0bb6b3d82a>:8: DeprecationWarning: DataFrameGroupBy.apply operated on the grouping columns. This behavior is deprecated, and in a future version of pandas the grouping columns will be excluded from the operation. Either pass `include_groups=False` to exclude the groupings or explicitly select the grouping columns after groupby to silence this warning.\n",
            "  clients_B = df.loc[list(set(df.index) - set(clients_A.index))].groupby('cluster', group_keys=False).apply(lambda x: x.sample(int(math.ceil(10_000*len(x)/len(df))))).sample(frac=1)\n",
            "<ipython-input-9-fe0bb6b3d82a>:7: DeprecationWarning: DataFrameGroupBy.apply operated on the grouping columns. This behavior is deprecated, and in a future version of pandas the grouping columns will be excluded from the operation. Either pass `include_groups=False` to exclude the groupings or explicitly select the grouping columns after groupby to silence this warning.\n",
            "  clients_A = df.groupby('cluster', group_keys=False).apply(lambda x: x.sample(int(math.ceil(10_000*len(x)/len(df))))).sample(frac=1)\n",
            "<ipython-input-9-fe0bb6b3d82a>:8: DeprecationWarning: DataFrameGroupBy.apply operated on the grouping columns. This behavior is deprecated, and in a future version of pandas the grouping columns will be excluded from the operation. Either pass `include_groups=False` to exclude the groupings or explicitly select the grouping columns after groupby to silence this warning.\n",
            "  clients_B = df.loc[list(set(df.index) - set(clients_A.index))].groupby('cluster', group_keys=False).apply(lambda x: x.sample(int(math.ceil(10_000*len(x)/len(df))))).sample(frac=1)\n",
            "<ipython-input-9-fe0bb6b3d82a>:7: DeprecationWarning: DataFrameGroupBy.apply operated on the grouping columns. This behavior is deprecated, and in a future version of pandas the grouping columns will be excluded from the operation. Either pass `include_groups=False` to exclude the groupings or explicitly select the grouping columns after groupby to silence this warning.\n",
            "  clients_A = df.groupby('cluster', group_keys=False).apply(lambda x: x.sample(int(math.ceil(10_000*len(x)/len(df))))).sample(frac=1)\n",
            "<ipython-input-9-fe0bb6b3d82a>:8: DeprecationWarning: DataFrameGroupBy.apply operated on the grouping columns. This behavior is deprecated, and in a future version of pandas the grouping columns will be excluded from the operation. Either pass `include_groups=False` to exclude the groupings or explicitly select the grouping columns after groupby to silence this warning.\n",
            "  clients_B = df.loc[list(set(df.index) - set(clients_A.index))].groupby('cluster', group_keys=False).apply(lambda x: x.sample(int(math.ceil(10_000*len(x)/len(df))))).sample(frac=1)\n",
            "<ipython-input-9-fe0bb6b3d82a>:7: DeprecationWarning: DataFrameGroupBy.apply operated on the grouping columns. This behavior is deprecated, and in a future version of pandas the grouping columns will be excluded from the operation. Either pass `include_groups=False` to exclude the groupings or explicitly select the grouping columns after groupby to silence this warning.\n",
            "  clients_A = df.groupby('cluster', group_keys=False).apply(lambda x: x.sample(int(math.ceil(10_000*len(x)/len(df))))).sample(frac=1)\n",
            "<ipython-input-9-fe0bb6b3d82a>:8: DeprecationWarning: DataFrameGroupBy.apply operated on the grouping columns. This behavior is deprecated, and in a future version of pandas the grouping columns will be excluded from the operation. Either pass `include_groups=False` to exclude the groupings or explicitly select the grouping columns after groupby to silence this warning.\n",
            "  clients_B = df.loc[list(set(df.index) - set(clients_A.index))].groupby('cluster', group_keys=False).apply(lambda x: x.sample(int(math.ceil(10_000*len(x)/len(df))))).sample(frac=1)\n",
            "<ipython-input-9-fe0bb6b3d82a>:7: DeprecationWarning: DataFrameGroupBy.apply operated on the grouping columns. This behavior is deprecated, and in a future version of pandas the grouping columns will be excluded from the operation. Either pass `include_groups=False` to exclude the groupings or explicitly select the grouping columns after groupby to silence this warning.\n",
            "  clients_A = df.groupby('cluster', group_keys=False).apply(lambda x: x.sample(int(math.ceil(10_000*len(x)/len(df))))).sample(frac=1)\n",
            "<ipython-input-9-fe0bb6b3d82a>:8: DeprecationWarning: DataFrameGroupBy.apply operated on the grouping columns. This behavior is deprecated, and in a future version of pandas the grouping columns will be excluded from the operation. Either pass `include_groups=False` to exclude the groupings or explicitly select the grouping columns after groupby to silence this warning.\n",
            "  clients_B = df.loc[list(set(df.index) - set(clients_A.index))].groupby('cluster', group_keys=False).apply(lambda x: x.sample(int(math.ceil(10_000*len(x)/len(df))))).sample(frac=1)\n",
            "<ipython-input-9-fe0bb6b3d82a>:7: DeprecationWarning: DataFrameGroupBy.apply operated on the grouping columns. This behavior is deprecated, and in a future version of pandas the grouping columns will be excluded from the operation. Either pass `include_groups=False` to exclude the groupings or explicitly select the grouping columns after groupby to silence this warning.\n",
            "  clients_A = df.groupby('cluster', group_keys=False).apply(lambda x: x.sample(int(math.ceil(10_000*len(x)/len(df))))).sample(frac=1)\n",
            "<ipython-input-9-fe0bb6b3d82a>:8: DeprecationWarning: DataFrameGroupBy.apply operated on the grouping columns. This behavior is deprecated, and in a future version of pandas the grouping columns will be excluded from the operation. Either pass `include_groups=False` to exclude the groupings or explicitly select the grouping columns after groupby to silence this warning.\n",
            "  clients_B = df.loc[list(set(df.index) - set(clients_A.index))].groupby('cluster', group_keys=False).apply(lambda x: x.sample(int(math.ceil(10_000*len(x)/len(df))))).sample(frac=1)\n",
            "<ipython-input-9-fe0bb6b3d82a>:7: DeprecationWarning: DataFrameGroupBy.apply operated on the grouping columns. This behavior is deprecated, and in a future version of pandas the grouping columns will be excluded from the operation. Either pass `include_groups=False` to exclude the groupings or explicitly select the grouping columns after groupby to silence this warning.\n",
            "  clients_A = df.groupby('cluster', group_keys=False).apply(lambda x: x.sample(int(math.ceil(10_000*len(x)/len(df))))).sample(frac=1)\n",
            "<ipython-input-9-fe0bb6b3d82a>:8: DeprecationWarning: DataFrameGroupBy.apply operated on the grouping columns. This behavior is deprecated, and in a future version of pandas the grouping columns will be excluded from the operation. Either pass `include_groups=False` to exclude the groupings or explicitly select the grouping columns after groupby to silence this warning.\n",
            "  clients_B = df.loc[list(set(df.index) - set(clients_A.index))].groupby('cluster', group_keys=False).apply(lambda x: x.sample(int(math.ceil(10_000*len(x)/len(df))))).sample(frac=1)\n",
            "<ipython-input-9-fe0bb6b3d82a>:7: DeprecationWarning: DataFrameGroupBy.apply operated on the grouping columns. This behavior is deprecated, and in a future version of pandas the grouping columns will be excluded from the operation. Either pass `include_groups=False` to exclude the groupings or explicitly select the grouping columns after groupby to silence this warning.\n",
            "  clients_A = df.groupby('cluster', group_keys=False).apply(lambda x: x.sample(int(math.ceil(10_000*len(x)/len(df))))).sample(frac=1)\n",
            "<ipython-input-9-fe0bb6b3d82a>:8: DeprecationWarning: DataFrameGroupBy.apply operated on the grouping columns. This behavior is deprecated, and in a future version of pandas the grouping columns will be excluded from the operation. Either pass `include_groups=False` to exclude the groupings or explicitly select the grouping columns after groupby to silence this warning.\n",
            "  clients_B = df.loc[list(set(df.index) - set(clients_A.index))].groupby('cluster', group_keys=False).apply(lambda x: x.sample(int(math.ceil(10_000*len(x)/len(df))))).sample(frac=1)\n",
            "<ipython-input-9-fe0bb6b3d82a>:7: DeprecationWarning: DataFrameGroupBy.apply operated on the grouping columns. This behavior is deprecated, and in a future version of pandas the grouping columns will be excluded from the operation. Either pass `include_groups=False` to exclude the groupings or explicitly select the grouping columns after groupby to silence this warning.\n",
            "  clients_A = df.groupby('cluster', group_keys=False).apply(lambda x: x.sample(int(math.ceil(10_000*len(x)/len(df))))).sample(frac=1)\n",
            "<ipython-input-9-fe0bb6b3d82a>:8: DeprecationWarning: DataFrameGroupBy.apply operated on the grouping columns. This behavior is deprecated, and in a future version of pandas the grouping columns will be excluded from the operation. Either pass `include_groups=False` to exclude the groupings or explicitly select the grouping columns after groupby to silence this warning.\n",
            "  clients_B = df.loc[list(set(df.index) - set(clients_A.index))].groupby('cluster', group_keys=False).apply(lambda x: x.sample(int(math.ceil(10_000*len(x)/len(df))))).sample(frac=1)\n",
            "<ipython-input-9-fe0bb6b3d82a>:7: DeprecationWarning: DataFrameGroupBy.apply operated on the grouping columns. This behavior is deprecated, and in a future version of pandas the grouping columns will be excluded from the operation. Either pass `include_groups=False` to exclude the groupings or explicitly select the grouping columns after groupby to silence this warning.\n",
            "  clients_A = df.groupby('cluster', group_keys=False).apply(lambda x: x.sample(int(math.ceil(10_000*len(x)/len(df))))).sample(frac=1)\n",
            "<ipython-input-9-fe0bb6b3d82a>:8: DeprecationWarning: DataFrameGroupBy.apply operated on the grouping columns. This behavior is deprecated, and in a future version of pandas the grouping columns will be excluded from the operation. Either pass `include_groups=False` to exclude the groupings or explicitly select the grouping columns after groupby to silence this warning.\n",
            "  clients_B = df.loc[list(set(df.index) - set(clients_A.index))].groupby('cluster', group_keys=False).apply(lambda x: x.sample(int(math.ceil(10_000*len(x)/len(df))))).sample(frac=1)\n",
            "<ipython-input-9-fe0bb6b3d82a>:7: DeprecationWarning: DataFrameGroupBy.apply operated on the grouping columns. This behavior is deprecated, and in a future version of pandas the grouping columns will be excluded from the operation. Either pass `include_groups=False` to exclude the groupings or explicitly select the grouping columns after groupby to silence this warning.\n",
            "  clients_A = df.groupby('cluster', group_keys=False).apply(lambda x: x.sample(int(math.ceil(10_000*len(x)/len(df))))).sample(frac=1)\n",
            "<ipython-input-9-fe0bb6b3d82a>:8: DeprecationWarning: DataFrameGroupBy.apply operated on the grouping columns. This behavior is deprecated, and in a future version of pandas the grouping columns will be excluded from the operation. Either pass `include_groups=False` to exclude the groupings or explicitly select the grouping columns after groupby to silence this warning.\n",
            "  clients_B = df.loc[list(set(df.index) - set(clients_A.index))].groupby('cluster', group_keys=False).apply(lambda x: x.sample(int(math.ceil(10_000*len(x)/len(df))))).sample(frac=1)\n",
            "<ipython-input-9-fe0bb6b3d82a>:7: DeprecationWarning: DataFrameGroupBy.apply operated on the grouping columns. This behavior is deprecated, and in a future version of pandas the grouping columns will be excluded from the operation. Either pass `include_groups=False` to exclude the groupings or explicitly select the grouping columns after groupby to silence this warning.\n",
            "  clients_A = df.groupby('cluster', group_keys=False).apply(lambda x: x.sample(int(math.ceil(10_000*len(x)/len(df))))).sample(frac=1)\n",
            "<ipython-input-9-fe0bb6b3d82a>:8: DeprecationWarning: DataFrameGroupBy.apply operated on the grouping columns. This behavior is deprecated, and in a future version of pandas the grouping columns will be excluded from the operation. Either pass `include_groups=False` to exclude the groupings or explicitly select the grouping columns after groupby to silence this warning.\n",
            "  clients_B = df.loc[list(set(df.index) - set(clients_A.index))].groupby('cluster', group_keys=False).apply(lambda x: x.sample(int(math.ceil(10_000*len(x)/len(df))))).sample(frac=1)\n",
            "<ipython-input-9-fe0bb6b3d82a>:7: DeprecationWarning: DataFrameGroupBy.apply operated on the grouping columns. This behavior is deprecated, and in a future version of pandas the grouping columns will be excluded from the operation. Either pass `include_groups=False` to exclude the groupings or explicitly select the grouping columns after groupby to silence this warning.\n",
            "  clients_A = df.groupby('cluster', group_keys=False).apply(lambda x: x.sample(int(math.ceil(10_000*len(x)/len(df))))).sample(frac=1)\n",
            "<ipython-input-9-fe0bb6b3d82a>:8: DeprecationWarning: DataFrameGroupBy.apply operated on the grouping columns. This behavior is deprecated, and in a future version of pandas the grouping columns will be excluded from the operation. Either pass `include_groups=False` to exclude the groupings or explicitly select the grouping columns after groupby to silence this warning.\n",
            "  clients_B = df.loc[list(set(df.index) - set(clients_A.index))].groupby('cluster', group_keys=False).apply(lambda x: x.sample(int(math.ceil(10_000*len(x)/len(df))))).sample(frac=1)\n",
            "<ipython-input-9-fe0bb6b3d82a>:7: DeprecationWarning: DataFrameGroupBy.apply operated on the grouping columns. This behavior is deprecated, and in a future version of pandas the grouping columns will be excluded from the operation. Either pass `include_groups=False` to exclude the groupings or explicitly select the grouping columns after groupby to silence this warning.\n",
            "  clients_A = df.groupby('cluster', group_keys=False).apply(lambda x: x.sample(int(math.ceil(10_000*len(x)/len(df))))).sample(frac=1)\n",
            "<ipython-input-9-fe0bb6b3d82a>:8: DeprecationWarning: DataFrameGroupBy.apply operated on the grouping columns. This behavior is deprecated, and in a future version of pandas the grouping columns will be excluded from the operation. Either pass `include_groups=False` to exclude the groupings or explicitly select the grouping columns after groupby to silence this warning.\n",
            "  clients_B = df.loc[list(set(df.index) - set(clients_A.index))].groupby('cluster', group_keys=False).apply(lambda x: x.sample(int(math.ceil(10_000*len(x)/len(df))))).sample(frac=1)\n",
            "<ipython-input-9-fe0bb6b3d82a>:7: DeprecationWarning: DataFrameGroupBy.apply operated on the grouping columns. This behavior is deprecated, and in a future version of pandas the grouping columns will be excluded from the operation. Either pass `include_groups=False` to exclude the groupings or explicitly select the grouping columns after groupby to silence this warning.\n",
            "  clients_A = df.groupby('cluster', group_keys=False).apply(lambda x: x.sample(int(math.ceil(10_000*len(x)/len(df))))).sample(frac=1)\n",
            "<ipython-input-9-fe0bb6b3d82a>:8: DeprecationWarning: DataFrameGroupBy.apply operated on the grouping columns. This behavior is deprecated, and in a future version of pandas the grouping columns will be excluded from the operation. Either pass `include_groups=False` to exclude the groupings or explicitly select the grouping columns after groupby to silence this warning.\n",
            "  clients_B = df.loc[list(set(df.index) - set(clients_A.index))].groupby('cluster', group_keys=False).apply(lambda x: x.sample(int(math.ceil(10_000*len(x)/len(df))))).sample(frac=1)\n",
            "<ipython-input-9-fe0bb6b3d82a>:7: DeprecationWarning: DataFrameGroupBy.apply operated on the grouping columns. This behavior is deprecated, and in a future version of pandas the grouping columns will be excluded from the operation. Either pass `include_groups=False` to exclude the groupings or explicitly select the grouping columns after groupby to silence this warning.\n",
            "  clients_A = df.groupby('cluster', group_keys=False).apply(lambda x: x.sample(int(math.ceil(10_000*len(x)/len(df))))).sample(frac=1)\n",
            "<ipython-input-9-fe0bb6b3d82a>:8: DeprecationWarning: DataFrameGroupBy.apply operated on the grouping columns. This behavior is deprecated, and in a future version of pandas the grouping columns will be excluded from the operation. Either pass `include_groups=False` to exclude the groupings or explicitly select the grouping columns after groupby to silence this warning.\n",
            "  clients_B = df.loc[list(set(df.index) - set(clients_A.index))].groupby('cluster', group_keys=False).apply(lambda x: x.sample(int(math.ceil(10_000*len(x)/len(df))))).sample(frac=1)\n",
            "<ipython-input-9-fe0bb6b3d82a>:7: DeprecationWarning: DataFrameGroupBy.apply operated on the grouping columns. This behavior is deprecated, and in a future version of pandas the grouping columns will be excluded from the operation. Either pass `include_groups=False` to exclude the groupings or explicitly select the grouping columns after groupby to silence this warning.\n",
            "  clients_A = df.groupby('cluster', group_keys=False).apply(lambda x: x.sample(int(math.ceil(10_000*len(x)/len(df))))).sample(frac=1)\n",
            "<ipython-input-9-fe0bb6b3d82a>:8: DeprecationWarning: DataFrameGroupBy.apply operated on the grouping columns. This behavior is deprecated, and in a future version of pandas the grouping columns will be excluded from the operation. Either pass `include_groups=False` to exclude the groupings or explicitly select the grouping columns after groupby to silence this warning.\n",
            "  clients_B = df.loc[list(set(df.index) - set(clients_A.index))].groupby('cluster', group_keys=False).apply(lambda x: x.sample(int(math.ceil(10_000*len(x)/len(df))))).sample(frac=1)\n",
            "<ipython-input-9-fe0bb6b3d82a>:7: DeprecationWarning: DataFrameGroupBy.apply operated on the grouping columns. This behavior is deprecated, and in a future version of pandas the grouping columns will be excluded from the operation. Either pass `include_groups=False` to exclude the groupings or explicitly select the grouping columns after groupby to silence this warning.\n",
            "  clients_A = df.groupby('cluster', group_keys=False).apply(lambda x: x.sample(int(math.ceil(10_000*len(x)/len(df))))).sample(frac=1)\n",
            "<ipython-input-9-fe0bb6b3d82a>:8: DeprecationWarning: DataFrameGroupBy.apply operated on the grouping columns. This behavior is deprecated, and in a future version of pandas the grouping columns will be excluded from the operation. Either pass `include_groups=False` to exclude the groupings or explicitly select the grouping columns after groupby to silence this warning.\n",
            "  clients_B = df.loc[list(set(df.index) - set(clients_A.index))].groupby('cluster', group_keys=False).apply(lambda x: x.sample(int(math.ceil(10_000*len(x)/len(df))))).sample(frac=1)\n",
            "<ipython-input-9-fe0bb6b3d82a>:7: DeprecationWarning: DataFrameGroupBy.apply operated on the grouping columns. This behavior is deprecated, and in a future version of pandas the grouping columns will be excluded from the operation. Either pass `include_groups=False` to exclude the groupings or explicitly select the grouping columns after groupby to silence this warning.\n",
            "  clients_A = df.groupby('cluster', group_keys=False).apply(lambda x: x.sample(int(math.ceil(10_000*len(x)/len(df))))).sample(frac=1)\n",
            "<ipython-input-9-fe0bb6b3d82a>:8: DeprecationWarning: DataFrameGroupBy.apply operated on the grouping columns. This behavior is deprecated, and in a future version of pandas the grouping columns will be excluded from the operation. Either pass `include_groups=False` to exclude the groupings or explicitly select the grouping columns after groupby to silence this warning.\n",
            "  clients_B = df.loc[list(set(df.index) - set(clients_A.index))].groupby('cluster', group_keys=False).apply(lambda x: x.sample(int(math.ceil(10_000*len(x)/len(df))))).sample(frac=1)\n",
            "<ipython-input-9-fe0bb6b3d82a>:7: DeprecationWarning: DataFrameGroupBy.apply operated on the grouping columns. This behavior is deprecated, and in a future version of pandas the grouping columns will be excluded from the operation. Either pass `include_groups=False` to exclude the groupings or explicitly select the grouping columns after groupby to silence this warning.\n",
            "  clients_A = df.groupby('cluster', group_keys=False).apply(lambda x: x.sample(int(math.ceil(10_000*len(x)/len(df))))).sample(frac=1)\n",
            "<ipython-input-9-fe0bb6b3d82a>:8: DeprecationWarning: DataFrameGroupBy.apply operated on the grouping columns. This behavior is deprecated, and in a future version of pandas the grouping columns will be excluded from the operation. Either pass `include_groups=False` to exclude the groupings or explicitly select the grouping columns after groupby to silence this warning.\n",
            "  clients_B = df.loc[list(set(df.index) - set(clients_A.index))].groupby('cluster', group_keys=False).apply(lambda x: x.sample(int(math.ceil(10_000*len(x)/len(df))))).sample(frac=1)\n",
            "<ipython-input-9-fe0bb6b3d82a>:7: DeprecationWarning: DataFrameGroupBy.apply operated on the grouping columns. This behavior is deprecated, and in a future version of pandas the grouping columns will be excluded from the operation. Either pass `include_groups=False` to exclude the groupings or explicitly select the grouping columns after groupby to silence this warning.\n",
            "  clients_A = df.groupby('cluster', group_keys=False).apply(lambda x: x.sample(int(math.ceil(10_000*len(x)/len(df))))).sample(frac=1)\n",
            "<ipython-input-9-fe0bb6b3d82a>:8: DeprecationWarning: DataFrameGroupBy.apply operated on the grouping columns. This behavior is deprecated, and in a future version of pandas the grouping columns will be excluded from the operation. Either pass `include_groups=False` to exclude the groupings or explicitly select the grouping columns after groupby to silence this warning.\n",
            "  clients_B = df.loc[list(set(df.index) - set(clients_A.index))].groupby('cluster', group_keys=False).apply(lambda x: x.sample(int(math.ceil(10_000*len(x)/len(df))))).sample(frac=1)\n"
          ]
        },
        {
          "output_type": "stream",
          "name": "stdout",
          "text": [
            "150\n"
          ]
        },
        {
          "output_type": "stream",
          "name": "stderr",
          "text": [
            "<ipython-input-9-fe0bb6b3d82a>:7: DeprecationWarning: DataFrameGroupBy.apply operated on the grouping columns. This behavior is deprecated, and in a future version of pandas the grouping columns will be excluded from the operation. Either pass `include_groups=False` to exclude the groupings or explicitly select the grouping columns after groupby to silence this warning.\n",
            "  clients_A = df.groupby('cluster', group_keys=False).apply(lambda x: x.sample(int(math.ceil(10_000*len(x)/len(df))))).sample(frac=1)\n",
            "<ipython-input-9-fe0bb6b3d82a>:8: DeprecationWarning: DataFrameGroupBy.apply operated on the grouping columns. This behavior is deprecated, and in a future version of pandas the grouping columns will be excluded from the operation. Either pass `include_groups=False` to exclude the groupings or explicitly select the grouping columns after groupby to silence this warning.\n",
            "  clients_B = df.loc[list(set(df.index) - set(clients_A.index))].groupby('cluster', group_keys=False).apply(lambda x: x.sample(int(math.ceil(10_000*len(x)/len(df))))).sample(frac=1)\n",
            "<ipython-input-9-fe0bb6b3d82a>:7: DeprecationWarning: DataFrameGroupBy.apply operated on the grouping columns. This behavior is deprecated, and in a future version of pandas the grouping columns will be excluded from the operation. Either pass `include_groups=False` to exclude the groupings or explicitly select the grouping columns after groupby to silence this warning.\n",
            "  clients_A = df.groupby('cluster', group_keys=False).apply(lambda x: x.sample(int(math.ceil(10_000*len(x)/len(df))))).sample(frac=1)\n",
            "<ipython-input-9-fe0bb6b3d82a>:8: DeprecationWarning: DataFrameGroupBy.apply operated on the grouping columns. This behavior is deprecated, and in a future version of pandas the grouping columns will be excluded from the operation. Either pass `include_groups=False` to exclude the groupings or explicitly select the grouping columns after groupby to silence this warning.\n",
            "  clients_B = df.loc[list(set(df.index) - set(clients_A.index))].groupby('cluster', group_keys=False).apply(lambda x: x.sample(int(math.ceil(10_000*len(x)/len(df))))).sample(frac=1)\n",
            "<ipython-input-9-fe0bb6b3d82a>:7: DeprecationWarning: DataFrameGroupBy.apply operated on the grouping columns. This behavior is deprecated, and in a future version of pandas the grouping columns will be excluded from the operation. Either pass `include_groups=False` to exclude the groupings or explicitly select the grouping columns after groupby to silence this warning.\n",
            "  clients_A = df.groupby('cluster', group_keys=False).apply(lambda x: x.sample(int(math.ceil(10_000*len(x)/len(df))))).sample(frac=1)\n",
            "<ipython-input-9-fe0bb6b3d82a>:8: DeprecationWarning: DataFrameGroupBy.apply operated on the grouping columns. This behavior is deprecated, and in a future version of pandas the grouping columns will be excluded from the operation. Either pass `include_groups=False` to exclude the groupings or explicitly select the grouping columns after groupby to silence this warning.\n",
            "  clients_B = df.loc[list(set(df.index) - set(clients_A.index))].groupby('cluster', group_keys=False).apply(lambda x: x.sample(int(math.ceil(10_000*len(x)/len(df))))).sample(frac=1)\n",
            "<ipython-input-9-fe0bb6b3d82a>:7: DeprecationWarning: DataFrameGroupBy.apply operated on the grouping columns. This behavior is deprecated, and in a future version of pandas the grouping columns will be excluded from the operation. Either pass `include_groups=False` to exclude the groupings or explicitly select the grouping columns after groupby to silence this warning.\n",
            "  clients_A = df.groupby('cluster', group_keys=False).apply(lambda x: x.sample(int(math.ceil(10_000*len(x)/len(df))))).sample(frac=1)\n",
            "<ipython-input-9-fe0bb6b3d82a>:8: DeprecationWarning: DataFrameGroupBy.apply operated on the grouping columns. This behavior is deprecated, and in a future version of pandas the grouping columns will be excluded from the operation. Either pass `include_groups=False` to exclude the groupings or explicitly select the grouping columns after groupby to silence this warning.\n",
            "  clients_B = df.loc[list(set(df.index) - set(clients_A.index))].groupby('cluster', group_keys=False).apply(lambda x: x.sample(int(math.ceil(10_000*len(x)/len(df))))).sample(frac=1)\n",
            "<ipython-input-9-fe0bb6b3d82a>:7: DeprecationWarning: DataFrameGroupBy.apply operated on the grouping columns. This behavior is deprecated, and in a future version of pandas the grouping columns will be excluded from the operation. Either pass `include_groups=False` to exclude the groupings or explicitly select the grouping columns after groupby to silence this warning.\n",
            "  clients_A = df.groupby('cluster', group_keys=False).apply(lambda x: x.sample(int(math.ceil(10_000*len(x)/len(df))))).sample(frac=1)\n",
            "<ipython-input-9-fe0bb6b3d82a>:8: DeprecationWarning: DataFrameGroupBy.apply operated on the grouping columns. This behavior is deprecated, and in a future version of pandas the grouping columns will be excluded from the operation. Either pass `include_groups=False` to exclude the groupings or explicitly select the grouping columns after groupby to silence this warning.\n",
            "  clients_B = df.loc[list(set(df.index) - set(clients_A.index))].groupby('cluster', group_keys=False).apply(lambda x: x.sample(int(math.ceil(10_000*len(x)/len(df))))).sample(frac=1)\n",
            "<ipython-input-9-fe0bb6b3d82a>:7: DeprecationWarning: DataFrameGroupBy.apply operated on the grouping columns. This behavior is deprecated, and in a future version of pandas the grouping columns will be excluded from the operation. Either pass `include_groups=False` to exclude the groupings or explicitly select the grouping columns after groupby to silence this warning.\n",
            "  clients_A = df.groupby('cluster', group_keys=False).apply(lambda x: x.sample(int(math.ceil(10_000*len(x)/len(df))))).sample(frac=1)\n",
            "<ipython-input-9-fe0bb6b3d82a>:8: DeprecationWarning: DataFrameGroupBy.apply operated on the grouping columns. This behavior is deprecated, and in a future version of pandas the grouping columns will be excluded from the operation. Either pass `include_groups=False` to exclude the groupings or explicitly select the grouping columns after groupby to silence this warning.\n",
            "  clients_B = df.loc[list(set(df.index) - set(clients_A.index))].groupby('cluster', group_keys=False).apply(lambda x: x.sample(int(math.ceil(10_000*len(x)/len(df))))).sample(frac=1)\n",
            "<ipython-input-9-fe0bb6b3d82a>:7: DeprecationWarning: DataFrameGroupBy.apply operated on the grouping columns. This behavior is deprecated, and in a future version of pandas the grouping columns will be excluded from the operation. Either pass `include_groups=False` to exclude the groupings or explicitly select the grouping columns after groupby to silence this warning.\n",
            "  clients_A = df.groupby('cluster', group_keys=False).apply(lambda x: x.sample(int(math.ceil(10_000*len(x)/len(df))))).sample(frac=1)\n",
            "<ipython-input-9-fe0bb6b3d82a>:8: DeprecationWarning: DataFrameGroupBy.apply operated on the grouping columns. This behavior is deprecated, and in a future version of pandas the grouping columns will be excluded from the operation. Either pass `include_groups=False` to exclude the groupings or explicitly select the grouping columns after groupby to silence this warning.\n",
            "  clients_B = df.loc[list(set(df.index) - set(clients_A.index))].groupby('cluster', group_keys=False).apply(lambda x: x.sample(int(math.ceil(10_000*len(x)/len(df))))).sample(frac=1)\n",
            "<ipython-input-9-fe0bb6b3d82a>:7: DeprecationWarning: DataFrameGroupBy.apply operated on the grouping columns. This behavior is deprecated, and in a future version of pandas the grouping columns will be excluded from the operation. Either pass `include_groups=False` to exclude the groupings or explicitly select the grouping columns after groupby to silence this warning.\n",
            "  clients_A = df.groupby('cluster', group_keys=False).apply(lambda x: x.sample(int(math.ceil(10_000*len(x)/len(df))))).sample(frac=1)\n",
            "<ipython-input-9-fe0bb6b3d82a>:8: DeprecationWarning: DataFrameGroupBy.apply operated on the grouping columns. This behavior is deprecated, and in a future version of pandas the grouping columns will be excluded from the operation. Either pass `include_groups=False` to exclude the groupings or explicitly select the grouping columns after groupby to silence this warning.\n",
            "  clients_B = df.loc[list(set(df.index) - set(clients_A.index))].groupby('cluster', group_keys=False).apply(lambda x: x.sample(int(math.ceil(10_000*len(x)/len(df))))).sample(frac=1)\n",
            "<ipython-input-9-fe0bb6b3d82a>:7: DeprecationWarning: DataFrameGroupBy.apply operated on the grouping columns. This behavior is deprecated, and in a future version of pandas the grouping columns will be excluded from the operation. Either pass `include_groups=False` to exclude the groupings or explicitly select the grouping columns after groupby to silence this warning.\n",
            "  clients_A = df.groupby('cluster', group_keys=False).apply(lambda x: x.sample(int(math.ceil(10_000*len(x)/len(df))))).sample(frac=1)\n",
            "<ipython-input-9-fe0bb6b3d82a>:8: DeprecationWarning: DataFrameGroupBy.apply operated on the grouping columns. This behavior is deprecated, and in a future version of pandas the grouping columns will be excluded from the operation. Either pass `include_groups=False` to exclude the groupings or explicitly select the grouping columns after groupby to silence this warning.\n",
            "  clients_B = df.loc[list(set(df.index) - set(clients_A.index))].groupby('cluster', group_keys=False).apply(lambda x: x.sample(int(math.ceil(10_000*len(x)/len(df))))).sample(frac=1)\n",
            "<ipython-input-9-fe0bb6b3d82a>:7: DeprecationWarning: DataFrameGroupBy.apply operated on the grouping columns. This behavior is deprecated, and in a future version of pandas the grouping columns will be excluded from the operation. Either pass `include_groups=False` to exclude the groupings or explicitly select the grouping columns after groupby to silence this warning.\n",
            "  clients_A = df.groupby('cluster', group_keys=False).apply(lambda x: x.sample(int(math.ceil(10_000*len(x)/len(df))))).sample(frac=1)\n",
            "<ipython-input-9-fe0bb6b3d82a>:8: DeprecationWarning: DataFrameGroupBy.apply operated on the grouping columns. This behavior is deprecated, and in a future version of pandas the grouping columns will be excluded from the operation. Either pass `include_groups=False` to exclude the groupings or explicitly select the grouping columns after groupby to silence this warning.\n",
            "  clients_B = df.loc[list(set(df.index) - set(clients_A.index))].groupby('cluster', group_keys=False).apply(lambda x: x.sample(int(math.ceil(10_000*len(x)/len(df))))).sample(frac=1)\n",
            "<ipython-input-9-fe0bb6b3d82a>:7: DeprecationWarning: DataFrameGroupBy.apply operated on the grouping columns. This behavior is deprecated, and in a future version of pandas the grouping columns will be excluded from the operation. Either pass `include_groups=False` to exclude the groupings or explicitly select the grouping columns after groupby to silence this warning.\n",
            "  clients_A = df.groupby('cluster', group_keys=False).apply(lambda x: x.sample(int(math.ceil(10_000*len(x)/len(df))))).sample(frac=1)\n",
            "<ipython-input-9-fe0bb6b3d82a>:8: DeprecationWarning: DataFrameGroupBy.apply operated on the grouping columns. This behavior is deprecated, and in a future version of pandas the grouping columns will be excluded from the operation. Either pass `include_groups=False` to exclude the groupings or explicitly select the grouping columns after groupby to silence this warning.\n",
            "  clients_B = df.loc[list(set(df.index) - set(clients_A.index))].groupby('cluster', group_keys=False).apply(lambda x: x.sample(int(math.ceil(10_000*len(x)/len(df))))).sample(frac=1)\n",
            "<ipython-input-9-fe0bb6b3d82a>:7: DeprecationWarning: DataFrameGroupBy.apply operated on the grouping columns. This behavior is deprecated, and in a future version of pandas the grouping columns will be excluded from the operation. Either pass `include_groups=False` to exclude the groupings or explicitly select the grouping columns after groupby to silence this warning.\n",
            "  clients_A = df.groupby('cluster', group_keys=False).apply(lambda x: x.sample(int(math.ceil(10_000*len(x)/len(df))))).sample(frac=1)\n",
            "<ipython-input-9-fe0bb6b3d82a>:8: DeprecationWarning: DataFrameGroupBy.apply operated on the grouping columns. This behavior is deprecated, and in a future version of pandas the grouping columns will be excluded from the operation. Either pass `include_groups=False` to exclude the groupings or explicitly select the grouping columns after groupby to silence this warning.\n",
            "  clients_B = df.loc[list(set(df.index) - set(clients_A.index))].groupby('cluster', group_keys=False).apply(lambda x: x.sample(int(math.ceil(10_000*len(x)/len(df))))).sample(frac=1)\n",
            "<ipython-input-9-fe0bb6b3d82a>:7: DeprecationWarning: DataFrameGroupBy.apply operated on the grouping columns. This behavior is deprecated, and in a future version of pandas the grouping columns will be excluded from the operation. Either pass `include_groups=False` to exclude the groupings or explicitly select the grouping columns after groupby to silence this warning.\n",
            "  clients_A = df.groupby('cluster', group_keys=False).apply(lambda x: x.sample(int(math.ceil(10_000*len(x)/len(df))))).sample(frac=1)\n",
            "<ipython-input-9-fe0bb6b3d82a>:8: DeprecationWarning: DataFrameGroupBy.apply operated on the grouping columns. This behavior is deprecated, and in a future version of pandas the grouping columns will be excluded from the operation. Either pass `include_groups=False` to exclude the groupings or explicitly select the grouping columns after groupby to silence this warning.\n",
            "  clients_B = df.loc[list(set(df.index) - set(clients_A.index))].groupby('cluster', group_keys=False).apply(lambda x: x.sample(int(math.ceil(10_000*len(x)/len(df))))).sample(frac=1)\n",
            "<ipython-input-9-fe0bb6b3d82a>:7: DeprecationWarning: DataFrameGroupBy.apply operated on the grouping columns. This behavior is deprecated, and in a future version of pandas the grouping columns will be excluded from the operation. Either pass `include_groups=False` to exclude the groupings or explicitly select the grouping columns after groupby to silence this warning.\n",
            "  clients_A = df.groupby('cluster', group_keys=False).apply(lambda x: x.sample(int(math.ceil(10_000*len(x)/len(df))))).sample(frac=1)\n",
            "<ipython-input-9-fe0bb6b3d82a>:8: DeprecationWarning: DataFrameGroupBy.apply operated on the grouping columns. This behavior is deprecated, and in a future version of pandas the grouping columns will be excluded from the operation. Either pass `include_groups=False` to exclude the groupings or explicitly select the grouping columns after groupby to silence this warning.\n",
            "  clients_B = df.loc[list(set(df.index) - set(clients_A.index))].groupby('cluster', group_keys=False).apply(lambda x: x.sample(int(math.ceil(10_000*len(x)/len(df))))).sample(frac=1)\n",
            "<ipython-input-9-fe0bb6b3d82a>:7: DeprecationWarning: DataFrameGroupBy.apply operated on the grouping columns. This behavior is deprecated, and in a future version of pandas the grouping columns will be excluded from the operation. Either pass `include_groups=False` to exclude the groupings or explicitly select the grouping columns after groupby to silence this warning.\n",
            "  clients_A = df.groupby('cluster', group_keys=False).apply(lambda x: x.sample(int(math.ceil(10_000*len(x)/len(df))))).sample(frac=1)\n",
            "<ipython-input-9-fe0bb6b3d82a>:8: DeprecationWarning: DataFrameGroupBy.apply operated on the grouping columns. This behavior is deprecated, and in a future version of pandas the grouping columns will be excluded from the operation. Either pass `include_groups=False` to exclude the groupings or explicitly select the grouping columns after groupby to silence this warning.\n",
            "  clients_B = df.loc[list(set(df.index) - set(clients_A.index))].groupby('cluster', group_keys=False).apply(lambda x: x.sample(int(math.ceil(10_000*len(x)/len(df))))).sample(frac=1)\n",
            "<ipython-input-9-fe0bb6b3d82a>:7: DeprecationWarning: DataFrameGroupBy.apply operated on the grouping columns. This behavior is deprecated, and in a future version of pandas the grouping columns will be excluded from the operation. Either pass `include_groups=False` to exclude the groupings or explicitly select the grouping columns after groupby to silence this warning.\n",
            "  clients_A = df.groupby('cluster', group_keys=False).apply(lambda x: x.sample(int(math.ceil(10_000*len(x)/len(df))))).sample(frac=1)\n",
            "<ipython-input-9-fe0bb6b3d82a>:8: DeprecationWarning: DataFrameGroupBy.apply operated on the grouping columns. This behavior is deprecated, and in a future version of pandas the grouping columns will be excluded from the operation. Either pass `include_groups=False` to exclude the groupings or explicitly select the grouping columns after groupby to silence this warning.\n",
            "  clients_B = df.loc[list(set(df.index) - set(clients_A.index))].groupby('cluster', group_keys=False).apply(lambda x: x.sample(int(math.ceil(10_000*len(x)/len(df))))).sample(frac=1)\n",
            "<ipython-input-9-fe0bb6b3d82a>:7: DeprecationWarning: DataFrameGroupBy.apply operated on the grouping columns. This behavior is deprecated, and in a future version of pandas the grouping columns will be excluded from the operation. Either pass `include_groups=False` to exclude the groupings or explicitly select the grouping columns after groupby to silence this warning.\n",
            "  clients_A = df.groupby('cluster', group_keys=False).apply(lambda x: x.sample(int(math.ceil(10_000*len(x)/len(df))))).sample(frac=1)\n",
            "<ipython-input-9-fe0bb6b3d82a>:8: DeprecationWarning: DataFrameGroupBy.apply operated on the grouping columns. This behavior is deprecated, and in a future version of pandas the grouping columns will be excluded from the operation. Either pass `include_groups=False` to exclude the groupings or explicitly select the grouping columns after groupby to silence this warning.\n",
            "  clients_B = df.loc[list(set(df.index) - set(clients_A.index))].groupby('cluster', group_keys=False).apply(lambda x: x.sample(int(math.ceil(10_000*len(x)/len(df))))).sample(frac=1)\n",
            "<ipython-input-9-fe0bb6b3d82a>:7: DeprecationWarning: DataFrameGroupBy.apply operated on the grouping columns. This behavior is deprecated, and in a future version of pandas the grouping columns will be excluded from the operation. Either pass `include_groups=False` to exclude the groupings or explicitly select the grouping columns after groupby to silence this warning.\n",
            "  clients_A = df.groupby('cluster', group_keys=False).apply(lambda x: x.sample(int(math.ceil(10_000*len(x)/len(df))))).sample(frac=1)\n",
            "<ipython-input-9-fe0bb6b3d82a>:8: DeprecationWarning: DataFrameGroupBy.apply operated on the grouping columns. This behavior is deprecated, and in a future version of pandas the grouping columns will be excluded from the operation. Either pass `include_groups=False` to exclude the groupings or explicitly select the grouping columns after groupby to silence this warning.\n",
            "  clients_B = df.loc[list(set(df.index) - set(clients_A.index))].groupby('cluster', group_keys=False).apply(lambda x: x.sample(int(math.ceil(10_000*len(x)/len(df))))).sample(frac=1)\n",
            "<ipython-input-9-fe0bb6b3d82a>:7: DeprecationWarning: DataFrameGroupBy.apply operated on the grouping columns. This behavior is deprecated, and in a future version of pandas the grouping columns will be excluded from the operation. Either pass `include_groups=False` to exclude the groupings or explicitly select the grouping columns after groupby to silence this warning.\n",
            "  clients_A = df.groupby('cluster', group_keys=False).apply(lambda x: x.sample(int(math.ceil(10_000*len(x)/len(df))))).sample(frac=1)\n",
            "<ipython-input-9-fe0bb6b3d82a>:8: DeprecationWarning: DataFrameGroupBy.apply operated on the grouping columns. This behavior is deprecated, and in a future version of pandas the grouping columns will be excluded from the operation. Either pass `include_groups=False` to exclude the groupings or explicitly select the grouping columns after groupby to silence this warning.\n",
            "  clients_B = df.loc[list(set(df.index) - set(clients_A.index))].groupby('cluster', group_keys=False).apply(lambda x: x.sample(int(math.ceil(10_000*len(x)/len(df))))).sample(frac=1)\n",
            "<ipython-input-9-fe0bb6b3d82a>:7: DeprecationWarning: DataFrameGroupBy.apply operated on the grouping columns. This behavior is deprecated, and in a future version of pandas the grouping columns will be excluded from the operation. Either pass `include_groups=False` to exclude the groupings or explicitly select the grouping columns after groupby to silence this warning.\n",
            "  clients_A = df.groupby('cluster', group_keys=False).apply(lambda x: x.sample(int(math.ceil(10_000*len(x)/len(df))))).sample(frac=1)\n",
            "<ipython-input-9-fe0bb6b3d82a>:8: DeprecationWarning: DataFrameGroupBy.apply operated on the grouping columns. This behavior is deprecated, and in a future version of pandas the grouping columns will be excluded from the operation. Either pass `include_groups=False` to exclude the groupings or explicitly select the grouping columns after groupby to silence this warning.\n",
            "  clients_B = df.loc[list(set(df.index) - set(clients_A.index))].groupby('cluster', group_keys=False).apply(lambda x: x.sample(int(math.ceil(10_000*len(x)/len(df))))).sample(frac=1)\n",
            "<ipython-input-9-fe0bb6b3d82a>:7: DeprecationWarning: DataFrameGroupBy.apply operated on the grouping columns. This behavior is deprecated, and in a future version of pandas the grouping columns will be excluded from the operation. Either pass `include_groups=False` to exclude the groupings or explicitly select the grouping columns after groupby to silence this warning.\n",
            "  clients_A = df.groupby('cluster', group_keys=False).apply(lambda x: x.sample(int(math.ceil(10_000*len(x)/len(df))))).sample(frac=1)\n",
            "<ipython-input-9-fe0bb6b3d82a>:8: DeprecationWarning: DataFrameGroupBy.apply operated on the grouping columns. This behavior is deprecated, and in a future version of pandas the grouping columns will be excluded from the operation. Either pass `include_groups=False` to exclude the groupings or explicitly select the grouping columns after groupby to silence this warning.\n",
            "  clients_B = df.loc[list(set(df.index) - set(clients_A.index))].groupby('cluster', group_keys=False).apply(lambda x: x.sample(int(math.ceil(10_000*len(x)/len(df))))).sample(frac=1)\n",
            "<ipython-input-9-fe0bb6b3d82a>:7: DeprecationWarning: DataFrameGroupBy.apply operated on the grouping columns. This behavior is deprecated, and in a future version of pandas the grouping columns will be excluded from the operation. Either pass `include_groups=False` to exclude the groupings or explicitly select the grouping columns after groupby to silence this warning.\n",
            "  clients_A = df.groupby('cluster', group_keys=False).apply(lambda x: x.sample(int(math.ceil(10_000*len(x)/len(df))))).sample(frac=1)\n",
            "<ipython-input-9-fe0bb6b3d82a>:8: DeprecationWarning: DataFrameGroupBy.apply operated on the grouping columns. This behavior is deprecated, and in a future version of pandas the grouping columns will be excluded from the operation. Either pass `include_groups=False` to exclude the groupings or explicitly select the grouping columns after groupby to silence this warning.\n",
            "  clients_B = df.loc[list(set(df.index) - set(clients_A.index))].groupby('cluster', group_keys=False).apply(lambda x: x.sample(int(math.ceil(10_000*len(x)/len(df))))).sample(frac=1)\n",
            "<ipython-input-9-fe0bb6b3d82a>:7: DeprecationWarning: DataFrameGroupBy.apply operated on the grouping columns. This behavior is deprecated, and in a future version of pandas the grouping columns will be excluded from the operation. Either pass `include_groups=False` to exclude the groupings or explicitly select the grouping columns after groupby to silence this warning.\n",
            "  clients_A = df.groupby('cluster', group_keys=False).apply(lambda x: x.sample(int(math.ceil(10_000*len(x)/len(df))))).sample(frac=1)\n",
            "<ipython-input-9-fe0bb6b3d82a>:8: DeprecationWarning: DataFrameGroupBy.apply operated on the grouping columns. This behavior is deprecated, and in a future version of pandas the grouping columns will be excluded from the operation. Either pass `include_groups=False` to exclude the groupings or explicitly select the grouping columns after groupby to silence this warning.\n",
            "  clients_B = df.loc[list(set(df.index) - set(clients_A.index))].groupby('cluster', group_keys=False).apply(lambda x: x.sample(int(math.ceil(10_000*len(x)/len(df))))).sample(frac=1)\n",
            "<ipython-input-9-fe0bb6b3d82a>:7: DeprecationWarning: DataFrameGroupBy.apply operated on the grouping columns. This behavior is deprecated, and in a future version of pandas the grouping columns will be excluded from the operation. Either pass `include_groups=False` to exclude the groupings or explicitly select the grouping columns after groupby to silence this warning.\n",
            "  clients_A = df.groupby('cluster', group_keys=False).apply(lambda x: x.sample(int(math.ceil(10_000*len(x)/len(df))))).sample(frac=1)\n",
            "<ipython-input-9-fe0bb6b3d82a>:8: DeprecationWarning: DataFrameGroupBy.apply operated on the grouping columns. This behavior is deprecated, and in a future version of pandas the grouping columns will be excluded from the operation. Either pass `include_groups=False` to exclude the groupings or explicitly select the grouping columns after groupby to silence this warning.\n",
            "  clients_B = df.loc[list(set(df.index) - set(clients_A.index))].groupby('cluster', group_keys=False).apply(lambda x: x.sample(int(math.ceil(10_000*len(x)/len(df))))).sample(frac=1)\n",
            "<ipython-input-9-fe0bb6b3d82a>:7: DeprecationWarning: DataFrameGroupBy.apply operated on the grouping columns. This behavior is deprecated, and in a future version of pandas the grouping columns will be excluded from the operation. Either pass `include_groups=False` to exclude the groupings or explicitly select the grouping columns after groupby to silence this warning.\n",
            "  clients_A = df.groupby('cluster', group_keys=False).apply(lambda x: x.sample(int(math.ceil(10_000*len(x)/len(df))))).sample(frac=1)\n",
            "<ipython-input-9-fe0bb6b3d82a>:8: DeprecationWarning: DataFrameGroupBy.apply operated on the grouping columns. This behavior is deprecated, and in a future version of pandas the grouping columns will be excluded from the operation. Either pass `include_groups=False` to exclude the groupings or explicitly select the grouping columns after groupby to silence this warning.\n",
            "  clients_B = df.loc[list(set(df.index) - set(clients_A.index))].groupby('cluster', group_keys=False).apply(lambda x: x.sample(int(math.ceil(10_000*len(x)/len(df))))).sample(frac=1)\n",
            "<ipython-input-9-fe0bb6b3d82a>:7: DeprecationWarning: DataFrameGroupBy.apply operated on the grouping columns. This behavior is deprecated, and in a future version of pandas the grouping columns will be excluded from the operation. Either pass `include_groups=False` to exclude the groupings or explicitly select the grouping columns after groupby to silence this warning.\n",
            "  clients_A = df.groupby('cluster', group_keys=False).apply(lambda x: x.sample(int(math.ceil(10_000*len(x)/len(df))))).sample(frac=1)\n",
            "<ipython-input-9-fe0bb6b3d82a>:8: DeprecationWarning: DataFrameGroupBy.apply operated on the grouping columns. This behavior is deprecated, and in a future version of pandas the grouping columns will be excluded from the operation. Either pass `include_groups=False` to exclude the groupings or explicitly select the grouping columns after groupby to silence this warning.\n",
            "  clients_B = df.loc[list(set(df.index) - set(clients_A.index))].groupby('cluster', group_keys=False).apply(lambda x: x.sample(int(math.ceil(10_000*len(x)/len(df))))).sample(frac=1)\n",
            "<ipython-input-9-fe0bb6b3d82a>:7: DeprecationWarning: DataFrameGroupBy.apply operated on the grouping columns. This behavior is deprecated, and in a future version of pandas the grouping columns will be excluded from the operation. Either pass `include_groups=False` to exclude the groupings or explicitly select the grouping columns after groupby to silence this warning.\n",
            "  clients_A = df.groupby('cluster', group_keys=False).apply(lambda x: x.sample(int(math.ceil(10_000*len(x)/len(df))))).sample(frac=1)\n",
            "<ipython-input-9-fe0bb6b3d82a>:8: DeprecationWarning: DataFrameGroupBy.apply operated on the grouping columns. This behavior is deprecated, and in a future version of pandas the grouping columns will be excluded from the operation. Either pass `include_groups=False` to exclude the groupings or explicitly select the grouping columns after groupby to silence this warning.\n",
            "  clients_B = df.loc[list(set(df.index) - set(clients_A.index))].groupby('cluster', group_keys=False).apply(lambda x: x.sample(int(math.ceil(10_000*len(x)/len(df))))).sample(frac=1)\n",
            "<ipython-input-9-fe0bb6b3d82a>:7: DeprecationWarning: DataFrameGroupBy.apply operated on the grouping columns. This behavior is deprecated, and in a future version of pandas the grouping columns will be excluded from the operation. Either pass `include_groups=False` to exclude the groupings or explicitly select the grouping columns after groupby to silence this warning.\n",
            "  clients_A = df.groupby('cluster', group_keys=False).apply(lambda x: x.sample(int(math.ceil(10_000*len(x)/len(df))))).sample(frac=1)\n",
            "<ipython-input-9-fe0bb6b3d82a>:8: DeprecationWarning: DataFrameGroupBy.apply operated on the grouping columns. This behavior is deprecated, and in a future version of pandas the grouping columns will be excluded from the operation. Either pass `include_groups=False` to exclude the groupings or explicitly select the grouping columns after groupby to silence this warning.\n",
            "  clients_B = df.loc[list(set(df.index) - set(clients_A.index))].groupby('cluster', group_keys=False).apply(lambda x: x.sample(int(math.ceil(10_000*len(x)/len(df))))).sample(frac=1)\n",
            "<ipython-input-9-fe0bb6b3d82a>:7: DeprecationWarning: DataFrameGroupBy.apply operated on the grouping columns. This behavior is deprecated, and in a future version of pandas the grouping columns will be excluded from the operation. Either pass `include_groups=False` to exclude the groupings or explicitly select the grouping columns after groupby to silence this warning.\n",
            "  clients_A = df.groupby('cluster', group_keys=False).apply(lambda x: x.sample(int(math.ceil(10_000*len(x)/len(df))))).sample(frac=1)\n",
            "<ipython-input-9-fe0bb6b3d82a>:8: DeprecationWarning: DataFrameGroupBy.apply operated on the grouping columns. This behavior is deprecated, and in a future version of pandas the grouping columns will be excluded from the operation. Either pass `include_groups=False` to exclude the groupings or explicitly select the grouping columns after groupby to silence this warning.\n",
            "  clients_B = df.loc[list(set(df.index) - set(clients_A.index))].groupby('cluster', group_keys=False).apply(lambda x: x.sample(int(math.ceil(10_000*len(x)/len(df))))).sample(frac=1)\n",
            "<ipython-input-9-fe0bb6b3d82a>:7: DeprecationWarning: DataFrameGroupBy.apply operated on the grouping columns. This behavior is deprecated, and in a future version of pandas the grouping columns will be excluded from the operation. Either pass `include_groups=False` to exclude the groupings or explicitly select the grouping columns after groupby to silence this warning.\n",
            "  clients_A = df.groupby('cluster', group_keys=False).apply(lambda x: x.sample(int(math.ceil(10_000*len(x)/len(df))))).sample(frac=1)\n",
            "<ipython-input-9-fe0bb6b3d82a>:8: DeprecationWarning: DataFrameGroupBy.apply operated on the grouping columns. This behavior is deprecated, and in a future version of pandas the grouping columns will be excluded from the operation. Either pass `include_groups=False` to exclude the groupings or explicitly select the grouping columns after groupby to silence this warning.\n",
            "  clients_B = df.loc[list(set(df.index) - set(clients_A.index))].groupby('cluster', group_keys=False).apply(lambda x: x.sample(int(math.ceil(10_000*len(x)/len(df))))).sample(frac=1)\n",
            "<ipython-input-9-fe0bb6b3d82a>:7: DeprecationWarning: DataFrameGroupBy.apply operated on the grouping columns. This behavior is deprecated, and in a future version of pandas the grouping columns will be excluded from the operation. Either pass `include_groups=False` to exclude the groupings or explicitly select the grouping columns after groupby to silence this warning.\n",
            "  clients_A = df.groupby('cluster', group_keys=False).apply(lambda x: x.sample(int(math.ceil(10_000*len(x)/len(df))))).sample(frac=1)\n",
            "<ipython-input-9-fe0bb6b3d82a>:8: DeprecationWarning: DataFrameGroupBy.apply operated on the grouping columns. This behavior is deprecated, and in a future version of pandas the grouping columns will be excluded from the operation. Either pass `include_groups=False` to exclude the groupings or explicitly select the grouping columns after groupby to silence this warning.\n",
            "  clients_B = df.loc[list(set(df.index) - set(clients_A.index))].groupby('cluster', group_keys=False).apply(lambda x: x.sample(int(math.ceil(10_000*len(x)/len(df))))).sample(frac=1)\n",
            "<ipython-input-9-fe0bb6b3d82a>:7: DeprecationWarning: DataFrameGroupBy.apply operated on the grouping columns. This behavior is deprecated, and in a future version of pandas the grouping columns will be excluded from the operation. Either pass `include_groups=False` to exclude the groupings or explicitly select the grouping columns after groupby to silence this warning.\n",
            "  clients_A = df.groupby('cluster', group_keys=False).apply(lambda x: x.sample(int(math.ceil(10_000*len(x)/len(df))))).sample(frac=1)\n",
            "<ipython-input-9-fe0bb6b3d82a>:8: DeprecationWarning: DataFrameGroupBy.apply operated on the grouping columns. This behavior is deprecated, and in a future version of pandas the grouping columns will be excluded from the operation. Either pass `include_groups=False` to exclude the groupings or explicitly select the grouping columns after groupby to silence this warning.\n",
            "  clients_B = df.loc[list(set(df.index) - set(clients_A.index))].groupby('cluster', group_keys=False).apply(lambda x: x.sample(int(math.ceil(10_000*len(x)/len(df))))).sample(frac=1)\n",
            "<ipython-input-9-fe0bb6b3d82a>:7: DeprecationWarning: DataFrameGroupBy.apply operated on the grouping columns. This behavior is deprecated, and in a future version of pandas the grouping columns will be excluded from the operation. Either pass `include_groups=False` to exclude the groupings or explicitly select the grouping columns after groupby to silence this warning.\n",
            "  clients_A = df.groupby('cluster', group_keys=False).apply(lambda x: x.sample(int(math.ceil(10_000*len(x)/len(df))))).sample(frac=1)\n",
            "<ipython-input-9-fe0bb6b3d82a>:8: DeprecationWarning: DataFrameGroupBy.apply operated on the grouping columns. This behavior is deprecated, and in a future version of pandas the grouping columns will be excluded from the operation. Either pass `include_groups=False` to exclude the groupings or explicitly select the grouping columns after groupby to silence this warning.\n",
            "  clients_B = df.loc[list(set(df.index) - set(clients_A.index))].groupby('cluster', group_keys=False).apply(lambda x: x.sample(int(math.ceil(10_000*len(x)/len(df))))).sample(frac=1)\n",
            "<ipython-input-9-fe0bb6b3d82a>:7: DeprecationWarning: DataFrameGroupBy.apply operated on the grouping columns. This behavior is deprecated, and in a future version of pandas the grouping columns will be excluded from the operation. Either pass `include_groups=False` to exclude the groupings or explicitly select the grouping columns after groupby to silence this warning.\n",
            "  clients_A = df.groupby('cluster', group_keys=False).apply(lambda x: x.sample(int(math.ceil(10_000*len(x)/len(df))))).sample(frac=1)\n",
            "<ipython-input-9-fe0bb6b3d82a>:8: DeprecationWarning: DataFrameGroupBy.apply operated on the grouping columns. This behavior is deprecated, and in a future version of pandas the grouping columns will be excluded from the operation. Either pass `include_groups=False` to exclude the groupings or explicitly select the grouping columns after groupby to silence this warning.\n",
            "  clients_B = df.loc[list(set(df.index) - set(clients_A.index))].groupby('cluster', group_keys=False).apply(lambda x: x.sample(int(math.ceil(10_000*len(x)/len(df))))).sample(frac=1)\n",
            "<ipython-input-9-fe0bb6b3d82a>:7: DeprecationWarning: DataFrameGroupBy.apply operated on the grouping columns. This behavior is deprecated, and in a future version of pandas the grouping columns will be excluded from the operation. Either pass `include_groups=False` to exclude the groupings or explicitly select the grouping columns after groupby to silence this warning.\n",
            "  clients_A = df.groupby('cluster', group_keys=False).apply(lambda x: x.sample(int(math.ceil(10_000*len(x)/len(df))))).sample(frac=1)\n",
            "<ipython-input-9-fe0bb6b3d82a>:8: DeprecationWarning: DataFrameGroupBy.apply operated on the grouping columns. This behavior is deprecated, and in a future version of pandas the grouping columns will be excluded from the operation. Either pass `include_groups=False` to exclude the groupings or explicitly select the grouping columns after groupby to silence this warning.\n",
            "  clients_B = df.loc[list(set(df.index) - set(clients_A.index))].groupby('cluster', group_keys=False).apply(lambda x: x.sample(int(math.ceil(10_000*len(x)/len(df))))).sample(frac=1)\n",
            "<ipython-input-9-fe0bb6b3d82a>:7: DeprecationWarning: DataFrameGroupBy.apply operated on the grouping columns. This behavior is deprecated, and in a future version of pandas the grouping columns will be excluded from the operation. Either pass `include_groups=False` to exclude the groupings or explicitly select the grouping columns after groupby to silence this warning.\n",
            "  clients_A = df.groupby('cluster', group_keys=False).apply(lambda x: x.sample(int(math.ceil(10_000*len(x)/len(df))))).sample(frac=1)\n",
            "<ipython-input-9-fe0bb6b3d82a>:8: DeprecationWarning: DataFrameGroupBy.apply operated on the grouping columns. This behavior is deprecated, and in a future version of pandas the grouping columns will be excluded from the operation. Either pass `include_groups=False` to exclude the groupings or explicitly select the grouping columns after groupby to silence this warning.\n",
            "  clients_B = df.loc[list(set(df.index) - set(clients_A.index))].groupby('cluster', group_keys=False).apply(lambda x: x.sample(int(math.ceil(10_000*len(x)/len(df))))).sample(frac=1)\n",
            "<ipython-input-9-fe0bb6b3d82a>:7: DeprecationWarning: DataFrameGroupBy.apply operated on the grouping columns. This behavior is deprecated, and in a future version of pandas the grouping columns will be excluded from the operation. Either pass `include_groups=False` to exclude the groupings or explicitly select the grouping columns after groupby to silence this warning.\n",
            "  clients_A = df.groupby('cluster', group_keys=False).apply(lambda x: x.sample(int(math.ceil(10_000*len(x)/len(df))))).sample(frac=1)\n",
            "<ipython-input-9-fe0bb6b3d82a>:8: DeprecationWarning: DataFrameGroupBy.apply operated on the grouping columns. This behavior is deprecated, and in a future version of pandas the grouping columns will be excluded from the operation. Either pass `include_groups=False` to exclude the groupings or explicitly select the grouping columns after groupby to silence this warning.\n",
            "  clients_B = df.loc[list(set(df.index) - set(clients_A.index))].groupby('cluster', group_keys=False).apply(lambda x: x.sample(int(math.ceil(10_000*len(x)/len(df))))).sample(frac=1)\n",
            "<ipython-input-9-fe0bb6b3d82a>:7: DeprecationWarning: DataFrameGroupBy.apply operated on the grouping columns. This behavior is deprecated, and in a future version of pandas the grouping columns will be excluded from the operation. Either pass `include_groups=False` to exclude the groupings or explicitly select the grouping columns after groupby to silence this warning.\n",
            "  clients_A = df.groupby('cluster', group_keys=False).apply(lambda x: x.sample(int(math.ceil(10_000*len(x)/len(df))))).sample(frac=1)\n",
            "<ipython-input-9-fe0bb6b3d82a>:8: DeprecationWarning: DataFrameGroupBy.apply operated on the grouping columns. This behavior is deprecated, and in a future version of pandas the grouping columns will be excluded from the operation. Either pass `include_groups=False` to exclude the groupings or explicitly select the grouping columns after groupby to silence this warning.\n",
            "  clients_B = df.loc[list(set(df.index) - set(clients_A.index))].groupby('cluster', group_keys=False).apply(lambda x: x.sample(int(math.ceil(10_000*len(x)/len(df))))).sample(frac=1)\n",
            "<ipython-input-9-fe0bb6b3d82a>:7: DeprecationWarning: DataFrameGroupBy.apply operated on the grouping columns. This behavior is deprecated, and in a future version of pandas the grouping columns will be excluded from the operation. Either pass `include_groups=False` to exclude the groupings or explicitly select the grouping columns after groupby to silence this warning.\n",
            "  clients_A = df.groupby('cluster', group_keys=False).apply(lambda x: x.sample(int(math.ceil(10_000*len(x)/len(df))))).sample(frac=1)\n",
            "<ipython-input-9-fe0bb6b3d82a>:8: DeprecationWarning: DataFrameGroupBy.apply operated on the grouping columns. This behavior is deprecated, and in a future version of pandas the grouping columns will be excluded from the operation. Either pass `include_groups=False` to exclude the groupings or explicitly select the grouping columns after groupby to silence this warning.\n",
            "  clients_B = df.loc[list(set(df.index) - set(clients_A.index))].groupby('cluster', group_keys=False).apply(lambda x: x.sample(int(math.ceil(10_000*len(x)/len(df))))).sample(frac=1)\n",
            "<ipython-input-9-fe0bb6b3d82a>:7: DeprecationWarning: DataFrameGroupBy.apply operated on the grouping columns. This behavior is deprecated, and in a future version of pandas the grouping columns will be excluded from the operation. Either pass `include_groups=False` to exclude the groupings or explicitly select the grouping columns after groupby to silence this warning.\n",
            "  clients_A = df.groupby('cluster', group_keys=False).apply(lambda x: x.sample(int(math.ceil(10_000*len(x)/len(df))))).sample(frac=1)\n",
            "<ipython-input-9-fe0bb6b3d82a>:8: DeprecationWarning: DataFrameGroupBy.apply operated on the grouping columns. This behavior is deprecated, and in a future version of pandas the grouping columns will be excluded from the operation. Either pass `include_groups=False` to exclude the groupings or explicitly select the grouping columns after groupby to silence this warning.\n",
            "  clients_B = df.loc[list(set(df.index) - set(clients_A.index))].groupby('cluster', group_keys=False).apply(lambda x: x.sample(int(math.ceil(10_000*len(x)/len(df))))).sample(frac=1)\n",
            "<ipython-input-9-fe0bb6b3d82a>:7: DeprecationWarning: DataFrameGroupBy.apply operated on the grouping columns. This behavior is deprecated, and in a future version of pandas the grouping columns will be excluded from the operation. Either pass `include_groups=False` to exclude the groupings or explicitly select the grouping columns after groupby to silence this warning.\n",
            "  clients_A = df.groupby('cluster', group_keys=False).apply(lambda x: x.sample(int(math.ceil(10_000*len(x)/len(df))))).sample(frac=1)\n",
            "<ipython-input-9-fe0bb6b3d82a>:8: DeprecationWarning: DataFrameGroupBy.apply operated on the grouping columns. This behavior is deprecated, and in a future version of pandas the grouping columns will be excluded from the operation. Either pass `include_groups=False` to exclude the groupings or explicitly select the grouping columns after groupby to silence this warning.\n",
            "  clients_B = df.loc[list(set(df.index) - set(clients_A.index))].groupby('cluster', group_keys=False).apply(lambda x: x.sample(int(math.ceil(10_000*len(x)/len(df))))).sample(frac=1)\n",
            "<ipython-input-9-fe0bb6b3d82a>:7: DeprecationWarning: DataFrameGroupBy.apply operated on the grouping columns. This behavior is deprecated, and in a future version of pandas the grouping columns will be excluded from the operation. Either pass `include_groups=False` to exclude the groupings or explicitly select the grouping columns after groupby to silence this warning.\n",
            "  clients_A = df.groupby('cluster', group_keys=False).apply(lambda x: x.sample(int(math.ceil(10_000*len(x)/len(df))))).sample(frac=1)\n",
            "<ipython-input-9-fe0bb6b3d82a>:8: DeprecationWarning: DataFrameGroupBy.apply operated on the grouping columns. This behavior is deprecated, and in a future version of pandas the grouping columns will be excluded from the operation. Either pass `include_groups=False` to exclude the groupings or explicitly select the grouping columns after groupby to silence this warning.\n",
            "  clients_B = df.loc[list(set(df.index) - set(clients_A.index))].groupby('cluster', group_keys=False).apply(lambda x: x.sample(int(math.ceil(10_000*len(x)/len(df))))).sample(frac=1)\n",
            "<ipython-input-9-fe0bb6b3d82a>:7: DeprecationWarning: DataFrameGroupBy.apply operated on the grouping columns. This behavior is deprecated, and in a future version of pandas the grouping columns will be excluded from the operation. Either pass `include_groups=False` to exclude the groupings or explicitly select the grouping columns after groupby to silence this warning.\n",
            "  clients_A = df.groupby('cluster', group_keys=False).apply(lambda x: x.sample(int(math.ceil(10_000*len(x)/len(df))))).sample(frac=1)\n",
            "<ipython-input-9-fe0bb6b3d82a>:8: DeprecationWarning: DataFrameGroupBy.apply operated on the grouping columns. This behavior is deprecated, and in a future version of pandas the grouping columns will be excluded from the operation. Either pass `include_groups=False` to exclude the groupings or explicitly select the grouping columns after groupby to silence this warning.\n",
            "  clients_B = df.loc[list(set(df.index) - set(clients_A.index))].groupby('cluster', group_keys=False).apply(lambda x: x.sample(int(math.ceil(10_000*len(x)/len(df))))).sample(frac=1)\n",
            "<ipython-input-9-fe0bb6b3d82a>:7: DeprecationWarning: DataFrameGroupBy.apply operated on the grouping columns. This behavior is deprecated, and in a future version of pandas the grouping columns will be excluded from the operation. Either pass `include_groups=False` to exclude the groupings or explicitly select the grouping columns after groupby to silence this warning.\n",
            "  clients_A = df.groupby('cluster', group_keys=False).apply(lambda x: x.sample(int(math.ceil(10_000*len(x)/len(df))))).sample(frac=1)\n",
            "<ipython-input-9-fe0bb6b3d82a>:8: DeprecationWarning: DataFrameGroupBy.apply operated on the grouping columns. This behavior is deprecated, and in a future version of pandas the grouping columns will be excluded from the operation. Either pass `include_groups=False` to exclude the groupings or explicitly select the grouping columns after groupby to silence this warning.\n",
            "  clients_B = df.loc[list(set(df.index) - set(clients_A.index))].groupby('cluster', group_keys=False).apply(lambda x: x.sample(int(math.ceil(10_000*len(x)/len(df))))).sample(frac=1)\n",
            "<ipython-input-9-fe0bb6b3d82a>:7: DeprecationWarning: DataFrameGroupBy.apply operated on the grouping columns. This behavior is deprecated, and in a future version of pandas the grouping columns will be excluded from the operation. Either pass `include_groups=False` to exclude the groupings or explicitly select the grouping columns after groupby to silence this warning.\n",
            "  clients_A = df.groupby('cluster', group_keys=False).apply(lambda x: x.sample(int(math.ceil(10_000*len(x)/len(df))))).sample(frac=1)\n",
            "<ipython-input-9-fe0bb6b3d82a>:8: DeprecationWarning: DataFrameGroupBy.apply operated on the grouping columns. This behavior is deprecated, and in a future version of pandas the grouping columns will be excluded from the operation. Either pass `include_groups=False` to exclude the groupings or explicitly select the grouping columns after groupby to silence this warning.\n",
            "  clients_B = df.loc[list(set(df.index) - set(clients_A.index))].groupby('cluster', group_keys=False).apply(lambda x: x.sample(int(math.ceil(10_000*len(x)/len(df))))).sample(frac=1)\n",
            "<ipython-input-9-fe0bb6b3d82a>:7: DeprecationWarning: DataFrameGroupBy.apply operated on the grouping columns. This behavior is deprecated, and in a future version of pandas the grouping columns will be excluded from the operation. Either pass `include_groups=False` to exclude the groupings or explicitly select the grouping columns after groupby to silence this warning.\n",
            "  clients_A = df.groupby('cluster', group_keys=False).apply(lambda x: x.sample(int(math.ceil(10_000*len(x)/len(df))))).sample(frac=1)\n",
            "<ipython-input-9-fe0bb6b3d82a>:8: DeprecationWarning: DataFrameGroupBy.apply operated on the grouping columns. This behavior is deprecated, and in a future version of pandas the grouping columns will be excluded from the operation. Either pass `include_groups=False` to exclude the groupings or explicitly select the grouping columns after groupby to silence this warning.\n",
            "  clients_B = df.loc[list(set(df.index) - set(clients_A.index))].groupby('cluster', group_keys=False).apply(lambda x: x.sample(int(math.ceil(10_000*len(x)/len(df))))).sample(frac=1)\n",
            "<ipython-input-9-fe0bb6b3d82a>:7: DeprecationWarning: DataFrameGroupBy.apply operated on the grouping columns. This behavior is deprecated, and in a future version of pandas the grouping columns will be excluded from the operation. Either pass `include_groups=False` to exclude the groupings or explicitly select the grouping columns after groupby to silence this warning.\n",
            "  clients_A = df.groupby('cluster', group_keys=False).apply(lambda x: x.sample(int(math.ceil(10_000*len(x)/len(df))))).sample(frac=1)\n",
            "<ipython-input-9-fe0bb6b3d82a>:8: DeprecationWarning: DataFrameGroupBy.apply operated on the grouping columns. This behavior is deprecated, and in a future version of pandas the grouping columns will be excluded from the operation. Either pass `include_groups=False` to exclude the groupings or explicitly select the grouping columns after groupby to silence this warning.\n",
            "  clients_B = df.loc[list(set(df.index) - set(clients_A.index))].groupby('cluster', group_keys=False).apply(lambda x: x.sample(int(math.ceil(10_000*len(x)/len(df))))).sample(frac=1)\n",
            "<ipython-input-9-fe0bb6b3d82a>:7: DeprecationWarning: DataFrameGroupBy.apply operated on the grouping columns. This behavior is deprecated, and in a future version of pandas the grouping columns will be excluded from the operation. Either pass `include_groups=False` to exclude the groupings or explicitly select the grouping columns after groupby to silence this warning.\n",
            "  clients_A = df.groupby('cluster', group_keys=False).apply(lambda x: x.sample(int(math.ceil(10_000*len(x)/len(df))))).sample(frac=1)\n",
            "<ipython-input-9-fe0bb6b3d82a>:8: DeprecationWarning: DataFrameGroupBy.apply operated on the grouping columns. This behavior is deprecated, and in a future version of pandas the grouping columns will be excluded from the operation. Either pass `include_groups=False` to exclude the groupings or explicitly select the grouping columns after groupby to silence this warning.\n",
            "  clients_B = df.loc[list(set(df.index) - set(clients_A.index))].groupby('cluster', group_keys=False).apply(lambda x: x.sample(int(math.ceil(10_000*len(x)/len(df))))).sample(frac=1)\n",
            "<ipython-input-9-fe0bb6b3d82a>:7: DeprecationWarning: DataFrameGroupBy.apply operated on the grouping columns. This behavior is deprecated, and in a future version of pandas the grouping columns will be excluded from the operation. Either pass `include_groups=False` to exclude the groupings or explicitly select the grouping columns after groupby to silence this warning.\n",
            "  clients_A = df.groupby('cluster', group_keys=False).apply(lambda x: x.sample(int(math.ceil(10_000*len(x)/len(df))))).sample(frac=1)\n",
            "<ipython-input-9-fe0bb6b3d82a>:8: DeprecationWarning: DataFrameGroupBy.apply operated on the grouping columns. This behavior is deprecated, and in a future version of pandas the grouping columns will be excluded from the operation. Either pass `include_groups=False` to exclude the groupings or explicitly select the grouping columns after groupby to silence this warning.\n",
            "  clients_B = df.loc[list(set(df.index) - set(clients_A.index))].groupby('cluster', group_keys=False).apply(lambda x: x.sample(int(math.ceil(10_000*len(x)/len(df))))).sample(frac=1)\n",
            "<ipython-input-9-fe0bb6b3d82a>:7: DeprecationWarning: DataFrameGroupBy.apply operated on the grouping columns. This behavior is deprecated, and in a future version of pandas the grouping columns will be excluded from the operation. Either pass `include_groups=False` to exclude the groupings or explicitly select the grouping columns after groupby to silence this warning.\n",
            "  clients_A = df.groupby('cluster', group_keys=False).apply(lambda x: x.sample(int(math.ceil(10_000*len(x)/len(df))))).sample(frac=1)\n",
            "<ipython-input-9-fe0bb6b3d82a>:8: DeprecationWarning: DataFrameGroupBy.apply operated on the grouping columns. This behavior is deprecated, and in a future version of pandas the grouping columns will be excluded from the operation. Either pass `include_groups=False` to exclude the groupings or explicitly select the grouping columns after groupby to silence this warning.\n",
            "  clients_B = df.loc[list(set(df.index) - set(clients_A.index))].groupby('cluster', group_keys=False).apply(lambda x: x.sample(int(math.ceil(10_000*len(x)/len(df))))).sample(frac=1)\n"
          ]
        },
        {
          "output_type": "stream",
          "name": "stdout",
          "text": [
            "200\n"
          ]
        },
        {
          "output_type": "stream",
          "name": "stderr",
          "text": [
            "<ipython-input-9-fe0bb6b3d82a>:7: DeprecationWarning: DataFrameGroupBy.apply operated on the grouping columns. This behavior is deprecated, and in a future version of pandas the grouping columns will be excluded from the operation. Either pass `include_groups=False` to exclude the groupings or explicitly select the grouping columns after groupby to silence this warning.\n",
            "  clients_A = df.groupby('cluster', group_keys=False).apply(lambda x: x.sample(int(math.ceil(10_000*len(x)/len(df))))).sample(frac=1)\n",
            "<ipython-input-9-fe0bb6b3d82a>:8: DeprecationWarning: DataFrameGroupBy.apply operated on the grouping columns. This behavior is deprecated, and in a future version of pandas the grouping columns will be excluded from the operation. Either pass `include_groups=False` to exclude the groupings or explicitly select the grouping columns after groupby to silence this warning.\n",
            "  clients_B = df.loc[list(set(df.index) - set(clients_A.index))].groupby('cluster', group_keys=False).apply(lambda x: x.sample(int(math.ceil(10_000*len(x)/len(df))))).sample(frac=1)\n",
            "<ipython-input-9-fe0bb6b3d82a>:7: DeprecationWarning: DataFrameGroupBy.apply operated on the grouping columns. This behavior is deprecated, and in a future version of pandas the grouping columns will be excluded from the operation. Either pass `include_groups=False` to exclude the groupings or explicitly select the grouping columns after groupby to silence this warning.\n",
            "  clients_A = df.groupby('cluster', group_keys=False).apply(lambda x: x.sample(int(math.ceil(10_000*len(x)/len(df))))).sample(frac=1)\n",
            "<ipython-input-9-fe0bb6b3d82a>:8: DeprecationWarning: DataFrameGroupBy.apply operated on the grouping columns. This behavior is deprecated, and in a future version of pandas the grouping columns will be excluded from the operation. Either pass `include_groups=False` to exclude the groupings or explicitly select the grouping columns after groupby to silence this warning.\n",
            "  clients_B = df.loc[list(set(df.index) - set(clients_A.index))].groupby('cluster', group_keys=False).apply(lambda x: x.sample(int(math.ceil(10_000*len(x)/len(df))))).sample(frac=1)\n",
            "<ipython-input-9-fe0bb6b3d82a>:7: DeprecationWarning: DataFrameGroupBy.apply operated on the grouping columns. This behavior is deprecated, and in a future version of pandas the grouping columns will be excluded from the operation. Either pass `include_groups=False` to exclude the groupings or explicitly select the grouping columns after groupby to silence this warning.\n",
            "  clients_A = df.groupby('cluster', group_keys=False).apply(lambda x: x.sample(int(math.ceil(10_000*len(x)/len(df))))).sample(frac=1)\n",
            "<ipython-input-9-fe0bb6b3d82a>:8: DeprecationWarning: DataFrameGroupBy.apply operated on the grouping columns. This behavior is deprecated, and in a future version of pandas the grouping columns will be excluded from the operation. Either pass `include_groups=False` to exclude the groupings or explicitly select the grouping columns after groupby to silence this warning.\n",
            "  clients_B = df.loc[list(set(df.index) - set(clients_A.index))].groupby('cluster', group_keys=False).apply(lambda x: x.sample(int(math.ceil(10_000*len(x)/len(df))))).sample(frac=1)\n",
            "<ipython-input-9-fe0bb6b3d82a>:7: DeprecationWarning: DataFrameGroupBy.apply operated on the grouping columns. This behavior is deprecated, and in a future version of pandas the grouping columns will be excluded from the operation. Either pass `include_groups=False` to exclude the groupings or explicitly select the grouping columns after groupby to silence this warning.\n",
            "  clients_A = df.groupby('cluster', group_keys=False).apply(lambda x: x.sample(int(math.ceil(10_000*len(x)/len(df))))).sample(frac=1)\n",
            "<ipython-input-9-fe0bb6b3d82a>:8: DeprecationWarning: DataFrameGroupBy.apply operated on the grouping columns. This behavior is deprecated, and in a future version of pandas the grouping columns will be excluded from the operation. Either pass `include_groups=False` to exclude the groupings or explicitly select the grouping columns after groupby to silence this warning.\n",
            "  clients_B = df.loc[list(set(df.index) - set(clients_A.index))].groupby('cluster', group_keys=False).apply(lambda x: x.sample(int(math.ceil(10_000*len(x)/len(df))))).sample(frac=1)\n",
            "<ipython-input-9-fe0bb6b3d82a>:7: DeprecationWarning: DataFrameGroupBy.apply operated on the grouping columns. This behavior is deprecated, and in a future version of pandas the grouping columns will be excluded from the operation. Either pass `include_groups=False` to exclude the groupings or explicitly select the grouping columns after groupby to silence this warning.\n",
            "  clients_A = df.groupby('cluster', group_keys=False).apply(lambda x: x.sample(int(math.ceil(10_000*len(x)/len(df))))).sample(frac=1)\n",
            "<ipython-input-9-fe0bb6b3d82a>:8: DeprecationWarning: DataFrameGroupBy.apply operated on the grouping columns. This behavior is deprecated, and in a future version of pandas the grouping columns will be excluded from the operation. Either pass `include_groups=False` to exclude the groupings or explicitly select the grouping columns after groupby to silence this warning.\n",
            "  clients_B = df.loc[list(set(df.index) - set(clients_A.index))].groupby('cluster', group_keys=False).apply(lambda x: x.sample(int(math.ceil(10_000*len(x)/len(df))))).sample(frac=1)\n",
            "<ipython-input-9-fe0bb6b3d82a>:7: DeprecationWarning: DataFrameGroupBy.apply operated on the grouping columns. This behavior is deprecated, and in a future version of pandas the grouping columns will be excluded from the operation. Either pass `include_groups=False` to exclude the groupings or explicitly select the grouping columns after groupby to silence this warning.\n",
            "  clients_A = df.groupby('cluster', group_keys=False).apply(lambda x: x.sample(int(math.ceil(10_000*len(x)/len(df))))).sample(frac=1)\n",
            "<ipython-input-9-fe0bb6b3d82a>:8: DeprecationWarning: DataFrameGroupBy.apply operated on the grouping columns. This behavior is deprecated, and in a future version of pandas the grouping columns will be excluded from the operation. Either pass `include_groups=False` to exclude the groupings or explicitly select the grouping columns after groupby to silence this warning.\n",
            "  clients_B = df.loc[list(set(df.index) - set(clients_A.index))].groupby('cluster', group_keys=False).apply(lambda x: x.sample(int(math.ceil(10_000*len(x)/len(df))))).sample(frac=1)\n",
            "<ipython-input-9-fe0bb6b3d82a>:7: DeprecationWarning: DataFrameGroupBy.apply operated on the grouping columns. This behavior is deprecated, and in a future version of pandas the grouping columns will be excluded from the operation. Either pass `include_groups=False` to exclude the groupings or explicitly select the grouping columns after groupby to silence this warning.\n",
            "  clients_A = df.groupby('cluster', group_keys=False).apply(lambda x: x.sample(int(math.ceil(10_000*len(x)/len(df))))).sample(frac=1)\n",
            "<ipython-input-9-fe0bb6b3d82a>:8: DeprecationWarning: DataFrameGroupBy.apply operated on the grouping columns. This behavior is deprecated, and in a future version of pandas the grouping columns will be excluded from the operation. Either pass `include_groups=False` to exclude the groupings or explicitly select the grouping columns after groupby to silence this warning.\n",
            "  clients_B = df.loc[list(set(df.index) - set(clients_A.index))].groupby('cluster', group_keys=False).apply(lambda x: x.sample(int(math.ceil(10_000*len(x)/len(df))))).sample(frac=1)\n",
            "<ipython-input-9-fe0bb6b3d82a>:7: DeprecationWarning: DataFrameGroupBy.apply operated on the grouping columns. This behavior is deprecated, and in a future version of pandas the grouping columns will be excluded from the operation. Either pass `include_groups=False` to exclude the groupings or explicitly select the grouping columns after groupby to silence this warning.\n",
            "  clients_A = df.groupby('cluster', group_keys=False).apply(lambda x: x.sample(int(math.ceil(10_000*len(x)/len(df))))).sample(frac=1)\n",
            "<ipython-input-9-fe0bb6b3d82a>:8: DeprecationWarning: DataFrameGroupBy.apply operated on the grouping columns. This behavior is deprecated, and in a future version of pandas the grouping columns will be excluded from the operation. Either pass `include_groups=False` to exclude the groupings or explicitly select the grouping columns after groupby to silence this warning.\n",
            "  clients_B = df.loc[list(set(df.index) - set(clients_A.index))].groupby('cluster', group_keys=False).apply(lambda x: x.sample(int(math.ceil(10_000*len(x)/len(df))))).sample(frac=1)\n",
            "<ipython-input-9-fe0bb6b3d82a>:7: DeprecationWarning: DataFrameGroupBy.apply operated on the grouping columns. This behavior is deprecated, and in a future version of pandas the grouping columns will be excluded from the operation. Either pass `include_groups=False` to exclude the groupings or explicitly select the grouping columns after groupby to silence this warning.\n",
            "  clients_A = df.groupby('cluster', group_keys=False).apply(lambda x: x.sample(int(math.ceil(10_000*len(x)/len(df))))).sample(frac=1)\n",
            "<ipython-input-9-fe0bb6b3d82a>:8: DeprecationWarning: DataFrameGroupBy.apply operated on the grouping columns. This behavior is deprecated, and in a future version of pandas the grouping columns will be excluded from the operation. Either pass `include_groups=False` to exclude the groupings or explicitly select the grouping columns after groupby to silence this warning.\n",
            "  clients_B = df.loc[list(set(df.index) - set(clients_A.index))].groupby('cluster', group_keys=False).apply(lambda x: x.sample(int(math.ceil(10_000*len(x)/len(df))))).sample(frac=1)\n",
            "<ipython-input-9-fe0bb6b3d82a>:7: DeprecationWarning: DataFrameGroupBy.apply operated on the grouping columns. This behavior is deprecated, and in a future version of pandas the grouping columns will be excluded from the operation. Either pass `include_groups=False` to exclude the groupings or explicitly select the grouping columns after groupby to silence this warning.\n",
            "  clients_A = df.groupby('cluster', group_keys=False).apply(lambda x: x.sample(int(math.ceil(10_000*len(x)/len(df))))).sample(frac=1)\n",
            "<ipython-input-9-fe0bb6b3d82a>:8: DeprecationWarning: DataFrameGroupBy.apply operated on the grouping columns. This behavior is deprecated, and in a future version of pandas the grouping columns will be excluded from the operation. Either pass `include_groups=False` to exclude the groupings or explicitly select the grouping columns after groupby to silence this warning.\n",
            "  clients_B = df.loc[list(set(df.index) - set(clients_A.index))].groupby('cluster', group_keys=False).apply(lambda x: x.sample(int(math.ceil(10_000*len(x)/len(df))))).sample(frac=1)\n",
            "<ipython-input-9-fe0bb6b3d82a>:7: DeprecationWarning: DataFrameGroupBy.apply operated on the grouping columns. This behavior is deprecated, and in a future version of pandas the grouping columns will be excluded from the operation. Either pass `include_groups=False` to exclude the groupings or explicitly select the grouping columns after groupby to silence this warning.\n",
            "  clients_A = df.groupby('cluster', group_keys=False).apply(lambda x: x.sample(int(math.ceil(10_000*len(x)/len(df))))).sample(frac=1)\n",
            "<ipython-input-9-fe0bb6b3d82a>:8: DeprecationWarning: DataFrameGroupBy.apply operated on the grouping columns. This behavior is deprecated, and in a future version of pandas the grouping columns will be excluded from the operation. Either pass `include_groups=False` to exclude the groupings or explicitly select the grouping columns after groupby to silence this warning.\n",
            "  clients_B = df.loc[list(set(df.index) - set(clients_A.index))].groupby('cluster', group_keys=False).apply(lambda x: x.sample(int(math.ceil(10_000*len(x)/len(df))))).sample(frac=1)\n",
            "<ipython-input-9-fe0bb6b3d82a>:7: DeprecationWarning: DataFrameGroupBy.apply operated on the grouping columns. This behavior is deprecated, and in a future version of pandas the grouping columns will be excluded from the operation. Either pass `include_groups=False` to exclude the groupings or explicitly select the grouping columns after groupby to silence this warning.\n",
            "  clients_A = df.groupby('cluster', group_keys=False).apply(lambda x: x.sample(int(math.ceil(10_000*len(x)/len(df))))).sample(frac=1)\n",
            "<ipython-input-9-fe0bb6b3d82a>:8: DeprecationWarning: DataFrameGroupBy.apply operated on the grouping columns. This behavior is deprecated, and in a future version of pandas the grouping columns will be excluded from the operation. Either pass `include_groups=False` to exclude the groupings or explicitly select the grouping columns after groupby to silence this warning.\n",
            "  clients_B = df.loc[list(set(df.index) - set(clients_A.index))].groupby('cluster', group_keys=False).apply(lambda x: x.sample(int(math.ceil(10_000*len(x)/len(df))))).sample(frac=1)\n",
            "<ipython-input-9-fe0bb6b3d82a>:7: DeprecationWarning: DataFrameGroupBy.apply operated on the grouping columns. This behavior is deprecated, and in a future version of pandas the grouping columns will be excluded from the operation. Either pass `include_groups=False` to exclude the groupings or explicitly select the grouping columns after groupby to silence this warning.\n",
            "  clients_A = df.groupby('cluster', group_keys=False).apply(lambda x: x.sample(int(math.ceil(10_000*len(x)/len(df))))).sample(frac=1)\n",
            "<ipython-input-9-fe0bb6b3d82a>:8: DeprecationWarning: DataFrameGroupBy.apply operated on the grouping columns. This behavior is deprecated, and in a future version of pandas the grouping columns will be excluded from the operation. Either pass `include_groups=False` to exclude the groupings or explicitly select the grouping columns after groupby to silence this warning.\n",
            "  clients_B = df.loc[list(set(df.index) - set(clients_A.index))].groupby('cluster', group_keys=False).apply(lambda x: x.sample(int(math.ceil(10_000*len(x)/len(df))))).sample(frac=1)\n"
          ]
        }
      ]
    },
    {
      "cell_type": "code",
      "source": [
        "sns.histplot(p_values)"
      ],
      "metadata": {
        "id": "izjI_Iu2ZpYv"
      },
      "execution_count": null,
      "outputs": []
    },
    {
      "cell_type": "markdown",
      "source": [
        "p-value условно равномерное тест работает(нужно больше повторений)"
      ],
      "metadata": {
        "id": "FXTZDwIyfKDa"
      }
    },
    {
      "cell_type": "code",
      "source": [
        "#дисперсия\n",
        "print(np.mean(variations_rs))\n",
        "print(np.mean(variations_srs))"
      ],
      "metadata": {
        "id": "upKHPMn8hhxK"
      },
      "execution_count": null,
      "outputs": []
    },
    {
      "cell_type": "code",
      "source": [
        "sns.histplot(variations_srs)"
      ],
      "metadata": {
        "id": "E33TC6wMfnJ4"
      },
      "execution_count": null,
      "outputs": []
    },
    {
      "cell_type": "code",
      "source": [
        "sns.histplot(variations_rs)"
      ],
      "metadata": {
        "id": "8QrWLDZHgaE5"
      },
      "execution_count": null,
      "outputs": []
    },
    {
      "cell_type": "markdown",
      "source": [
        "Дисперсия снизилась незначительно"
      ],
      "metadata": {
        "id": "B3UO_cLhTYk2"
      }
    },
    {
      "cell_type": "markdown",
      "source": [
        "# CUPED"
      ],
      "metadata": {
        "id": "xsMfe2Es6dOM"
      }
    },
    {
      "cell_type": "markdown",
      "source": [
        "## Расчет thetta"
      ],
      "metadata": {
        "id": "X5t_SvYfPkA3"
      }
    },
    {
      "cell_type": "markdown",
      "source": [
        "cuped - часть дисперсии обьясняется нововведение а оставшася часть факторами не зависящими от нововедения\n",
        "Хcuped = х(старая метрика) - коэфициент тета * ковариату Y\n",
        "Тета = ковариация(х,y) / дисперсию y\n",
        "\n",
        "Ковариата = метрика за прошлый период,предсказанная метрика."
      ],
      "metadata": {
        "id": "7a-4WdvyUyYp"
      }
    },
    {
      "cell_type": "code",
      "source": [
        "np.random.seed(1)\n",
        "sampled = np.random.choice(df.index.values, (162, 2), replace = True)"
      ],
      "metadata": {
        "id": "7aWRrAAXPD5f"
      },
      "execution_count": null,
      "outputs": []
    },
    {
      "cell_type": "code",
      "source": [
        "metric_current = df['metric_1'].values\n",
        "metric_past = df['metric_0'].values\n",
        "covariance_matrix = np.cov(metric_current, metric_past)\n",
        "covariance = covariance_matrix[0][1]\n",
        "metric_past_var = covariance_matrix[1][1]\n",
        "thetta1 = covariance / metric_past_var\n",
        "print(thetta1)\n",
        "\n",
        "### cov = np.cov(old_data, new_data, ddof=1)[0, 1]     theta = cov / np.var(old_data, ddof=1)"
      ],
      "metadata": {
        "id": "ixfWvGDbzZBY"
      },
      "execution_count": null,
      "outputs": []
    },
    {
      "cell_type": "code",
      "source": [
        "metric_current_A = df[df.index.isin(sampled[:, 0])]['metric_1'].values\n",
        "metric_past_A = df[df.index.isin(sampled[:, 0])]['metric_0'].values\n",
        "\n",
        "metric_current_B = df[df.index.isin(sampled[:, 1])]['metric_1'].values\n",
        "metric_past_B = df[df.index.isin(sampled[:, 1])]['metric_0'].values\n",
        "\n",
        "thetta2 = np.cov(metric_current_A - metric_current_B, metric_past_A - metric_past_B)[0][1]/ np.var(metric_past_A - metric_past_B)\n",
        "print(thetta2)"
      ],
      "metadata": {
        "id": "F59EozD9r8L0"
      },
      "execution_count": null,
      "outputs": []
    },
    {
      "cell_type": "code",
      "source": [
        "old_data = df[df.index.isin(sampled[:, 0])]['metric_0'].values\n",
        "new_data = df[df.index.isin(sampled[:, 0])]['metric_1'].values\n",
        "cov = np.cov(old_data, new_data, ddof=1)[0, 1]\n",
        "theta3 = cov / np.var(old_data, ddof=1)\n",
        "print(theta3)"
      ],
      "metadata": {
        "id": "bOjV3ST3HmxC"
      },
      "execution_count": null,
      "outputs": []
    },
    {
      "cell_type": "code",
      "source": [
        "cov_X_Y = np.cov(df['metric_0'],df['metric_1'].values,ddof=1)[0, 1]\n",
        "var_X = np.var(df['metric_0'], ddof=1)\n",
        "corr_X_Y = np.corrcoef(df['metric_0'], df['metric_1'].values)[0,1]\n",
        "theta4 = cov_X_Y / var_X\n",
        "print(theta4)"
      ],
      "metadata": {
        "id": "UW76Eyt8LbnA"
      },
      "execution_count": null,
      "outputs": []
    },
    {
      "cell_type": "markdown",
      "source": [
        "Есть несколько разновидностей расчеты thetha"
      ],
      "metadata": {
        "id": "xzSe_8jB_vGc"
      }
    },
    {
      "cell_type": "markdown",
      "source": [
        "В данном случае мы в качестве ковариаты мы выбрали ту же самую метрику но за пред.период. Считаем тету как ковариацию между текущим и прошлым значеним/дисперсию прошлую"
      ],
      "metadata": {
        "id": "EDKG_G4qU3ro"
      }
    },
    {
      "cell_type": "markdown",
      "source": [
        "## Расчет CUPED метрики и проведение стат.теста\n"
      ],
      "metadata": {
        "id": "btLCKlqG20z9"
      }
    },
    {
      "cell_type": "code",
      "source": [
        "#часть пользователей которым условно не дали скидку\n",
        "metric_current_A = df[df.index.isin(sampled[:, 0])]['metric_1'].values\n",
        "metric_past_A = df[df.index.isin(sampled[:, 0])]['metric_0'].values\n",
        "metric_cuped_A = metric_current_A - thetta2 * metric_past_A\n",
        "#metric_cuped_A = metric_current_A - thetta2 * (metric_past_A - np.mean(metric_past_A))\n",
        "# Y = new_data - theta * (old_data.values - np.mean(old_data.values))\n",
        "#metric_cuped_B = metric_current_B - thetta2 * metric_past_B + thetta2 * np.mean(metric_past_B)"
      ],
      "metadata": {
        "id": "qu6Gy2982-oK"
      },
      "execution_count": null,
      "outputs": []
    },
    {
      "cell_type": "code",
      "source": [
        "metric_current_A"
      ],
      "metadata": {
        "id": "fHy_QtzDprD_"
      },
      "execution_count": null,
      "outputs": []
    },
    {
      "cell_type": "code",
      "source": [
        "#часть пользователей которым дали\n",
        "metric_current_B = df[df.index.isin(sampled[:, 1])]['metric_1'].values\n",
        "metric_past_B = df[df.index.isin(sampled[:, 1])]['metric_0'].values\n",
        "metric_cuped_B = metric_current_B - thetta2 * metric_past_B\n",
        "#metric_cuped_B = metric_current_B - thetta2 * (metric_past_B - np.mean(metric_past_B))"
      ],
      "metadata": {
        "id": "S3OD3wBh3GD9"
      },
      "execution_count": null,
      "outputs": []
    },
    {
      "cell_type": "code",
      "source": [
        "metric_current_B"
      ],
      "metadata": {
        "id": "z_Ku8OTnpu0Q"
      },
      "execution_count": null,
      "outputs": []
    },
    {
      "cell_type": "code",
      "source": [
        "print('A variance before cuped:', metric_current_A.var())\n",
        "print('A variance after cuped:', metric_cuped_A.var())\n",
        "print('A mean before cuped:', metric_current_A.mean())\n",
        "print('A mean after cuped:', metric_cuped_A.mean())"
      ],
      "metadata": {
        "id": "kvwn3StE3GFK"
      },
      "execution_count": null,
      "outputs": []
    },
    {
      "cell_type": "code",
      "source": [
        "print('B variance before cuped:', metric_current_B.var())\n",
        "print('B variance after cuped:', metric_cuped_B.var())\n",
        "print('B mean before cuped:', metric_current_B.mean())\n",
        "print('B mean after cuped:', metric_cuped_B.mean())"
      ],
      "metadata": {
        "id": "4ukmogPx3TrE"
      },
      "execution_count": null,
      "outputs": []
    },
    {
      "cell_type": "code",
      "source": [
        "_, p_value = ttest_ind(metric_current_A, metric_current_B, alternative = 'greater', equal_var = False)\n",
        "print('mean(A): {}, mean(B): {}'.format(metric_current_A.mean(), metric_current_B.mean()))\n",
        "print('mean(A) - mean(B): {}'.format(metric_current_A.mean() - metric_current_B.mean()))\n",
        "print('P value: {}'.format(p_value))"
      ],
      "metadata": {
        "id": "WRnTijxy3ZqO"
      },
      "execution_count": null,
      "outputs": []
    },
    {
      "cell_type": "code",
      "source": [
        "_, p_value = ttest_ind(metric_cuped_A, metric_cuped_B, alternative = 'greater', equal_var = False)\n",
        "print('mean(A): {}, mean(B): {}'.format(metric_cuped_A.mean(), metric_cuped_B.mean()))\n",
        "print('mean(A) - mean(B): {}'.format(metric_cuped_A.mean() - metric_cuped_B.mean()))\n",
        "print('P value: {}'.format(p_value))"
      ],
      "metadata": {
        "id": "YMezAZx93eRC"
      },
      "execution_count": null,
      "outputs": []
    },
    {
      "cell_type": "markdown",
      "source": [
        "Почему средние меняются? - Разница в средних появляеться из-за отличий в мат.ожиданиях ковариат для группы a и b"
      ],
      "metadata": {
        "id": "Ty8mLA2nLcTf"
      }
    },
    {
      "cell_type": "code",
      "source": [
        "(np.mean(metric_past_A) - np.mean(metric_past_B))*thetta1"
      ],
      "metadata": {
        "id": "6V8BVJpD3YYW"
      },
      "execution_count": null,
      "outputs": []
    },
    {
      "cell_type": "code",
      "source": [
        "(metric_current_A.mean() - metric_current_B.mean()) - (metric_cuped_A.mean() - metric_cuped_B.mean())"
      ],
      "metadata": {
        "id": "AWGmUC623m3v"
      },
      "execution_count": null,
      "outputs": []
    },
    {
      "cell_type": "code",
      "source": [
        "data = pd.DataFrame({'metric_current_B': metric_current_B, 'metric_cuped_B': metric_cuped_B})\n",
        "data['metric_current_B'] = data['metric_current_B'].astype(float)\n",
        "data['metric_cuped_B'] = data['metric_cuped_B'].astype(float)\n",
        "data.reset_index()\n",
        "CUPED = data['metric_cuped_B']\n",
        "initial = data['metric_current_B']\n",
        "\n",
        "# Generate histogram plot\n",
        "plt.hist(CUPED,\n",
        "         label='CUPED')\n",
        "\n",
        "plt.hist(initial,\n",
        "         label='initial')\n",
        "\n",
        "plt.legend(loc='upper right')\n",
        "plt.title('CUPED')\n",
        "plt.xlabel(\"Revenue\", size=14)\n",
        "plt.ylabel(\"Count\", size=14)\n",
        "plt.show()"
      ],
      "metadata": {
        "id": "syvxNvyUFC7v"
      },
      "execution_count": null,
      "outputs": []
    },
    {
      "cell_type": "code",
      "source": [
        "plt.figure(figsize=(10, 5))\n",
        "\n",
        "plt.hist(data['metric_current_B'],\n",
        "         bins=np.arange(0.0, 200.0, 10.0),\n",
        "         alpha=0.35,\n",
        "         label='Initial')\n",
        "\n",
        "plt.hist(data['metric_cuped_B'],\n",
        "         bins=np.arange(0.0, 200.0, 10.0),\n",
        "         alpha=0.35,\n",
        "         label='CUPED transformed')\n",
        "\n",
        "plt.legend()\n",
        "plt.xlabel('Comission Revenue')\n",
        "plt.ylabel('# users')\n",
        "plt.title('Distribution of initial and transformed metric in the test group.')\n",
        "plt.show()"
      ],
      "metadata": {
        "id": "RkzuZBO_5psH"
      },
      "execution_count": null,
      "outputs": []
    },
    {
      "cell_type": "markdown",
      "source": [
        "Видим что наши выборки разошлись,что как раз вызвано изминениях в средних. Если изминить расчет CUPED метрик,выборки сойдуться и будет видна разница чистая разница до и после CUPED. \"#metric_cuped_B = metric_current_B - thetta2 * (metric_past_B - np.mean(metric_past_B))\""
      ],
      "metadata": {
        "id": "RvkR8Z_A_D50"
      }
    },
    {
      "cell_type": "markdown",
      "source": [
        "По результат p val >0.05 при чем в случаях как с CUPED так и без. Что позволяет принять H0 . То что мы дали скидку и метрика не выросла. Т.е не зафикисровали с текущими параметрами A/B теста статистически значимый результат."
      ],
      "metadata": {
        "id": "Ed-wuxy2QcEZ"
      }
    },
    {
      "cell_type": "markdown",
      "source": [
        "#Bootstrap"
      ],
      "metadata": {
        "id": "NaxY0XBAFOxj"
      }
    },
    {
      "cell_type": "markdown",
      "source": [
        "Бутстреп (bootstrap) - это метод для оценки стандартных отклонений и нахождения доверительных интервалов статистических функционалов. Допустим у нас маленькая выборка,то мы можем генерировать из имеющеющей выборки много раз выборки и сравнивать статистики. Мы генерируем из нашей выборки выборку сравниваем средние и повторяем процесс.\n",
        "\n",
        "Основываеться на ЦПТ - сумма достаточно большого количества слабо зависимых случайных величин, имеющих примерно одинаковые масштабы (ни одно из слагаемых не доминирует, не вносит в сумму определяющего вклада), имеет распределение, близкое к нормальному. А наша выборка представляет собой часть генеральной совокупности.\n",
        "\n",
        "\n",
        "\n",
        "\n"
      ],
      "metadata": {
        "id": "0pgAZDbxFRAh"
      }
    },
    {
      "cell_type": "code",
      "source": [
        "def get_bootstrap(\n",
        "    data_column_1, # числовые значения первой выборки\n",
        "    data_column_2, # числовые значения второй выборки\n",
        "    boot_it = 10000, # количество бутстрэп-подвыборок\n",
        "    statistic = np.mean, # интересующая нас статистика\n",
        "    bootstrap_conf_level = 0.95 # уровень значимости\n",
        "):\n",
        "    boot_len = max([len(data_column_1), len(data_column_2)])\n",
        "    boot_data = []\n",
        "    for i in tqdm(range(boot_it)): # извлекаем подвыборки\n",
        "        samples_1 = data_column_1.sample(\n",
        "            boot_len,\n",
        "            replace = True # параметр возвращения\n",
        "        ).values\n",
        "\n",
        "        samples_2 = data_column_2.sample(\n",
        "            boot_len,\n",
        "            replace = True\n",
        "        ).values\n",
        "\n",
        "        boot_data.append(statistic(samples_1-samples_2)) # mean() - применяем статистику\n",
        "\n",
        "    pd_boot_data = pd.DataFrame(boot_data)\n",
        "\n",
        "    left_quant = (1 - bootstrap_conf_level)/2\n",
        "    right_quant = 1 - (1 - bootstrap_conf_level) / 2\n",
        "    quants = pd_boot_data.quantile([left_quant, right_quant])\n",
        "\n",
        "    p_1 = norm.cdf(\n",
        "        x = 0,\n",
        "        loc = np.mean(boot_data),\n",
        "        scale = np.std(boot_data)\n",
        "    )\n",
        "    p_2 = norm.cdf(\n",
        "        x = 0,\n",
        "        loc = -np.mean(boot_data),\n",
        "        scale = np.std(boot_data)\n",
        "    )\n",
        "    p_value = min(p_1, p_2) * 2\n",
        "\n",
        "    # Визуализация\n",
        "    _, _, bars = plt.hist(pd_boot_data[0], bins = 50)\n",
        "    for bar in bars:\n",
        "        if abs(bar.get_x()) <= quants.iloc[0][0] or abs(bar.get_x()) >= quants.iloc[1][0]:\n",
        "            bar.set_facecolor('red')\n",
        "        else:\n",
        "            bar.set_facecolor('grey')\n",
        "            bar.set_edgecolor('black')\n",
        "\n",
        "    plt.style.use('ggplot')\n",
        "    plt.vlines(quants,ymin=0,ymax=50,linestyle='--')\n",
        "    plt.xlabel('boot_data')\n",
        "    plt.ylabel('frequency')\n",
        "    plt.title(\"Histogram of boot_data\")\n",
        "    plt.show()\n",
        "\n",
        "    return {\"boot_data\": boot_data,\n",
        "            \"quants\": quants,\n",
        "            \"p_value\": p_value}"
      ],
      "metadata": {
        "id": "f4P5A8j7NaVa"
      },
      "execution_count": null,
      "outputs": []
    },
    {
      "cell_type": "markdown",
      "source": [
        "Возьмем выборку 100n и представем что данных больше у нас нет."
      ],
      "metadata": {
        "id": "iBaJN7vYOvry"
      }
    },
    {
      "cell_type": "code",
      "source": [
        "#a = pd.DataFrame(df['metric_0'].iloc[::100])\n",
        "#b = pd.DataFrame(df['metric_1'].iloc[::100])\n",
        "\n",
        "a = pd.DataFrame(np.random.choice(df['metric_0'], size=100, replace=False))\n",
        "b = pd.DataFrame(np.random.choice(df['metric_1'], size=100, replace=False))"
      ],
      "metadata": {
        "id": "-l9-LRcJWTPP"
      },
      "execution_count": null,
      "outputs": []
    },
    {
      "cell_type": "code",
      "source": [
        "booted_data = get_bootstrap(data_column_1=a, data_column_2=b)\n",
        "print('bootstrap mean p-values = ' , booted_data['p_value'])\n",
        "print(np.array(booted_data['boot_data']).mean())\n",
        "booted_data['quants']"
      ],
      "metadata": {
        "id": "WrED7X-uN4-j"
      },
      "execution_count": null,
      "outputs": []
    },
    {
      "cell_type": "markdown",
      "source": [
        "Доверительный интервал (ДИ) - это интервал, который покрывает оцениваемый параметр с заданной вероятностью. Вероятность следует понимать в том смысле, что если бы мы провели эксперимент множество раз, то в среднем для 95% доверительного интервала в 95 экспериментах из 100 истинный параметр принадлежал бы доверительному интервалу. Чтобы проверить гипотезу о равенстве квантилей на уровне значимости 5% достаточно построить 95% доверительный интервал для разности квантилей между группами. Средние, которые представляют собой 2.5 и 97.5 процентили. В нашем случае Нижняя граница квантиля - (-3.3) верхняя граница (4.9). Если ноль находится вне доверительного интервала, то отличия статистически значимы, иначе нет. Собственно об этом указывает p value > 0.05  \n",
        "\n"
      ],
      "metadata": {
        "id": "xFMAy0Bj-gR5"
      }
    },
    {
      "cell_type": "markdown",
      "source": [
        "**Вывод**: провели стат. тест с параметрами 3% эффект,alpha = 0.05 power = 0.8 использовали сравнение обычного t test и методом снижения дисперсии t-test,а также bootstrap. В результате тестов p value оказалось выше 0.05, что позволяет принять H0-разницы нет."
      ],
      "metadata": {
        "id": "qVtQGvOqE69c"
      }
    }
  ]
}