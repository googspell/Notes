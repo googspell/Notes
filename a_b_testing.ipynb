{
  "nbformat": 4,
  "nbformat_minor": 0,
  "metadata": {
    "colab": {
      "provenance": [],
      "authorship_tag": "ABX9TyOYMMrIviwM5LgDzjALv9Zz",
      "include_colab_link": true
    },
    "kernelspec": {
      "name": "python3",
      "display_name": "Python 3"
    },
    "language_info": {
      "name": "python"
    },
    "widgets": {
      "application/vnd.jupyter.widget-state+json": {
        "9c6911647b7f406da09c39ebcdf11333": {
          "model_module": "@jupyter-widgets/controls",
          "model_name": "HBoxModel",
          "model_module_version": "1.5.0",
          "state": {
            "_dom_classes": [],
            "_model_module": "@jupyter-widgets/controls",
            "_model_module_version": "1.5.0",
            "_model_name": "HBoxModel",
            "_view_count": null,
            "_view_module": "@jupyter-widgets/controls",
            "_view_module_version": "1.5.0",
            "_view_name": "HBoxView",
            "box_style": "",
            "children": [
              "IPY_MODEL_2255926ae93b4eb5b427251bd1b4e966",
              "IPY_MODEL_240a8dfe7cdf407eb38cbf309e9c4002",
              "IPY_MODEL_0ba6cd7546694abcbffa1591664326d4"
            ],
            "layout": "IPY_MODEL_883a7b5192d34cf0ba4fb8c61356a4c1"
          }
        },
        "2255926ae93b4eb5b427251bd1b4e966": {
          "model_module": "@jupyter-widgets/controls",
          "model_name": "HTMLModel",
          "model_module_version": "1.5.0",
          "state": {
            "_dom_classes": [],
            "_model_module": "@jupyter-widgets/controls",
            "_model_module_version": "1.5.0",
            "_model_name": "HTMLModel",
            "_view_count": null,
            "_view_module": "@jupyter-widgets/controls",
            "_view_module_version": "1.5.0",
            "_view_name": "HTMLView",
            "description": "",
            "description_tooltip": null,
            "layout": "IPY_MODEL_764910ea8f4445ceb9d606e982e91efa",
            "placeholder": "​",
            "style": "IPY_MODEL_f06a145c81974d1baa129462bc6db7d9",
            "value": "100%"
          }
        },
        "240a8dfe7cdf407eb38cbf309e9c4002": {
          "model_module": "@jupyter-widgets/controls",
          "model_name": "FloatProgressModel",
          "model_module_version": "1.5.0",
          "state": {
            "_dom_classes": [],
            "_model_module": "@jupyter-widgets/controls",
            "_model_module_version": "1.5.0",
            "_model_name": "FloatProgressModel",
            "_view_count": null,
            "_view_module": "@jupyter-widgets/controls",
            "_view_module_version": "1.5.0",
            "_view_name": "ProgressView",
            "bar_style": "success",
            "description": "",
            "description_tooltip": null,
            "layout": "IPY_MODEL_fbc292a55e0b4fed9979177b1749ecf9",
            "max": 10000,
            "min": 0,
            "orientation": "horizontal",
            "style": "IPY_MODEL_72acfb9d7b574e15ade082848558e80a",
            "value": 10000
          }
        },
        "0ba6cd7546694abcbffa1591664326d4": {
          "model_module": "@jupyter-widgets/controls",
          "model_name": "HTMLModel",
          "model_module_version": "1.5.0",
          "state": {
            "_dom_classes": [],
            "_model_module": "@jupyter-widgets/controls",
            "_model_module_version": "1.5.0",
            "_model_name": "HTMLModel",
            "_view_count": null,
            "_view_module": "@jupyter-widgets/controls",
            "_view_module_version": "1.5.0",
            "_view_name": "HTMLView",
            "description": "",
            "description_tooltip": null,
            "layout": "IPY_MODEL_6ed6a8c86e6648b1808cfb7fe35e21a1",
            "placeholder": "​",
            "style": "IPY_MODEL_e17df227b64c4c67a10d7d28bc0296aa",
            "value": " 10000/10000 [00:39&lt;00:00, 271.81it/s]"
          }
        },
        "883a7b5192d34cf0ba4fb8c61356a4c1": {
          "model_module": "@jupyter-widgets/base",
          "model_name": "LayoutModel",
          "model_module_version": "1.2.0",
          "state": {
            "_model_module": "@jupyter-widgets/base",
            "_model_module_version": "1.2.0",
            "_model_name": "LayoutModel",
            "_view_count": null,
            "_view_module": "@jupyter-widgets/base",
            "_view_module_version": "1.2.0",
            "_view_name": "LayoutView",
            "align_content": null,
            "align_items": null,
            "align_self": null,
            "border": null,
            "bottom": null,
            "display": null,
            "flex": null,
            "flex_flow": null,
            "grid_area": null,
            "grid_auto_columns": null,
            "grid_auto_flow": null,
            "grid_auto_rows": null,
            "grid_column": null,
            "grid_gap": null,
            "grid_row": null,
            "grid_template_areas": null,
            "grid_template_columns": null,
            "grid_template_rows": null,
            "height": null,
            "justify_content": null,
            "justify_items": null,
            "left": null,
            "margin": null,
            "max_height": null,
            "max_width": null,
            "min_height": null,
            "min_width": null,
            "object_fit": null,
            "object_position": null,
            "order": null,
            "overflow": null,
            "overflow_x": null,
            "overflow_y": null,
            "padding": null,
            "right": null,
            "top": null,
            "visibility": null,
            "width": null
          }
        },
        "764910ea8f4445ceb9d606e982e91efa": {
          "model_module": "@jupyter-widgets/base",
          "model_name": "LayoutModel",
          "model_module_version": "1.2.0",
          "state": {
            "_model_module": "@jupyter-widgets/base",
            "_model_module_version": "1.2.0",
            "_model_name": "LayoutModel",
            "_view_count": null,
            "_view_module": "@jupyter-widgets/base",
            "_view_module_version": "1.2.0",
            "_view_name": "LayoutView",
            "align_content": null,
            "align_items": null,
            "align_self": null,
            "border": null,
            "bottom": null,
            "display": null,
            "flex": null,
            "flex_flow": null,
            "grid_area": null,
            "grid_auto_columns": null,
            "grid_auto_flow": null,
            "grid_auto_rows": null,
            "grid_column": null,
            "grid_gap": null,
            "grid_row": null,
            "grid_template_areas": null,
            "grid_template_columns": null,
            "grid_template_rows": null,
            "height": null,
            "justify_content": null,
            "justify_items": null,
            "left": null,
            "margin": null,
            "max_height": null,
            "max_width": null,
            "min_height": null,
            "min_width": null,
            "object_fit": null,
            "object_position": null,
            "order": null,
            "overflow": null,
            "overflow_x": null,
            "overflow_y": null,
            "padding": null,
            "right": null,
            "top": null,
            "visibility": null,
            "width": null
          }
        },
        "f06a145c81974d1baa129462bc6db7d9": {
          "model_module": "@jupyter-widgets/controls",
          "model_name": "DescriptionStyleModel",
          "model_module_version": "1.5.0",
          "state": {
            "_model_module": "@jupyter-widgets/controls",
            "_model_module_version": "1.5.0",
            "_model_name": "DescriptionStyleModel",
            "_view_count": null,
            "_view_module": "@jupyter-widgets/base",
            "_view_module_version": "1.2.0",
            "_view_name": "StyleView",
            "description_width": ""
          }
        },
        "fbc292a55e0b4fed9979177b1749ecf9": {
          "model_module": "@jupyter-widgets/base",
          "model_name": "LayoutModel",
          "model_module_version": "1.2.0",
          "state": {
            "_model_module": "@jupyter-widgets/base",
            "_model_module_version": "1.2.0",
            "_model_name": "LayoutModel",
            "_view_count": null,
            "_view_module": "@jupyter-widgets/base",
            "_view_module_version": "1.2.0",
            "_view_name": "LayoutView",
            "align_content": null,
            "align_items": null,
            "align_self": null,
            "border": null,
            "bottom": null,
            "display": null,
            "flex": null,
            "flex_flow": null,
            "grid_area": null,
            "grid_auto_columns": null,
            "grid_auto_flow": null,
            "grid_auto_rows": null,
            "grid_column": null,
            "grid_gap": null,
            "grid_row": null,
            "grid_template_areas": null,
            "grid_template_columns": null,
            "grid_template_rows": null,
            "height": null,
            "justify_content": null,
            "justify_items": null,
            "left": null,
            "margin": null,
            "max_height": null,
            "max_width": null,
            "min_height": null,
            "min_width": null,
            "object_fit": null,
            "object_position": null,
            "order": null,
            "overflow": null,
            "overflow_x": null,
            "overflow_y": null,
            "padding": null,
            "right": null,
            "top": null,
            "visibility": null,
            "width": null
          }
        },
        "72acfb9d7b574e15ade082848558e80a": {
          "model_module": "@jupyter-widgets/controls",
          "model_name": "ProgressStyleModel",
          "model_module_version": "1.5.0",
          "state": {
            "_model_module": "@jupyter-widgets/controls",
            "_model_module_version": "1.5.0",
            "_model_name": "ProgressStyleModel",
            "_view_count": null,
            "_view_module": "@jupyter-widgets/base",
            "_view_module_version": "1.2.0",
            "_view_name": "StyleView",
            "bar_color": null,
            "description_width": ""
          }
        },
        "6ed6a8c86e6648b1808cfb7fe35e21a1": {
          "model_module": "@jupyter-widgets/base",
          "model_name": "LayoutModel",
          "model_module_version": "1.2.0",
          "state": {
            "_model_module": "@jupyter-widgets/base",
            "_model_module_version": "1.2.0",
            "_model_name": "LayoutModel",
            "_view_count": null,
            "_view_module": "@jupyter-widgets/base",
            "_view_module_version": "1.2.0",
            "_view_name": "LayoutView",
            "align_content": null,
            "align_items": null,
            "align_self": null,
            "border": null,
            "bottom": null,
            "display": null,
            "flex": null,
            "flex_flow": null,
            "grid_area": null,
            "grid_auto_columns": null,
            "grid_auto_flow": null,
            "grid_auto_rows": null,
            "grid_column": null,
            "grid_gap": null,
            "grid_row": null,
            "grid_template_areas": null,
            "grid_template_columns": null,
            "grid_template_rows": null,
            "height": null,
            "justify_content": null,
            "justify_items": null,
            "left": null,
            "margin": null,
            "max_height": null,
            "max_width": null,
            "min_height": null,
            "min_width": null,
            "object_fit": null,
            "object_position": null,
            "order": null,
            "overflow": null,
            "overflow_x": null,
            "overflow_y": null,
            "padding": null,
            "right": null,
            "top": null,
            "visibility": null,
            "width": null
          }
        },
        "e17df227b64c4c67a10d7d28bc0296aa": {
          "model_module": "@jupyter-widgets/controls",
          "model_name": "DescriptionStyleModel",
          "model_module_version": "1.5.0",
          "state": {
            "_model_module": "@jupyter-widgets/controls",
            "_model_module_version": "1.5.0",
            "_model_name": "DescriptionStyleModel",
            "_view_count": null,
            "_view_module": "@jupyter-widgets/base",
            "_view_module_version": "1.2.0",
            "_view_name": "StyleView",
            "description_width": ""
          }
        },
        "3b7d42a61fe049dc9f7e77fb06bd69ee": {
          "model_module": "@jupyter-widgets/controls",
          "model_name": "HBoxModel",
          "model_module_version": "1.5.0",
          "state": {
            "_dom_classes": [],
            "_model_module": "@jupyter-widgets/controls",
            "_model_module_version": "1.5.0",
            "_model_name": "HBoxModel",
            "_view_count": null,
            "_view_module": "@jupyter-widgets/controls",
            "_view_module_version": "1.5.0",
            "_view_name": "HBoxView",
            "box_style": "",
            "children": [
              "IPY_MODEL_787f0b51769746eebf39c231f60b8b7e",
              "IPY_MODEL_c8677c6c368945baa5b035732b1d5329",
              "IPY_MODEL_231918b6810749c2b4784fe9bbb0ce50"
            ],
            "layout": "IPY_MODEL_8d6232e6230a4234afc3176b72bb60b3"
          }
        },
        "787f0b51769746eebf39c231f60b8b7e": {
          "model_module": "@jupyter-widgets/controls",
          "model_name": "HTMLModel",
          "model_module_version": "1.5.0",
          "state": {
            "_dom_classes": [],
            "_model_module": "@jupyter-widgets/controls",
            "_model_module_version": "1.5.0",
            "_model_name": "HTMLModel",
            "_view_count": null,
            "_view_module": "@jupyter-widgets/controls",
            "_view_module_version": "1.5.0",
            "_view_name": "HTMLView",
            "description": "",
            "description_tooltip": null,
            "layout": "IPY_MODEL_26080955437041b0881fbdf945bbd0ed",
            "placeholder": "​",
            "style": "IPY_MODEL_0cb25c87613f435ca50750ecb97e8b29",
            "value": "100%"
          }
        },
        "c8677c6c368945baa5b035732b1d5329": {
          "model_module": "@jupyter-widgets/controls",
          "model_name": "FloatProgressModel",
          "model_module_version": "1.5.0",
          "state": {
            "_dom_classes": [],
            "_model_module": "@jupyter-widgets/controls",
            "_model_module_version": "1.5.0",
            "_model_name": "FloatProgressModel",
            "_view_count": null,
            "_view_module": "@jupyter-widgets/controls",
            "_view_module_version": "1.5.0",
            "_view_name": "ProgressView",
            "bar_style": "success",
            "description": "",
            "description_tooltip": null,
            "layout": "IPY_MODEL_62ded823d93748a9bc573bd98e8bbcba",
            "max": 10000,
            "min": 0,
            "orientation": "horizontal",
            "style": "IPY_MODEL_9b97bfcda3c442b49f59293e76dc39a7",
            "value": 10000
          }
        },
        "231918b6810749c2b4784fe9bbb0ce50": {
          "model_module": "@jupyter-widgets/controls",
          "model_name": "HTMLModel",
          "model_module_version": "1.5.0",
          "state": {
            "_dom_classes": [],
            "_model_module": "@jupyter-widgets/controls",
            "_model_module_version": "1.5.0",
            "_model_name": "HTMLModel",
            "_view_count": null,
            "_view_module": "@jupyter-widgets/controls",
            "_view_module_version": "1.5.0",
            "_view_name": "HTMLView",
            "description": "",
            "description_tooltip": null,
            "layout": "IPY_MODEL_e2b1f70bc6264bf68467f35c4a64ee80",
            "placeholder": "​",
            "style": "IPY_MODEL_6db638ba5ddc4c478187c6371c9628d9",
            "value": " 10000/10000 [00:04&lt;00:00, 2915.81it/s]"
          }
        },
        "8d6232e6230a4234afc3176b72bb60b3": {
          "model_module": "@jupyter-widgets/base",
          "model_name": "LayoutModel",
          "model_module_version": "1.2.0",
          "state": {
            "_model_module": "@jupyter-widgets/base",
            "_model_module_version": "1.2.0",
            "_model_name": "LayoutModel",
            "_view_count": null,
            "_view_module": "@jupyter-widgets/base",
            "_view_module_version": "1.2.0",
            "_view_name": "LayoutView",
            "align_content": null,
            "align_items": null,
            "align_self": null,
            "border": null,
            "bottom": null,
            "display": null,
            "flex": null,
            "flex_flow": null,
            "grid_area": null,
            "grid_auto_columns": null,
            "grid_auto_flow": null,
            "grid_auto_rows": null,
            "grid_column": null,
            "grid_gap": null,
            "grid_row": null,
            "grid_template_areas": null,
            "grid_template_columns": null,
            "grid_template_rows": null,
            "height": null,
            "justify_content": null,
            "justify_items": null,
            "left": null,
            "margin": null,
            "max_height": null,
            "max_width": null,
            "min_height": null,
            "min_width": null,
            "object_fit": null,
            "object_position": null,
            "order": null,
            "overflow": null,
            "overflow_x": null,
            "overflow_y": null,
            "padding": null,
            "right": null,
            "top": null,
            "visibility": null,
            "width": null
          }
        },
        "26080955437041b0881fbdf945bbd0ed": {
          "model_module": "@jupyter-widgets/base",
          "model_name": "LayoutModel",
          "model_module_version": "1.2.0",
          "state": {
            "_model_module": "@jupyter-widgets/base",
            "_model_module_version": "1.2.0",
            "_model_name": "LayoutModel",
            "_view_count": null,
            "_view_module": "@jupyter-widgets/base",
            "_view_module_version": "1.2.0",
            "_view_name": "LayoutView",
            "align_content": null,
            "align_items": null,
            "align_self": null,
            "border": null,
            "bottom": null,
            "display": null,
            "flex": null,
            "flex_flow": null,
            "grid_area": null,
            "grid_auto_columns": null,
            "grid_auto_flow": null,
            "grid_auto_rows": null,
            "grid_column": null,
            "grid_gap": null,
            "grid_row": null,
            "grid_template_areas": null,
            "grid_template_columns": null,
            "grid_template_rows": null,
            "height": null,
            "justify_content": null,
            "justify_items": null,
            "left": null,
            "margin": null,
            "max_height": null,
            "max_width": null,
            "min_height": null,
            "min_width": null,
            "object_fit": null,
            "object_position": null,
            "order": null,
            "overflow": null,
            "overflow_x": null,
            "overflow_y": null,
            "padding": null,
            "right": null,
            "top": null,
            "visibility": null,
            "width": null
          }
        },
        "0cb25c87613f435ca50750ecb97e8b29": {
          "model_module": "@jupyter-widgets/controls",
          "model_name": "DescriptionStyleModel",
          "model_module_version": "1.5.0",
          "state": {
            "_model_module": "@jupyter-widgets/controls",
            "_model_module_version": "1.5.0",
            "_model_name": "DescriptionStyleModel",
            "_view_count": null,
            "_view_module": "@jupyter-widgets/base",
            "_view_module_version": "1.2.0",
            "_view_name": "StyleView",
            "description_width": ""
          }
        },
        "62ded823d93748a9bc573bd98e8bbcba": {
          "model_module": "@jupyter-widgets/base",
          "model_name": "LayoutModel",
          "model_module_version": "1.2.0",
          "state": {
            "_model_module": "@jupyter-widgets/base",
            "_model_module_version": "1.2.0",
            "_model_name": "LayoutModel",
            "_view_count": null,
            "_view_module": "@jupyter-widgets/base",
            "_view_module_version": "1.2.0",
            "_view_name": "LayoutView",
            "align_content": null,
            "align_items": null,
            "align_self": null,
            "border": null,
            "bottom": null,
            "display": null,
            "flex": null,
            "flex_flow": null,
            "grid_area": null,
            "grid_auto_columns": null,
            "grid_auto_flow": null,
            "grid_auto_rows": null,
            "grid_column": null,
            "grid_gap": null,
            "grid_row": null,
            "grid_template_areas": null,
            "grid_template_columns": null,
            "grid_template_rows": null,
            "height": null,
            "justify_content": null,
            "justify_items": null,
            "left": null,
            "margin": null,
            "max_height": null,
            "max_width": null,
            "min_height": null,
            "min_width": null,
            "object_fit": null,
            "object_position": null,
            "order": null,
            "overflow": null,
            "overflow_x": null,
            "overflow_y": null,
            "padding": null,
            "right": null,
            "top": null,
            "visibility": null,
            "width": null
          }
        },
        "9b97bfcda3c442b49f59293e76dc39a7": {
          "model_module": "@jupyter-widgets/controls",
          "model_name": "ProgressStyleModel",
          "model_module_version": "1.5.0",
          "state": {
            "_model_module": "@jupyter-widgets/controls",
            "_model_module_version": "1.5.0",
            "_model_name": "ProgressStyleModel",
            "_view_count": null,
            "_view_module": "@jupyter-widgets/base",
            "_view_module_version": "1.2.0",
            "_view_name": "StyleView",
            "bar_color": null,
            "description_width": ""
          }
        },
        "e2b1f70bc6264bf68467f35c4a64ee80": {
          "model_module": "@jupyter-widgets/base",
          "model_name": "LayoutModel",
          "model_module_version": "1.2.0",
          "state": {
            "_model_module": "@jupyter-widgets/base",
            "_model_module_version": "1.2.0",
            "_model_name": "LayoutModel",
            "_view_count": null,
            "_view_module": "@jupyter-widgets/base",
            "_view_module_version": "1.2.0",
            "_view_name": "LayoutView",
            "align_content": null,
            "align_items": null,
            "align_self": null,
            "border": null,
            "bottom": null,
            "display": null,
            "flex": null,
            "flex_flow": null,
            "grid_area": null,
            "grid_auto_columns": null,
            "grid_auto_flow": null,
            "grid_auto_rows": null,
            "grid_column": null,
            "grid_gap": null,
            "grid_row": null,
            "grid_template_areas": null,
            "grid_template_columns": null,
            "grid_template_rows": null,
            "height": null,
            "justify_content": null,
            "justify_items": null,
            "left": null,
            "margin": null,
            "max_height": null,
            "max_width": null,
            "min_height": null,
            "min_width": null,
            "object_fit": null,
            "object_position": null,
            "order": null,
            "overflow": null,
            "overflow_x": null,
            "overflow_y": null,
            "padding": null,
            "right": null,
            "top": null,
            "visibility": null,
            "width": null
          }
        },
        "6db638ba5ddc4c478187c6371c9628d9": {
          "model_module": "@jupyter-widgets/controls",
          "model_name": "DescriptionStyleModel",
          "model_module_version": "1.5.0",
          "state": {
            "_model_module": "@jupyter-widgets/controls",
            "_model_module_version": "1.5.0",
            "_model_name": "DescriptionStyleModel",
            "_view_count": null,
            "_view_module": "@jupyter-widgets/base",
            "_view_module_version": "1.2.0",
            "_view_name": "StyleView",
            "description_width": ""
          }
        }
      }
    }
  },
  "cells": [
    {
      "cell_type": "markdown",
      "metadata": {
        "id": "view-in-github",
        "colab_type": "text"
      },
      "source": [
        "<a href=\"https://colab.research.google.com/github/googspell/Notes/blob/main/a_b_testing.ipynb\" target=\"_parent\"><img src=\"https://colab.research.google.com/assets/colab-badge.svg\" alt=\"Open In Colab\"/></a>"
      ]
    },
    {
      "cell_type": "code",
      "execution_count": 21,
      "metadata": {
        "id": "rCo1pqs8LtXr"
      },
      "outputs": [],
      "source": [
        "import pandas as pd\n",
        "import numpy as np\n",
        "import seaborn as sns\n",
        "import matplotlib.pyplot as plt\n",
        "from scipy.stats import ttest_ind\n",
        "from scipy.stats import norm\n",
        "from tqdm.auto import tqdm\n",
        "from statsmodels.stats.power import tt_ind_solve_power\n",
        "import datetime as dt\n",
        "import matplotlib.pyplot as plt\n",
        "import seaborn as sns\n",
        "import random\n",
        "from random import shuffle\n",
        "import scipy.stats as stats\n",
        "import pylab\n",
        "import scipy.stats as stats\n",
        "import statsmodels.stats.api as sms\n",
        "from tqdm.notebook import tqdm\n",
        "from scipy.stats import ttest_ind\n",
        "from statsmodels.stats.proportion import proportions_ztest\n",
        "from sklearn.model_selection import train_test_split\n",
        "import math"
      ]
    },
    {
      "cell_type": "code",
      "source": [
        "!pip install --upgrade nbformat nbconvert"
      ],
      "metadata": {
        "id": "fBxFP4HKq1hm",
        "colab": {
          "base_uri": "https://localhost:8080/"
        },
        "outputId": "a8e4b6fb-3170-4586-e01e-2e299613a629"
      },
      "execution_count": 22,
      "outputs": [
        {
          "output_type": "stream",
          "name": "stdout",
          "text": [
            "Requirement already satisfied: nbformat in /usr/local/lib/python3.11/dist-packages (5.10.4)\n",
            "Requirement already satisfied: nbconvert in /usr/local/lib/python3.11/dist-packages (7.16.6)\n",
            "Requirement already satisfied: fastjsonschema>=2.15 in /usr/local/lib/python3.11/dist-packages (from nbformat) (2.21.1)\n",
            "Requirement already satisfied: jsonschema>=2.6 in /usr/local/lib/python3.11/dist-packages (from nbformat) (4.23.0)\n",
            "Requirement already satisfied: jupyter-core!=5.0.*,>=4.12 in /usr/local/lib/python3.11/dist-packages (from nbformat) (5.7.2)\n",
            "Requirement already satisfied: traitlets>=5.1 in /usr/local/lib/python3.11/dist-packages (from nbformat) (5.7.1)\n",
            "Requirement already satisfied: beautifulsoup4 in /usr/local/lib/python3.11/dist-packages (from nbconvert) (4.13.4)\n",
            "Requirement already satisfied: bleach!=5.0.0 in /usr/local/lib/python3.11/dist-packages (from bleach[css]!=5.0.0->nbconvert) (6.2.0)\n",
            "Requirement already satisfied: defusedxml in /usr/local/lib/python3.11/dist-packages (from nbconvert) (0.7.1)\n",
            "Requirement already satisfied: jinja2>=3.0 in /usr/local/lib/python3.11/dist-packages (from nbconvert) (3.1.6)\n",
            "Requirement already satisfied: jupyterlab-pygments in /usr/local/lib/python3.11/dist-packages (from nbconvert) (0.3.0)\n",
            "Requirement already satisfied: markupsafe>=2.0 in /usr/local/lib/python3.11/dist-packages (from nbconvert) (3.0.2)\n",
            "Requirement already satisfied: mistune<4,>=2.0.3 in /usr/local/lib/python3.11/dist-packages (from nbconvert) (3.1.3)\n",
            "Requirement already satisfied: nbclient>=0.5.0 in /usr/local/lib/python3.11/dist-packages (from nbconvert) (0.10.2)\n",
            "Requirement already satisfied: packaging in /usr/local/lib/python3.11/dist-packages (from nbconvert) (24.2)\n",
            "Requirement already satisfied: pandocfilters>=1.4.1 in /usr/local/lib/python3.11/dist-packages (from nbconvert) (1.5.1)\n",
            "Requirement already satisfied: pygments>=2.4.1 in /usr/local/lib/python3.11/dist-packages (from nbconvert) (2.19.1)\n",
            "Requirement already satisfied: webencodings in /usr/local/lib/python3.11/dist-packages (from bleach!=5.0.0->bleach[css]!=5.0.0->nbconvert) (0.5.1)\n",
            "Requirement already satisfied: tinycss2<1.5,>=1.1.0 in /usr/local/lib/python3.11/dist-packages (from bleach[css]!=5.0.0->nbconvert) (1.4.0)\n",
            "Requirement already satisfied: attrs>=22.2.0 in /usr/local/lib/python3.11/dist-packages (from jsonschema>=2.6->nbformat) (25.3.0)\n",
            "Requirement already satisfied: jsonschema-specifications>=2023.03.6 in /usr/local/lib/python3.11/dist-packages (from jsonschema>=2.6->nbformat) (2025.4.1)\n",
            "Requirement already satisfied: referencing>=0.28.4 in /usr/local/lib/python3.11/dist-packages (from jsonschema>=2.6->nbformat) (0.36.2)\n",
            "Requirement already satisfied: rpds-py>=0.7.1 in /usr/local/lib/python3.11/dist-packages (from jsonschema>=2.6->nbformat) (0.24.0)\n",
            "Requirement already satisfied: platformdirs>=2.5 in /usr/local/lib/python3.11/dist-packages (from jupyter-core!=5.0.*,>=4.12->nbformat) (4.3.8)\n",
            "Requirement already satisfied: jupyter-client>=6.1.12 in /usr/local/lib/python3.11/dist-packages (from nbclient>=0.5.0->nbconvert) (6.1.12)\n",
            "Requirement already satisfied: soupsieve>1.2 in /usr/local/lib/python3.11/dist-packages (from beautifulsoup4->nbconvert) (2.7)\n",
            "Requirement already satisfied: typing-extensions>=4.0.0 in /usr/local/lib/python3.11/dist-packages (from beautifulsoup4->nbconvert) (4.13.2)\n",
            "Requirement already satisfied: pyzmq>=13 in /usr/local/lib/python3.11/dist-packages (from jupyter-client>=6.1.12->nbclient>=0.5.0->nbconvert) (24.0.1)\n",
            "Requirement already satisfied: python-dateutil>=2.1 in /usr/local/lib/python3.11/dist-packages (from jupyter-client>=6.1.12->nbclient>=0.5.0->nbconvert) (2.9.0.post0)\n",
            "Requirement already satisfied: tornado>=4.1 in /usr/local/lib/python3.11/dist-packages (from jupyter-client>=6.1.12->nbclient>=0.5.0->nbconvert) (6.4.2)\n",
            "Requirement already satisfied: six>=1.5 in /usr/local/lib/python3.11/dist-packages (from python-dateutil>=2.1->jupyter-client>=6.1.12->nbclient>=0.5.0->nbconvert) (1.17.0)\n"
          ]
        }
      ]
    },
    {
      "cell_type": "markdown",
      "source": [
        "#Кратко про A/B"
      ],
      "metadata": {
        "id": "b3S0gJJDJjqb"
      }
    },
    {
      "cell_type": "markdown",
      "source": [
        "Планирование эксперимента:\n",
        "\n",
        "    выбираем и фиксируем метрики;\n",
        "\n",
        "    формулируем гипотезу H0, альтернативную и выбираем MDE;\n",
        "\n",
        "    выбираем способ подведения итогов;\n",
        "\n",
        "    определяем alpha и beta, размер выборки и MDE;\n",
        "\n",
        "    оптимизируем размер выборки.\n",
        "\n",
        "Подготовка групп:\n",
        "\n",
        "    разбиваем клиентов на группы;\n",
        "\n",
        "    проводим стратификацию, если она возможна;\n",
        "\n",
        "    замораживаем клиентов, участвующих в кампании (контрольная и тестовая группы).\n",
        "\n",
        "Запуск эксперимента:\n",
        "\n",
        "    проверяем статус факта воздействия;\n",
        "\n",
        "    проверяем, что объекты из контрольной группы были без воздействия;\n",
        "\n",
        "    контролируем заморозку клиентов;\n",
        "\n",
        "    уточняем, как замораживается глобальная контрольная группа (если планируется ее учет в анализе).\n",
        "\n",
        "Анализ результатов:\n",
        "\n",
        "    подготавливаем данные;\n",
        "\n",
        "    анализируем результаты эксперимента."
      ],
      "metadata": {
        "id": "zELxI_J9DR4K"
      }
    },
    {
      "cell_type": "markdown",
      "source": [
        "#Загрузка данных"
      ],
      "metadata": {
        "id": "yqw0PSvyJury"
      }
    },
    {
      "cell_type": "code",
      "source": [
        "#download_data\n",
        "! gdown --id 1d4dKVSWkM5krXxRAYFfpsjfrKXsvxC09\n",
        "df = pd.read_csv('data_sample.csv')\n",
        "df"
      ],
      "metadata": {
        "colab": {
          "base_uri": "https://localhost:8080/",
          "height": 569
        },
        "id": "Ubrzb644L3rM",
        "outputId": "8a65f605-2ac5-4fda-a33c-24df8c539739"
      },
      "execution_count": 23,
      "outputs": [
        {
          "output_type": "stream",
          "name": "stdout",
          "text": [
            "/usr/local/lib/python3.11/dist-packages/gdown/__main__.py:140: FutureWarning: Option `--id` was deprecated in version 4.3.1 and will be removed in 5.0. You don't need to pass it anymore to use a file ID.\n",
            "  warnings.warn(\n",
            "Downloading...\n",
            "From (original): https://drive.google.com/uc?id=1d4dKVSWkM5krXxRAYFfpsjfrKXsvxC09\n",
            "From (redirected): https://drive.google.com/uc?id=1d4dKVSWkM5krXxRAYFfpsjfrKXsvxC09&confirm=t&uuid=e194f1eb-9ce9-4256-8dba-aa6e4cbfa985\n",
            "To: /content/data_sample.csv\n",
            "100% 222M/222M [00:04<00:00, 54.8MB/s]\n"
          ]
        },
        {
          "output_type": "execute_result",
          "data": {
            "text/plain": [
              "                   client_id    metric_0   metric_1              cluster\n",
              "0       -2917156731031764456  177.886667  179.22000 -6531971287207578528\n",
              "1        -306818816989293400  180.000000  175.00000  7211711116472990198\n",
              "2       -1872005487286263859  180.000000  175.00000 -6531971287207578528\n",
              "3       -5945540625927146720  181.000000  174.17600  3679653954144948413\n",
              "4        4772133492388554009  159.960000  160.00000  3679653954144948413\n",
              "...                      ...         ...        ...                  ...\n",
              "3693379 -6030660957351469840  190.000000  199.91000 -7957617277778039593\n",
              "3693380 -2479951720758887163  175.873333  179.71000  7211711116472990198\n",
              "3693381 -9020186507018426629  165.540000  170.27750 -7957617277778039593\n",
              "3693382 -5655608610769659125  172.670000  173.19200 -7957617277778039593\n",
              "3693383 -2811140655796299293  179.176667  180.03125 -7957617277778039593\n",
              "\n",
              "[3693384 rows x 4 columns]"
            ],
            "text/html": [
              "\n",
              "  <div id=\"df-a06d4230-a577-4852-8c29-1e6df19ea156\" class=\"colab-df-container\">\n",
              "    <div>\n",
              "<style scoped>\n",
              "    .dataframe tbody tr th:only-of-type {\n",
              "        vertical-align: middle;\n",
              "    }\n",
              "\n",
              "    .dataframe tbody tr th {\n",
              "        vertical-align: top;\n",
              "    }\n",
              "\n",
              "    .dataframe thead th {\n",
              "        text-align: right;\n",
              "    }\n",
              "</style>\n",
              "<table border=\"1\" class=\"dataframe\">\n",
              "  <thead>\n",
              "    <tr style=\"text-align: right;\">\n",
              "      <th></th>\n",
              "      <th>client_id</th>\n",
              "      <th>metric_0</th>\n",
              "      <th>metric_1</th>\n",
              "      <th>cluster</th>\n",
              "    </tr>\n",
              "  </thead>\n",
              "  <tbody>\n",
              "    <tr>\n",
              "      <th>0</th>\n",
              "      <td>-2917156731031764456</td>\n",
              "      <td>177.886667</td>\n",
              "      <td>179.22000</td>\n",
              "      <td>-6531971287207578528</td>\n",
              "    </tr>\n",
              "    <tr>\n",
              "      <th>1</th>\n",
              "      <td>-306818816989293400</td>\n",
              "      <td>180.000000</td>\n",
              "      <td>175.00000</td>\n",
              "      <td>7211711116472990198</td>\n",
              "    </tr>\n",
              "    <tr>\n",
              "      <th>2</th>\n",
              "      <td>-1872005487286263859</td>\n",
              "      <td>180.000000</td>\n",
              "      <td>175.00000</td>\n",
              "      <td>-6531971287207578528</td>\n",
              "    </tr>\n",
              "    <tr>\n",
              "      <th>3</th>\n",
              "      <td>-5945540625927146720</td>\n",
              "      <td>181.000000</td>\n",
              "      <td>174.17600</td>\n",
              "      <td>3679653954144948413</td>\n",
              "    </tr>\n",
              "    <tr>\n",
              "      <th>4</th>\n",
              "      <td>4772133492388554009</td>\n",
              "      <td>159.960000</td>\n",
              "      <td>160.00000</td>\n",
              "      <td>3679653954144948413</td>\n",
              "    </tr>\n",
              "    <tr>\n",
              "      <th>...</th>\n",
              "      <td>...</td>\n",
              "      <td>...</td>\n",
              "      <td>...</td>\n",
              "      <td>...</td>\n",
              "    </tr>\n",
              "    <tr>\n",
              "      <th>3693379</th>\n",
              "      <td>-6030660957351469840</td>\n",
              "      <td>190.000000</td>\n",
              "      <td>199.91000</td>\n",
              "      <td>-7957617277778039593</td>\n",
              "    </tr>\n",
              "    <tr>\n",
              "      <th>3693380</th>\n",
              "      <td>-2479951720758887163</td>\n",
              "      <td>175.873333</td>\n",
              "      <td>179.71000</td>\n",
              "      <td>7211711116472990198</td>\n",
              "    </tr>\n",
              "    <tr>\n",
              "      <th>3693381</th>\n",
              "      <td>-9020186507018426629</td>\n",
              "      <td>165.540000</td>\n",
              "      <td>170.27750</td>\n",
              "      <td>-7957617277778039593</td>\n",
              "    </tr>\n",
              "    <tr>\n",
              "      <th>3693382</th>\n",
              "      <td>-5655608610769659125</td>\n",
              "      <td>172.670000</td>\n",
              "      <td>173.19200</td>\n",
              "      <td>-7957617277778039593</td>\n",
              "    </tr>\n",
              "    <tr>\n",
              "      <th>3693383</th>\n",
              "      <td>-2811140655796299293</td>\n",
              "      <td>179.176667</td>\n",
              "      <td>180.03125</td>\n",
              "      <td>-7957617277778039593</td>\n",
              "    </tr>\n",
              "  </tbody>\n",
              "</table>\n",
              "<p>3693384 rows × 4 columns</p>\n",
              "</div>\n",
              "    <div class=\"colab-df-buttons\">\n",
              "\n",
              "  <div class=\"colab-df-container\">\n",
              "    <button class=\"colab-df-convert\" onclick=\"convertToInteractive('df-a06d4230-a577-4852-8c29-1e6df19ea156')\"\n",
              "            title=\"Convert this dataframe to an interactive table.\"\n",
              "            style=\"display:none;\">\n",
              "\n",
              "  <svg xmlns=\"http://www.w3.org/2000/svg\" height=\"24px\" viewBox=\"0 -960 960 960\">\n",
              "    <path d=\"M120-120v-720h720v720H120Zm60-500h600v-160H180v160Zm220 220h160v-160H400v160Zm0 220h160v-160H400v160ZM180-400h160v-160H180v160Zm440 0h160v-160H620v160ZM180-180h160v-160H180v160Zm440 0h160v-160H620v160Z\"/>\n",
              "  </svg>\n",
              "    </button>\n",
              "\n",
              "  <style>\n",
              "    .colab-df-container {\n",
              "      display:flex;\n",
              "      gap: 12px;\n",
              "    }\n",
              "\n",
              "    .colab-df-convert {\n",
              "      background-color: #E8F0FE;\n",
              "      border: none;\n",
              "      border-radius: 50%;\n",
              "      cursor: pointer;\n",
              "      display: none;\n",
              "      fill: #1967D2;\n",
              "      height: 32px;\n",
              "      padding: 0 0 0 0;\n",
              "      width: 32px;\n",
              "    }\n",
              "\n",
              "    .colab-df-convert:hover {\n",
              "      background-color: #E2EBFA;\n",
              "      box-shadow: 0px 1px 2px rgba(60, 64, 67, 0.3), 0px 1px 3px 1px rgba(60, 64, 67, 0.15);\n",
              "      fill: #174EA6;\n",
              "    }\n",
              "\n",
              "    .colab-df-buttons div {\n",
              "      margin-bottom: 4px;\n",
              "    }\n",
              "\n",
              "    [theme=dark] .colab-df-convert {\n",
              "      background-color: #3B4455;\n",
              "      fill: #D2E3FC;\n",
              "    }\n",
              "\n",
              "    [theme=dark] .colab-df-convert:hover {\n",
              "      background-color: #434B5C;\n",
              "      box-shadow: 0px 1px 3px 1px rgba(0, 0, 0, 0.15);\n",
              "      filter: drop-shadow(0px 1px 2px rgba(0, 0, 0, 0.3));\n",
              "      fill: #FFFFFF;\n",
              "    }\n",
              "  </style>\n",
              "\n",
              "    <script>\n",
              "      const buttonEl =\n",
              "        document.querySelector('#df-a06d4230-a577-4852-8c29-1e6df19ea156 button.colab-df-convert');\n",
              "      buttonEl.style.display =\n",
              "        google.colab.kernel.accessAllowed ? 'block' : 'none';\n",
              "\n",
              "      async function convertToInteractive(key) {\n",
              "        const element = document.querySelector('#df-a06d4230-a577-4852-8c29-1e6df19ea156');\n",
              "        const dataTable =\n",
              "          await google.colab.kernel.invokeFunction('convertToInteractive',\n",
              "                                                    [key], {});\n",
              "        if (!dataTable) return;\n",
              "\n",
              "        const docLinkHtml = 'Like what you see? Visit the ' +\n",
              "          '<a target=\"_blank\" href=https://colab.research.google.com/notebooks/data_table.ipynb>data table notebook</a>'\n",
              "          + ' to learn more about interactive tables.';\n",
              "        element.innerHTML = '';\n",
              "        dataTable['output_type'] = 'display_data';\n",
              "        await google.colab.output.renderOutput(dataTable, element);\n",
              "        const docLink = document.createElement('div');\n",
              "        docLink.innerHTML = docLinkHtml;\n",
              "        element.appendChild(docLink);\n",
              "      }\n",
              "    </script>\n",
              "  </div>\n",
              "\n",
              "\n",
              "    <div id=\"df-7c27bc0e-5456-4661-b016-fa320bfa8589\">\n",
              "      <button class=\"colab-df-quickchart\" onclick=\"quickchart('df-7c27bc0e-5456-4661-b016-fa320bfa8589')\"\n",
              "                title=\"Suggest charts\"\n",
              "                style=\"display:none;\">\n",
              "\n",
              "<svg xmlns=\"http://www.w3.org/2000/svg\" height=\"24px\"viewBox=\"0 0 24 24\"\n",
              "     width=\"24px\">\n",
              "    <g>\n",
              "        <path d=\"M19 3H5c-1.1 0-2 .9-2 2v14c0 1.1.9 2 2 2h14c1.1 0 2-.9 2-2V5c0-1.1-.9-2-2-2zM9 17H7v-7h2v7zm4 0h-2V7h2v10zm4 0h-2v-4h2v4z\"/>\n",
              "    </g>\n",
              "</svg>\n",
              "      </button>\n",
              "\n",
              "<style>\n",
              "  .colab-df-quickchart {\n",
              "      --bg-color: #E8F0FE;\n",
              "      --fill-color: #1967D2;\n",
              "      --hover-bg-color: #E2EBFA;\n",
              "      --hover-fill-color: #174EA6;\n",
              "      --disabled-fill-color: #AAA;\n",
              "      --disabled-bg-color: #DDD;\n",
              "  }\n",
              "\n",
              "  [theme=dark] .colab-df-quickchart {\n",
              "      --bg-color: #3B4455;\n",
              "      --fill-color: #D2E3FC;\n",
              "      --hover-bg-color: #434B5C;\n",
              "      --hover-fill-color: #FFFFFF;\n",
              "      --disabled-bg-color: #3B4455;\n",
              "      --disabled-fill-color: #666;\n",
              "  }\n",
              "\n",
              "  .colab-df-quickchart {\n",
              "    background-color: var(--bg-color);\n",
              "    border: none;\n",
              "    border-radius: 50%;\n",
              "    cursor: pointer;\n",
              "    display: none;\n",
              "    fill: var(--fill-color);\n",
              "    height: 32px;\n",
              "    padding: 0;\n",
              "    width: 32px;\n",
              "  }\n",
              "\n",
              "  .colab-df-quickchart:hover {\n",
              "    background-color: var(--hover-bg-color);\n",
              "    box-shadow: 0 1px 2px rgba(60, 64, 67, 0.3), 0 1px 3px 1px rgba(60, 64, 67, 0.15);\n",
              "    fill: var(--button-hover-fill-color);\n",
              "  }\n",
              "\n",
              "  .colab-df-quickchart-complete:disabled,\n",
              "  .colab-df-quickchart-complete:disabled:hover {\n",
              "    background-color: var(--disabled-bg-color);\n",
              "    fill: var(--disabled-fill-color);\n",
              "    box-shadow: none;\n",
              "  }\n",
              "\n",
              "  .colab-df-spinner {\n",
              "    border: 2px solid var(--fill-color);\n",
              "    border-color: transparent;\n",
              "    border-bottom-color: var(--fill-color);\n",
              "    animation:\n",
              "      spin 1s steps(1) infinite;\n",
              "  }\n",
              "\n",
              "  @keyframes spin {\n",
              "    0% {\n",
              "      border-color: transparent;\n",
              "      border-bottom-color: var(--fill-color);\n",
              "      border-left-color: var(--fill-color);\n",
              "    }\n",
              "    20% {\n",
              "      border-color: transparent;\n",
              "      border-left-color: var(--fill-color);\n",
              "      border-top-color: var(--fill-color);\n",
              "    }\n",
              "    30% {\n",
              "      border-color: transparent;\n",
              "      border-left-color: var(--fill-color);\n",
              "      border-top-color: var(--fill-color);\n",
              "      border-right-color: var(--fill-color);\n",
              "    }\n",
              "    40% {\n",
              "      border-color: transparent;\n",
              "      border-right-color: var(--fill-color);\n",
              "      border-top-color: var(--fill-color);\n",
              "    }\n",
              "    60% {\n",
              "      border-color: transparent;\n",
              "      border-right-color: var(--fill-color);\n",
              "    }\n",
              "    80% {\n",
              "      border-color: transparent;\n",
              "      border-right-color: var(--fill-color);\n",
              "      border-bottom-color: var(--fill-color);\n",
              "    }\n",
              "    90% {\n",
              "      border-color: transparent;\n",
              "      border-bottom-color: var(--fill-color);\n",
              "    }\n",
              "  }\n",
              "</style>\n",
              "\n",
              "      <script>\n",
              "        async function quickchart(key) {\n",
              "          const quickchartButtonEl =\n",
              "            document.querySelector('#' + key + ' button');\n",
              "          quickchartButtonEl.disabled = true;  // To prevent multiple clicks.\n",
              "          quickchartButtonEl.classList.add('colab-df-spinner');\n",
              "          try {\n",
              "            const charts = await google.colab.kernel.invokeFunction(\n",
              "                'suggestCharts', [key], {});\n",
              "          } catch (error) {\n",
              "            console.error('Error during call to suggestCharts:', error);\n",
              "          }\n",
              "          quickchartButtonEl.classList.remove('colab-df-spinner');\n",
              "          quickchartButtonEl.classList.add('colab-df-quickchart-complete');\n",
              "        }\n",
              "        (() => {\n",
              "          let quickchartButtonEl =\n",
              "            document.querySelector('#df-7c27bc0e-5456-4661-b016-fa320bfa8589 button');\n",
              "          quickchartButtonEl.style.display =\n",
              "            google.colab.kernel.accessAllowed ? 'block' : 'none';\n",
              "        })();\n",
              "      </script>\n",
              "    </div>\n",
              "    </div>\n",
              "  </div>\n"
            ],
            "application/vnd.google.colaboratory.intrinsic+json": {
              "type": "dataframe",
              "variable_name": "df"
            }
          },
          "metadata": {},
          "execution_count": 23
        }
      ]
    },
    {
      "cell_type": "markdown",
      "source": [
        "# Распределение средних\n",
        "Для проведения теста необходимо выяснить распределение среднего. Распределение среднего покажет каким методом оценки теста лучше воспользоваться. Для этого построим гистограмму и QQ"
      ],
      "metadata": {
        "id": "PFN7BDAQgZWa"
      }
    },
    {
      "cell_type": "code",
      "source": [
        "pd.Series([df['metric_0'].sample(30000,replace=True).mean() for _ in range(10000)]).hist()"
      ],
      "metadata": {
        "colab": {
          "base_uri": "https://localhost:8080/",
          "height": 448
        },
        "id": "OpHoL3ZJgcA_",
        "outputId": "400ee71b-7907-4db7-b099-254efc7b7d64"
      },
      "execution_count": 24,
      "outputs": [
        {
          "output_type": "execute_result",
          "data": {
            "text/plain": [
              "<Axes: >"
            ]
          },
          "metadata": {},
          "execution_count": 24
        },
        {
          "output_type": "display_data",
          "data": {
            "text/plain": [
              "<Figure size 640x480 with 1 Axes>"
            ],
            "image/png": "[encoded data removed]"
          },
          "metadata": {}
        }
      ]
    },
    {
      "cell_type": "markdown",
      "source": [
        "Видим, что средние распредлены нормально т.е \"колокообразно\""
      ],
      "metadata": {
        "id": "wR_IurOfhdws"
      }
    },
    {
      "cell_type": "code",
      "source": [
        "d = pd.Series([df['metric_0'].sample(30000,replace=True).mean() for _ in range(1000)])\n",
        "stats.probplot(d, dist=\"norm\", plot=pylab)\n",
        "pylab.show()"
      ],
      "metadata": {
        "colab": {
          "base_uri": "https://localhost:8080/",
          "height": 472
        },
        "id": "MJqeggLKhtOD",
        "outputId": "1f955fbc-ae94-481a-9c45-4cf0d499ab3d"
      },
      "execution_count": 25,
      "outputs": [
        {
          "output_type": "display_data",
          "data": {
            "text/plain": [
              "<Figure size 640x480 with 1 Axes>"
            ],
            "image/png": "[encoded data removed]"
          },
          "metadata": {}
        }
      ]
    },
    {
      "cell_type": "markdown",
      "source": [
        "Видим что большая часть средних на линии"
      ],
      "metadata": {
        "id": "E6U4ZsGwiEw6"
      }
    },
    {
      "cell_type": "markdown",
      "source": [
        "Соотвественно средние распределены нормально и выполняються условия для проведения t  -testa"
      ],
      "metadata": {
        "id": "6BIxuJ0QCCV3"
      }
    },
    {
      "cell_type": "markdown",
      "source": [
        "# A/A тестирование"
      ],
      "metadata": {
        "id": "SkI6uypzs8c4"
      }
    },
    {
      "cell_type": "markdown",
      "source": [
        "Перед проведением a/b теста необходимо провести a/a тест и убедится в том, что различий между группа a/b нет различий. \"Мы планируем дать скидку части пользователям и посмотреть среднее и нам нужно убедиться в том,что нет различий в средних которым планируем дать скидку и которым не планируем\".\n",
        "Проведение a/a теста покажет верно ли выбран тест или наличие разницы средними в контрольной группе. А именно распределение p value должно быть равномерным.\n",
        "Если нулевая гипотиза верна то распределение p value должно быть равномерным. H0 - разницы между группами нет,выборки из одного распредления."
      ],
      "metadata": {
        "id": "l9CbXhJNC0ki"
      }
    },
    {
      "cell_type": "code",
      "source": [
        "p_values = []\n",
        "variations_rs = []\n",
        "\n",
        "n = 10000\n",
        "for _ in tqdm(range(n)):\n",
        "   sampled = np.random.choice(df['metric_0'].values, (10_000, 2), replace = True)\n",
        "   A = sampled[:, 0]\n",
        "   B = sampled[:, 1]\n",
        "\n",
        "   variations_rs.append(np.var(A))\n",
        "   _, p_value = ttest_ind(A, B, alternative = 'greater')\n",
        "   p_values.append(p_value)\n"
      ],
      "metadata": {
        "colab": {
          "base_uri": "https://localhost:8080/",
          "height": 49,
          "referenced_widgets": [
            "9c6911647b7f406da09c39ebcdf11333",
            "2255926ae93b4eb5b427251bd1b4e966",
            "240a8dfe7cdf407eb38cbf309e9c4002",
            "0ba6cd7546694abcbffa1591664326d4",
            "883a7b5192d34cf0ba4fb8c61356a4c1",
            "764910ea8f4445ceb9d606e982e91efa",
            "f06a145c81974d1baa129462bc6db7d9",
            "fbc292a55e0b4fed9979177b1749ecf9",
            "72acfb9d7b574e15ade082848558e80a",
            "6ed6a8c86e6648b1808cfb7fe35e21a1",
            "e17df227b64c4c67a10d7d28bc0296aa"
          ]
        },
        "id": "TyMaR0jrxkvj",
        "outputId": "8fa326b9-cd14-4bc4-c235-c54bdd605fdc"
      },
      "execution_count": 26,
      "outputs": [
        {
          "output_type": "display_data",
          "data": {
            "text/plain": [
              "  0%|          | 0/10000 [00:00<?, ?it/s]"
            ],
            "application/vnd.jupyter.widget-view+json": {
              "version_major": 2,
              "version_minor": 0,
              "model_id": "9c6911647b7f406da09c39ebcdf11333"
            }
          },
          "metadata": {}
        }
      ]
    },
    {
      "cell_type": "code",
      "source": [
        "sns.histplot(p_values, bins = 10)"
      ],
      "metadata": {
        "colab": {
          "base_uri": "https://localhost:8080/",
          "height": 448
        },
        "id": "AETFx7LlwHy4",
        "outputId": "ee5e3947-31a9-4287-d06b-ace4f43df98c"
      },
      "execution_count": 27,
      "outputs": [
        {
          "output_type": "execute_result",
          "data": {
            "text/plain": [
              "<Axes: ylabel='Count'>"
            ]
          },
          "metadata": {},
          "execution_count": 27
        },
        {
          "output_type": "display_data",
          "data": {
            "text/plain": [
              "<Figure size 640x480 with 1 Axes>"
            ],
            "image/png": "[encoded data removed]"
          },
          "metadata": {}
        }
      ]
    },
    {
      "cell_type": "markdown",
      "source": [
        "#Подсчет длительности и установка параметров теста\n"
      ],
      "metadata": {
        "id": "hTNpaWxxH895"
      }
    },
    {
      "cell_type": "code",
      "source": [
        "mean_value = df['metric_0'].mean()\n",
        "std_value  = df['metric_0'].std()\n",
        "eff=1.03\n",
        "results = tt_ind_solve_power(\n",
        "                    effect_size=mean_value*(eff-1)/std_value,\n",
        "                   alpha=0.05,\n",
        "                   power=0.8,\n",
        "                   nobs1=None,\n",
        "                   ratio=1)\n",
        "results"
      ],
      "metadata": {
        "colab": {
          "base_uri": "https://localhost:8080/"
        },
        "id": "VwHg6A8FA5mp",
        "outputId": "f748cbd5-328e-4c5c-fd50-cc38433d3a2d"
      },
      "execution_count": 28,
      "outputs": [
        {
          "output_type": "execute_result",
          "data": {
            "text/plain": [
              "161.8829726988396"
            ]
          },
          "metadata": {},
          "execution_count": 28
        }
      ]
    },
    {
      "cell_type": "markdown",
      "source": [
        "Хотим зафиксировать эффект 3%.\n",
        "\n",
        "alpha=0.05 - вероятность отвергнуть нулевую гипотезу,когда она верна.\n",
        "\n",
        "power=0.8 - вероятность отклонить нулевую гипотизу при условии ее не верности.Грубо говорят показывает сколько % детектит наш тест p value < (0.05). В 80% случае когда нулевая гипотиза не верна мы ее отклоним."
      ],
      "metadata": {
        "id": "i9ffhoYyEikv"
      }
    },
    {
      "cell_type": "markdown",
      "source": [
        "Перед проведением эксперимента попробуем снизить дисперсию наших выборок. Зачем снижать дисперсию и что это дает? Дисперсия показывает насколько данные внутренне разбросаны.Соотвественно смещают оценку среднего,снижают MDE(минимальный детектируем эффект который признаеться значимым при заданных параметрах),что приводит к увеличению длительности экспермента(нам нужно набрать больше данных),и снижению чувствительности теста. Существует 2 распостраненных способа снижения дисперсии - стратификация и CUPED."
      ],
      "metadata": {
        "id": "L1R1Qg6_VlKC"
      }
    },
    {
      "cell_type": "markdown",
      "source": [
        "# Стратификация"
      ],
      "metadata": {
        "id": "acttHx4fWWs9"
      }
    },
    {
      "cell_type": "markdown",
      "source": [
        "В основе этого метода лежит разбиение всех наблюдений на независимые страты (группы) и использование выборочного стратифицированного среднего вместо обычного выборочного среднего.\n",
        "\n",
        "-выделяем кластеры\n",
        "\n",
        "-сэмплируем из кластеров"
      ],
      "metadata": {
        "id": "lYlZWcZ3WhMa"
      }
    },
    {
      "cell_type": "code",
      "source": [
        "p_values = []\n",
        "variations_srs = []\n",
        "for i in range(10):\n",
        "    if (i % 50) == 0:\n",
        "        print(i)\n",
        "\n",
        "    clients_A = df.groupby('cluster', group_keys=False).apply(lambda x: x.sample(int(math.ceil(10_000*len(x)/len(df))))).sample(frac=1)\n",
        "    clients_B = df.loc[list(set(df.index) - set(clients_A.index))].groupby('cluster', group_keys=False).apply(lambda x: x.sample(int(math.ceil(10_000*len(x)/len(df))))).sample(frac=1)\n",
        "    A = clients_A['metric_0'].values\n",
        "    B = clients_B['metric_0'].values\n",
        "    variations_srs.append(np.var(A))\n",
        "    _, p_value = ttest_ind(A, B, alternative = 'greater')\n",
        "    p_values.append(p_value)"
      ],
      "metadata": {
        "colab": {
          "base_uri": "https://localhost:8080/"
        },
        "id": "KmTDDE66WNkU",
        "outputId": "43aa72f0-1310-4b07-9f78-75570a881550"
      },
      "execution_count": 30,
      "outputs": [
        {
          "output_type": "stream",
          "name": "stdout",
          "text": [
            "0\n"
          ]
        },
        {
          "output_type": "stream",
          "name": "stderr",
          "text": [
            "<ipython-input-30-a4e8d354b5fd>:7: DeprecationWarning: DataFrameGroupBy.apply operated on the grouping columns. This behavior is deprecated, and in a future version of pandas the grouping columns will be excluded from the operation. Either pass `include_groups=False` to exclude the groupings or explicitly select the grouping columns after groupby to silence this warning.\n",
            "  clients_A = df.groupby('cluster', group_keys=False).apply(lambda x: x.sample(int(math.ceil(10_000*len(x)/len(df))))).sample(frac=1)\n",
            "<ipython-input-30-a4e8d354b5fd>:8: DeprecationWarning: DataFrameGroupBy.apply operated on the grouping columns. This behavior is deprecated, and in a future version of pandas the grouping columns will be excluded from the operation. Either pass `include_groups=False` to exclude the groupings or explicitly select the grouping columns after groupby to silence this warning.\n",
            "  clients_B = df.loc[list(set(df.index) - set(clients_A.index))].groupby('cluster', group_keys=False).apply(lambda x: x.sample(int(math.ceil(10_000*len(x)/len(df))))).sample(frac=1)\n",
            "<ipython-input-30-a4e8d354b5fd>:7: DeprecationWarning: DataFrameGroupBy.apply operated on the grouping columns. This behavior is deprecated, and in a future version of pandas the grouping columns will be excluded from the operation. Either pass `include_groups=False` to exclude the groupings or explicitly select the grouping columns after groupby to silence this warning.\n",
            "  clients_A = df.groupby('cluster', group_keys=False).apply(lambda x: x.sample(int(math.ceil(10_000*len(x)/len(df))))).sample(frac=1)\n",
            "<ipython-input-30-a4e8d354b5fd>:8: DeprecationWarning: DataFrameGroupBy.apply operated on the grouping columns. This behavior is deprecated, and in a future version of pandas the grouping columns will be excluded from the operation. Either pass `include_groups=False` to exclude the groupings or explicitly select the grouping columns after groupby to silence this warning.\n",
            "  clients_B = df.loc[list(set(df.index) - set(clients_A.index))].groupby('cluster', group_keys=False).apply(lambda x: x.sample(int(math.ceil(10_000*len(x)/len(df))))).sample(frac=1)\n",
            "<ipython-input-30-a4e8d354b5fd>:7: DeprecationWarning: DataFrameGroupBy.apply operated on the grouping columns. This behavior is deprecated, and in a future version of pandas the grouping columns will be excluded from the operation. Either pass `include_groups=False` to exclude the groupings or explicitly select the grouping columns after groupby to silence this warning.\n",
            "  clients_A = df.groupby('cluster', group_keys=False).apply(lambda x: x.sample(int(math.ceil(10_000*len(x)/len(df))))).sample(frac=1)\n",
            "<ipython-input-30-a4e8d354b5fd>:8: DeprecationWarning: DataFrameGroupBy.apply operated on the grouping columns. This behavior is deprecated, and in a future version of pandas the grouping columns will be excluded from the operation. Either pass `include_groups=False` to exclude the groupings or explicitly select the grouping columns after groupby to silence this warning.\n",
            "  clients_B = df.loc[list(set(df.index) - set(clients_A.index))].groupby('cluster', group_keys=False).apply(lambda x: x.sample(int(math.ceil(10_000*len(x)/len(df))))).sample(frac=1)\n",
            "<ipython-input-30-a4e8d354b5fd>:7: DeprecationWarning: DataFrameGroupBy.apply operated on the grouping columns. This behavior is deprecated, and in a future version of pandas the grouping columns will be excluded from the operation. Either pass `include_groups=False` to exclude the groupings or explicitly select the grouping columns after groupby to silence this warning.\n",
            "  clients_A = df.groupby('cluster', group_keys=False).apply(lambda x: x.sample(int(math.ceil(10_000*len(x)/len(df))))).sample(frac=1)\n",
            "<ipython-input-30-a4e8d354b5fd>:8: DeprecationWarning: DataFrameGroupBy.apply operated on the grouping columns. This behavior is deprecated, and in a future version of pandas the grouping columns will be excluded from the operation. Either pass `include_groups=False` to exclude the groupings or explicitly select the grouping columns after groupby to silence this warning.\n",
            "  clients_B = df.loc[list(set(df.index) - set(clients_A.index))].groupby('cluster', group_keys=False).apply(lambda x: x.sample(int(math.ceil(10_000*len(x)/len(df))))).sample(frac=1)\n",
            "<ipython-input-30-a4e8d354b5fd>:7: DeprecationWarning: DataFrameGroupBy.apply operated on the grouping columns. This behavior is deprecated, and in a future version of pandas the grouping columns will be excluded from the operation. Either pass `include_groups=False` to exclude the groupings or explicitly select the grouping columns after groupby to silence this warning.\n",
            "  clients_A = df.groupby('cluster', group_keys=False).apply(lambda x: x.sample(int(math.ceil(10_000*len(x)/len(df))))).sample(frac=1)\n",
            "<ipython-input-30-a4e8d354b5fd>:8: DeprecationWarning: DataFrameGroupBy.apply operated on the grouping columns. This behavior is deprecated, and in a future version of pandas the grouping columns will be excluded from the operation. Either pass `include_groups=False` to exclude the groupings or explicitly select the grouping columns after groupby to silence this warning.\n",
            "  clients_B = df.loc[list(set(df.index) - set(clients_A.index))].groupby('cluster', group_keys=False).apply(lambda x: x.sample(int(math.ceil(10_000*len(x)/len(df))))).sample(frac=1)\n",
            "<ipython-input-30-a4e8d354b5fd>:7: DeprecationWarning: DataFrameGroupBy.apply operated on the grouping columns. This behavior is deprecated, and in a future version of pandas the grouping columns will be excluded from the operation. Either pass `include_groups=False` to exclude the groupings or explicitly select the grouping columns after groupby to silence this warning.\n",
            "  clients_A = df.groupby('cluster', group_keys=False).apply(lambda x: x.sample(int(math.ceil(10_000*len(x)/len(df))))).sample(frac=1)\n",
            "<ipython-input-30-a4e8d354b5fd>:8: DeprecationWarning: DataFrameGroupBy.apply operated on the grouping columns. This behavior is deprecated, and in a future version of pandas the grouping columns will be excluded from the operation. Either pass `include_groups=False` to exclude the groupings or explicitly select the grouping columns after groupby to silence this warning.\n",
            "  clients_B = df.loc[list(set(df.index) - set(clients_A.index))].groupby('cluster', group_keys=False).apply(lambda x: x.sample(int(math.ceil(10_000*len(x)/len(df))))).sample(frac=1)\n",
            "<ipython-input-30-a4e8d354b5fd>:7: DeprecationWarning: DataFrameGroupBy.apply operated on the grouping columns. This behavior is deprecated, and in a future version of pandas the grouping columns will be excluded from the operation. Either pass `include_groups=False` to exclude the groupings or explicitly select the grouping columns after groupby to silence this warning.\n",
            "  clients_A = df.groupby('cluster', group_keys=False).apply(lambda x: x.sample(int(math.ceil(10_000*len(x)/len(df))))).sample(frac=1)\n",
            "<ipython-input-30-a4e8d354b5fd>:8: DeprecationWarning: DataFrameGroupBy.apply operated on the grouping columns. This behavior is deprecated, and in a future version of pandas the grouping columns will be excluded from the operation. Either pass `include_groups=False` to exclude the groupings or explicitly select the grouping columns after groupby to silence this warning.\n",
            "  clients_B = df.loc[list(set(df.index) - set(clients_A.index))].groupby('cluster', group_keys=False).apply(lambda x: x.sample(int(math.ceil(10_000*len(x)/len(df))))).sample(frac=1)\n",
            "<ipython-input-30-a4e8d354b5fd>:7: DeprecationWarning: DataFrameGroupBy.apply operated on the grouping columns. This behavior is deprecated, and in a future version of pandas the grouping columns will be excluded from the operation. Either pass `include_groups=False` to exclude the groupings or explicitly select the grouping columns after groupby to silence this warning.\n",
            "  clients_A = df.groupby('cluster', group_keys=False).apply(lambda x: x.sample(int(math.ceil(10_000*len(x)/len(df))))).sample(frac=1)\n",
            "<ipython-input-30-a4e8d354b5fd>:8: DeprecationWarning: DataFrameGroupBy.apply operated on the grouping columns. This behavior is deprecated, and in a future version of pandas the grouping columns will be excluded from the operation. Either pass `include_groups=False` to exclude the groupings or explicitly select the grouping columns after groupby to silence this warning.\n",
            "  clients_B = df.loc[list(set(df.index) - set(clients_A.index))].groupby('cluster', group_keys=False).apply(lambda x: x.sample(int(math.ceil(10_000*len(x)/len(df))))).sample(frac=1)\n",
            "<ipython-input-30-a4e8d354b5fd>:7: DeprecationWarning: DataFrameGroupBy.apply operated on the grouping columns. This behavior is deprecated, and in a future version of pandas the grouping columns will be excluded from the operation. Either pass `include_groups=False` to exclude the groupings or explicitly select the grouping columns after groupby to silence this warning.\n",
            "  clients_A = df.groupby('cluster', group_keys=False).apply(lambda x: x.sample(int(math.ceil(10_000*len(x)/len(df))))).sample(frac=1)\n",
            "<ipython-input-30-a4e8d354b5fd>:8: DeprecationWarning: DataFrameGroupBy.apply operated on the grouping columns. This behavior is deprecated, and in a future version of pandas the grouping columns will be excluded from the operation. Either pass `include_groups=False` to exclude the groupings or explicitly select the grouping columns after groupby to silence this warning.\n",
            "  clients_B = df.loc[list(set(df.index) - set(clients_A.index))].groupby('cluster', group_keys=False).apply(lambda x: x.sample(int(math.ceil(10_000*len(x)/len(df))))).sample(frac=1)\n",
            "<ipython-input-30-a4e8d354b5fd>:7: DeprecationWarning: DataFrameGroupBy.apply operated on the grouping columns. This behavior is deprecated, and in a future version of pandas the grouping columns will be excluded from the operation. Either pass `include_groups=False` to exclude the groupings or explicitly select the grouping columns after groupby to silence this warning.\n",
            "  clients_A = df.groupby('cluster', group_keys=False).apply(lambda x: x.sample(int(math.ceil(10_000*len(x)/len(df))))).sample(frac=1)\n",
            "<ipython-input-30-a4e8d354b5fd>:8: DeprecationWarning: DataFrameGroupBy.apply operated on the grouping columns. This behavior is deprecated, and in a future version of pandas the grouping columns will be excluded from the operation. Either pass `include_groups=False` to exclude the groupings or explicitly select the grouping columns after groupby to silence this warning.\n",
            "  clients_B = df.loc[list(set(df.index) - set(clients_A.index))].groupby('cluster', group_keys=False).apply(lambda x: x.sample(int(math.ceil(10_000*len(x)/len(df))))).sample(frac=1)\n"
          ]
        }
      ]
    },
    {
      "cell_type": "code",
      "source": [
        "sns.histplot(p_values)"
      ],
      "metadata": {
        "id": "izjI_Iu2ZpYv",
        "colab": {
          "base_uri": "https://localhost:8080/",
          "height": 448
        },
        "outputId": "9d63b681-c1f5-486e-847b-aa076b326aab"
      },
      "execution_count": 31,
      "outputs": [
        {
          "output_type": "execute_result",
          "data": {
            "text/plain": [
              "<Axes: ylabel='Count'>"
            ]
          },
          "metadata": {},
          "execution_count": 31
        },
        {
          "output_type": "display_data",
          "data": {
            "text/plain": [
              "<Figure size 640x480 with 1 Axes>"
            ],
            "image/png": "[encoded data removed]"
          },
          "metadata": {}
        }
      ]
    },
    {
      "cell_type": "markdown",
      "source": [
        "p-value условно равномерное тест работает(нужно больше повторений)"
      ],
      "metadata": {
        "id": "FXTZDwIyfKDa"
      }
    },
    {
      "cell_type": "code",
      "source": [
        "#дисперсия\n",
        "print(np.mean(variations_rs))\n",
        "print(np.mean(variations_srs))"
      ],
      "metadata": {
        "id": "upKHPMn8hhxK",
        "colab": {
          "base_uri": "https://localhost:8080/"
        },
        "outputId": "ea6c57b4-09a7-4457-df50-87e8b00ffa26"
      },
      "execution_count": 32,
      "outputs": [
        {
          "output_type": "stream",
          "name": "stdout",
          "text": [
            "295.67703592714497\n",
            "290.93510283534044\n"
          ]
        }
      ]
    },
    {
      "cell_type": "code",
      "source": [
        "sns.histplot(variations_srs)"
      ],
      "metadata": {
        "id": "E33TC6wMfnJ4",
        "colab": {
          "base_uri": "https://localhost:8080/",
          "height": 448
        },
        "outputId": "7a3c9d9f-a3f9-42a5-80f1-d466d3ade221"
      },
      "execution_count": 33,
      "outputs": [
        {
          "output_type": "execute_result",
          "data": {
            "text/plain": [
              "<Axes: ylabel='Count'>"
            ]
          },
          "metadata": {},
          "execution_count": 33
        },
        {
          "output_type": "display_data",
          "data": {
            "text/plain": [
              "<Figure size 640x480 with 1 Axes>"
            ],
            "image/png": "[encoded data removed]"
          },
          "metadata": {}
        }
      ]
    },
    {
      "cell_type": "code",
      "source": [
        "sns.histplot(variations_rs)"
      ],
      "metadata": {
        "id": "8QrWLDZHgaE5",
        "colab": {
          "base_uri": "https://localhost:8080/",
          "height": 448
        },
        "outputId": "dd7dcfc9-8706-4c31-b5d5-45ba1e58a9d6"
      },
      "execution_count": 34,
      "outputs": [
        {
          "output_type": "execute_result",
          "data": {
            "text/plain": [
              "<Axes: ylabel='Count'>"
            ]
          },
          "metadata": {},
          "execution_count": 34
        },
        {
          "output_type": "display_data",
          "data": {
            "text/plain": [
              "<Figure size 640x480 with 1 Axes>"
            ],
            "image/png": "[encoded data removed]"
          },
          "metadata": {}
        }
      ]
    },
    {
      "cell_type": "markdown",
      "source": [
        "Дисперсия снизилась незначительно"
      ],
      "metadata": {
        "id": "B3UO_cLhTYk2"
      }
    },
    {
      "cell_type": "markdown",
      "source": [
        "# CUPED"
      ],
      "metadata": {
        "id": "xsMfe2Es6dOM"
      }
    },
    {
      "cell_type": "markdown",
      "source": [
        "## Расчет thetta"
      ],
      "metadata": {
        "id": "X5t_SvYfPkA3"
      }
    },
    {
      "cell_type": "markdown",
      "source": [
        "cuped - часть дисперсии обьясняется нововведение а оставшася часть факторами не зависящими от нововедения\n",
        "Хcuped = х(старая метрика) - коэфициент тета * ковариату Y\n",
        "Тета = ковариация(х,y) / дисперсию y\n",
        "\n",
        "Ковариата = метрика за прошлый период,предсказанная метрика."
      ],
      "metadata": {
        "id": "7a-4WdvyUyYp"
      }
    },
    {
      "cell_type": "code",
      "source": [
        "np.random.seed(1)\n",
        "sampled = np.random.choice(df.index.values, (162, 2), replace = True)"
      ],
      "metadata": {
        "id": "7aWRrAAXPD5f"
      },
      "execution_count": 69,
      "outputs": []
    },
    {
      "cell_type": "code",
      "source": [
        "metric_current = df['metric_1'].values\n",
        "metric_past = df['metric_0'].values\n",
        "covariance_matrix = np.cov(metric_current, metric_past)\n",
        "covariance = covariance_matrix[0][1]\n",
        "metric_past_var = covariance_matrix[1][1]\n",
        "thetta1 = covariance / metric_past_var\n",
        "print(thetta1)\n",
        "\n",
        "### cov = np.cov(old_data, new_data, ddof=1)[0, 1]     theta = cov / np.var(old_data, ddof=1)"
      ],
      "metadata": {
        "id": "ixfWvGDbzZBY",
        "colab": {
          "base_uri": "https://localhost:8080/"
        },
        "outputId": "8cd50385-01df-4910-8b75-0f557fc4d038"
      },
      "execution_count": 70,
      "outputs": [
        {
          "output_type": "stream",
          "name": "stdout",
          "text": [
            "0.7568875708035889\n"
          ]
        }
      ]
    },
    {
      "cell_type": "code",
      "source": [
        "metric_current_A = df[df.index.isin(sampled[:, 0])]['metric_1'].values\n",
        "metric_past_A = df[df.index.isin(sampled[:, 0])]['metric_0'].values\n",
        "\n",
        "metric_current_B = df[df.index.isin(sampled[:, 1])]['metric_1'].values\n",
        "metric_past_B = df[df.index.isin(sampled[:, 1])]['metric_0'].values\n",
        "\n",
        "thetta2 = np.cov(metric_current_A - metric_current_B, metric_past_A - metric_past_B)[0][1]/ np.var(metric_past_A - metric_past_B)\n",
        "print(thetta2)"
      ],
      "metadata": {
        "id": "F59EozD9r8L0",
        "colab": {
          "base_uri": "https://localhost:8080/"
        },
        "outputId": "f993ac66-f315-49b1-de3f-e811a92bd274"
      },
      "execution_count": 71,
      "outputs": [
        {
          "output_type": "stream",
          "name": "stdout",
          "text": [
            "0.7556102665144565\n"
          ]
        }
      ]
    },
    {
      "cell_type": "code",
      "source": [
        "old_data = df[df.index.isin(sampled[:, 0])]['metric_0'].values\n",
        "new_data = df[df.index.isin(sampled[:, 0])]['metric_1'].values\n",
        "cov = np.cov(old_data, new_data, ddof=1)[0, 1]\n",
        "theta3 = cov / np.var(old_data, ddof=1)\n",
        "print(theta3)"
      ],
      "metadata": {
        "id": "bOjV3ST3HmxC",
        "colab": {
          "base_uri": "https://localhost:8080/"
        },
        "outputId": "5f6a74e5-6d4d-49fc-cdd2-ccbf0670edbf"
      },
      "execution_count": 72,
      "outputs": [
        {
          "output_type": "stream",
          "name": "stdout",
          "text": [
            "0.6846862495923627\n"
          ]
        }
      ]
    },
    {
      "cell_type": "code",
      "source": [
        "cov_X_Y = np.cov(df['metric_0'],df['metric_1'].values,ddof=1)[0, 1]\n",
        "var_X = np.var(df['metric_0'], ddof=1)\n",
        "corr_X_Y = np.corrcoef(df['metric_0'], df['metric_1'].values)[0,1]\n",
        "theta4 = cov_X_Y / var_X\n",
        "print(theta4)"
      ],
      "metadata": {
        "id": "UW76Eyt8LbnA",
        "colab": {
          "base_uri": "https://localhost:8080/"
        },
        "outputId": "49d83ced-362d-4066-b7f6-01872a4439a9"
      },
      "execution_count": 73,
      "outputs": [
        {
          "output_type": "stream",
          "name": "stdout",
          "text": [
            "0.7568875708057791\n"
          ]
        }
      ]
    },
    {
      "cell_type": "markdown",
      "source": [
        "Есть несколько разновидностей расчеты thetha"
      ],
      "metadata": {
        "id": "xzSe_8jB_vGc"
      }
    },
    {
      "cell_type": "markdown",
      "source": [
        "В данном случае мы в качестве ковариаты мы выбрали ту же самую метрику но за пред.период. Считаем тету как ковариацию между текущим и прошлым значеним/дисперсию прошлую"
      ],
      "metadata": {
        "id": "EDKG_G4qU3ro"
      }
    },
    {
      "cell_type": "markdown",
      "source": [
        "## Расчет CUPED метрики и проведение стат.теста\n"
      ],
      "metadata": {
        "id": "btLCKlqG20z9"
      }
    },
    {
      "cell_type": "code",
      "source": [
        "#часть пользователей которым условно не дали скидку\n",
        "metric_current_A = df[df.index.isin(sampled[:, 0])]['metric_1'].values\n",
        "metric_past_A = df[df.index.isin(sampled[:, 0])]['metric_0'].values\n",
        "metric_cuped_A = metric_current_A - thetta2 * metric_past_A\n",
        "#metric_cuped_A = metric_current_A - thetta2 * (metric_past_A - np.mean(metric_past_A))\n",
        "# Y = new_data - theta * (old_data.values - np.mean(old_data.values))\n",
        "#metric_cuped_B = metric_current_B - thetta2 * metric_past_B + thetta2 * np.mean(metric_past_B)"
      ],
      "metadata": {
        "id": "qu6Gy2982-oK"
      },
      "execution_count": 74,
      "outputs": []
    },
    {
      "cell_type": "code",
      "source": [
        "metric_current_A"
      ],
      "metadata": {
        "id": "fHy_QtzDprD_",
        "colab": {
          "base_uri": "https://localhost:8080/"
        },
        "outputId": "48e054cd-2051-435a-c16f-be6263370fbd"
      },
      "execution_count": 75,
      "outputs": [
        {
          "output_type": "execute_result",
          "data": {
            "text/plain": [
              "array([156.       , 172.09     , 176.8842857, 198.7171428, 179.6625   ,\n",
              "       178.       , 169.69     , 180.       , 176.9933333, 193.61     ,\n",
              "       177.21     , 161.35     , 210.       , 190.95     , 193.22     ,\n",
              "       161.1357142, 161.67     , 161.4258333, 170.       , 175.0483333,\n",
              "       161.3325   , 171.2671428, 202.35     , 198.7066666, 202.315    ,\n",
              "       179.63     , 197.48     , 196.6666666, 167.884    , 162.91     ,\n",
              "       176.6666666, 170.       , 165.84     , 174.1133333, 175.3475   ,\n",
              "       181.3066666, 188.22     , 188.1575   , 182.790909 , 176.4      ,\n",
              "       162.82     , 191.3266666, 198.195    , 184.78     , 163.3333333,\n",
              "       184.7616666, 164.1814285, 175.       , 164.585    , 170.       ,\n",
              "       194.2      , 169.52     , 191.43     , 181.29625  , 185.8366666,\n",
              "       177.3066666, 180.       , 162.5      , 163.564    , 190.6025   ,\n",
              "       164.1      , 180.18     , 159.798    , 166.7366666, 177.6775   ,\n",
              "       190.68     , 167.690909 , 183.3366666, 182.53     , 175.76     ,\n",
              "       181.6733333, 194.0066666, 169.99     , 200.02     , 168.2829411,\n",
              "       175.3721052, 181.019    , 182.05     , 170.468    , 191.4275   ,\n",
              "       160.33     , 161.076    , 160.83     , 170.2375   , 180.       ,\n",
              "       189.405    , 168.19     , 183.988421 , 175.6      , 212.67     ,\n",
              "       170.584    , 178.726    , 171.2      , 188.2566666, 171.0454545,\n",
              "       179.1742105, 161.6588888, 180.212    , 170.       , 170.       ,\n",
              "       177.07     , 182.2      , 172.39     , 166.4389473, 172.3366666,\n",
              "       178.92     , 196.01     , 200.71     , 190.       , 187.1292307,\n",
              "       175.236    , 174.3754545, 192.2457142, 161.24625  , 181.69     ,\n",
              "       183.79125  , 180.       , 191.6666666, 172.89     , 175.       ,\n",
              "       177.672    , 208.994    , 192.1      , 181.535    , 172.73     ,\n",
              "       194.11     , 179.2966666, 171.74     , 182.5216666, 181.515    ,\n",
              "       180.945    , 193.928    , 177.5166666, 169.7333333, 178.865    ,\n",
              "       170.03     , 173.3333333, 176.725    , 176.3688888, 186.446    ,\n",
              "       192.44     , 166.0882352, 169.1583333, 175.41     , 172.81     ,\n",
              "       174.86     , 170.       , 184.61     , 165.1906666, 174.6225   ,\n",
              "       195.       , 183.3333333, 173.2366666, 185.65     , 161.341875 ,\n",
              "       195.42     , 155.4663636, 169.       , 182.6133333, 176.902    ,\n",
              "       170.16     , 179.3475   ])"
            ]
          },
          "metadata": {},
          "execution_count": 75
        }
      ]
    },
    {
      "cell_type": "code",
      "source": [
        "#часть пользователей которым дали\n",
        "metric_current_B = df[df.index.isin(sampled[:, 1])]['metric_1'].values\n",
        "metric_past_B = df[df.index.isin(sampled[:, 1])]['metric_0'].values\n",
        "metric_cuped_B = metric_current_B - thetta2 * metric_past_B\n",
        "#metric_cuped_B = metric_current_B - thetta2 * (metric_past_B - np.mean(metric_past_B))"
      ],
      "metadata": {
        "id": "S3OD3wBh3GD9"
      },
      "execution_count": 76,
      "outputs": []
    },
    {
      "cell_type": "code",
      "source": [
        "metric_current_B"
      ],
      "metadata": {
        "id": "z_Ku8OTnpu0Q",
        "colab": {
          "base_uri": "https://localhost:8080/"
        },
        "outputId": "3e67adb2-d8af-47cf-8e85-1d99123f49e6"
      },
      "execution_count": 77,
      "outputs": [
        {
          "output_type": "execute_result",
          "data": {
            "text/plain": [
              "array([213.76     , 169.1171428, 183.3333333, 173.4290909, 179.93     ,\n",
              "       182.258    , 185.0833333, 192.415    , 167.76     , 170.       ,\n",
              "       200.       , 165.5975   , 169.6563636, 171.235    , 176.71     ,\n",
              "       181.85     , 182.08     , 174.185    , 174.8922222, 169.3216666,\n",
              "       174.735    , 165.21     , 161.38     , 164.9975   , 187.5      ,\n",
              "       161.37     , 164.4      , 175.043    , 158.66     , 160.38     ,\n",
              "       171.05     , 183.805    , 183.5      , 158.6914285, 198.58     ,\n",
              "       159.7828571, 163.782    , 169.37     , 187.0675   , 200.       ,\n",
              "       163.3333333, 180.       , 190.       , 168.6414285, 170.6983333,\n",
              "       176.3525   , 185.7675   , 172.54     , 190.188    , 172.362    ,\n",
              "       170.04     , 167.9825   , 168.855    , 171.1452777, 167.1845454,\n",
              "       167.78     , 163.8566666, 185.       , 173.1566666, 178.798    ,\n",
              "       178.4933333, 161.4285714, 159.995    , 179.8657142, 209.65     ,\n",
              "       169.4675   , 206.3866666, 210.025    , 216.84     , 180.       ,\n",
              "       150.6      , 164.72125  , 190.1045454, 172.5666666, 180.372    ,\n",
              "       194.3133333, 174.6066666, 169.185    , 168.9533333, 173.3333333,\n",
              "       192.6325   , 200.       , 169.99     , 174.17     , 172.54     ,\n",
              "       197.4266666, 180.782    , 157.5      , 166.3175   , 158.9266666,\n",
              "       165.8      , 189.8133333, 171.9525   , 172.39     , 172.35     ,\n",
              "       190.       , 180.051    , 172.8385714, 183.2533333, 172.15     ,\n",
              "       176.1116666, 179.3733333, 169.       , 178.678    , 165.212    ,\n",
              "       170.       , 159.258    , 181.6666666, 201.648    , 173.9216666,\n",
              "       166.108    , 186.9075   , 160.       , 188.3183333, 202.21     ,\n",
              "       171.04     , 176.6666666, 171.641    , 170.13     , 181.19     ,\n",
              "       182.7944444, 184.005    , 183.63     , 191.5316666, 209.791    ,\n",
              "       199.028    , 187.975    , 172.115    , 186.44     , 195.       ,\n",
              "       196.96     , 192.7266666, 173.8675   , 173.8475   , 172.65     ,\n",
              "       164.84     , 173.1333333, 163.2266666, 175.22     , 164.27     ,\n",
              "       185.       , 171.32     , 182.376923 , 180.       , 170.       ,\n",
              "       173.35     , 192.862    , 177.56     , 174.4733333, 164.069    ,\n",
              "       191.7975   , 171.4071428, 191.02625  , 170.27125  , 170.2933333,\n",
              "       159.2277777, 171.85     , 185.225    , 173.894    , 165.7233333,\n",
              "       160.085    , 208.9921428])"
            ]
          },
          "metadata": {},
          "execution_count": 77
        }
      ]
    },
    {
      "cell_type": "code",
      "source": [
        "print('A variance before cuped:', metric_current_A.var())\n",
        "print('A variance after cuped:', metric_cuped_A.var())\n",
        "print('A mean before cuped:', metric_current_A.mean())\n",
        "print('A mean after cuped:', metric_cuped_A.mean())"
      ],
      "metadata": {
        "id": "kvwn3StE3GFK",
        "colab": {
          "base_uri": "https://localhost:8080/"
        },
        "outputId": "8d52e1fc-28ee-4e75-ae96-589b39f30857"
      },
      "execution_count": 78,
      "outputs": [
        {
          "output_type": "stream",
          "name": "stdout",
          "text": [
            "A variance before cuped: 134.76101830038016\n",
            "A variance after cuped: 67.43887761442905\n",
            "A mean before cuped: 178.36035088950618\n",
            "A mean after cuped: 43.606566182176884\n"
          ]
        }
      ]
    },
    {
      "cell_type": "code",
      "source": [
        "print('B variance before cuped:', metric_current_B.var())\n",
        "print('B variance after cuped:', metric_cuped_B.var())\n",
        "print('B mean before cuped:', metric_current_B.mean())\n",
        "print('B mean after cuped:', metric_cuped_B.mean())"
      ],
      "metadata": {
        "id": "4ukmogPx3TrE",
        "colab": {
          "base_uri": "https://localhost:8080/"
        },
        "outputId": "0d0c4391-4d3b-4710-8ac4-009c7771628e"
      },
      "execution_count": 79,
      "outputs": [
        {
          "output_type": "stream",
          "name": "stdout",
          "text": [
            "B variance before cuped: 164.71403503923054\n",
            "B variance after cuped: 73.41647800497098\n",
            "B mean before cuped: 177.34770538024688\n",
            "B mean after cuped: 43.14267004946209\n"
          ]
        }
      ]
    },
    {
      "cell_type": "code",
      "source": [
        "_, p_value = ttest_ind(metric_current_A, metric_current_B, alternative = 'greater', equal_var = False)\n",
        "print('mean(A): {}, mean(B): {}'.format(metric_current_A.mean(), metric_current_B.mean()))\n",
        "print('mean(A) - mean(B): {}'.format(metric_current_A.mean() - metric_current_B.mean()))\n",
        "print('P value: {}'.format(p_value))"
      ],
      "metadata": {
        "id": "WRnTijxy3ZqO",
        "colab": {
          "base_uri": "https://localhost:8080/"
        },
        "outputId": "d07d4c06-2efe-4e10-f95c-9db37fe795a8"
      },
      "execution_count": 80,
      "outputs": [
        {
          "output_type": "stream",
          "name": "stdout",
          "text": [
            "mean(A): 178.36035088950618, mean(B): 177.34770538024688\n",
            "mean(A) - mean(B): 1.0126455092593005\n",
            "P value: 0.2291688913172314\n"
          ]
        }
      ]
    },
    {
      "cell_type": "code",
      "source": [
        "_, p_value = ttest_ind(metric_cuped_A, metric_cuped_B, alternative = 'greater', equal_var = False)\n",
        "print('mean(A): {}, mean(B): {}'.format(metric_cuped_A.mean(), metric_cuped_B.mean()))\n",
        "print('mean(A) - mean(B): {}'.format(metric_cuped_A.mean() - metric_cuped_B.mean()))\n",
        "print('P value: {}'.format(p_value))"
      ],
      "metadata": {
        "id": "YMezAZx93eRC",
        "colab": {
          "base_uri": "https://localhost:8080/"
        },
        "outputId": "a0eb3a3e-6cc5-4b5c-9aa1-0d34155cf57f"
      },
      "execution_count": 81,
      "outputs": [
        {
          "output_type": "stream",
          "name": "stdout",
          "text": [
            "mean(A): 43.606566182176884, mean(B): 43.14267004946209\n",
            "mean(A) - mean(B): 0.4638961327147939\n",
            "P value: 0.3101306496194144\n"
          ]
        }
      ]
    },
    {
      "cell_type": "markdown",
      "source": [
        "Почему средние меняются? - Разница в средних появляеться из-за отличий в мат.ожиданиях ковариат для группы a и b"
      ],
      "metadata": {
        "id": "Ty8mLA2nLcTf"
      }
    },
    {
      "cell_type": "code",
      "source": [
        "(np.mean(metric_past_A) - np.mean(metric_past_B))*thetta1"
      ],
      "metadata": {
        "id": "6V8BVJpD3YYW",
        "colab": {
          "base_uri": "https://localhost:8080/"
        },
        "outputId": "94f612e3-a65b-43f3-afdd-b993a2f68e7a"
      },
      "execution_count": 82,
      "outputs": [
        {
          "output_type": "execute_result",
          "data": {
            "text/plain": [
              "np.float64(0.5496769975197133)"
            ]
          },
          "metadata": {},
          "execution_count": 82
        }
      ]
    },
    {
      "cell_type": "code",
      "source": [
        "(metric_current_A.mean() - metric_current_B.mean()) - (metric_cuped_A.mean() - metric_cuped_B.mean())"
      ],
      "metadata": {
        "id": "AWGmUC623m3v",
        "colab": {
          "base_uri": "https://localhost:8080/"
        },
        "outputId": "763fa5aa-e3d8-44b4-b0c1-322db15d2f35"
      },
      "execution_count": 83,
      "outputs": [
        {
          "output_type": "execute_result",
          "data": {
            "text/plain": [
              "np.float64(0.5487493765445066)"
            ]
          },
          "metadata": {},
          "execution_count": 83
        }
      ]
    },
    {
      "cell_type": "code",
      "source": [
        "data = pd.DataFrame({'metric_current_B': metric_current_B, 'metric_cuped_B': metric_cuped_B})\n",
        "data['metric_current_B'] = data['metric_current_B'].astype(float)\n",
        "data['metric_cuped_B'] = data['metric_cuped_B'].astype(float)\n",
        "data.reset_index()\n",
        "CUPED = data['metric_cuped_B']\n",
        "initial = data['metric_current_B']\n",
        "\n",
        "# Generate histogram plot\n",
        "plt.hist(CUPED,\n",
        "         label='CUPED')\n",
        "\n",
        "plt.hist(initial,\n",
        "         label='initial')\n",
        "\n",
        "plt.legend(loc='upper right')\n",
        "plt.title('CUPED')\n",
        "plt.xlabel(\"Revenue\", size=14)\n",
        "plt.ylabel(\"Count\", size=14)\n",
        "plt.show()"
      ],
      "metadata": {
        "id": "syvxNvyUFC7v",
        "colab": {
          "base_uri": "https://localhost:8080/",
          "height": 477
        },
        "outputId": "13a1269e-e139-4712-8795-1f6f136a08ef"
      },
      "execution_count": 84,
      "outputs": [
        {
          "output_type": "display_data",
          "data": {
            "text/plain": [
              "<Figure size 640x480 with 1 Axes>"
            ],
            "image/png": "[encoded data removed]"
          },
          "metadata": {}
        }
      ]
    },
    {
      "cell_type": "code",
      "source": [
        "plt.figure(figsize=(10, 5))\n",
        "\n",
        "plt.hist(data['metric_current_B'],\n",
        "         bins=np.arange(0.0, 200.0, 10.0),\n",
        "         alpha=0.35,\n",
        "         label='Initial')\n",
        "\n",
        "plt.hist(data['metric_cuped_B'],\n",
        "         bins=np.arange(0.0, 200.0, 10.0),\n",
        "         alpha=0.35,\n",
        "         label='CUPED transformed')\n",
        "\n",
        "plt.legend()\n",
        "plt.xlabel('Comission Revenue')\n",
        "plt.ylabel('# users')\n",
        "plt.title('Distribution of initial and transformed metric in the test group.')\n",
        "plt.show()"
      ],
      "metadata": {
        "id": "RkzuZBO_5psH",
        "colab": {
          "base_uri": "https://localhost:8080/",
          "height": 487
        },
        "outputId": "ac7f6101-dfab-4187-d10d-3977138b519a"
      },
      "execution_count": 85,
      "outputs": [
        {
          "output_type": "display_data",
          "data": {
            "text/plain": [
              "<Figure size 1000x500 with 1 Axes>"
            ],
            "image/png": "[encoded data removed]"
          },
          "metadata": {}
        }
      ]
    },
    {
      "cell_type": "markdown",
      "source": [
        "Видим что наши выборки разошлись,что как раз вызвано изминениях в средних. Если изминить расчет CUPED метрик,выборки сойдуться и будет видна разница чистая разница до и после CUPED. \"#metric_cuped_B = metric_current_B - thetta2 * (metric_past_B - np.mean(metric_past_B))\""
      ],
      "metadata": {
        "id": "RvkR8Z_A_D50"
      }
    },
    {
      "cell_type": "markdown",
      "source": [
        "По результат p val >0.05 при чем в случаях как с CUPED так и без. Что позволяет принять H0 . То что мы дали скидку и метрика не выросла. Т.е не зафикисровали с текущими параметрами A/B теста статистически значимый результат."
      ],
      "metadata": {
        "id": "Ed-wuxy2QcEZ"
      }
    },
    {
      "cell_type": "markdown",
      "source": [
        "#Bootstrap"
      ],
      "metadata": {
        "id": "NaxY0XBAFOxj"
      }
    },
    {
      "cell_type": "markdown",
      "source": [
        "Бутстреп (bootstrap) - это метод для оценки стандартных отклонений и нахождения доверительных интервалов статистических функционалов. Допустим у нас маленькая выборка,то мы можем генерировать из имеющеющей выборки много раз выборки и сравнивать статистики. Мы генерируем из нашей выборки выборку сравниваем средние и повторяем процесс.\n",
        "\n",
        "Основываеться на ЦПТ - сумма достаточно большого количества слабо зависимых случайных величин, имеющих примерно одинаковые масштабы (ни одно из слагаемых не доминирует, не вносит в сумму определяющего вклада), имеет распределение, близкое к нормальному. А наша выборка представляет собой часть генеральной совокупности.\n",
        "\n",
        "\n",
        "\n",
        "\n"
      ],
      "metadata": {
        "id": "0pgAZDbxFRAh"
      }
    },
    {
      "cell_type": "code",
      "source": [
        "def get_bootstrap(\n",
        "    data_column_1, # числовые значения первой выборки\n",
        "    data_column_2, # числовые значения второй выборки\n",
        "    boot_it = 10000, # количество бутстрэп-подвыборок\n",
        "    statistic = np.mean, # интересующая нас статистика\n",
        "    bootstrap_conf_level = 0.95 # уровень значимости\n",
        "):\n",
        "    boot_len = max([len(data_column_1), len(data_column_2)])\n",
        "    boot_data = []\n",
        "    for i in tqdm(range(boot_it)): # извлекаем подвыборки\n",
        "        samples_1 = data_column_1.sample(\n",
        "            boot_len,\n",
        "            replace = True # параметр возвращения\n",
        "        ).values\n",
        "\n",
        "        samples_2 = data_column_2.sample(\n",
        "            boot_len,\n",
        "            replace = True\n",
        "        ).values\n",
        "\n",
        "        boot_data.append(statistic(samples_1-samples_2)) # mean() - применяем статистику\n",
        "\n",
        "    pd_boot_data = pd.DataFrame(boot_data)\n",
        "\n",
        "    left_quant = (1 - bootstrap_conf_level)/2\n",
        "    right_quant = 1 - (1 - bootstrap_conf_level) / 2\n",
        "    quants = pd_boot_data.quantile([left_quant, right_quant])\n",
        "\n",
        "    p_1 = norm.cdf(\n",
        "        x = 0,\n",
        "        loc = np.mean(boot_data),\n",
        "        scale = np.std(boot_data)\n",
        "    )\n",
        "    p_2 = norm.cdf(\n",
        "        x = 0,\n",
        "        loc = -np.mean(boot_data),\n",
        "        scale = np.std(boot_data)\n",
        "    )\n",
        "    p_value = min(p_1, p_2) * 2\n",
        "\n",
        "    # Визуализация\n",
        "    _, _, bars = plt.hist(pd_boot_data[0], bins = 50)\n",
        "    for bar in bars:\n",
        "        if abs(bar.get_x()) <= quants.iloc[0][0] or abs(bar.get_x()) >= quants.iloc[1][0]:\n",
        "            bar.set_facecolor('red')\n",
        "        else:\n",
        "            bar.set_facecolor('grey')\n",
        "            bar.set_edgecolor('black')\n",
        "\n",
        "    plt.style.use('ggplot')\n",
        "    plt.vlines(quants,ymin=0,ymax=50,linestyle='--')\n",
        "    plt.xlabel('boot_data')\n",
        "    plt.ylabel('frequency')\n",
        "    plt.title(\"Histogram of boot_data\")\n",
        "    plt.show()\n",
        "\n",
        "    return {\"boot_data\": boot_data,\n",
        "            \"quants\": quants,\n",
        "            \"p_value\": p_value}"
      ],
      "metadata": {
        "id": "f4P5A8j7NaVa"
      },
      "execution_count": 86,
      "outputs": []
    },
    {
      "cell_type": "markdown",
      "source": [
        "Возьмем выборку 100n и представем что данных больше у нас нет."
      ],
      "metadata": {
        "id": "iBaJN7vYOvry"
      }
    },
    {
      "cell_type": "code",
      "source": [
        "#a = pd.DataFrame(df['metric_0'].iloc[::100])\n",
        "#b = pd.DataFrame(df['metric_1'].iloc[::100])\n",
        "\n",
        "a = pd.DataFrame(np.random.choice(df['metric_0'], size=100, replace=False))\n",
        "b = pd.DataFrame(np.random.choice(df['metric_1'], size=100, replace=False))"
      ],
      "metadata": {
        "id": "-l9-LRcJWTPP"
      },
      "execution_count": 87,
      "outputs": []
    },
    {
      "cell_type": "code",
      "source": [
        "booted_data = get_bootstrap(data_column_1=a, data_column_2=b)\n",
        "print('bootstrap mean p-values = ' , booted_data['p_value'])\n",
        "print(np.array(booted_data['boot_data']).mean())\n",
        "booted_data['quants']"
      ],
      "metadata": {
        "id": "WrED7X-uN4-j",
        "colab": {
          "base_uri": "https://localhost:8080/",
          "height": 636,
          "referenced_widgets": [
            "3b7d42a61fe049dc9f7e77fb06bd69ee",
            "787f0b51769746eebf39c231f60b8b7e",
            "c8677c6c368945baa5b035732b1d5329",
            "231918b6810749c2b4784fe9bbb0ce50",
            "8d6232e6230a4234afc3176b72bb60b3",
            "26080955437041b0881fbdf945bbd0ed",
            "0cb25c87613f435ca50750ecb97e8b29",
            "62ded823d93748a9bc573bd98e8bbcba",
            "9b97bfcda3c442b49f59293e76dc39a7",
            "e2b1f70bc6264bf68467f35c4a64ee80",
            "6db638ba5ddc4c478187c6371c9628d9"
          ]
        },
        "outputId": "83f16d59-e68c-4fce-a449-c98e4d1f0198"
      },
      "execution_count": 88,
      "outputs": [
        {
          "output_type": "display_data",
          "data": {
            "text/plain": [
              "  0%|          | 0/10000 [00:00<?, ?it/s]"
            ],
            "application/vnd.jupyter.widget-view+json": {
              "version_major": 2,
              "version_minor": 0,
              "model_id": "3b7d42a61fe049dc9f7e77fb06bd69ee"
            }
          },
          "metadata": {}
        },
        {
          "output_type": "display_data",
          "data": {
            "text/plain": [
              "<Figure size 640x480 with 1 Axes>"
            ],
            "image/png": "[encoded data removed]"
          },
          "metadata": {}
        },
        {
          "output_type": "stream",
          "name": "stdout",
          "text": [
            "bootstrap mean p-values =  0.4152205783456626\n",
            "-3.5420365254236006\n"
          ]
        },
        {
          "output_type": "execute_result",
          "data": {
            "text/plain": [
              "               0\n",
              "0.025 -13.164543\n",
              "0.975   3.586946"
            ],
            "text/html": [
              "\n",
              "  <div id=\"df-c6524e96-4686-4d06-bbe6-aba5ac419311\" class=\"colab-df-container\">\n",
              "    <div>\n",
              "<style scoped>\n",
              "    .dataframe tbody tr th:only-of-type {\n",
              "        vertical-align: middle;\n",
              "    }\n",
              "\n",
              "    .dataframe tbody tr th {\n",
              "        vertical-align: top;\n",
              "    }\n",
              "\n",
              "    .dataframe thead th {\n",
              "        text-align: right;\n",
              "    }\n",
              "</style>\n",
              "<table border=\"1\" class=\"dataframe\">\n",
              "  <thead>\n",
              "    <tr style=\"text-align: right;\">\n",
              "      <th></th>\n",
              "      <th>0</th>\n",
              "    </tr>\n",
              "  </thead>\n",
              "  <tbody>\n",
              "    <tr>\n",
              "      <th>0.025</th>\n",
              "      <td>-13.164543</td>\n",
              "    </tr>\n",
              "    <tr>\n",
              "      <th>0.975</th>\n",
              "      <td>3.586946</td>\n",
              "    </tr>\n",
              "  </tbody>\n",
              "</table>\n",
              "</div>\n",
              "    <div class=\"colab-df-buttons\">\n",
              "\n",
              "  <div class=\"colab-df-container\">\n",
              "    <button class=\"colab-df-convert\" onclick=\"convertToInteractive('df-c6524e96-4686-4d06-bbe6-aba5ac419311')\"\n",
              "            title=\"Convert this dataframe to an interactive table.\"\n",
              "            style=\"display:none;\">\n",
              "\n",
              "  <svg xmlns=\"http://www.w3.org/2000/svg\" height=\"24px\" viewBox=\"0 -960 960 960\">\n",
              "    <path d=\"M120-120v-720h720v720H120Zm60-500h600v-160H180v160Zm220 220h160v-160H400v160Zm0 220h160v-160H400v160ZM180-400h160v-160H180v160Zm440 0h160v-160H620v160ZM180-180h160v-160H180v160Zm440 0h160v-160H620v160Z\"/>\n",
              "  </svg>\n",
              "    </button>\n",
              "\n",
              "  <style>\n",
              "    .colab-df-container {\n",
              "      display:flex;\n",
              "      gap: 12px;\n",
              "    }\n",
              "\n",
              "    .colab-df-convert {\n",
              "      background-color: #E8F0FE;\n",
              "      border: none;\n",
              "      border-radius: 50%;\n",
              "      cursor: pointer;\n",
              "      display: none;\n",
              "      fill: #1967D2;\n",
              "      height: 32px;\n",
              "      padding: 0 0 0 0;\n",
              "      width: 32px;\n",
              "    }\n",
              "\n",
              "    .colab-df-convert:hover {\n",
              "      background-color: #E2EBFA;\n",
              "      box-shadow: 0px 1px 2px rgba(60, 64, 67, 0.3), 0px 1px 3px 1px rgba(60, 64, 67, 0.15);\n",
              "      fill: #174EA6;\n",
              "    }\n",
              "\n",
              "    .colab-df-buttons div {\n",
              "      margin-bottom: 4px;\n",
              "    }\n",
              "\n",
              "    [theme=dark] .colab-df-convert {\n",
              "      background-color: #3B4455;\n",
              "      fill: #D2E3FC;\n",
              "    }\n",
              "\n",
              "    [theme=dark] .colab-df-convert:hover {\n",
              "      background-color: #434B5C;\n",
              "      box-shadow: 0px 1px 3px 1px rgba(0, 0, 0, 0.15);\n",
              "      filter: drop-shadow(0px 1px 2px rgba(0, 0, 0, 0.3));\n",
              "      fill: #FFFFFF;\n",
              "    }\n",
              "  </style>\n",
              "\n",
              "    <script>\n",
              "      const buttonEl =\n",
              "        document.querySelector('#df-c6524e96-4686-4d06-bbe6-aba5ac419311 button.colab-df-convert');\n",
              "      buttonEl.style.display =\n",
              "        google.colab.kernel.accessAllowed ? 'block' : 'none';\n",
              "\n",
              "      async function convertToInteractive(key) {\n",
              "        const element = document.querySelector('#df-c6524e96-4686-4d06-bbe6-aba5ac419311');\n",
              "        const dataTable =\n",
              "          await google.colab.kernel.invokeFunction('convertToInteractive',\n",
              "                                                    [key], {});\n",
              "        if (!dataTable) return;\n",
              "\n",
              "        const docLinkHtml = 'Like what you see? Visit the ' +\n",
              "          '<a target=\"_blank\" href=https://colab.research.google.com/notebooks/data_table.ipynb>data table notebook</a>'\n",
              "          + ' to learn more about interactive tables.';\n",
              "        element.innerHTML = '';\n",
              "        dataTable['output_type'] = 'display_data';\n",
              "        await google.colab.output.renderOutput(dataTable, element);\n",
              "        const docLink = document.createElement('div');\n",
              "        docLink.innerHTML = docLinkHtml;\n",
              "        element.appendChild(docLink);\n",
              "      }\n",
              "    </script>\n",
              "  </div>\n",
              "\n",
              "\n",
              "    <div id=\"df-ebfa59f0-44bb-4709-b9d6-62c81ccdec30\">\n",
              "      <button class=\"colab-df-quickchart\" onclick=\"quickchart('df-ebfa59f0-44bb-4709-b9d6-62c81ccdec30')\"\n",
              "                title=\"Suggest charts\"\n",
              "                style=\"display:none;\">\n",
              "\n",
              "<svg xmlns=\"http://www.w3.org/2000/svg\" height=\"24px\"viewBox=\"0 0 24 24\"\n",
              "     width=\"24px\">\n",
              "    <g>\n",
              "        <path d=\"M19 3H5c-1.1 0-2 .9-2 2v14c0 1.1.9 2 2 2h14c1.1 0 2-.9 2-2V5c0-1.1-.9-2-2-2zM9 17H7v-7h2v7zm4 0h-2V7h2v10zm4 0h-2v-4h2v4z\"/>\n",
              "    </g>\n",
              "</svg>\n",
              "      </button>\n",
              "\n",
              "<style>\n",
              "  .colab-df-quickchart {\n",
              "      --bg-color: #E8F0FE;\n",
              "      --fill-color: #1967D2;\n",
              "      --hover-bg-color: #E2EBFA;\n",
              "      --hover-fill-color: #174EA6;\n",
              "      --disabled-fill-color: #AAA;\n",
              "      --disabled-bg-color: #DDD;\n",
              "  }\n",
              "\n",
              "  [theme=dark] .colab-df-quickchart {\n",
              "      --bg-color: #3B4455;\n",
              "      --fill-color: #D2E3FC;\n",
              "      --hover-bg-color: #434B5C;\n",
              "      --hover-fill-color: #FFFFFF;\n",
              "      --disabled-bg-color: #3B4455;\n",
              "      --disabled-fill-color: #666;\n",
              "  }\n",
              "\n",
              "  .colab-df-quickchart {\n",
              "    background-color: var(--bg-color);\n",
              "    border: none;\n",
              "    border-radius: 50%;\n",
              "    cursor: pointer;\n",
              "    display: none;\n",
              "    fill: var(--fill-color);\n",
              "    height: 32px;\n",
              "    padding: 0;\n",
              "    width: 32px;\n",
              "  }\n",
              "\n",
              "  .colab-df-quickchart:hover {\n",
              "    background-color: var(--hover-bg-color);\n",
              "    box-shadow: 0 1px 2px rgba(60, 64, 67, 0.3), 0 1px 3px 1px rgba(60, 64, 67, 0.15);\n",
              "    fill: var(--button-hover-fill-color);\n",
              "  }\n",
              "\n",
              "  .colab-df-quickchart-complete:disabled,\n",
              "  .colab-df-quickchart-complete:disabled:hover {\n",
              "    background-color: var(--disabled-bg-color);\n",
              "    fill: var(--disabled-fill-color);\n",
              "    box-shadow: none;\n",
              "  }\n",
              "\n",
              "  .colab-df-spinner {\n",
              "    border: 2px solid var(--fill-color);\n",
              "    border-color: transparent;\n",
              "    border-bottom-color: var(--fill-color);\n",
              "    animation:\n",
              "      spin 1s steps(1) infinite;\n",
              "  }\n",
              "\n",
              "  @keyframes spin {\n",
              "    0% {\n",
              "      border-color: transparent;\n",
              "      border-bottom-color: var(--fill-color);\n",
              "      border-left-color: var(--fill-color);\n",
              "    }\n",
              "    20% {\n",
              "      border-color: transparent;\n",
              "      border-left-color: var(--fill-color);\n",
              "      border-top-color: var(--fill-color);\n",
              "    }\n",
              "    30% {\n",
              "      border-color: transparent;\n",
              "      border-left-color: var(--fill-color);\n",
              "      border-top-color: var(--fill-color);\n",
              "      border-right-color: var(--fill-color);\n",
              "    }\n",
              "    40% {\n",
              "      border-color: transparent;\n",
              "      border-right-color: var(--fill-color);\n",
              "      border-top-color: var(--fill-color);\n",
              "    }\n",
              "    60% {\n",
              "      border-color: transparent;\n",
              "      border-right-color: var(--fill-color);\n",
              "    }\n",
              "    80% {\n",
              "      border-color: transparent;\n",
              "      border-right-color: var(--fill-color);\n",
              "      border-bottom-color: var(--fill-color);\n",
              "    }\n",
              "    90% {\n",
              "      border-color: transparent;\n",
              "      border-bottom-color: var(--fill-color);\n",
              "    }\n",
              "  }\n",
              "</style>\n",
              "\n",
              "      <script>\n",
              "        async function quickchart(key) {\n",
              "          const quickchartButtonEl =\n",
              "            document.querySelector('#' + key + ' button');\n",
              "          quickchartButtonEl.disabled = true;  // To prevent multiple clicks.\n",
              "          quickchartButtonEl.classList.add('colab-df-spinner');\n",
              "          try {\n",
              "            const charts = await google.colab.kernel.invokeFunction(\n",
              "                'suggestCharts', [key], {});\n",
              "          } catch (error) {\n",
              "            console.error('Error during call to suggestCharts:', error);\n",
              "          }\n",
              "          quickchartButtonEl.classList.remove('colab-df-spinner');\n",
              "          quickchartButtonEl.classList.add('colab-df-quickchart-complete');\n",
              "        }\n",
              "        (() => {\n",
              "          let quickchartButtonEl =\n",
              "            document.querySelector('#df-ebfa59f0-44bb-4709-b9d6-62c81ccdec30 button');\n",
              "          quickchartButtonEl.style.display =\n",
              "            google.colab.kernel.accessAllowed ? 'block' : 'none';\n",
              "        })();\n",
              "      </script>\n",
              "    </div>\n",
              "    </div>\n",
              "  </div>\n"
            ],
            "application/vnd.google.colaboratory.intrinsic+json": {
              "type": "dataframe",
              "summary": "{\n  \"name\": \"booted_data['quants']\",\n  \"rows\": 2,\n  \"fields\": [\n    {\n      \"column\": 0,\n      \"properties\": {\n        \"dtype\": \"number\",\n        \"std\": 11.845091547110796,\n        \"min\": -13.164543421949997,\n        \"max\": 3.5869456915249986,\n        \"num_unique_values\": 2,\n        \"samples\": [\n          3.5869456915249986,\n          -13.164543421949997\n        ],\n        \"semantic_type\": \"\",\n        \"description\": \"\"\n      }\n    }\n  ]\n}"
            }
          },
          "metadata": {},
          "execution_count": 88
        }
      ]
    },
    {
      "cell_type": "markdown",
      "source": [
        "Доверительный интервал (ДИ) - это интервал, который покрывает оцениваемый параметр с заданной вероятностью. Вероятность следует понимать в том смысле, что если бы мы провели эксперимент множество раз, то в среднем для 95% доверительного интервала в 95 экспериментах из 100 истинный параметр принадлежал бы доверительному интервалу. Чтобы проверить гипотезу о равенстве квантилей на уровне значимости 5% достаточно построить 95% доверительный интервал для разности квантилей между группами. Средние, которые представляют собой 2.5 и 97.5 процентили. В нашем случае Нижняя граница квантиля - (-3.3) верхняя граница (4.9). Если ноль находится вне доверительного интервала, то отличия статистически значимы, иначе нет. Собственно об этом указывает p value > 0.05  \n",
        "\n"
      ],
      "metadata": {
        "id": "xFMAy0Bj-gR5"
      }
    },
    {
      "cell_type": "markdown",
      "source": [
        "**Вывод**: провели стат. тест с параметрами 3% эффект,alpha = 0.05 power = 0.8 использовали сравнение обычного t test и методом снижения дисперсии t-test,а также bootstrap. В результате тестов p value оказалось выше 0.05, что позволяет принять H0-разницы нет."
      ],
      "metadata": {
        "id": "qVtQGvOqE69c"
      }
    }
  ]
}