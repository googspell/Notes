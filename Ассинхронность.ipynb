{
  "nbformat": 4,
  "nbformat_minor": 0,
  "metadata": {
    "colab": {
      "provenance": []
    },
    "kernelspec": {
      "name": "python3",
      "display_name": "Python 3"
    },
    "language_info": {
      "name": "python"
    }
  },
  "cells": [
    {
      "cell_type": "markdown",
      "source": [
        "multhidreading -многопоточность подходит для IO bound задач,использует OC,страдает от GIL.Полезно для ускорения выполнения задач или для того что бы текущий поток занялся другой задачей.Любая программа это минимум один процесс и один поток.\n",
        "\n",
        "Плюсы:\n",
        "* просто (сравнительно)\n",
        "* быстро\n",
        "* не умирает из-за одного\n",
        "\n",
        "Минусы:\n",
        "* потребление ресурсов\n",
        "* неуправляемость\n",
        "* проблемы потоков"
      ],
      "metadata": {
        "id": "ijNqgC_Kw60l"
      }
    },
    {
      "cell_type": "code",
      "execution_count": null,
      "metadata": {
        "colab": {
          "base_uri": "https://localhost:8080/"
        },
        "id": "Vnf-FZDpGfSe",
        "outputId": "bbec28b5-aa16-4ea7-f5ec-8b478178203a"
      },
      "outputs": [
        {
          "output_type": "stream",
          "name": "stdout",
          "text": [
            " Process 247,name Thread-17 (activity)\n",
            " Process 247,name Thread-18 (activity)\n",
            " Process 247,name Thread-14 (activity)\n",
            " Process 247,name Thread-13 (activity)\n",
            " Process 247,name Thread-12 (activity)\n",
            " Process 247,name Thread-15 (activity)\n",
            " Process 247,name Thread-16 (activity)\n",
            " Process 247,name Thread-11 (activity)\n",
            " Process 247,name Thread-19 (activity)\n",
            " Process 247,name Thread-10 (activity)\n",
            " Time: 0.9318909645080566 seconds\n"
          ]
        }
      ],
      "source": [
        "#threading\n",
        "import time\n",
        "import os\n",
        "import threading\n",
        "from threading import Thread\n",
        "import requests\n",
        "from concurrent.futures import ThreadPoolExecutor\n",
        "\n",
        "\n",
        "\n",
        "def activity():\n",
        "  requests.get('https://yandex.ru')\n",
        "  pid = os.getpid()\n",
        "  name = threading.current_thread().name\n",
        "  print(f\" Process {pid},name {name}\")\n",
        "\n",
        "\n",
        "\n",
        "def run(threaded=False):\n",
        "  start = time.time()\n",
        "  if not threaded:\n",
        "    for i in range(10):\n",
        "      activity()\n",
        "\n",
        "\n",
        "  else:\n",
        "      #exucutor = ThreadPoolExecutor()\n",
        "      #for _ in range(10):\n",
        "        #exucutor.submit(activity)\n",
        "      #exucutor.shutdown(wait=True)\n",
        "      # Создаем потоки\n",
        "      threads =[Thread(target=activity,daemon=True)for _ in range(10)]\n",
        "      for i in threads:\n",
        "         # Запускаем потоки\n",
        "        i.start()\n",
        "      for i in threads:\n",
        "         # Ждем завершения потоков\n",
        "        i.join()\n",
        "\n",
        "  end = time.time()\n",
        "  print(f\" Time: {end-start} seconds\")\n",
        "\n",
        "\n",
        "if __name__== '__main__':\n",
        "  run(threaded=True)\n",
        "\n"
      ]
    },
    {
      "cell_type": "markdown",
      "source": [
        "\n",
        "multiprocessing -любые задачи iO-bound and CPU -bound.Ускоряет любые задачи,распарелеливая их на ядра процессора(лишь до опредленного момента закон Амдала. Создает несколько процессов,каждый из которых выполняет свою задачу,взаимодействие между ними требует pickle.\n",
        "\n",
        "Плюсы:\n",
        "* реальная параллельность любых задач\n",
        "* не умирает из-за одного\n",
        "* процессы не зависят друг от друга (у каждого процесса,своя память,GIL)\n",
        "\n",
        "Минусы:\n",
        "\n",
        "* потребление ресурсов (памяти,процессора,времени)\n",
        "* необходимость в сериализации в pickle\n",
        "* проблемы синхронизации (взаимодействии между процессами)\n"
      ],
      "metadata": {
        "id": "5V8sp-ImvkIS"
      }
    },
    {
      "cell_type": "code",
      "source": [
        "#multiprocessing\n",
        "import time\n",
        "import os\n",
        "import multiprocessing\n",
        "from multiprocessing import Process,Pool\n",
        "import requests\n",
        "\n",
        "\n",
        "\n",
        "def activity():\n",
        "  requests.get('https://yandex.ru')\n",
        "  pid = os.getpid()\n",
        "  process_name = multiprocessing.current_process().name\n",
        "  print(f\"Process ID: {pid}, Process Name: {process_name}\")\n",
        "\n",
        "\n",
        "\n",
        "def run(processed=False):\n",
        "  start = time.time()\n",
        "  if not processed:\n",
        "    for i in range(10):\n",
        "      activity()\n",
        "\n",
        "\n",
        "  else:\n",
        "      #exucutor = ThreadPoolExecutor()\n",
        "      #for _ in range(10):\n",
        "        #exucutor.submit(activity)\n",
        "      #exucutor.shutdown(wait=True)\n",
        "      # Создаем\n",
        "      processed =[Process(target=activity,daemon=True)for _ in range(10)]\n",
        "      for i in processed:\n",
        "\n",
        "        i.start()\n",
        "      for i in processed:\n",
        "\n",
        "        i.join()\n",
        "\n",
        "  end = time.time()\n",
        "  print(f\" Time: {end-start} seconds\")\n",
        "\n",
        "\n",
        "if __name__== '__main__':\n",
        "  run(processed=True)\n",
        "\n"
      ],
      "metadata": {
        "colab": {
          "base_uri": "https://localhost:8080/"
        },
        "id": "jBGedl36NXzY",
        "outputId": "f7603c7c-f9fe-48d5-b83b-cc4f0dda15be"
      },
      "execution_count": null,
      "outputs": [
        {
          "output_type": "stream",
          "name": "stdout",
          "text": [
            "Process ID: 5119, Process Name: Process-1\n",
            "Process ID: 5120, Process Name: Process-2\n",
            "Process ID: 5122, Process Name: Process-4\n",
            "Process ID: 5123, Process Name: Process-5Process ID: 5121, Process Name: Process-3Process ID: 5124, Process Name: Process-6\n",
            "Process ID: 5126, Process Name: Process-8\n",
            "\n",
            "\n",
            "Process ID: 5127, Process Name: Process-9\n",
            "Process ID: 5128, Process Name: Process-10Process ID: 5125, Process Name: Process-7\n",
            "\n",
            " Time: 0.9071338176727295 seconds\n"
          ]
        }
      ]
    },
    {
      "cell_type": "markdown",
      "source": [
        "Asyncio ассинхронное выполнение,подходит для IO bound задач,работает ровно 1 поток\n",
        "\n",
        "Плюсы:\n",
        "\n",
        "* скорость и экономия времени,вместо x+y+z - max(x,y,z)\n",
        "\n",
        "* управляемость\n",
        "\n",
        "* меньше потребление ресурсов\n",
        "\n",
        "Минусы:\n",
        "\n",
        "* умирает из-за одного блокирующего вызова\n",
        "\n",
        "Основные моменты:\n",
        "* корутина работает как генератор\n",
        "* async -явный флаг что функция является ассинхронной (корутинной)\n",
        "* await -явный флан,что в этом месте функция встает на паузу и дает работать другим\n",
        "* event loop - цикл событий,который отвечает за планирование и запуск корутин\n",
        "\n",
        "\n",
        "\n",
        "\n",
        "\n",
        "\n",
        "\n",
        "\n",
        "\n",
        "\n",
        "\n",
        "\n"
      ],
      "metadata": {
        "id": "kptKA_dOjtZR"
      }
    },
    {
      "cell_type": "code",
      "source": [
        "#Asyncio\n",
        "import asyncio\n",
        "import aiohttp\n",
        "import time\n",
        "\n",
        "async def async_http():\n",
        "    async with aiohttp.ClientSession() as session:\n",
        "        async with session.get('https://yandex.ru') as resp:\n",
        "            print(f\"Status: {resp.status}\")\n",
        "\n",
        "async def main():\n",
        "    await asyncio.gather(*[async_http() for _ in range(10)])\n",
        "\n",
        "start = time.time()\n",
        "await main()  # Используй напрямую await для вызова в jupiternotebook\n",
        "end = time.time()\n",
        "print(f\"Time: {end - start} seconds\")\n",
        "\n"
      ],
      "metadata": {
        "colab": {
          "base_uri": "https://localhost:8080/"
        },
        "id": "Cn4DAy2XbUQ3",
        "outputId": "afdd2261-6e32-459e-92a2-d43f74877121"
      },
      "execution_count": null,
      "outputs": [
        {
          "output_type": "stream",
          "name": "stdout",
          "text": [
            "Status: 400\n",
            "Status: 400\n",
            "Status: 200\n",
            "Status: 200\n",
            "Status: 200\n",
            "Status: 200\n",
            "Status: 200\n",
            "Status: 200\n",
            "Status: 200\n",
            "Status: 200\n",
            "Time: 2.520853042602539 seconds\n"
          ]
        }
      ]
    },
    {
      "cell_type": "markdown",
      "source": [
        "Global Interpreter Lock (GIL)\n",
        "\n",
        "GIL (Global Interpreter Lock) — это механизм, используемый в интерпретаторе CPython, чтобы обеспечить выполнение только одного потока Python в любой момент времени. Это означает, что даже если у тебя есть несколько потоков, только один из них будет исполнять Python-код в каждый конкретный момент.\n",
        "Многопоточность (Multithreading)\n",
        "\n",
        "    Когда мы создаем потоки:\n",
        "\n",
        "        Мы действительно обращаемся к операционной системе для создания новых потоков. ОС управляет этими потоками через свой планировщик.\n",
        "\n",
        "        GIL: Внутри каждого процесса Python GIL ограничивает исполнение одного потока Python-кода на процессор в любой момент времени. Однако это ограничение не столь критично для задач ввода-вывода (I/O-bound), потому что потоки могут ждать завершения операций ввода-вывода.\n",
        "\n",
        "    IO-bound задачи:\n",
        "\n",
        "        Когда ты выполняешь I/O-bound задачи (например, запросы к базе данных или чтение/запись файлов), потоки часто ждут ответа от внешнего источника (БД, файл и т.д.).\n",
        "\n",
        "        В это время другие потоки могут выполнять работу, что эффективно использует возможности многопоточности. GIL при этом не является узким местом, так как потоки проводят много времени в ожидании ввода-вывода.\n",
        "\n",
        "Мультипроцессинг (Multiprocessing)\n",
        "\n",
        "    Когда мы создаем процессы:\n",
        "\n",
        "        Мы обращаемся к ОС для создания новых процессов. Каждый процесс имеет свой собственный интерпретатор Python и адресное пространство.\n",
        "\n",
        "        Обход GIL: В мультипроцессинге каждый процесс имеет свой собственный GIL, что позволяет каждому процессу выполнять Python-код параллельно. Это делает мультипроцессинг эффективным для вычислительно интенсивных задач (CPU-bound).\n",
        "\n",
        "Асинхронное программирование (Asyncio)\n",
        "\n",
        "    Асинхронные задачи:\n",
        "\n",
        "        Асинхронность позволяет выполнять несколько задач в одном потоке, приостанавливая и возобновляя задачи по мере необходимости.\n",
        "\n",
        "        Цикл событий: asyncio управляет задачами с помощью цикла событий, что позволяет эффективно использовать время ожидания.\n",
        "\n",
        "Подытожим:\n",
        "\n",
        "    Многопоточность: Полезна для I/O-bound задач. GIL ограничивает выполнение только одного потока Python-кода на процессор, но это не так критично для задач, ожидающих ввода-вывода.\n",
        "\n",
        "    Асинхронность (asyncio): Позволяет выполнять несколько задач в одном потоке, эффективно используя время ожидания.\n",
        "\n",
        "    Мультипроцессинг: Полезен для CPU-bound задач, так как каждый процесс имеет свой собственный GIL и интерпретатор Python."
      ],
      "metadata": {
        "id": "3tG39W2XulxB"
      }
    }
  ]
}